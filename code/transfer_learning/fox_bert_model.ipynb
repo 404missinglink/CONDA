{
  "nbformat": 4,
  "nbformat_minor": 0,
  "metadata": {
    "kernelspec": {
      "display_name": "Python 3",
      "language": "python",
      "name": "python3"
    },
    "language_info": {
      "codemirror_mode": {
        "name": "ipython",
        "version": 3
      },
      "file_extension": ".py",
      "mimetype": "text/x-python",
      "name": "python",
      "nbconvert_exporter": "python",
      "pygments_lexer": "ipython3",
      "version": "3.7.0"
    },
    "colab": {
      "name": "fox_bert_model",
      "provenance": [],
      "collapsed_sections": [],
      "toc_visible": true,
      "machine_shape": "hm"
    },
    "accelerator": "GPU",
    "widgets": {
      "application/vnd.jupyter.widget-state+json": {
        "557912320acb425bbc2d18eec96f0dfc": {
          "model_module": "@jupyter-widgets/controls",
          "model_name": "HBoxModel",
          "state": {
            "_view_name": "HBoxView",
            "_dom_classes": [],
            "_model_name": "HBoxModel",
            "_view_module": "@jupyter-widgets/controls",
            "_model_module_version": "1.5.0",
            "_view_count": null,
            "_view_module_version": "1.5.0",
            "box_style": "",
            "layout": "IPY_MODEL_74594d7426ab4afa8ddc251dfe057120",
            "_model_module": "@jupyter-widgets/controls",
            "children": [
              "IPY_MODEL_7c3fb4d3e68f443d8b41c97de5574dec",
              "IPY_MODEL_d80a63c2ffde4d6cbb4093338d74c04b"
            ]
          }
        },
        "74594d7426ab4afa8ddc251dfe057120": {
          "model_module": "@jupyter-widgets/base",
          "model_name": "LayoutModel",
          "state": {
            "_view_name": "LayoutView",
            "grid_template_rows": null,
            "right": null,
            "justify_content": null,
            "_view_module": "@jupyter-widgets/base",
            "overflow": null,
            "_model_module_version": "1.2.0",
            "_view_count": null,
            "flex_flow": null,
            "width": null,
            "min_width": null,
            "border": null,
            "align_items": null,
            "bottom": null,
            "_model_module": "@jupyter-widgets/base",
            "top": null,
            "grid_column": null,
            "overflow_y": null,
            "overflow_x": null,
            "grid_auto_flow": null,
            "grid_area": null,
            "grid_template_columns": null,
            "flex": null,
            "_model_name": "LayoutModel",
            "justify_items": null,
            "grid_row": null,
            "max_height": null,
            "align_content": null,
            "visibility": null,
            "align_self": null,
            "height": null,
            "min_height": null,
            "padding": null,
            "grid_auto_rows": null,
            "grid_gap": null,
            "max_width": null,
            "order": null,
            "_view_module_version": "1.2.0",
            "grid_template_areas": null,
            "object_position": null,
            "object_fit": null,
            "grid_auto_columns": null,
            "margin": null,
            "display": null,
            "left": null
          }
        },
        "7c3fb4d3e68f443d8b41c97de5574dec": {
          "model_module": "@jupyter-widgets/controls",
          "model_name": "FloatProgressModel",
          "state": {
            "_view_name": "ProgressView",
            "style": "IPY_MODEL_6f87553385d14f02b795606e8b4d39d7",
            "_dom_classes": [],
            "description": "Downloading: 100%",
            "_model_name": "FloatProgressModel",
            "bar_style": "success",
            "max": 231508,
            "_view_module": "@jupyter-widgets/controls",
            "_model_module_version": "1.5.0",
            "value": 231508,
            "_view_count": null,
            "_view_module_version": "1.5.0",
            "orientation": "horizontal",
            "min": 0,
            "description_tooltip": null,
            "_model_module": "@jupyter-widgets/controls",
            "layout": "IPY_MODEL_783855f0985445b5913117391c30a88a"
          }
        },
        "d80a63c2ffde4d6cbb4093338d74c04b": {
          "model_module": "@jupyter-widgets/controls",
          "model_name": "HTMLModel",
          "state": {
            "_view_name": "HTMLView",
            "style": "IPY_MODEL_88df2acb0a4d4666b9bee767c4d6cf6d",
            "_dom_classes": [],
            "description": "",
            "_model_name": "HTMLModel",
            "placeholder": "​",
            "_view_module": "@jupyter-widgets/controls",
            "_model_module_version": "1.5.0",
            "value": " 232k/232k [00:00&lt;00:00, 790kB/s]",
            "_view_count": null,
            "_view_module_version": "1.5.0",
            "description_tooltip": null,
            "_model_module": "@jupyter-widgets/controls",
            "layout": "IPY_MODEL_d0a114aba1084e19aa666031ce6d8552"
          }
        },
        "6f87553385d14f02b795606e8b4d39d7": {
          "model_module": "@jupyter-widgets/controls",
          "model_name": "ProgressStyleModel",
          "state": {
            "_view_name": "StyleView",
            "_model_name": "ProgressStyleModel",
            "description_width": "initial",
            "_view_module": "@jupyter-widgets/base",
            "_model_module_version": "1.5.0",
            "_view_count": null,
            "_view_module_version": "1.2.0",
            "bar_color": null,
            "_model_module": "@jupyter-widgets/controls"
          }
        },
        "783855f0985445b5913117391c30a88a": {
          "model_module": "@jupyter-widgets/base",
          "model_name": "LayoutModel",
          "state": {
            "_view_name": "LayoutView",
            "grid_template_rows": null,
            "right": null,
            "justify_content": null,
            "_view_module": "@jupyter-widgets/base",
            "overflow": null,
            "_model_module_version": "1.2.0",
            "_view_count": null,
            "flex_flow": null,
            "width": null,
            "min_width": null,
            "border": null,
            "align_items": null,
            "bottom": null,
            "_model_module": "@jupyter-widgets/base",
            "top": null,
            "grid_column": null,
            "overflow_y": null,
            "overflow_x": null,
            "grid_auto_flow": null,
            "grid_area": null,
            "grid_template_columns": null,
            "flex": null,
            "_model_name": "LayoutModel",
            "justify_items": null,
            "grid_row": null,
            "max_height": null,
            "align_content": null,
            "visibility": null,
            "align_self": null,
            "height": null,
            "min_height": null,
            "padding": null,
            "grid_auto_rows": null,
            "grid_gap": null,
            "max_width": null,
            "order": null,
            "_view_module_version": "1.2.0",
            "grid_template_areas": null,
            "object_position": null,
            "object_fit": null,
            "grid_auto_columns": null,
            "margin": null,
            "display": null,
            "left": null
          }
        },
        "88df2acb0a4d4666b9bee767c4d6cf6d": {
          "model_module": "@jupyter-widgets/controls",
          "model_name": "DescriptionStyleModel",
          "state": {
            "_view_name": "StyleView",
            "_model_name": "DescriptionStyleModel",
            "description_width": "",
            "_view_module": "@jupyter-widgets/base",
            "_model_module_version": "1.5.0",
            "_view_count": null,
            "_view_module_version": "1.2.0",
            "_model_module": "@jupyter-widgets/controls"
          }
        },
        "d0a114aba1084e19aa666031ce6d8552": {
          "model_module": "@jupyter-widgets/base",
          "model_name": "LayoutModel",
          "state": {
            "_view_name": "LayoutView",
            "grid_template_rows": null,
            "right": null,
            "justify_content": null,
            "_view_module": "@jupyter-widgets/base",
            "overflow": null,
            "_model_module_version": "1.2.0",
            "_view_count": null,
            "flex_flow": null,
            "width": null,
            "min_width": null,
            "border": null,
            "align_items": null,
            "bottom": null,
            "_model_module": "@jupyter-widgets/base",
            "top": null,
            "grid_column": null,
            "overflow_y": null,
            "overflow_x": null,
            "grid_auto_flow": null,
            "grid_area": null,
            "grid_template_columns": null,
            "flex": null,
            "_model_name": "LayoutModel",
            "justify_items": null,
            "grid_row": null,
            "max_height": null,
            "align_content": null,
            "visibility": null,
            "align_self": null,
            "height": null,
            "min_height": null,
            "padding": null,
            "grid_auto_rows": null,
            "grid_gap": null,
            "max_width": null,
            "order": null,
            "_view_module_version": "1.2.0",
            "grid_template_areas": null,
            "object_position": null,
            "object_fit": null,
            "grid_auto_columns": null,
            "margin": null,
            "display": null,
            "left": null
          }
        },
        "037e195380fa4d5189a68f3a2bd70aa5": {
          "model_module": "@jupyter-widgets/controls",
          "model_name": "HBoxModel",
          "state": {
            "_view_name": "HBoxView",
            "_dom_classes": [],
            "_model_name": "HBoxModel",
            "_view_module": "@jupyter-widgets/controls",
            "_model_module_version": "1.5.0",
            "_view_count": null,
            "_view_module_version": "1.5.0",
            "box_style": "",
            "layout": "IPY_MODEL_d62f659f0ef4440d93a327afaa8d04e4",
            "_model_module": "@jupyter-widgets/controls",
            "children": [
              "IPY_MODEL_268f07b255cd4c2f83ba7b2096f241f7",
              "IPY_MODEL_5256a7605f02479e9466a9edc215ea1f"
            ]
          }
        },
        "d62f659f0ef4440d93a327afaa8d04e4": {
          "model_module": "@jupyter-widgets/base",
          "model_name": "LayoutModel",
          "state": {
            "_view_name": "LayoutView",
            "grid_template_rows": null,
            "right": null,
            "justify_content": null,
            "_view_module": "@jupyter-widgets/base",
            "overflow": null,
            "_model_module_version": "1.2.0",
            "_view_count": null,
            "flex_flow": null,
            "width": null,
            "min_width": null,
            "border": null,
            "align_items": null,
            "bottom": null,
            "_model_module": "@jupyter-widgets/base",
            "top": null,
            "grid_column": null,
            "overflow_y": null,
            "overflow_x": null,
            "grid_auto_flow": null,
            "grid_area": null,
            "grid_template_columns": null,
            "flex": null,
            "_model_name": "LayoutModel",
            "justify_items": null,
            "grid_row": null,
            "max_height": null,
            "align_content": null,
            "visibility": null,
            "align_self": null,
            "height": null,
            "min_height": null,
            "padding": null,
            "grid_auto_rows": null,
            "grid_gap": null,
            "max_width": null,
            "order": null,
            "_view_module_version": "1.2.0",
            "grid_template_areas": null,
            "object_position": null,
            "object_fit": null,
            "grid_auto_columns": null,
            "margin": null,
            "display": null,
            "left": null
          }
        },
        "268f07b255cd4c2f83ba7b2096f241f7": {
          "model_module": "@jupyter-widgets/controls",
          "model_name": "FloatProgressModel",
          "state": {
            "_view_name": "ProgressView",
            "style": "IPY_MODEL_6f338e14746749a9bea9627ec8e32258",
            "_dom_classes": [],
            "description": "Downloading: 100%",
            "_model_name": "FloatProgressModel",
            "bar_style": "success",
            "max": 433,
            "_view_module": "@jupyter-widgets/controls",
            "_model_module_version": "1.5.0",
            "value": 433,
            "_view_count": null,
            "_view_module_version": "1.5.0",
            "orientation": "horizontal",
            "min": 0,
            "description_tooltip": null,
            "_model_module": "@jupyter-widgets/controls",
            "layout": "IPY_MODEL_e46ace492d71475a83f90e34f5dabb27"
          }
        },
        "5256a7605f02479e9466a9edc215ea1f": {
          "model_module": "@jupyter-widgets/controls",
          "model_name": "HTMLModel",
          "state": {
            "_view_name": "HTMLView",
            "style": "IPY_MODEL_99f1a4338a6d45b2817ebd2129d69924",
            "_dom_classes": [],
            "description": "",
            "_model_name": "HTMLModel",
            "placeholder": "​",
            "_view_module": "@jupyter-widgets/controls",
            "_model_module_version": "1.5.0",
            "value": " 433/433 [00:00&lt;00:00, 1.47kB/s]",
            "_view_count": null,
            "_view_module_version": "1.5.0",
            "description_tooltip": null,
            "_model_module": "@jupyter-widgets/controls",
            "layout": "IPY_MODEL_4672e6e7373c43b8873e94e4ada41a85"
          }
        },
        "6f338e14746749a9bea9627ec8e32258": {
          "model_module": "@jupyter-widgets/controls",
          "model_name": "ProgressStyleModel",
          "state": {
            "_view_name": "StyleView",
            "_model_name": "ProgressStyleModel",
            "description_width": "initial",
            "_view_module": "@jupyter-widgets/base",
            "_model_module_version": "1.5.0",
            "_view_count": null,
            "_view_module_version": "1.2.0",
            "bar_color": null,
            "_model_module": "@jupyter-widgets/controls"
          }
        },
        "e46ace492d71475a83f90e34f5dabb27": {
          "model_module": "@jupyter-widgets/base",
          "model_name": "LayoutModel",
          "state": {
            "_view_name": "LayoutView",
            "grid_template_rows": null,
            "right": null,
            "justify_content": null,
            "_view_module": "@jupyter-widgets/base",
            "overflow": null,
            "_model_module_version": "1.2.0",
            "_view_count": null,
            "flex_flow": null,
            "width": null,
            "min_width": null,
            "border": null,
            "align_items": null,
            "bottom": null,
            "_model_module": "@jupyter-widgets/base",
            "top": null,
            "grid_column": null,
            "overflow_y": null,
            "overflow_x": null,
            "grid_auto_flow": null,
            "grid_area": null,
            "grid_template_columns": null,
            "flex": null,
            "_model_name": "LayoutModel",
            "justify_items": null,
            "grid_row": null,
            "max_height": null,
            "align_content": null,
            "visibility": null,
            "align_self": null,
            "height": null,
            "min_height": null,
            "padding": null,
            "grid_auto_rows": null,
            "grid_gap": null,
            "max_width": null,
            "order": null,
            "_view_module_version": "1.2.0",
            "grid_template_areas": null,
            "object_position": null,
            "object_fit": null,
            "grid_auto_columns": null,
            "margin": null,
            "display": null,
            "left": null
          }
        },
        "99f1a4338a6d45b2817ebd2129d69924": {
          "model_module": "@jupyter-widgets/controls",
          "model_name": "DescriptionStyleModel",
          "state": {
            "_view_name": "StyleView",
            "_model_name": "DescriptionStyleModel",
            "description_width": "",
            "_view_module": "@jupyter-widgets/base",
            "_model_module_version": "1.5.0",
            "_view_count": null,
            "_view_module_version": "1.2.0",
            "_model_module": "@jupyter-widgets/controls"
          }
        },
        "4672e6e7373c43b8873e94e4ada41a85": {
          "model_module": "@jupyter-widgets/base",
          "model_name": "LayoutModel",
          "state": {
            "_view_name": "LayoutView",
            "grid_template_rows": null,
            "right": null,
            "justify_content": null,
            "_view_module": "@jupyter-widgets/base",
            "overflow": null,
            "_model_module_version": "1.2.0",
            "_view_count": null,
            "flex_flow": null,
            "width": null,
            "min_width": null,
            "border": null,
            "align_items": null,
            "bottom": null,
            "_model_module": "@jupyter-widgets/base",
            "top": null,
            "grid_column": null,
            "overflow_y": null,
            "overflow_x": null,
            "grid_auto_flow": null,
            "grid_area": null,
            "grid_template_columns": null,
            "flex": null,
            "_model_name": "LayoutModel",
            "justify_items": null,
            "grid_row": null,
            "max_height": null,
            "align_content": null,
            "visibility": null,
            "align_self": null,
            "height": null,
            "min_height": null,
            "padding": null,
            "grid_auto_rows": null,
            "grid_gap": null,
            "max_width": null,
            "order": null,
            "_view_module_version": "1.2.0",
            "grid_template_areas": null,
            "object_position": null,
            "object_fit": null,
            "grid_auto_columns": null,
            "margin": null,
            "display": null,
            "left": null
          }
        },
        "736ff742147f47649a5cbcd00686cd2d": {
          "model_module": "@jupyter-widgets/controls",
          "model_name": "HBoxModel",
          "state": {
            "_view_name": "HBoxView",
            "_dom_classes": [],
            "_model_name": "HBoxModel",
            "_view_module": "@jupyter-widgets/controls",
            "_model_module_version": "1.5.0",
            "_view_count": null,
            "_view_module_version": "1.5.0",
            "box_style": "",
            "layout": "IPY_MODEL_9f2edc5f81ec421090b425e6654fc253",
            "_model_module": "@jupyter-widgets/controls",
            "children": [
              "IPY_MODEL_29f0e2c6246a4379934748cf625b863b",
              "IPY_MODEL_308c44c3afbe4b5a85599f31e11b50f7"
            ]
          }
        },
        "9f2edc5f81ec421090b425e6654fc253": {
          "model_module": "@jupyter-widgets/base",
          "model_name": "LayoutModel",
          "state": {
            "_view_name": "LayoutView",
            "grid_template_rows": null,
            "right": null,
            "justify_content": null,
            "_view_module": "@jupyter-widgets/base",
            "overflow": null,
            "_model_module_version": "1.2.0",
            "_view_count": null,
            "flex_flow": null,
            "width": null,
            "min_width": null,
            "border": null,
            "align_items": null,
            "bottom": null,
            "_model_module": "@jupyter-widgets/base",
            "top": null,
            "grid_column": null,
            "overflow_y": null,
            "overflow_x": null,
            "grid_auto_flow": null,
            "grid_area": null,
            "grid_template_columns": null,
            "flex": null,
            "_model_name": "LayoutModel",
            "justify_items": null,
            "grid_row": null,
            "max_height": null,
            "align_content": null,
            "visibility": null,
            "align_self": null,
            "height": null,
            "min_height": null,
            "padding": null,
            "grid_auto_rows": null,
            "grid_gap": null,
            "max_width": null,
            "order": null,
            "_view_module_version": "1.2.0",
            "grid_template_areas": null,
            "object_position": null,
            "object_fit": null,
            "grid_auto_columns": null,
            "margin": null,
            "display": null,
            "left": null
          }
        },
        "29f0e2c6246a4379934748cf625b863b": {
          "model_module": "@jupyter-widgets/controls",
          "model_name": "FloatProgressModel",
          "state": {
            "_view_name": "ProgressView",
            "style": "IPY_MODEL_853a97a70f1c4f6198c0509e197661ea",
            "_dom_classes": [],
            "description": "Downloading: 100%",
            "_model_name": "FloatProgressModel",
            "bar_style": "success",
            "max": 440473133,
            "_view_module": "@jupyter-widgets/controls",
            "_model_module_version": "1.5.0",
            "value": 440473133,
            "_view_count": null,
            "_view_module_version": "1.5.0",
            "orientation": "horizontal",
            "min": 0,
            "description_tooltip": null,
            "_model_module": "@jupyter-widgets/controls",
            "layout": "IPY_MODEL_ab8ac753a4e0479f9144293297ebb9f1"
          }
        },
        "308c44c3afbe4b5a85599f31e11b50f7": {
          "model_module": "@jupyter-widgets/controls",
          "model_name": "HTMLModel",
          "state": {
            "_view_name": "HTMLView",
            "style": "IPY_MODEL_a25a380bfb0046ac871b5a6753a9567f",
            "_dom_classes": [],
            "description": "",
            "_model_name": "HTMLModel",
            "placeholder": "​",
            "_view_module": "@jupyter-widgets/controls",
            "_model_module_version": "1.5.0",
            "value": " 440M/440M [00:19&lt;00:00, 22.1MB/s]",
            "_view_count": null,
            "_view_module_version": "1.5.0",
            "description_tooltip": null,
            "_model_module": "@jupyter-widgets/controls",
            "layout": "IPY_MODEL_f05d690a201b4b40a4b621d7ebd68202"
          }
        },
        "853a97a70f1c4f6198c0509e197661ea": {
          "model_module": "@jupyter-widgets/controls",
          "model_name": "ProgressStyleModel",
          "state": {
            "_view_name": "StyleView",
            "_model_name": "ProgressStyleModel",
            "description_width": "initial",
            "_view_module": "@jupyter-widgets/base",
            "_model_module_version": "1.5.0",
            "_view_count": null,
            "_view_module_version": "1.2.0",
            "bar_color": null,
            "_model_module": "@jupyter-widgets/controls"
          }
        },
        "ab8ac753a4e0479f9144293297ebb9f1": {
          "model_module": "@jupyter-widgets/base",
          "model_name": "LayoutModel",
          "state": {
            "_view_name": "LayoutView",
            "grid_template_rows": null,
            "right": null,
            "justify_content": null,
            "_view_module": "@jupyter-widgets/base",
            "overflow": null,
            "_model_module_version": "1.2.0",
            "_view_count": null,
            "flex_flow": null,
            "width": null,
            "min_width": null,
            "border": null,
            "align_items": null,
            "bottom": null,
            "_model_module": "@jupyter-widgets/base",
            "top": null,
            "grid_column": null,
            "overflow_y": null,
            "overflow_x": null,
            "grid_auto_flow": null,
            "grid_area": null,
            "grid_template_columns": null,
            "flex": null,
            "_model_name": "LayoutModel",
            "justify_items": null,
            "grid_row": null,
            "max_height": null,
            "align_content": null,
            "visibility": null,
            "align_self": null,
            "height": null,
            "min_height": null,
            "padding": null,
            "grid_auto_rows": null,
            "grid_gap": null,
            "max_width": null,
            "order": null,
            "_view_module_version": "1.2.0",
            "grid_template_areas": null,
            "object_position": null,
            "object_fit": null,
            "grid_auto_columns": null,
            "margin": null,
            "display": null,
            "left": null
          }
        },
        "a25a380bfb0046ac871b5a6753a9567f": {
          "model_module": "@jupyter-widgets/controls",
          "model_name": "DescriptionStyleModel",
          "state": {
            "_view_name": "StyleView",
            "_model_name": "DescriptionStyleModel",
            "description_width": "",
            "_view_module": "@jupyter-widgets/base",
            "_model_module_version": "1.5.0",
            "_view_count": null,
            "_view_module_version": "1.2.0",
            "_model_module": "@jupyter-widgets/controls"
          }
        },
        "f05d690a201b4b40a4b621d7ebd68202": {
          "model_module": "@jupyter-widgets/base",
          "model_name": "LayoutModel",
          "state": {
            "_view_name": "LayoutView",
            "grid_template_rows": null,
            "right": null,
            "justify_content": null,
            "_view_module": "@jupyter-widgets/base",
            "overflow": null,
            "_model_module_version": "1.2.0",
            "_view_count": null,
            "flex_flow": null,
            "width": null,
            "min_width": null,
            "border": null,
            "align_items": null,
            "bottom": null,
            "_model_module": "@jupyter-widgets/base",
            "top": null,
            "grid_column": null,
            "overflow_y": null,
            "overflow_x": null,
            "grid_auto_flow": null,
            "grid_area": null,
            "grid_template_columns": null,
            "flex": null,
            "_model_name": "LayoutModel",
            "justify_items": null,
            "grid_row": null,
            "max_height": null,
            "align_content": null,
            "visibility": null,
            "align_self": null,
            "height": null,
            "min_height": null,
            "padding": null,
            "grid_auto_rows": null,
            "grid_gap": null,
            "max_width": null,
            "order": null,
            "_view_module_version": "1.2.0",
            "grid_template_areas": null,
            "object_position": null,
            "object_fit": null,
            "grid_auto_columns": null,
            "margin": null,
            "display": null,
            "left": null
          }
        }
      }
    }
  },
  "cells": [
    {
      "cell_type": "markdown",
      "metadata": {
        "id": "1oeqTKK4uIC7"
      },
      "source": [
        "# load dataset file"
      ]
    },
    {
      "cell_type": "code",
      "metadata": {
        "colab": {
          "base_uri": "https://localhost:8080/"
        },
        "id": "ND1qewTBewsI",
        "outputId": "af576505-ce6d-4140-e108-3ae245abf566"
      },
      "source": [
        "! /opt/bin/nvidia-smi"
      ],
      "execution_count": null,
      "outputs": [
        {
          "output_type": "stream",
          "text": [
            "Sat Jan 30 13:29:22 2021       \n",
            "+-----------------------------------------------------------------------------+\n",
            "| NVIDIA-SMI 418.67       Driver Version: 418.67       CUDA Version: 10.1     |\n",
            "|-------------------------------+----------------------+----------------------+\n",
            "| GPU  Name        Persistence-M| Bus-Id        Disp.A | Volatile Uncorr. ECC |\n",
            "| Fan  Temp  Perf  Pwr:Usage/Cap|         Memory-Usage | GPU-Util  Compute M. |\n",
            "|===============================+======================+======================|\n",
            "|   0  Tesla V100-SXM2...  Off  | 00000000:00:04.0 Off |                    0 |\n",
            "| N/A   33C    P0    24W / 300W |      0MiB / 16130MiB |      0%      Default |\n",
            "+-------------------------------+----------------------+----------------------+\n",
            "                                                                               \n",
            "+-----------------------------------------------------------------------------+\n",
            "| Processes:                                                       GPU Memory |\n",
            "|  GPU       PID   Type   Process name                             Usage      |\n",
            "|=============================================================================|\n",
            "|  No running processes found                                                 |\n",
            "+-----------------------------------------------------------------------------+\n"
          ],
          "name": "stdout"
        }
      ]
    },
    {
      "cell_type": "code",
      "metadata": {
        "id": "aAE385ufY5V7"
      },
      "source": [
        "!pip install -U -q PyDrive\n",
        "from pydrive.auth import GoogleAuth\n",
        "from pydrive.drive import GoogleDrive\n",
        "from google.colab import auth\n",
        "from oauth2client.client import GoogleCredentials\n",
        "\n",
        "import pandas as pd\n",
        "\n",
        "\n",
        "# Authenticate and create the PyDrive client.\n",
        "auth.authenticate_user()\n",
        "gauth = GoogleAuth()\n",
        "gauth.credentials = GoogleCredentials.get_application_default()\n",
        "drive = GoogleDrive(gauth)\n",
        "# Download all three Microsoft BotBuilder Personality Chat Datasets on Google Colab virtual server\n",
        "# https://drive.google.com/file/d/10yi1MvU3lrlqyGLGZ0Ee7o4e72zEW4Fg/view?usp=sharing\n",
        "#chats.csv DOTA dataset 1.4 million\n",
        "# https://drive.google.com/file/d/1VALiNA_ruYl0jt66MBG7Eb_o3sWQIBqj/view?usp=sharing\n",
        "# https://drive.google.com/file/d/1-HsJ2w944FNCZPPiqYjV7Ip-2fmdNqz5/view?usp=sharing\n",
        "download_files = [\n",
        "          {'id':'1fKnmVJYBVkLKSr6YDXwUz5tZAHDc7YvO','file_name':'fox.csv'},\n",
        "          ]\n",
        "for entity in download_files:\n",
        "  id1 = entity['id']\n",
        "  downloaded = drive.CreateFile({'id':id1 }) \n",
        "  downloaded.GetContentFile(entity['file_name']) "
      ],
      "execution_count": null,
      "outputs": []
    },
    {
      "cell_type": "code",
      "metadata": {
        "id": "vuTT3e0mRJ4i"
      },
      "source": [
        "import pandas as pd\n",
        "import numpy as np\n",
        "import matplotlib.pyplot as plt\n",
        "\n",
        "data = pd.read_csv(\"fox.csv\")"
      ],
      "execution_count": null,
      "outputs": []
    },
    {
      "cell_type": "code",
      "metadata": {
        "id": "PjEQNh7ygqeA",
        "colab": {
          "base_uri": "https://localhost:8080/",
          "height": 306
        },
        "outputId": "5078ccfe-fa14-42f8-f9f5-dd27fe1210f0"
      },
      "source": [
        "data.head()"
      ],
      "execution_count": null,
      "outputs": [
        {
          "output_type": "execute_result",
          "data": {
            "text/html": [
              "<div>\n",
              "<style scoped>\n",
              "    .dataframe tbody tr th:only-of-type {\n",
              "        vertical-align: middle;\n",
              "    }\n",
              "\n",
              "    .dataframe tbody tr th {\n",
              "        vertical-align: top;\n",
              "    }\n",
              "\n",
              "    .dataframe thead th {\n",
              "        text-align: right;\n",
              "    }\n",
              "</style>\n",
              "<table border=\"1\" class=\"dataframe\">\n",
              "  <thead>\n",
              "    <tr style=\"text-align: right;\">\n",
              "      <th></th>\n",
              "      <th>Unnamed: 0</th>\n",
              "      <th>title</th>\n",
              "      <th>text</th>\n",
              "      <th>label</th>\n",
              "      <th>succ</th>\n",
              "      <th>meta</th>\n",
              "      <th>user</th>\n",
              "      <th>mentions</th>\n",
              "      <th>prev</th>\n",
              "    </tr>\n",
              "  </thead>\n",
              "  <tbody>\n",
              "    <tr>\n",
              "      <th>0</th>\n",
              "      <td>0</td>\n",
              "      <td>German lawmakers approve 'no means no' rape la...</td>\n",
              "      <td>Merkel would never say NO</td>\n",
              "      <td>hateful</td>\n",
              "      <td>NaN</td>\n",
              "      <td>German lawmakers passed a bill Thursday that w...</td>\n",
              "      <td>barryswallows</td>\n",
              "      <td>NaN</td>\n",
              "      <td>NaN</td>\n",
              "    </tr>\n",
              "    <tr>\n",
              "      <th>1</th>\n",
              "      <td>1</td>\n",
              "      <td>German lawmakers approve 'no means no' rape la...</td>\n",
              "      <td>Expect more and more women to be asking .. \"wh...</td>\n",
              "      <td>hateful</td>\n",
              "      <td>NaN</td>\n",
              "      <td>German lawmakers passed a bill Thursday that w...</td>\n",
              "      <td>PostApocalypticHero</td>\n",
              "      <td>NaN</td>\n",
              "      <td>NaN</td>\n",
              "    </tr>\n",
              "    <tr>\n",
              "      <th>2</th>\n",
              "      <td>2</td>\n",
              "      <td>German lawmakers approve 'no means no' rape la...</td>\n",
              "      <td>Groping people in public wasn't already illega...</td>\n",
              "      <td>non-hateful</td>\n",
              "      <td>NaN</td>\n",
              "      <td>German lawmakers passed a bill Thursday that w...</td>\n",
              "      <td>californiamojo</td>\n",
              "      <td>NaN</td>\n",
              "      <td>NaN</td>\n",
              "    </tr>\n",
              "    <tr>\n",
              "      <th>3</th>\n",
              "      <td>3</td>\n",
              "      <td>German lawmakers approve 'no means no' rape la...</td>\n",
              "      <td>Merkel, possible the only person in charge who...</td>\n",
              "      <td>hateful</td>\n",
              "      <td>NaN</td>\n",
              "      <td>German lawmakers passed a bill Thursday that w...</td>\n",
              "      <td>MikeSte</td>\n",
              "      <td>NaN</td>\n",
              "      <td>NaN</td>\n",
              "    </tr>\n",
              "    <tr>\n",
              "      <th>4</th>\n",
              "      <td>4</td>\n",
              "      <td>German lawmakers approve 'no means no' rape la...</td>\n",
              "      <td>They know very well, no means NO! They need to...</td>\n",
              "      <td>hateful</td>\n",
              "      <td>NaN</td>\n",
              "      <td>German lawmakers passed a bill Thursday that w...</td>\n",
              "      <td>scientist</td>\n",
              "      <td>NaN</td>\n",
              "      <td>NaN</td>\n",
              "    </tr>\n",
              "  </tbody>\n",
              "</table>\n",
              "</div>"
            ],
            "text/plain": [
              "   Unnamed: 0                                              title  ... mentions prev\n",
              "0           0  German lawmakers approve 'no means no' rape la...  ...      NaN  NaN\n",
              "1           1  German lawmakers approve 'no means no' rape la...  ...      NaN  NaN\n",
              "2           2  German lawmakers approve 'no means no' rape la...  ...      NaN  NaN\n",
              "3           3  German lawmakers approve 'no means no' rape la...  ...      NaN  NaN\n",
              "4           4  German lawmakers approve 'no means no' rape la...  ...      NaN  NaN\n",
              "\n",
              "[5 rows x 9 columns]"
            ]
          },
          "metadata": {
            "tags": []
          },
          "execution_count": 3
        }
      ]
    },
    {
      "cell_type": "code",
      "metadata": {
        "colab": {
          "base_uri": "https://localhost:8080/"
        },
        "id": "S_oUJvPkNZ5B",
        "outputId": "9c5b7f5a-1ac8-4ff3-8a53-d52a952013ce"
      },
      "source": [
        "data['label'].value_counts()"
      ],
      "execution_count": null,
      "outputs": [
        {
          "output_type": "execute_result",
          "data": {
            "text/plain": [
              "non-hateful    1091\n",
              "hateful         435\n",
              "Name: label, dtype: int64"
            ]
          },
          "metadata": {
            "tags": []
          },
          "execution_count": 4
        }
      ]
    },
    {
      "cell_type": "code",
      "metadata": {
        "colab": {
          "base_uri": "https://localhost:8080/",
          "height": 306
        },
        "id": "JHN7iN--yvNE",
        "outputId": "25c96050-2278-48d5-eb56-a9b6f5773595"
      },
      "source": [
        "map_dict = {'hateful':1,'non-hateful':0}\n",
        "def map_to_binary(x):\n",
        "  return map_dict[x]\n",
        "data['label'] = data['label'].map(map_to_binary)\n",
        "data.head()"
      ],
      "execution_count": null,
      "outputs": [
        {
          "output_type": "execute_result",
          "data": {
            "text/html": [
              "<div>\n",
              "<style scoped>\n",
              "    .dataframe tbody tr th:only-of-type {\n",
              "        vertical-align: middle;\n",
              "    }\n",
              "\n",
              "    .dataframe tbody tr th {\n",
              "        vertical-align: top;\n",
              "    }\n",
              "\n",
              "    .dataframe thead th {\n",
              "        text-align: right;\n",
              "    }\n",
              "</style>\n",
              "<table border=\"1\" class=\"dataframe\">\n",
              "  <thead>\n",
              "    <tr style=\"text-align: right;\">\n",
              "      <th></th>\n",
              "      <th>Unnamed: 0</th>\n",
              "      <th>title</th>\n",
              "      <th>text</th>\n",
              "      <th>label</th>\n",
              "      <th>succ</th>\n",
              "      <th>meta</th>\n",
              "      <th>user</th>\n",
              "      <th>mentions</th>\n",
              "      <th>prev</th>\n",
              "    </tr>\n",
              "  </thead>\n",
              "  <tbody>\n",
              "    <tr>\n",
              "      <th>0</th>\n",
              "      <td>0</td>\n",
              "      <td>German lawmakers approve 'no means no' rape la...</td>\n",
              "      <td>Merkel would never say NO</td>\n",
              "      <td>1</td>\n",
              "      <td>NaN</td>\n",
              "      <td>German lawmakers passed a bill Thursday that w...</td>\n",
              "      <td>barryswallows</td>\n",
              "      <td>NaN</td>\n",
              "      <td>NaN</td>\n",
              "    </tr>\n",
              "    <tr>\n",
              "      <th>1</th>\n",
              "      <td>1</td>\n",
              "      <td>German lawmakers approve 'no means no' rape la...</td>\n",
              "      <td>Expect more and more women to be asking .. \"wh...</td>\n",
              "      <td>1</td>\n",
              "      <td>NaN</td>\n",
              "      <td>German lawmakers passed a bill Thursday that w...</td>\n",
              "      <td>PostApocalypticHero</td>\n",
              "      <td>NaN</td>\n",
              "      <td>NaN</td>\n",
              "    </tr>\n",
              "    <tr>\n",
              "      <th>2</th>\n",
              "      <td>2</td>\n",
              "      <td>German lawmakers approve 'no means no' rape la...</td>\n",
              "      <td>Groping people in public wasn't already illega...</td>\n",
              "      <td>0</td>\n",
              "      <td>NaN</td>\n",
              "      <td>German lawmakers passed a bill Thursday that w...</td>\n",
              "      <td>californiamojo</td>\n",
              "      <td>NaN</td>\n",
              "      <td>NaN</td>\n",
              "    </tr>\n",
              "    <tr>\n",
              "      <th>3</th>\n",
              "      <td>3</td>\n",
              "      <td>German lawmakers approve 'no means no' rape la...</td>\n",
              "      <td>Merkel, possible the only person in charge who...</td>\n",
              "      <td>1</td>\n",
              "      <td>NaN</td>\n",
              "      <td>German lawmakers passed a bill Thursday that w...</td>\n",
              "      <td>MikeSte</td>\n",
              "      <td>NaN</td>\n",
              "      <td>NaN</td>\n",
              "    </tr>\n",
              "    <tr>\n",
              "      <th>4</th>\n",
              "      <td>4</td>\n",
              "      <td>German lawmakers approve 'no means no' rape la...</td>\n",
              "      <td>They know very well, no means NO! They need to...</td>\n",
              "      <td>1</td>\n",
              "      <td>NaN</td>\n",
              "      <td>German lawmakers passed a bill Thursday that w...</td>\n",
              "      <td>scientist</td>\n",
              "      <td>NaN</td>\n",
              "      <td>NaN</td>\n",
              "    </tr>\n",
              "  </tbody>\n",
              "</table>\n",
              "</div>"
            ],
            "text/plain": [
              "   Unnamed: 0                                              title  ... mentions  prev\n",
              "0           0  German lawmakers approve 'no means no' rape la...  ...      NaN   NaN\n",
              "1           1  German lawmakers approve 'no means no' rape la...  ...      NaN   NaN\n",
              "2           2  German lawmakers approve 'no means no' rape la...  ...      NaN   NaN\n",
              "3           3  German lawmakers approve 'no means no' rape la...  ...      NaN   NaN\n",
              "4           4  German lawmakers approve 'no means no' rape la...  ...      NaN   NaN\n",
              "\n",
              "[5 rows x 9 columns]"
            ]
          },
          "metadata": {
            "tags": []
          },
          "execution_count": 3
        }
      ]
    },
    {
      "cell_type": "code",
      "metadata": {
        "colab": {
          "base_uri": "https://localhost:8080/"
        },
        "id": "s9SYGGT1u0ry",
        "outputId": "9d437952-cafe-4492-9096-85e29fac778b"
      },
      "source": [
        "data['label'].value_counts()"
      ],
      "execution_count": null,
      "outputs": [
        {
          "output_type": "execute_result",
          "data": {
            "text/plain": [
              "0    1091\n",
              "1     435\n",
              "Name: label, dtype: int64"
            ]
          },
          "metadata": {
            "tags": []
          },
          "execution_count": 6
        }
      ]
    },
    {
      "cell_type": "markdown",
      "metadata": {
        "id": "qeQ7EcY_wkZb"
      },
      "source": [
        "# bert tokenizer"
      ]
    },
    {
      "cell_type": "code",
      "metadata": {
        "colab": {
          "base_uri": "https://localhost:8080/"
        },
        "id": "Y9ttHmY1wpZV",
        "outputId": "c50c9a60-4cf6-4e3e-da17-d45aa130e7d7"
      },
      "source": [
        "!pip install transformers"
      ],
      "execution_count": null,
      "outputs": [
        {
          "output_type": "stream",
          "text": [
            "Collecting transformers\n",
            "\u001b[?25l  Downloading https://files.pythonhosted.org/packages/ed/db/98c3ea1a78190dac41c0127a063abf92bd01b4b0b6970a6db1c2f5b66fa0/transformers-4.0.1-py3-none-any.whl (1.4MB)\n",
            "\u001b[K     |████████████████████████████████| 1.4MB 8.0MB/s \n",
            "\u001b[?25hRequirement already satisfied: filelock in /usr/local/lib/python3.6/dist-packages (from transformers) (3.0.12)\n",
            "Requirement already satisfied: numpy in /usr/local/lib/python3.6/dist-packages (from transformers) (1.18.5)\n",
            "Collecting sacremoses\n",
            "\u001b[?25l  Downloading https://files.pythonhosted.org/packages/7d/34/09d19aff26edcc8eb2a01bed8e98f13a1537005d31e95233fd48216eed10/sacremoses-0.0.43.tar.gz (883kB)\n",
            "\u001b[K     |████████████████████████████████| 890kB 28.1MB/s \n",
            "\u001b[?25hCollecting tokenizers==0.9.4\n",
            "\u001b[?25l  Downloading https://files.pythonhosted.org/packages/0f/1c/e789a8b12e28be5bc1ce2156cf87cb522b379be9cadc7ad8091a4cc107c4/tokenizers-0.9.4-cp36-cp36m-manylinux2010_x86_64.whl (2.9MB)\n",
            "\u001b[K     |████████████████████████████████| 2.9MB 53.0MB/s \n",
            "\u001b[?25hRequirement already satisfied: dataclasses; python_version < \"3.7\" in /usr/local/lib/python3.6/dist-packages (from transformers) (0.8)\n",
            "Requirement already satisfied: packaging in /usr/local/lib/python3.6/dist-packages (from transformers) (20.7)\n",
            "Requirement already satisfied: tqdm>=4.27 in /usr/local/lib/python3.6/dist-packages (from transformers) (4.41.1)\n",
            "Requirement already satisfied: regex!=2019.12.17 in /usr/local/lib/python3.6/dist-packages (from transformers) (2019.12.20)\n",
            "Requirement already satisfied: requests in /usr/local/lib/python3.6/dist-packages (from transformers) (2.23.0)\n",
            "Requirement already satisfied: six in /usr/local/lib/python3.6/dist-packages (from sacremoses->transformers) (1.15.0)\n",
            "Requirement already satisfied: click in /usr/local/lib/python3.6/dist-packages (from sacremoses->transformers) (7.1.2)\n",
            "Requirement already satisfied: joblib in /usr/local/lib/python3.6/dist-packages (from sacremoses->transformers) (0.17.0)\n",
            "Requirement already satisfied: pyparsing>=2.0.2 in /usr/local/lib/python3.6/dist-packages (from packaging->transformers) (2.4.7)\n",
            "Requirement already satisfied: certifi>=2017.4.17 in /usr/local/lib/python3.6/dist-packages (from requests->transformers) (2020.12.5)\n",
            "Requirement already satisfied: urllib3!=1.25.0,!=1.25.1,<1.26,>=1.21.1 in /usr/local/lib/python3.6/dist-packages (from requests->transformers) (1.24.3)\n",
            "Requirement already satisfied: idna<3,>=2.5 in /usr/local/lib/python3.6/dist-packages (from requests->transformers) (2.10)\n",
            "Requirement already satisfied: chardet<4,>=3.0.2 in /usr/local/lib/python3.6/dist-packages (from requests->transformers) (3.0.4)\n",
            "Building wheels for collected packages: sacremoses\n",
            "  Building wheel for sacremoses (setup.py) ... \u001b[?25l\u001b[?25hdone\n",
            "  Created wheel for sacremoses: filename=sacremoses-0.0.43-cp36-none-any.whl size=893261 sha256=53e00f807cb387edcbeae3edcc8a3705e67c91ed73c4dd21b56bff297b18576e\n",
            "  Stored in directory: /root/.cache/pip/wheels/29/3c/fd/7ce5c3f0666dab31a50123635e6fb5e19ceb42ce38d4e58f45\n",
            "Successfully built sacremoses\n",
            "Installing collected packages: sacremoses, tokenizers, transformers\n",
            "Successfully installed sacremoses-0.0.43 tokenizers-0.9.4 transformers-4.0.1\n"
          ],
          "name": "stdout"
        }
      ]
    },
    {
      "cell_type": "code",
      "metadata": {
        "id": "FsYgXwrVwmHm"
      },
      "source": [
        "import random\n",
        "import torch\n",
        "from torch.utils.data import TensorDataset, DataLoader, random_split\n",
        "from transformers import BertTokenizer\n",
        "from transformers import BertForSequenceClassification, AdamW\n",
        "from transformers import get_linear_schedule_with_warmup\n",
        "\n",
        "seed = 42\n",
        "random.seed(seed)\n",
        "np.random.seed(seed)\n",
        "torch.manual_seed(seed)\n",
        "torch.cuda.manual_seed_all(seed)\n",
        "torch.backends.cudnn.deterministic = True\n",
        "\n",
        "device = torch.device('cuda')"
      ],
      "execution_count": null,
      "outputs": []
    },
    {
      "cell_type": "code",
      "metadata": {
        "colab": {
          "base_uri": "https://localhost:8080/"
        },
        "id": "shU5VUMnyf9t",
        "outputId": "1a76e8d9-cff9-4b9a-b68d-12306e1415e8"
      },
      "source": [
        "from sklearn.model_selection import train_test_split\n",
        "X = data['text'].tolist()\n",
        "y = data['label'].tolist()\n",
        "X_train, X_test, y_train, y_test = train_test_split(X, y, test_size=0.1, random_state=28)\n",
        "len(X_train)"
      ],
      "execution_count": null,
      "outputs": [
        {
          "output_type": "execute_result",
          "data": {
            "text/plain": [
              "1373"
            ]
          },
          "metadata": {
            "tags": []
          },
          "execution_count": 3
        }
      ]
    },
    {
      "cell_type": "code",
      "metadata": {
        "colab": {
          "base_uri": "https://localhost:8080/"
        },
        "id": "opDOi2FvZEQh",
        "outputId": "58913414-57ec-43cb-893f-735f4af46d24"
      },
      "source": [
        "len(X_test)"
      ],
      "execution_count": null,
      "outputs": [
        {
          "output_type": "execute_result",
          "data": {
            "text/plain": [
              "153"
            ]
          },
          "metadata": {
            "tags": []
          },
          "execution_count": 4
        }
      ]
    },
    {
      "cell_type": "code",
      "metadata": {
        "id": "ka7_HE3dwvch",
        "colab": {
          "base_uri": "https://localhost:8080/",
          "height": 67,
          "referenced_widgets": [
            "557912320acb425bbc2d18eec96f0dfc",
            "74594d7426ab4afa8ddc251dfe057120",
            "7c3fb4d3e68f443d8b41c97de5574dec",
            "d80a63c2ffde4d6cbb4093338d74c04b",
            "6f87553385d14f02b795606e8b4d39d7",
            "783855f0985445b5913117391c30a88a",
            "88df2acb0a4d4666b9bee767c4d6cf6d",
            "d0a114aba1084e19aa666031ce6d8552"
          ]
        },
        "outputId": "2f1644f9-0967-43f3-dcdc-e7e9ffc510b5"
      },
      "source": [
        "\n",
        "tokenizer = BertTokenizer.from_pretrained('bert-base-uncased', do_lower_case=True)\n",
        "# Function to get token ids for a list of texts \n",
        "def encode_fn(text_list):\n",
        "    all_input_ids = []    \n",
        "    for text in text_list:\n",
        "        input_ids = tokenizer.encode(\n",
        "                        text,                      \n",
        "                        add_special_tokens = True,  # 添加special tokens， 也就是CLS和SEP\n",
        "                        max_length = 50,           # 设定最大文本长度\n",
        "                        pad_to_max_length = True,   # pad到最大的长度  \n",
        "                        return_tensors = 'pt'       # 返回的类型为pytorch tensor\n",
        "                   )\n",
        "        all_input_ids.append(input_ids)    \n",
        "    all_input_ids = torch.cat(all_input_ids, dim=0)\n",
        "    return all_input_ids"
      ],
      "execution_count": null,
      "outputs": [
        {
          "output_type": "display_data",
          "data": {
            "application/vnd.jupyter.widget-view+json": {
              "model_id": "557912320acb425bbc2d18eec96f0dfc",
              "version_minor": 0,
              "version_major": 2
            },
            "text/plain": [
              "HBox(children=(FloatProgress(value=0.0, description='Downloading', max=231508.0, style=ProgressStyle(descripti…"
            ]
          },
          "metadata": {
            "tags": []
          }
        },
        {
          "output_type": "stream",
          "text": [
            "\n"
          ],
          "name": "stdout"
        }
      ]
    },
    {
      "cell_type": "markdown",
      "metadata": {
        "id": "DzORy5pS0e4m"
      },
      "source": [
        "# torch dataset"
      ]
    },
    {
      "cell_type": "code",
      "metadata": {
        "colab": {
          "base_uri": "https://localhost:8080/"
        },
        "id": "UE2cnRFjxlc9",
        "outputId": "dc6018cb-07b4-4234-9d45-2d4e4695b2d7"
      },
      "source": [
        "epochs = 5\n",
        "batch_size = 32\n",
        "\n",
        "# Split data into train and validation\n",
        "train_ids = encode_fn(X_train)\n",
        "train_labels = torch.tensor(y_train)\n",
        "train_dataset = TensorDataset(train_ids, train_labels)\n",
        "\n",
        "test_ids = encode_fn(X_test)\n",
        "test_labels = torch.tensor(y_test)\n",
        "testdataset = TensorDataset(test_ids, test_labels)\n",
        "\n",
        "# train_dataset, val_dataset = random_split(dataset, [train_size, val_size])\n",
        "\n",
        "# Create train and validation dataloaders\n",
        "train_dataloader = DataLoader(train_dataset, batch_size = batch_size, shuffle = True)\n",
        "test_dataloader = DataLoader(testdataset, batch_size = batch_size, shuffle = False)"
      ],
      "execution_count": null,
      "outputs": [
        {
          "output_type": "stream",
          "text": [
            "Truncation was not explicitly activated but `max_length` is provided a specific value, please use `truncation=True` to explicitly truncate examples to max length. Defaulting to 'longest_first' truncation strategy. If you encode pairs of sequences (GLUE-style) with the tokenizer you can select this strategy more precisely by providing a specific strategy to `truncation`.\n",
            "/usr/local/lib/python3.6/dist-packages/transformers/tokenization_utils_base.py:2142: FutureWarning: The `pad_to_max_length` argument is deprecated and will be removed in a future version, use `padding=True` or `padding='longest'` to pad to the longest sequence in the batch, or use `padding='max_length'` to pad to a max length. In this case, you can give a specific length with `max_length` (e.g. `max_length=45`) or leave max_length to None to pad to the maximal input size of the model (e.g. 512 for Bert).\n",
            "  FutureWarning,\n"
          ],
          "name": "stderr"
        }
      ]
    },
    {
      "cell_type": "markdown",
      "metadata": {
        "id": "YCzDjZ_30j1x"
      },
      "source": [
        "# construct model"
      ]
    },
    {
      "cell_type": "code",
      "metadata": {
        "colab": {
          "base_uri": "https://localhost:8080/",
          "height": 227,
          "referenced_widgets": [
            "037e195380fa4d5189a68f3a2bd70aa5",
            "d62f659f0ef4440d93a327afaa8d04e4",
            "268f07b255cd4c2f83ba7b2096f241f7",
            "5256a7605f02479e9466a9edc215ea1f",
            "6f338e14746749a9bea9627ec8e32258",
            "e46ace492d71475a83f90e34f5dabb27",
            "99f1a4338a6d45b2817ebd2129d69924",
            "4672e6e7373c43b8873e94e4ada41a85",
            "736ff742147f47649a5cbcd00686cd2d",
            "9f2edc5f81ec421090b425e6654fc253",
            "29f0e2c6246a4379934748cf625b863b",
            "308c44c3afbe4b5a85599f31e11b50f7",
            "853a97a70f1c4f6198c0509e197661ea",
            "ab8ac753a4e0479f9144293297ebb9f1",
            "a25a380bfb0046ac871b5a6753a9567f",
            "f05d690a201b4b40a4b621d7ebd68202"
          ]
        },
        "id": "V7O71w1x0cGG",
        "outputId": "8cb746d3-edbb-4b6c-e58a-aecd874c9474"
      },
      "source": [
        "# Load the pretrained BERT model\n",
        "model = BertForSequenceClassification.from_pretrained('bert-base-uncased', num_labels=2, output_attentions=False, output_hidden_states=False)\n",
        "model.cuda()\n",
        "\n",
        "# create optimizer and learning rate schedule\n",
        "optimizer = AdamW(model.parameters(), lr=2e-5)\n",
        "total_steps = len(train_dataloader) * epochs\n",
        "scheduler = get_linear_schedule_with_warmup(optimizer, num_warmup_steps=0, num_training_steps=total_steps)"
      ],
      "execution_count": null,
      "outputs": [
        {
          "output_type": "display_data",
          "data": {
            "application/vnd.jupyter.widget-view+json": {
              "model_id": "037e195380fa4d5189a68f3a2bd70aa5",
              "version_minor": 0,
              "version_major": 2
            },
            "text/plain": [
              "HBox(children=(FloatProgress(value=0.0, description='Downloading', max=433.0, style=ProgressStyle(description_…"
            ]
          },
          "metadata": {
            "tags": []
          }
        },
        {
          "output_type": "stream",
          "text": [
            "\n"
          ],
          "name": "stdout"
        },
        {
          "output_type": "display_data",
          "data": {
            "application/vnd.jupyter.widget-view+json": {
              "model_id": "736ff742147f47649a5cbcd00686cd2d",
              "version_minor": 0,
              "version_major": 2
            },
            "text/plain": [
              "HBox(children=(FloatProgress(value=0.0, description='Downloading', max=440473133.0, style=ProgressStyle(descri…"
            ]
          },
          "metadata": {
            "tags": []
          }
        },
        {
          "output_type": "stream",
          "text": [
            "\n"
          ],
          "name": "stdout"
        },
        {
          "output_type": "stream",
          "text": [
            "Some weights of the model checkpoint at bert-base-uncased were not used when initializing BertForSequenceClassification: ['cls.predictions.bias', 'cls.predictions.transform.dense.weight', 'cls.predictions.transform.dense.bias', 'cls.predictions.decoder.weight', 'cls.seq_relationship.weight', 'cls.seq_relationship.bias', 'cls.predictions.transform.LayerNorm.weight', 'cls.predictions.transform.LayerNorm.bias']\n",
            "- This IS expected if you are initializing BertForSequenceClassification from the checkpoint of a model trained on another task or with another architecture (e.g. initializing a BertForSequenceClassification model from a BertForPreTraining model).\n",
            "- This IS NOT expected if you are initializing BertForSequenceClassification from the checkpoint of a model that you expect to be exactly identical (initializing a BertForSequenceClassification model from a BertForSequenceClassification model).\n",
            "Some weights of BertForSequenceClassification were not initialized from the model checkpoint at bert-base-uncased and are newly initialized: ['classifier.weight', 'classifier.bias']\n",
            "You should probably TRAIN this model on a down-stream task to be able to use it for predictions and inference.\n"
          ],
          "name": "stderr"
        }
      ]
    },
    {
      "cell_type": "code",
      "metadata": {
        "id": "hq8LE9N21VYc"
      },
      "source": [
        "from sklearn.metrics import f1_score, accuracy_score\n",
        "\n",
        "def flat_accuracy(preds, labels):\n",
        "    \n",
        "    \"\"\"A function for calculating accuracy scores\"\"\"\n",
        "    \n",
        "    pred_flat = np.argmax(preds, axis=1).flatten()\n",
        "    labels_flat = labels.flatten()\n",
        "    return labels_flat, pred_flat"
      ],
      "execution_count": null,
      "outputs": []
    },
    {
      "cell_type": "markdown",
      "metadata": {
        "id": "ih6flmFb1gw5"
      },
      "source": [
        "# model training"
      ]
    },
    {
      "cell_type": "code",
      "metadata": {
        "id": "ysrs7T-e1dP_",
        "colab": {
          "base_uri": "https://localhost:8080/"
        },
        "outputId": "d7a63a4e-dd42-46b4-b797-b831cdfc44e0"
      },
      "source": [
        "for epoch in range(epochs):\n",
        "    model.train()\n",
        "    total_loss, total_val_loss = 0, 0\n",
        "    total_eval_accuracy = 0\n",
        "    for step, batch in enumerate(train_dataloader):\n",
        "        model.zero_grad()\n",
        "        outputs = model(batch[0].to(device), token_type_ids=None, attention_mask=(batch[0]>0).to(device), labels=batch[1].to(device))\n",
        "        loss = outputs.loss\n",
        "        logits = outputs.logits\n",
        "        total_loss += loss.item()\n",
        "        loss.backward()\n",
        "        torch.nn.utils.clip_grad_norm_(model.parameters(), 1.0)\n",
        "        optimizer.step() \n",
        "        scheduler.step()\n",
        "        \n",
        "    model.eval()\n",
        "    labels_all = []\n",
        "    pred_flat_all = []\n",
        "    for i, batch in enumerate(test_dataloader):\n",
        "        with torch.no_grad():\n",
        "            outputs = model(batch[0].to(device), token_type_ids=None, attention_mask=(batch[0]>0).to(device), labels=batch[1].to(device))\n",
        "            loss = outputs.loss\n",
        "            logits = outputs.logits\n",
        "                \n",
        "            total_val_loss += loss.item()\n",
        "            \n",
        "            logits = logits.detach().cpu().numpy()\n",
        "            label_ids = batch[1].to('cpu').numpy()\n",
        "            labels_flat, pred_flat = flat_accuracy(logits, label_ids)\n",
        "            labels_all.extend(labels_flat)\n",
        "            pred_flat_all.extend(pred_flat)\n",
        "\n",
        "    torch.save(model, 'model_bert_base_from_wassem'+str(epoch)+'.ckpt')\n",
        "    # torch.save(slot_model, 'model_slot'+str(epoch)+'.ckpt')\n",
        "    \n",
        "    avg_train_loss = total_loss / len(train_dataloader)\n",
        "    avg_val_loss = total_val_loss / len(test_dataloader)\n",
        "    avg_val_accuracy = accuracy_score(labels_all, pred_flat_all)\n",
        "    \n",
        "    print(f'Train loss     : {avg_train_loss}')\n",
        "    print(f'Validation loss: {avg_val_loss}')\n",
        "    print(f'Accuracy: {avg_val_accuracy:.4f}')\n",
        "    print('\\n')"
      ],
      "execution_count": null,
      "outputs": [
        {
          "output_type": "stream",
          "text": [
            "Train loss     : 0.6024668389974639\n",
            "Validation loss: 0.5093827545642853\n",
            "Accuracy: 0.7516\n",
            "\n",
            "\n",
            "Train loss     : 0.5188040497691132\n",
            "Validation loss: 0.44748584628105165\n",
            "Accuracy: 0.8235\n",
            "\n",
            "\n",
            "Train loss     : 0.402606742673142\n",
            "Validation loss: 0.45086530447006223\n",
            "Accuracy: 0.7908\n",
            "\n",
            "\n",
            "Train loss     : 0.30234964330529057\n",
            "Validation loss: 0.45087993144989014\n",
            "Accuracy: 0.7974\n",
            "\n",
            "\n",
            "Train loss     : 0.23950390223153803\n",
            "Validation loss: 0.4458361387252808\n",
            "Accuracy: 0.7974\n",
            "\n",
            "\n"
          ],
          "name": "stdout"
        }
      ]
    },
    {
      "cell_type": "markdown",
      "metadata": {
        "id": "AobybpmcP7NH"
      },
      "source": [
        "# evaluate on dota dataset"
      ]
    },
    {
      "cell_type": "code",
      "metadata": {
        "id": "o3-B0pF4P9Sg"
      },
      "source": [
        "!pip install -U -q PyDrive\n",
        "from pydrive.auth import GoogleAuth\n",
        "from pydrive.drive import GoogleDrive\n",
        "from google.colab import auth\n",
        "from oauth2client.client import GoogleCredentials\n",
        "\n",
        "import pandas as pd\n",
        "\n",
        "\n",
        "# Authenticate and create the PyDrive client.\n",
        "auth.authenticate_user()\n",
        "gauth = GoogleAuth()\n",
        "gauth.credentials = GoogleCredentials.get_application_default()\n",
        "drive = GoogleDrive(gauth)\n",
        "# Download all three Microsoft BotBuilder Personality Chat Datasets on Google Colab virtual server\n",
        "# https://drive.google.com/file/d/10yi1MvU3lrlqyGLGZ0Ee7o4e72zEW4Fg/view?usp=sharing\n",
        "#chats.csv DOTA dataset 1.4 million\n",
        "# https://drive.google.com/file/d/1VALiNA_ruYl0jt66MBG7Eb_o3sWQIBqj/view?usp=sharing\n",
        "# https://drive.google.com/file/d/1-HsJ2w944FNCZPPiqYjV7Ip-2fmdNqz5/view?usp=sharing\n",
        "download_files = [\n",
        "          {'id':'1VALiNA_ruYl0jt66MBG7Eb_o3sWQIBqj','file_name':'50K_Output.csv'},\n",
        "          {'id':'1-HsJ2w944FNCZPPiqYjV7Ip-2fmdNqz5','file_name':'word_level_data_combined_annotation.csv'},\n",
        "          ]\n",
        "for entity in download_files:\n",
        "  id1 = entity['id']\n",
        "  downloaded = drive.CreateFile({'id':id1 }) \n",
        "  downloaded.GetContentFile(entity['file_name']) "
      ],
      "execution_count": null,
      "outputs": []
    },
    {
      "cell_type": "code",
      "metadata": {
        "id": "jRh2dzUnQPNZ"
      },
      "source": [
        "import pandas as pd\n",
        "import numpy as np\n",
        "import matplotlib.pyplot as plt\n",
        "colnames = ['1','2','3','utterance','4','5','6','Label','combined_annotation']\n",
        "test_data = pd.read_csv(\"50K_Output.csv\",names=colnames, header=None)"
      ],
      "execution_count": null,
      "outputs": []
    },
    {
      "cell_type": "code",
      "metadata": {
        "colab": {
          "base_uri": "https://localhost:8080/",
          "height": 204
        },
        "id": "nJIT606tQk4c",
        "outputId": "fed877b1-7617-446e-c95a-c23e7f402d9d"
      },
      "source": [
        "def map_to_binary(x):\n",
        "  x = str(x)\n",
        "  if 'E' in x or 'I' in x:\n",
        "    return 1\n",
        "  else:\n",
        "    return 0\n",
        "\n",
        "test_data['Label'] = test_data['Label'].map(map_to_binary)\n",
        "test_data.head()"
      ],
      "execution_count": null,
      "outputs": [
        {
          "output_type": "execute_result",
          "data": {
            "text/html": [
              "<div>\n",
              "<style scoped>\n",
              "    .dataframe tbody tr th:only-of-type {\n",
              "        vertical-align: middle;\n",
              "    }\n",
              "\n",
              "    .dataframe tbody tr th {\n",
              "        vertical-align: top;\n",
              "    }\n",
              "\n",
              "    .dataframe thead th {\n",
              "        text-align: right;\n",
              "    }\n",
              "</style>\n",
              "<table border=\"1\" class=\"dataframe\">\n",
              "  <thead>\n",
              "    <tr style=\"text-align: right;\">\n",
              "      <th></th>\n",
              "      <th>1</th>\n",
              "      <th>2</th>\n",
              "      <th>3</th>\n",
              "      <th>utterance</th>\n",
              "      <th>4</th>\n",
              "      <th>5</th>\n",
              "      <th>6</th>\n",
              "      <th>Label</th>\n",
              "      <th>combined_annotation</th>\n",
              "    </tr>\n",
              "  </thead>\n",
              "  <tbody>\n",
              "    <tr>\n",
              "      <th>0</th>\n",
              "      <td>0</td>\n",
              "      <td>0</td>\n",
              "      <td>0</td>\n",
              "      <td>force it</td>\n",
              "      <td>-8</td>\n",
              "      <td>6</td>\n",
              "      <td>6k Slayer</td>\n",
              "      <td>0</td>\n",
              "      <td>force (D), it (P),</td>\n",
              "    </tr>\n",
              "    <tr>\n",
              "      <th>1</th>\n",
              "      <td>1</td>\n",
              "      <td>0</td>\n",
              "      <td>0</td>\n",
              "      <td>space created [SEPA] hah</td>\n",
              "      <td>5</td>\n",
              "      <td>1</td>\n",
              "      <td>Monkey</td>\n",
              "      <td>0</td>\n",
              "      <td>space (O), created (O), [SEPA] (SEPA), hah (O),</td>\n",
              "    </tr>\n",
              "    <tr>\n",
              "      <th>2</th>\n",
              "      <td>2</td>\n",
              "      <td>0</td>\n",
              "      <td>0</td>\n",
              "      <td>ez 500</td>\n",
              "      <td>9</td>\n",
              "      <td>6</td>\n",
              "      <td>6k Slayer</td>\n",
              "      <td>1</td>\n",
              "      <td>ez (S), 500 (O),</td>\n",
              "    </tr>\n",
              "    <tr>\n",
              "      <th>3</th>\n",
              "      <td>3</td>\n",
              "      <td>0</td>\n",
              "      <td>1</td>\n",
              "      <td>mvp ulti</td>\n",
              "      <td>934</td>\n",
              "      <td>4</td>\n",
              "      <td>Kira</td>\n",
              "      <td>0</td>\n",
              "      <td>mvp (O), ulti (S),</td>\n",
              "    </tr>\n",
              "    <tr>\n",
              "      <th>4</th>\n",
              "      <td>4</td>\n",
              "      <td>0</td>\n",
              "      <td>2</td>\n",
              "      <td>bye</td>\n",
              "      <td>1486</td>\n",
              "      <td>6</td>\n",
              "      <td>6k Slayer</td>\n",
              "      <td>0</td>\n",
              "      <td>bye (O),</td>\n",
              "    </tr>\n",
              "  </tbody>\n",
              "</table>\n",
              "</div>"
            ],
            "text/plain": [
              "   1  2  3  ...          6  Label                               combined_annotation\n",
              "0  0  0  0  ...  6k Slayer      0                               force (D), it (P), \n",
              "1  1  0  0  ...     Monkey      0  space (O), created (O), [SEPA] (SEPA), hah (O), \n",
              "2  2  0  0  ...  6k Slayer      1                                 ez (S), 500 (O), \n",
              "3  3  0  1  ...       Kira      0                               mvp (O), ulti (S), \n",
              "4  4  0  2  ...  6k Slayer      0                                         bye (O), \n",
              "\n",
              "[5 rows x 9 columns]"
            ]
          },
          "metadata": {
            "tags": []
          },
          "execution_count": 17
        }
      ]
    },
    {
      "cell_type": "code",
      "metadata": {
        "colab": {
          "base_uri": "https://localhost:8080/",
          "height": 204
        },
        "id": "QQKo4Ho-RUX-",
        "outputId": "3a679fec-14e8-4cdc-b4cb-eb700a0188c9"
      },
      "source": [
        "def str_context(x):\n",
        "  return str(x)\n",
        "\n",
        "test_data['utterance'] = test_data['utterance'].map(str_context)\n",
        "test_data.head()"
      ],
      "execution_count": null,
      "outputs": [
        {
          "output_type": "execute_result",
          "data": {
            "text/html": [
              "<div>\n",
              "<style scoped>\n",
              "    .dataframe tbody tr th:only-of-type {\n",
              "        vertical-align: middle;\n",
              "    }\n",
              "\n",
              "    .dataframe tbody tr th {\n",
              "        vertical-align: top;\n",
              "    }\n",
              "\n",
              "    .dataframe thead th {\n",
              "        text-align: right;\n",
              "    }\n",
              "</style>\n",
              "<table border=\"1\" class=\"dataframe\">\n",
              "  <thead>\n",
              "    <tr style=\"text-align: right;\">\n",
              "      <th></th>\n",
              "      <th>1</th>\n",
              "      <th>2</th>\n",
              "      <th>3</th>\n",
              "      <th>utterance</th>\n",
              "      <th>4</th>\n",
              "      <th>5</th>\n",
              "      <th>6</th>\n",
              "      <th>Label</th>\n",
              "      <th>combined_annotation</th>\n",
              "    </tr>\n",
              "  </thead>\n",
              "  <tbody>\n",
              "    <tr>\n",
              "      <th>0</th>\n",
              "      <td>0</td>\n",
              "      <td>0</td>\n",
              "      <td>0</td>\n",
              "      <td>force it</td>\n",
              "      <td>-8</td>\n",
              "      <td>6</td>\n",
              "      <td>6k Slayer</td>\n",
              "      <td>0</td>\n",
              "      <td>force (D), it (P),</td>\n",
              "    </tr>\n",
              "    <tr>\n",
              "      <th>1</th>\n",
              "      <td>1</td>\n",
              "      <td>0</td>\n",
              "      <td>0</td>\n",
              "      <td>space created [SEPA] hah</td>\n",
              "      <td>5</td>\n",
              "      <td>1</td>\n",
              "      <td>Monkey</td>\n",
              "      <td>0</td>\n",
              "      <td>space (O), created (O), [SEPA] (SEPA), hah (O),</td>\n",
              "    </tr>\n",
              "    <tr>\n",
              "      <th>2</th>\n",
              "      <td>2</td>\n",
              "      <td>0</td>\n",
              "      <td>0</td>\n",
              "      <td>ez 500</td>\n",
              "      <td>9</td>\n",
              "      <td>6</td>\n",
              "      <td>6k Slayer</td>\n",
              "      <td>1</td>\n",
              "      <td>ez (S), 500 (O),</td>\n",
              "    </tr>\n",
              "    <tr>\n",
              "      <th>3</th>\n",
              "      <td>3</td>\n",
              "      <td>0</td>\n",
              "      <td>1</td>\n",
              "      <td>mvp ulti</td>\n",
              "      <td>934</td>\n",
              "      <td>4</td>\n",
              "      <td>Kira</td>\n",
              "      <td>0</td>\n",
              "      <td>mvp (O), ulti (S),</td>\n",
              "    </tr>\n",
              "    <tr>\n",
              "      <th>4</th>\n",
              "      <td>4</td>\n",
              "      <td>0</td>\n",
              "      <td>2</td>\n",
              "      <td>bye</td>\n",
              "      <td>1486</td>\n",
              "      <td>6</td>\n",
              "      <td>6k Slayer</td>\n",
              "      <td>0</td>\n",
              "      <td>bye (O),</td>\n",
              "    </tr>\n",
              "  </tbody>\n",
              "</table>\n",
              "</div>"
            ],
            "text/plain": [
              "   1  2  3  ...          6  Label                               combined_annotation\n",
              "0  0  0  0  ...  6k Slayer      0                               force (D), it (P), \n",
              "1  1  0  0  ...     Monkey      0  space (O), created (O), [SEPA] (SEPA), hah (O), \n",
              "2  2  0  0  ...  6k Slayer      1                                 ez (S), 500 (O), \n",
              "3  3  0  1  ...       Kira      0                               mvp (O), ulti (S), \n",
              "4  4  0  2  ...  6k Slayer      0                                         bye (O), \n",
              "\n",
              "[5 rows x 9 columns]"
            ]
          },
          "metadata": {
            "tags": []
          },
          "execution_count": 18
        }
      ]
    },
    {
      "cell_type": "code",
      "metadata": {
        "colab": {
          "base_uri": "https://localhost:8080/"
        },
        "id": "ZfktFdrlQ4rH",
        "outputId": "4095e0ec-5524-4c64-f8b3-f7d5c181d18b"
      },
      "source": [
        "test_ids = encode_fn(test_data['utterance'].tolist())\n",
        "test_labels = torch.tensor(test_data['Label'].tolist())\n",
        "testdataset = TensorDataset(test_ids, test_labels)\n",
        "\n",
        "# train_dataset, val_dataset = random_split(dataset, [train_size, val_size])\n",
        "\n",
        "# Create train and validation dataloaders\n",
        "# train_dataloader = DataLoader(train_dataset, batch_size = batch_size, shuffle = True)\n",
        "test_dataloader = DataLoader(testdataset, batch_size = batch_size, shuffle = False)"
      ],
      "execution_count": null,
      "outputs": [
        {
          "output_type": "stream",
          "text": [
            "/usr/local/lib/python3.6/dist-packages/transformers/tokenization_utils_base.py:2022: FutureWarning: The `pad_to_max_length` argument is deprecated and will be removed in a future version, use `padding=True` or `padding='longest'` to pad to the longest sequence in the batch, or use `padding='max_length'` to pad to a max length. In this case, you can give a specific length with `max_length` (e.g. `max_length=45`) or leave max_length to None to pad to the maximal input size of the model (e.g. 512 for Bert).\n",
            "  FutureWarning,\n"
          ],
          "name": "stderr"
        }
      ]
    },
    {
      "cell_type": "code",
      "metadata": {
        "colab": {
          "base_uri": "https://localhost:8080/"
        },
        "id": "LWyh43kCRmDH",
        "outputId": "3e8886e6-74b9-4e24-bbd4-61611dbcc48f"
      },
      "source": [
        "labels_all = []\n",
        "pred_flat_all = []\n",
        "for i, batch in enumerate(test_dataloader):\n",
        "    with torch.no_grad():\n",
        "        loss, logits = model(batch[0].to(device), token_type_ids=None, attention_mask=(batch[0]>0).to(device), labels=batch[1].to(device))\n",
        "            \n",
        "        total_val_loss += loss.item()\n",
        "        \n",
        "        logits = logits.detach().cpu().numpy()\n",
        "        label_ids = batch[1].to('cpu').numpy()\n",
        "        labels_flat, pred_flat = flat_accuracy(logits, label_ids)\n",
        "        labels_all.extend(labels_flat)\n",
        "        pred_flat_all.extend(pred_flat)\n",
        "print(len(labels_all))\n",
        "print(len(pred_flat_all))"
      ],
      "execution_count": null,
      "outputs": [
        {
          "output_type": "stream",
          "text": [
            "50001\n",
            "50001\n"
          ],
          "name": "stdout"
        }
      ]
    },
    {
      "cell_type": "code",
      "metadata": {
        "colab": {
          "base_uri": "https://localhost:8080/"
        },
        "id": "5RJzjPheSDQn",
        "outputId": "98972e63-5580-4969-ae36-fd55fdc0790d"
      },
      "source": [
        "avg_val_accuracy = accuracy_score(labels_all, pred_flat_all)\n",
        "avg_val_accuracy"
      ],
      "execution_count": null,
      "outputs": [
        {
          "output_type": "execute_result",
          "data": {
            "text/plain": [
              "0.8055638887222255"
            ]
          },
          "metadata": {
            "tags": []
          },
          "execution_count": 21
        }
      ]
    },
    {
      "cell_type": "code",
      "metadata": {
        "colab": {
          "base_uri": "https://localhost:8080/"
        },
        "id": "wYlzBGe8Sid1",
        "outputId": "38750fd1-38c0-4455-a4aa-aa6953ef6967"
      },
      "source": [
        "from sklearn.metrics import classification_report\n",
        "print(classification_report(y_true=labels_all,y_pred=pred_flat_all,digits=4))"
      ],
      "execution_count": null,
      "outputs": [
        {
          "output_type": "stream",
          "text": [
            "              precision    recall  f1-score   support\n",
            "\n",
            "           0     0.8551    0.9220    0.8873     41507\n",
            "           1     0.3830    0.2368    0.2926      8494\n",
            "\n",
            "    accuracy                         0.8056     50001\n",
            "   macro avg     0.6191    0.5794    0.5900     50001\n",
            "weighted avg     0.7749    0.8056    0.7863     50001\n",
            "\n"
          ],
          "name": "stdout"
        }
      ]
    },
    {
      "cell_type": "markdown",
      "metadata": {
        "id": "get4lR7RXBoa"
      },
      "source": [
        "# evaluate on storm dataset"
      ]
    },
    {
      "cell_type": "code",
      "metadata": {
        "id": "U50cvuObXBoa"
      },
      "source": [
        "!pip install -U -q PyDrive\n",
        "from pydrive.auth import GoogleAuth\n",
        "from pydrive.drive import GoogleDrive\n",
        "from google.colab import auth\n",
        "from oauth2client.client import GoogleCredentials\n",
        "\n",
        "import pandas as pd\n",
        "\n",
        "\n",
        "# Authenticate and create the PyDrive client.\n",
        "auth.authenticate_user()\n",
        "gauth = GoogleAuth()\n",
        "gauth.credentials = GoogleCredentials.get_application_default()\n",
        "drive = GoogleDrive(gauth)\n",
        "# Download all three Microsoft BotBuilder Personality Chat Datasets on Google Colab virtual server\n",
        "# https://drive.google.com/file/d/10yi1MvU3lrlqyGLGZ0Ee7o4e72zEW4Fg/view?usp=sharing\n",
        "#chats.csv DOTA dataset 1.4 million\n",
        "# https://drive.google.com/file/d/1VALiNA_ruYl0jt66MBG7Eb_o3sWQIBqj/view?usp=sharing\n",
        "# https://drive.google.com/file/d/1-HsJ2w944FNCZPPiqYjV7Ip-2fmdNqz5/view?usp=sharing\n",
        "download_files = [\n",
        "          {'id':'1LNjeEeHNpJwS4O9OK2gOSpwddwzHCaqW','file_name':'storm.csv'},\n",
        "          ]\n",
        "for entity in download_files:\n",
        "  id1 = entity['id']\n",
        "  downloaded = drive.CreateFile({'id':id1 }) \n",
        "  downloaded.GetContentFile(entity['file_name']) "
      ],
      "execution_count": null,
      "outputs": []
    },
    {
      "cell_type": "code",
      "metadata": {
        "id": "CBwSVA0vXBob"
      },
      "source": [
        "import pandas as pd\n",
        "import numpy as np\n",
        "import matplotlib.pyplot as plt\n",
        "# colnames = ['1','2','3','utterance','4','5','6','Label','combined_annotation']\n",
        "test_data = pd.read_csv(\"storm.csv\")"
      ],
      "execution_count": null,
      "outputs": []
    },
    {
      "cell_type": "code",
      "metadata": {
        "colab": {
          "base_uri": "https://localhost:8080/",
          "height": 204
        },
        "id": "uUJsHWqyXBob",
        "outputId": "06bb633f-f01d-406e-ff35-999eba63bc12"
      },
      "source": [
        "map_dict = {'hate':1,'noHate':0,'relation':0,'idk/skip':0}\n",
        "def map_to_binary(x):\n",
        "  return map_dict[x]\n",
        "test_data['label'] = test_data['label'].map(map_to_binary)\n",
        "test_data.head()"
      ],
      "execution_count": null,
      "outputs": [
        {
          "output_type": "execute_result",
          "data": {
            "text/html": [
              "<div>\n",
              "<style scoped>\n",
              "    .dataframe tbody tr th:only-of-type {\n",
              "        vertical-align: middle;\n",
              "    }\n",
              "\n",
              "    .dataframe tbody tr th {\n",
              "        vertical-align: top;\n",
              "    }\n",
              "\n",
              "    .dataframe thead th {\n",
              "        text-align: right;\n",
              "    }\n",
              "</style>\n",
              "<table border=\"1\" class=\"dataframe\">\n",
              "  <thead>\n",
              "    <tr style=\"text-align: right;\">\n",
              "      <th></th>\n",
              "      <th>sentence</th>\n",
              "      <th>label</th>\n",
              "      <th>user_id</th>\n",
              "      <th>file_id</th>\n",
              "    </tr>\n",
              "  </thead>\n",
              "  <tbody>\n",
              "    <tr>\n",
              "      <th>0</th>\n",
              "      <td>b'As of March 13th , 2014 , the booklet had be...</td>\n",
              "      <td>0</td>\n",
              "      <td>572066</td>\n",
              "      <td>12834217_1</td>\n",
              "    </tr>\n",
              "    <tr>\n",
              "      <th>1</th>\n",
              "      <td>b'In order to help increase the booklets downl...</td>\n",
              "      <td>0</td>\n",
              "      <td>572066</td>\n",
              "      <td>12834217_2</td>\n",
              "    </tr>\n",
              "    <tr>\n",
              "      <th>2</th>\n",
              "      <td>b'( Simply copy and paste the following text i...</td>\n",
              "      <td>0</td>\n",
              "      <td>572066</td>\n",
              "      <td>12834217_3</td>\n",
              "    </tr>\n",
              "    <tr>\n",
              "      <th>3</th>\n",
              "      <td>b'Click below for a FREE download of a colorfu...</td>\n",
              "      <td>1</td>\n",
              "      <td>572066</td>\n",
              "      <td>12834217_4</td>\n",
              "    </tr>\n",
              "    <tr>\n",
              "      <th>4</th>\n",
              "      <td>b\"Click on the `` DOWNLOAD ( 7.42 MB ) '' gree...</td>\n",
              "      <td>0</td>\n",
              "      <td>572066</td>\n",
              "      <td>12834217_5</td>\n",
              "    </tr>\n",
              "  </tbody>\n",
              "</table>\n",
              "</div>"
            ],
            "text/plain": [
              "                                            sentence  ...     file_id\n",
              "0  b'As of March 13th , 2014 , the booklet had be...  ...  12834217_1\n",
              "1  b'In order to help increase the booklets downl...  ...  12834217_2\n",
              "2  b'( Simply copy and paste the following text i...  ...  12834217_3\n",
              "3  b'Click below for a FREE download of a colorfu...  ...  12834217_4\n",
              "4  b\"Click on the `` DOWNLOAD ( 7.42 MB ) '' gree...  ...  12834217_5\n",
              "\n",
              "[5 rows x 4 columns]"
            ]
          },
          "metadata": {
            "tags": []
          },
          "execution_count": 25
        }
      ]
    },
    {
      "cell_type": "code",
      "metadata": {
        "colab": {
          "base_uri": "https://localhost:8080/"
        },
        "id": "Ow667cozXBob",
        "outputId": "1881613f-4757-4704-f01a-a4c83a4e27b8"
      },
      "source": [
        "test_ids = encode_fn(test_data['sentence'].tolist())\n",
        "test_labels = torch.tensor(test_data['label'].tolist())\n",
        "testdataset = TensorDataset(test_ids, test_labels)\n",
        "\n",
        "# train_dataset, val_dataset = random_split(dataset, [train_size, val_size])\n",
        "\n",
        "# Create train and validation dataloaders\n",
        "# train_dataloader = DataLoader(train_dataset, batch_size = batch_size, shuffle = True)\n",
        "test_dataloader = DataLoader(testdataset, batch_size = batch_size, shuffle = False)"
      ],
      "execution_count": null,
      "outputs": [
        {
          "output_type": "stream",
          "text": [
            "/usr/local/lib/python3.6/dist-packages/transformers/tokenization_utils_base.py:2022: FutureWarning: The `pad_to_max_length` argument is deprecated and will be removed in a future version, use `padding=True` or `padding='longest'` to pad to the longest sequence in the batch, or use `padding='max_length'` to pad to a max length. In this case, you can give a specific length with `max_length` (e.g. `max_length=45`) or leave max_length to None to pad to the maximal input size of the model (e.g. 512 for Bert).\n",
            "  FutureWarning,\n"
          ],
          "name": "stderr"
        }
      ]
    },
    {
      "cell_type": "code",
      "metadata": {
        "colab": {
          "base_uri": "https://localhost:8080/"
        },
        "id": "7vWcboDGXBoc",
        "outputId": "a7cfe713-bc38-4de1-9455-05ee030d5232"
      },
      "source": [
        "labels_all = []\n",
        "pred_flat_all = []\n",
        "for i, batch in enumerate(test_dataloader):\n",
        "    with torch.no_grad():\n",
        "        loss, logits = model(batch[0].to(device), token_type_ids=None, attention_mask=(batch[0]>0).to(device), labels=batch[1].to(device))\n",
        "            \n",
        "        total_val_loss += loss.item()\n",
        "        \n",
        "        logits = logits.detach().cpu().numpy()\n",
        "        label_ids = batch[1].to('cpu').numpy()\n",
        "        labels_flat, pred_flat = flat_accuracy(logits, label_ids)\n",
        "        labels_all.extend(labels_flat)\n",
        "        pred_flat_all.extend(pred_flat)\n",
        "print(len(labels_all))\n",
        "print(len(pred_flat_all))"
      ],
      "execution_count": null,
      "outputs": [
        {
          "output_type": "stream",
          "text": [
            "10944\n",
            "10944\n"
          ],
          "name": "stdout"
        }
      ]
    },
    {
      "cell_type": "code",
      "metadata": {
        "colab": {
          "base_uri": "https://localhost:8080/"
        },
        "id": "OBB5-GnvXBoc",
        "outputId": "a1d5e70d-50ec-4af7-a4ef-7e6cce8b8971"
      },
      "source": [
        "avg_val_accuracy = accuracy_score(labels_all, pred_flat_all)\n",
        "avg_val_accuracy"
      ],
      "execution_count": null,
      "outputs": [
        {
          "output_type": "execute_result",
          "data": {
            "text/plain": [
              "0.8241045321637427"
            ]
          },
          "metadata": {
            "tags": []
          },
          "execution_count": 28
        }
      ]
    },
    {
      "cell_type": "code",
      "metadata": {
        "colab": {
          "base_uri": "https://localhost:8080/"
        },
        "id": "9KwziDdxXBoc",
        "outputId": "ca79b3e9-8901-45ca-ff4c-f2097b8bdadd"
      },
      "source": [
        "from sklearn.metrics import classification_report\n",
        "print(classification_report(y_true=labels_all,y_pred=pred_flat_all,digits=4))"
      ],
      "execution_count": null,
      "outputs": [
        {
          "output_type": "stream",
          "text": [
            "              precision    recall  f1-score   support\n",
            "\n",
            "           0     0.9176    0.8817    0.8993      9748\n",
            "           1     0.2689    0.3545    0.3058      1196\n",
            "\n",
            "    accuracy                         0.8241     10944\n",
            "   macro avg     0.5932    0.6181    0.6025     10944\n",
            "weighted avg     0.8467    0.8241    0.8344     10944\n",
            "\n"
          ],
          "name": "stdout"
        }
      ]
    },
    {
      "cell_type": "markdown",
      "metadata": {
        "id": "-sQL--9oaK4B"
      },
      "source": [
        "# evaluate on wassem dataset"
      ]
    },
    {
      "cell_type": "code",
      "metadata": {
        "id": "REEwKHBjaK4B"
      },
      "source": [
        "!pip install -U -q PyDrive\n",
        "from pydrive.auth import GoogleAuth\n",
        "from pydrive.drive import GoogleDrive\n",
        "from google.colab import auth\n",
        "from oauth2client.client import GoogleCredentials\n",
        "\n",
        "import pandas as pd\n",
        "\n",
        "\n",
        "# Authenticate and create the PyDrive client.\n",
        "auth.authenticate_user()\n",
        "gauth = GoogleAuth()\n",
        "gauth.credentials = GoogleCredentials.get_application_default()\n",
        "drive = GoogleDrive(gauth)\n",
        "# Download all three Microsoft BotBuilder Personality Chat Datasets on Google Colab virtual server\n",
        "# https://drive.google.com/file/d/10yi1MvU3lrlqyGLGZ0Ee7o4e72zEW4Fg/view?usp=sharing\n",
        "#chats.csv DOTA dataset 1.4 million\n",
        "# https://drive.google.com/file/d/1VALiNA_ruYl0jt66MBG7Eb_o3sWQIBqj/view?usp=sharing\n",
        "# https://drive.google.com/file/d/1-HsJ2w944FNCZPPiqYjV7Ip-2fmdNqz5/view?usp=sharing\n",
        "download_files = [\n",
        "          {'id':'1gNfBqguzBu8cHKMPc8C44GbvD443dNC5','file_name':'Wassem.csv'},\n",
        "          ]\n",
        "for entity in download_files:\n",
        "  id1 = entity['id']\n",
        "  downloaded = drive.CreateFile({'id':id1 }) \n",
        "  downloaded.GetContentFile(entity['file_name']) "
      ],
      "execution_count": null,
      "outputs": []
    },
    {
      "cell_type": "code",
      "metadata": {
        "id": "Y7XBCK_faK4B"
      },
      "source": [
        "import pandas as pd\n",
        "import numpy as np\n",
        "import matplotlib.pyplot as plt\n",
        "test_data = pd.read_csv(\"Wassem.csv\")"
      ],
      "execution_count": null,
      "outputs": []
    },
    {
      "cell_type": "code",
      "metadata": {
        "colab": {
          "base_uri": "https://localhost:8080/",
          "height": 204
        },
        "id": "DOPAAM-xaK4B",
        "outputId": "431c0714-1a9b-4667-8052-79499b9326d2"
      },
      "source": [
        "map_dict = {'racism':1,'sexism':1,'none':0}\n",
        "def map_to_binary(x):\n",
        "  return map_dict[x]\n",
        "test_data['Label'] = test_data['Label'].map(map_to_binary)\n",
        "test_data.head()"
      ],
      "execution_count": null,
      "outputs": [
        {
          "output_type": "execute_result",
          "data": {
            "text/html": [
              "<div>\n",
              "<style scoped>\n",
              "    .dataframe tbody tr th:only-of-type {\n",
              "        vertical-align: middle;\n",
              "    }\n",
              "\n",
              "    .dataframe tbody tr th {\n",
              "        vertical-align: top;\n",
              "    }\n",
              "\n",
              "    .dataframe thead th {\n",
              "        text-align: right;\n",
              "    }\n",
              "</style>\n",
              "<table border=\"1\" class=\"dataframe\">\n",
              "  <thead>\n",
              "    <tr style=\"text-align: right;\">\n",
              "      <th></th>\n",
              "      <th>Unnamed: 0</th>\n",
              "      <th>Tweet_ID</th>\n",
              "      <th>Previous</th>\n",
              "      <th>User_ID</th>\n",
              "      <th>Text</th>\n",
              "      <th>Label</th>\n",
              "    </tr>\n",
              "  </thead>\n",
              "  <tbody>\n",
              "    <tr>\n",
              "      <th>0</th>\n",
              "      <td>0</td>\n",
              "      <td>567080871472017408</td>\n",
              "      <td>5.670786e+17</td>\n",
              "      <td>2941145694</td>\n",
              "      <td>@truaemusic The followers of the religion give...</td>\n",
              "      <td>1</td>\n",
              "    </tr>\n",
              "    <tr>\n",
              "      <th>1</th>\n",
              "      <td>1</td>\n",
              "      <td>566098518616449024</td>\n",
              "      <td>5.660874e+17</td>\n",
              "      <td>2941145694</td>\n",
              "      <td>@Love___Egypt @washingtonpost All the land tha...</td>\n",
              "      <td>1</td>\n",
              "    </tr>\n",
              "    <tr>\n",
              "      <th>2</th>\n",
              "      <td>2</td>\n",
              "      <td>554672350361571328</td>\n",
              "      <td>NaN</td>\n",
              "      <td>2941145694</td>\n",
              "      <td>@CamilleHughes16 @edbarber101658 @_Watch_Obser...</td>\n",
              "      <td>1</td>\n",
              "    </tr>\n",
              "    <tr>\n",
              "      <th>3</th>\n",
              "      <td>3</td>\n",
              "      <td>569878129772081153</td>\n",
              "      <td>5.698451e+17</td>\n",
              "      <td>2941145694</td>\n",
              "      <td>@KellyTurner99 @brushyblues @buellerishere The...</td>\n",
              "      <td>1</td>\n",
              "    </tr>\n",
              "    <tr>\n",
              "      <th>4</th>\n",
              "      <td>4</td>\n",
              "      <td>568541747849998337</td>\n",
              "      <td>NaN</td>\n",
              "      <td>2941145694</td>\n",
              "      <td>@buellerishere Who cares. ISIS does what Moham...</td>\n",
              "      <td>1</td>\n",
              "    </tr>\n",
              "  </tbody>\n",
              "</table>\n",
              "</div>"
            ],
            "text/plain": [
              "   Unnamed: 0  ...  Label\n",
              "0           0  ...      1\n",
              "1           1  ...      1\n",
              "2           2  ...      1\n",
              "3           3  ...      1\n",
              "4           4  ...      1\n",
              "\n",
              "[5 rows x 6 columns]"
            ]
          },
          "metadata": {
            "tags": []
          },
          "execution_count": 32
        }
      ]
    },
    {
      "cell_type": "code",
      "metadata": {
        "colab": {
          "base_uri": "https://localhost:8080/"
        },
        "id": "Y8N0-0uJaK4B",
        "outputId": "ebdad167-66de-4de0-df3f-281fb1d0cd3a"
      },
      "source": [
        "test_ids = encode_fn(test_data['Text'].tolist())\n",
        "test_labels = torch.tensor(test_data['Label'].tolist())\n",
        "testdataset = TensorDataset(test_ids, test_labels)\n",
        "\n",
        "# train_dataset, val_dataset = random_split(dataset, [train_size, val_size])\n",
        "\n",
        "# Create train and validation dataloaders\n",
        "# train_dataloader = DataLoader(train_dataset, batch_size = batch_size, shuffle = True)\n",
        "test_dataloader = DataLoader(testdataset, batch_size = batch_size, shuffle = False)"
      ],
      "execution_count": null,
      "outputs": [
        {
          "output_type": "stream",
          "text": [
            "/usr/local/lib/python3.6/dist-packages/transformers/tokenization_utils_base.py:2022: FutureWarning: The `pad_to_max_length` argument is deprecated and will be removed in a future version, use `padding=True` or `padding='longest'` to pad to the longest sequence in the batch, or use `padding='max_length'` to pad to a max length. In this case, you can give a specific length with `max_length` (e.g. `max_length=45`) or leave max_length to None to pad to the maximal input size of the model (e.g. 512 for Bert).\n",
            "  FutureWarning,\n"
          ],
          "name": "stderr"
        }
      ]
    },
    {
      "cell_type": "code",
      "metadata": {
        "colab": {
          "base_uri": "https://localhost:8080/"
        },
        "id": "HaAqbQeeaK4C",
        "outputId": "15eb6853-11ec-42a8-a9f1-f09fad8bbaf5"
      },
      "source": [
        "labels_all = []\n",
        "pred_flat_all = []\n",
        "for i, batch in enumerate(test_dataloader):\n",
        "    with torch.no_grad():\n",
        "        loss, logits = model(batch[0].to(device), token_type_ids=None, attention_mask=(batch[0]>0).to(device), labels=batch[1].to(device))\n",
        "            \n",
        "        total_val_loss += loss.item()\n",
        "        \n",
        "        logits = logits.detach().cpu().numpy()\n",
        "        label_ids = batch[1].to('cpu').numpy()\n",
        "        labels_flat, pred_flat = flat_accuracy(logits, label_ids)\n",
        "        labels_all.extend(labels_flat)\n",
        "        pred_flat_all.extend(pred_flat)\n",
        "print(len(labels_all))\n",
        "print(len(pred_flat_all))"
      ],
      "execution_count": null,
      "outputs": [
        {
          "output_type": "stream",
          "text": [
            "16202\n",
            "16202\n"
          ],
          "name": "stdout"
        }
      ]
    },
    {
      "cell_type": "code",
      "metadata": {
        "colab": {
          "base_uri": "https://localhost:8080/"
        },
        "id": "HyE-5tuHaK4C",
        "outputId": "3f3647b8-7027-4c19-c7d6-0f0573df8155"
      },
      "source": [
        "avg_val_accuracy = accuracy_score(labels_all, pred_flat_all)\n",
        "avg_val_accuracy"
      ],
      "execution_count": null,
      "outputs": [
        {
          "output_type": "execute_result",
          "data": {
            "text/plain": [
              "0.6930625848660659"
            ]
          },
          "metadata": {
            "tags": []
          },
          "execution_count": 35
        }
      ]
    },
    {
      "cell_type": "code",
      "metadata": {
        "colab": {
          "base_uri": "https://localhost:8080/"
        },
        "id": "eBhZMKScaK4C",
        "outputId": "26a94fb4-086a-46d1-df0b-2777b4431c23"
      },
      "source": [
        "from sklearn.metrics import classification_report\n",
        "print(classification_report(y_true=labels_all,y_pred=pred_flat_all,digits=4))"
      ],
      "execution_count": null,
      "outputs": [
        {
          "output_type": "stream",
          "text": [
            "              precision    recall  f1-score   support\n",
            "\n",
            "           0     0.7075    0.9420    0.8081     11115\n",
            "           1     0.5406    0.1492    0.2339      5087\n",
            "\n",
            "    accuracy                         0.6931     16202\n",
            "   macro avg     0.6241    0.5456    0.5210     16202\n",
            "weighted avg     0.6551    0.6931    0.6278     16202\n",
            "\n"
          ],
          "name": "stdout"
        }
      ]
    },
    {
      "cell_type": "markdown",
      "metadata": {
        "id": "S1j7dlxQjjGG"
      },
      "source": [
        "# evaluate on 45k dota dataset"
      ]
    },
    {
      "cell_type": "code",
      "metadata": {
        "id": "OOoCMvdVikwx"
      },
      "source": [
        "!pip install -U -q PyDrive\r\n",
        "from pydrive.auth import GoogleAuth\r\n",
        "from pydrive.drive import GoogleDrive\r\n",
        "from google.colab import auth\r\n",
        "from oauth2client.client import GoogleCredentials\r\n",
        "\r\n",
        "import pandas as pd\r\n",
        "\r\n",
        "\r\n",
        "# Authenticate and create the PyDrive client.\r\n",
        "auth.authenticate_user()\r\n",
        "gauth = GoogleAuth()\r\n",
        "gauth.credentials = GoogleCredentials.get_application_default()\r\n",
        "drive = GoogleDrive(gauth)\r\n",
        "# Download all three Microsoft BotBuilder Personality Chat Datasets on Google Colab virtual server\r\n",
        "# https://drive.google.com/file/d/10yi1MvU3lrlqyGLGZ0Ee7o4e72zEW4Fg/view?usp=sharing\r\n",
        "#chats.csv DOTA dataset 1.4 million\r\n",
        "# https://drive.google.com/file/d/1VALiNA_ruYl0jt66MBG7Eb_o3sWQIBqj/view?usp=sharing\r\n",
        "# https://drive.google.com/file/d/1TJVC6VGiAqrMzNbh_-a70FWlR6zzLuvP/view?usp=sharing\r\n",
        "download_files = [\r\n",
        "          {'id':'1TJVC6VGiAqrMzNbh_-a70FWlR6zzLuvP','file_name':'45k_add_slot_label.csv'},\r\n",
        "          ]\r\n",
        "for entity in download_files:\r\n",
        "  id1 = entity['id']\r\n",
        "  downloaded = drive.CreateFile({'id':id1 }) \r\n",
        "  downloaded.GetContentFile(entity['file_name']) "
      ],
      "execution_count": null,
      "outputs": []
    },
    {
      "cell_type": "code",
      "metadata": {
        "colab": {
          "base_uri": "https://localhost:8080/",
          "height": 306
        },
        "id": "mq5NU7AGjjGJ",
        "outputId": "a2175471-7834-40fc-8b15-d59b4d39fb32"
      },
      "source": [
        "from sklearn.utils import shuffle\n",
        "import pandas as pd\n",
        "import numpy as np\n",
        "import matplotlib.pyplot as plt\n",
        "\n",
        "data = pd.read_csv(\"45k_add_slot_label.csv\")\n",
        "data.head()"
      ],
      "execution_count": null,
      "outputs": [
        {
          "output_type": "execute_result",
          "data": {
            "text/html": [
              "<div>\n",
              "<style scoped>\n",
              "    .dataframe tbody tr th:only-of-type {\n",
              "        vertical-align: middle;\n",
              "    }\n",
              "\n",
              "    .dataframe tbody tr th {\n",
              "        vertical-align: top;\n",
              "    }\n",
              "\n",
              "    .dataframe thead th {\n",
              "        text-align: right;\n",
              "    }\n",
              "</style>\n",
              "<table border=\"1\" class=\"dataframe\">\n",
              "  <thead>\n",
              "    <tr style=\"text-align: right;\">\n",
              "      <th></th>\n",
              "      <th>Unnamed: 0</th>\n",
              "      <th>match_id</th>\n",
              "      <th>conversation_id</th>\n",
              "      <th>utterance</th>\n",
              "      <th>time</th>\n",
              "      <th>slot</th>\n",
              "      <th>unit</th>\n",
              "      <th>Label</th>\n",
              "      <th>combined_annotation</th>\n",
              "      <th>final_label</th>\n",
              "      <th>review_label</th>\n",
              "      <th>word_level_data</th>\n",
              "      <th>slot_label</th>\n",
              "      <th>combined_annotation_version2</th>\n",
              "    </tr>\n",
              "  </thead>\n",
              "  <tbody>\n",
              "    <tr>\n",
              "      <th>0</th>\n",
              "      <td>0</td>\n",
              "      <td>0</td>\n",
              "      <td>0</td>\n",
              "      <td>force it</td>\n",
              "      <td>-8</td>\n",
              "      <td>6</td>\n",
              "      <td>6k Slayer</td>\n",
              "      <td>A</td>\n",
              "      <td>force (D), it (P),</td>\n",
              "      <td>A</td>\n",
              "      <td>NaN</td>\n",
              "      <td>force it</td>\n",
              "      <td>D P</td>\n",
              "      <td>force (D), it (P),</td>\n",
              "    </tr>\n",
              "    <tr>\n",
              "      <th>1</th>\n",
              "      <td>1</td>\n",
              "      <td>0</td>\n",
              "      <td>0</td>\n",
              "      <td>space created [SEPA] hah</td>\n",
              "      <td>5</td>\n",
              "      <td>1</td>\n",
              "      <td>Monkey</td>\n",
              "      <td>O</td>\n",
              "      <td>space (O), created (O), [SEPA] (SEPA), hah (O),</td>\n",
              "      <td>O</td>\n",
              "      <td>NaN</td>\n",
              "      <td>space created [SEPA] hah</td>\n",
              "      <td>O O SEPA O</td>\n",
              "      <td>space (O), created (O), [SEPA] (SEPA), hah (O),</td>\n",
              "    </tr>\n",
              "    <tr>\n",
              "      <th>2</th>\n",
              "      <td>2</td>\n",
              "      <td>0</td>\n",
              "      <td>0</td>\n",
              "      <td>ez 500</td>\n",
              "      <td>9</td>\n",
              "      <td>6</td>\n",
              "      <td>6k Slayer</td>\n",
              "      <td>I</td>\n",
              "      <td>ez (S), 500 (O),</td>\n",
              "      <td>I</td>\n",
              "      <td>NaN</td>\n",
              "      <td>ez 500</td>\n",
              "      <td>S O</td>\n",
              "      <td>ez (S), 500 (O),</td>\n",
              "    </tr>\n",
              "    <tr>\n",
              "      <th>3</th>\n",
              "      <td>3</td>\n",
              "      <td>0</td>\n",
              "      <td>1</td>\n",
              "      <td>mvp ulti</td>\n",
              "      <td>934</td>\n",
              "      <td>4</td>\n",
              "      <td>Kira</td>\n",
              "      <td>O</td>\n",
              "      <td>mvp (O), ulti (S),</td>\n",
              "      <td>O</td>\n",
              "      <td>NaN</td>\n",
              "      <td>mvp ulti</td>\n",
              "      <td>O S</td>\n",
              "      <td>mvp (O), ulti (S),</td>\n",
              "    </tr>\n",
              "    <tr>\n",
              "      <th>4</th>\n",
              "      <td>4</td>\n",
              "      <td>0</td>\n",
              "      <td>2</td>\n",
              "      <td>bye</td>\n",
              "      <td>1486</td>\n",
              "      <td>6</td>\n",
              "      <td>6k Slayer</td>\n",
              "      <td>O</td>\n",
              "      <td>bye (O),</td>\n",
              "      <td>O</td>\n",
              "      <td>NaN</td>\n",
              "      <td>bye</td>\n",
              "      <td>O</td>\n",
              "      <td>bye (O),</td>\n",
              "    </tr>\n",
              "  </tbody>\n",
              "</table>\n",
              "</div>"
            ],
            "text/plain": [
              "   Unnamed: 0  ...                      combined_annotation_version2\n",
              "0           0  ...                               force (D), it (P), \n",
              "1           1  ...  space (O), created (O), [SEPA] (SEPA), hah (O), \n",
              "2           2  ...                                 ez (S), 500 (O), \n",
              "3           3  ...                               mvp (O), ulti (S), \n",
              "4           4  ...                                         bye (O), \n",
              "\n",
              "[5 rows x 14 columns]"
            ]
          },
          "metadata": {
            "tags": []
          },
          "execution_count": 14
        }
      ]
    },
    {
      "cell_type": "code",
      "metadata": {
        "id": "V7Zy11fLjjGK"
      },
      "source": [
        "# import pandas as pd\n",
        "# import numpy as np\n",
        "# import matplotlib.pyplot as plt\n",
        "# colnames = ['1','2','3','utterance','4','5','6','Label','combined_annotation']\n",
        "# test_data = pd.read_csv(\"50K_Output.csv\",names=colnames, header=None)"
      ],
      "execution_count": null,
      "outputs": []
    },
    {
      "cell_type": "code",
      "metadata": {
        "colab": {
          "base_uri": "https://localhost:8080/",
          "height": 306
        },
        "id": "MTUFCT8ejjGK",
        "outputId": "0956d54d-11ba-4ded-f212-470355802f3b"
      },
      "source": [
        "test_data = data\n",
        "def map_to_binary(x):\n",
        "  if x=='E' or x =='I':\n",
        "    return 1\n",
        "  else:\n",
        "    return 0\n",
        "\n",
        "test_data['Label'] = test_data['final_label'].map(map_to_binary)\n",
        "test_data.head()"
      ],
      "execution_count": null,
      "outputs": [
        {
          "output_type": "execute_result",
          "data": {
            "text/html": [
              "<div>\n",
              "<style scoped>\n",
              "    .dataframe tbody tr th:only-of-type {\n",
              "        vertical-align: middle;\n",
              "    }\n",
              "\n",
              "    .dataframe tbody tr th {\n",
              "        vertical-align: top;\n",
              "    }\n",
              "\n",
              "    .dataframe thead th {\n",
              "        text-align: right;\n",
              "    }\n",
              "</style>\n",
              "<table border=\"1\" class=\"dataframe\">\n",
              "  <thead>\n",
              "    <tr style=\"text-align: right;\">\n",
              "      <th></th>\n",
              "      <th>Unnamed: 0</th>\n",
              "      <th>match_id</th>\n",
              "      <th>conversation_id</th>\n",
              "      <th>utterance</th>\n",
              "      <th>time</th>\n",
              "      <th>slot</th>\n",
              "      <th>unit</th>\n",
              "      <th>Label</th>\n",
              "      <th>combined_annotation</th>\n",
              "      <th>final_label</th>\n",
              "      <th>review_label</th>\n",
              "      <th>word_level_data</th>\n",
              "      <th>slot_label</th>\n",
              "      <th>combined_annotation_version2</th>\n",
              "    </tr>\n",
              "  </thead>\n",
              "  <tbody>\n",
              "    <tr>\n",
              "      <th>0</th>\n",
              "      <td>0</td>\n",
              "      <td>0</td>\n",
              "      <td>0</td>\n",
              "      <td>force it</td>\n",
              "      <td>-8</td>\n",
              "      <td>6</td>\n",
              "      <td>6k Slayer</td>\n",
              "      <td>0</td>\n",
              "      <td>force (D), it (P),</td>\n",
              "      <td>A</td>\n",
              "      <td>NaN</td>\n",
              "      <td>force it</td>\n",
              "      <td>D P</td>\n",
              "      <td>force (D), it (P),</td>\n",
              "    </tr>\n",
              "    <tr>\n",
              "      <th>1</th>\n",
              "      <td>1</td>\n",
              "      <td>0</td>\n",
              "      <td>0</td>\n",
              "      <td>space created [SEPA] hah</td>\n",
              "      <td>5</td>\n",
              "      <td>1</td>\n",
              "      <td>Monkey</td>\n",
              "      <td>0</td>\n",
              "      <td>space (O), created (O), [SEPA] (SEPA), hah (O),</td>\n",
              "      <td>O</td>\n",
              "      <td>NaN</td>\n",
              "      <td>space created [SEPA] hah</td>\n",
              "      <td>O O SEPA O</td>\n",
              "      <td>space (O), created (O), [SEPA] (SEPA), hah (O),</td>\n",
              "    </tr>\n",
              "    <tr>\n",
              "      <th>2</th>\n",
              "      <td>2</td>\n",
              "      <td>0</td>\n",
              "      <td>0</td>\n",
              "      <td>ez 500</td>\n",
              "      <td>9</td>\n",
              "      <td>6</td>\n",
              "      <td>6k Slayer</td>\n",
              "      <td>1</td>\n",
              "      <td>ez (S), 500 (O),</td>\n",
              "      <td>I</td>\n",
              "      <td>NaN</td>\n",
              "      <td>ez 500</td>\n",
              "      <td>S O</td>\n",
              "      <td>ez (S), 500 (O),</td>\n",
              "    </tr>\n",
              "    <tr>\n",
              "      <th>3</th>\n",
              "      <td>3</td>\n",
              "      <td>0</td>\n",
              "      <td>1</td>\n",
              "      <td>mvp ulti</td>\n",
              "      <td>934</td>\n",
              "      <td>4</td>\n",
              "      <td>Kira</td>\n",
              "      <td>0</td>\n",
              "      <td>mvp (O), ulti (S),</td>\n",
              "      <td>O</td>\n",
              "      <td>NaN</td>\n",
              "      <td>mvp ulti</td>\n",
              "      <td>O S</td>\n",
              "      <td>mvp (O), ulti (S),</td>\n",
              "    </tr>\n",
              "    <tr>\n",
              "      <th>4</th>\n",
              "      <td>4</td>\n",
              "      <td>0</td>\n",
              "      <td>2</td>\n",
              "      <td>bye</td>\n",
              "      <td>1486</td>\n",
              "      <td>6</td>\n",
              "      <td>6k Slayer</td>\n",
              "      <td>0</td>\n",
              "      <td>bye (O),</td>\n",
              "      <td>O</td>\n",
              "      <td>NaN</td>\n",
              "      <td>bye</td>\n",
              "      <td>O</td>\n",
              "      <td>bye (O),</td>\n",
              "    </tr>\n",
              "  </tbody>\n",
              "</table>\n",
              "</div>"
            ],
            "text/plain": [
              "   Unnamed: 0  ...                      combined_annotation_version2\n",
              "0           0  ...                               force (D), it (P), \n",
              "1           1  ...  space (O), created (O), [SEPA] (SEPA), hah (O), \n",
              "2           2  ...                                 ez (S), 500 (O), \n",
              "3           3  ...                               mvp (O), ulti (S), \n",
              "4           4  ...                                         bye (O), \n",
              "\n",
              "[5 rows x 14 columns]"
            ]
          },
          "metadata": {
            "tags": []
          },
          "execution_count": 16
        }
      ]
    },
    {
      "cell_type": "code",
      "metadata": {
        "colab": {
          "base_uri": "https://localhost:8080/",
          "height": 306
        },
        "id": "RJCnMOfEjjGL",
        "outputId": "893a5889-98ec-4ebc-8bb2-d637a58d8635"
      },
      "source": [
        "def str_context(x):\n",
        "  return str(x)\n",
        "\n",
        "test_data['utterance'] = test_data['utterance'].map(str_context)\n",
        "test_data.head()"
      ],
      "execution_count": null,
      "outputs": [
        {
          "output_type": "execute_result",
          "data": {
            "text/html": [
              "<div>\n",
              "<style scoped>\n",
              "    .dataframe tbody tr th:only-of-type {\n",
              "        vertical-align: middle;\n",
              "    }\n",
              "\n",
              "    .dataframe tbody tr th {\n",
              "        vertical-align: top;\n",
              "    }\n",
              "\n",
              "    .dataframe thead th {\n",
              "        text-align: right;\n",
              "    }\n",
              "</style>\n",
              "<table border=\"1\" class=\"dataframe\">\n",
              "  <thead>\n",
              "    <tr style=\"text-align: right;\">\n",
              "      <th></th>\n",
              "      <th>Unnamed: 0</th>\n",
              "      <th>match_id</th>\n",
              "      <th>conversation_id</th>\n",
              "      <th>utterance</th>\n",
              "      <th>time</th>\n",
              "      <th>slot</th>\n",
              "      <th>unit</th>\n",
              "      <th>Label</th>\n",
              "      <th>combined_annotation</th>\n",
              "      <th>final_label</th>\n",
              "      <th>review_label</th>\n",
              "      <th>word_level_data</th>\n",
              "      <th>slot_label</th>\n",
              "      <th>combined_annotation_version2</th>\n",
              "    </tr>\n",
              "  </thead>\n",
              "  <tbody>\n",
              "    <tr>\n",
              "      <th>0</th>\n",
              "      <td>0</td>\n",
              "      <td>0</td>\n",
              "      <td>0</td>\n",
              "      <td>force it</td>\n",
              "      <td>-8</td>\n",
              "      <td>6</td>\n",
              "      <td>6k Slayer</td>\n",
              "      <td>0</td>\n",
              "      <td>force (D), it (P),</td>\n",
              "      <td>A</td>\n",
              "      <td>NaN</td>\n",
              "      <td>force it</td>\n",
              "      <td>D P</td>\n",
              "      <td>force (D), it (P),</td>\n",
              "    </tr>\n",
              "    <tr>\n",
              "      <th>1</th>\n",
              "      <td>1</td>\n",
              "      <td>0</td>\n",
              "      <td>0</td>\n",
              "      <td>space created [SEPA] hah</td>\n",
              "      <td>5</td>\n",
              "      <td>1</td>\n",
              "      <td>Monkey</td>\n",
              "      <td>0</td>\n",
              "      <td>space (O), created (O), [SEPA] (SEPA), hah (O),</td>\n",
              "      <td>O</td>\n",
              "      <td>NaN</td>\n",
              "      <td>space created [SEPA] hah</td>\n",
              "      <td>O O SEPA O</td>\n",
              "      <td>space (O), created (O), [SEPA] (SEPA), hah (O),</td>\n",
              "    </tr>\n",
              "    <tr>\n",
              "      <th>2</th>\n",
              "      <td>2</td>\n",
              "      <td>0</td>\n",
              "      <td>0</td>\n",
              "      <td>ez 500</td>\n",
              "      <td>9</td>\n",
              "      <td>6</td>\n",
              "      <td>6k Slayer</td>\n",
              "      <td>1</td>\n",
              "      <td>ez (S), 500 (O),</td>\n",
              "      <td>I</td>\n",
              "      <td>NaN</td>\n",
              "      <td>ez 500</td>\n",
              "      <td>S O</td>\n",
              "      <td>ez (S), 500 (O),</td>\n",
              "    </tr>\n",
              "    <tr>\n",
              "      <th>3</th>\n",
              "      <td>3</td>\n",
              "      <td>0</td>\n",
              "      <td>1</td>\n",
              "      <td>mvp ulti</td>\n",
              "      <td>934</td>\n",
              "      <td>4</td>\n",
              "      <td>Kira</td>\n",
              "      <td>0</td>\n",
              "      <td>mvp (O), ulti (S),</td>\n",
              "      <td>O</td>\n",
              "      <td>NaN</td>\n",
              "      <td>mvp ulti</td>\n",
              "      <td>O S</td>\n",
              "      <td>mvp (O), ulti (S),</td>\n",
              "    </tr>\n",
              "    <tr>\n",
              "      <th>4</th>\n",
              "      <td>4</td>\n",
              "      <td>0</td>\n",
              "      <td>2</td>\n",
              "      <td>bye</td>\n",
              "      <td>1486</td>\n",
              "      <td>6</td>\n",
              "      <td>6k Slayer</td>\n",
              "      <td>0</td>\n",
              "      <td>bye (O),</td>\n",
              "      <td>O</td>\n",
              "      <td>NaN</td>\n",
              "      <td>bye</td>\n",
              "      <td>O</td>\n",
              "      <td>bye (O),</td>\n",
              "    </tr>\n",
              "  </tbody>\n",
              "</table>\n",
              "</div>"
            ],
            "text/plain": [
              "   Unnamed: 0  ...                      combined_annotation_version2\n",
              "0           0  ...                               force (D), it (P), \n",
              "1           1  ...  space (O), created (O), [SEPA] (SEPA), hah (O), \n",
              "2           2  ...                                 ez (S), 500 (O), \n",
              "3           3  ...                               mvp (O), ulti (S), \n",
              "4           4  ...                                         bye (O), \n",
              "\n",
              "[5 rows x 14 columns]"
            ]
          },
          "metadata": {
            "tags": []
          },
          "execution_count": 17
        }
      ]
    },
    {
      "cell_type": "code",
      "metadata": {
        "colab": {
          "base_uri": "https://localhost:8080/"
        },
        "id": "x_31O1mzjjGL",
        "outputId": "b38ad816-3ca8-4fe2-f4af-f7eba45cc2b4"
      },
      "source": [
        "test_ids = encode_fn(test_data['utterance'].tolist())\n",
        "test_labels = torch.tensor(test_data['Label'].tolist())\n",
        "testdataset = TensorDataset(test_ids, test_labels)\n",
        "\n",
        "# train_dataset, val_dataset = random_split(dataset, [train_size, val_size])\n",
        "\n",
        "# Create train and validation dataloaders\n",
        "# train_dataloader = DataLoader(train_dataset, batch_size = batch_size, shuffle = True)\n",
        "test_dataloader = DataLoader(testdataset, batch_size = batch_size, shuffle = False)"
      ],
      "execution_count": null,
      "outputs": [
        {
          "output_type": "stream",
          "text": [
            "/usr/local/lib/python3.6/dist-packages/transformers/tokenization_utils_base.py:2142: FutureWarning: The `pad_to_max_length` argument is deprecated and will be removed in a future version, use `padding=True` or `padding='longest'` to pad to the longest sequence in the batch, or use `padding='max_length'` to pad to a max length. In this case, you can give a specific length with `max_length` (e.g. `max_length=45`) or leave max_length to None to pad to the maximal input size of the model (e.g. 512 for Bert).\n",
            "  FutureWarning,\n"
          ],
          "name": "stderr"
        }
      ]
    },
    {
      "cell_type": "code",
      "metadata": {
        "colab": {
          "base_uri": "https://localhost:8080/"
        },
        "id": "sdx6FiczjjGL",
        "outputId": "bf105dad-8075-45d9-a7ec-55b3e1ac9a80"
      },
      "source": [
        "labels_all = []\n",
        "pred_flat_all = []\n",
        "for i, batch in enumerate(test_dataloader):\n",
        "    with torch.no_grad():\n",
        "        outputs = model(batch[0].to(device), token_type_ids=None, attention_mask=(batch[0]>0).to(device), labels=batch[1].to(device))\n",
        "        loss = outputs.loss\n",
        "        logits = outputs.logits\n",
        "            \n",
        "        total_val_loss += loss.item()\n",
        "        \n",
        "        logits = logits.detach().cpu().numpy()\n",
        "        label_ids = batch[1].to('cpu').numpy()\n",
        "        labels_flat, pred_flat = flat_accuracy(logits, label_ids)\n",
        "        labels_all.extend(labels_flat)\n",
        "        pred_flat_all.extend(pred_flat)\n",
        "print(len(labels_all))\n",
        "print(len(pred_flat_all))"
      ],
      "execution_count": null,
      "outputs": [
        {
          "output_type": "stream",
          "text": [
            "44869\n",
            "44869\n"
          ],
          "name": "stdout"
        }
      ]
    },
    {
      "cell_type": "code",
      "metadata": {
        "colab": {
          "base_uri": "https://localhost:8080/"
        },
        "id": "002hwBhujjGM",
        "outputId": "12f1fc8d-142e-4325-dcfc-74ddb111711e"
      },
      "source": [
        "avg_val_accuracy = accuracy_score(labels_all, pred_flat_all)\n",
        "avg_val_accuracy"
      ],
      "execution_count": null,
      "outputs": [
        {
          "output_type": "execute_result",
          "data": {
            "text/plain": [
              "0.8043192404555484"
            ]
          },
          "metadata": {
            "tags": []
          },
          "execution_count": 20
        }
      ]
    },
    {
      "cell_type": "code",
      "metadata": {
        "colab": {
          "base_uri": "https://localhost:8080/"
        },
        "id": "9sLDiStojjGM",
        "outputId": "b1ba357b-6ad0-4dd1-fc1a-8092ffd8301d"
      },
      "source": [
        "from sklearn.metrics import classification_report\n",
        "print(classification_report(y_true=labels_all,y_pred=pred_flat_all,digits=4))"
      ],
      "execution_count": null,
      "outputs": [
        {
          "output_type": "stream",
          "text": [
            "              precision    recall  f1-score   support\n",
            "\n",
            "           0     0.8355    0.9418    0.8855     36040\n",
            "           1     0.5058    0.2433    0.3285      8829\n",
            "\n",
            "    accuracy                         0.8043     44869\n",
            "   macro avg     0.6707    0.5925    0.6070     44869\n",
            "weighted avg     0.7706    0.8043    0.7759     44869\n",
            "\n"
          ],
          "name": "stdout"
        }
      ]
    }
  ]
}