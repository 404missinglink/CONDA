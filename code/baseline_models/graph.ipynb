{
  "nbformat": 4,
  "nbformat_minor": 0,
  "metadata": {
    "colab": {
      "name": "graph",
      "provenance": [],
      "toc_visible": true
    },
    "kernelspec": {
      "name": "python3",
      "display_name": "Python 3"
    }
  },
  "cells": [
    {
      "cell_type": "code",
      "metadata": {
        "id": "BicHYnT0mOfk"
      },
      "source": [
        "!pip install -U -q PyDrive\r\n",
        "from pydrive.auth import GoogleAuth\r\n",
        "from pydrive.drive import GoogleDrive\r\n",
        "from google.colab import auth\r\n",
        "from oauth2client.client import GoogleCredentials\r\n",
        "\r\n",
        "import pandas as pd\r\n",
        "\r\n",
        "\r\n",
        "# Authenticate and create the PyDrive client.\r\n",
        "auth.authenticate_user()\r\n",
        "gauth = GoogleAuth()\r\n",
        "gauth.credentials = GoogleCredentials.get_application_default()\r\n",
        "drive = GoogleDrive(gauth)\r\n",
        "# Download all three Microsoft BotBuilder Personality Chat Datasets on Google Colab virtual server\r\n",
        "# https://drive.google.com/file/d/1S0IXBJZXz13RQwlgkZ_FmypdOoAL1DpG/view?usp=sharing\r\n",
        "#chats.csv DOTA dataset 1.4 million\r\n",
        "download_files = [{'id':'1TJVC6VGiAqrMzNbh_-a70FWlR6zzLuvP','file_name':'45k_before_finalise.csv'},\r\n",
        "          {'id':'1S0IXBJZXz13RQwlgkZ_FmypdOoAL1DpG','file_name':'45k_final_version.csv'},\r\n",
        "          {'id':'1COTg4XC0fk1cVkw1eTi1cru--O-53Cei','file_name':'50k.csv'}, \r\n",
        "          {'id':'1n1cIwfqqUIYipKI6Gn8tVwS9XRNNYW8q','file_name':'chat.csv'}, \r\n",
        "          {'id':'1O0BtTfORAGKyWKCDl6A1d5WHEgp_uIEk','file_name':'2000_henry.csv'}, \r\n",
        "          {'id':'1fFqaz1TdR1JxJGlLHTtsiEF7ciA4Ao7W','file_name':'match_info.csv'}, \r\n",
        "          ]\r\n",
        "for entity in download_files:\r\n",
        "  id1 = entity['id']\r\n",
        "  downloaded = drive.CreateFile({'id':id1 }) \r\n",
        "  downloaded.GetContentFile(entity['file_name']) "
      ],
      "execution_count": null,
      "outputs": []
    },
    {
      "cell_type": "code",
      "metadata": {
        "colab": {
          "base_uri": "https://localhost:8080/",
          "height": 204
        },
        "id": "c1j5AaG_7iMb",
        "outputId": "145fb9ce-8f2b-4aaa-b29c-b6fc25d136e2"
      },
      "source": [
        "df_match_info = pd.read_csv('45k_final_version.csv')\r\n",
        "df_match_info.head()"
      ],
      "execution_count": null,
      "outputs": [
        {
          "output_type": "execute_result",
          "data": {
            "text/html": [
              "<div>\n",
              "<style scoped>\n",
              "    .dataframe tbody tr th:only-of-type {\n",
              "        vertical-align: middle;\n",
              "    }\n",
              "\n",
              "    .dataframe tbody tr th {\n",
              "        vertical-align: top;\n",
              "    }\n",
              "\n",
              "    .dataframe thead th {\n",
              "        text-align: right;\n",
              "    }\n",
              "</style>\n",
              "<table border=\"1\" class=\"dataframe\">\n",
              "  <thead>\n",
              "    <tr style=\"text-align: right;\">\n",
              "      <th></th>\n",
              "      <th>Unnamed: 0</th>\n",
              "      <th>match_id</th>\n",
              "      <th>conversation_id</th>\n",
              "      <th>utterance</th>\n",
              "      <th>time</th>\n",
              "      <th>slot</th>\n",
              "      <th>unit</th>\n",
              "      <th>utterance_label</th>\n",
              "      <th>slot_label</th>\n",
              "      <th>combined_annotation</th>\n",
              "    </tr>\n",
              "  </thead>\n",
              "  <tbody>\n",
              "    <tr>\n",
              "      <th>0</th>\n",
              "      <td>0</td>\n",
              "      <td>0</td>\n",
              "      <td>0</td>\n",
              "      <td>force it</td>\n",
              "      <td>-8</td>\n",
              "      <td>6</td>\n",
              "      <td>6k Slayer</td>\n",
              "      <td>A</td>\n",
              "      <td>D P</td>\n",
              "      <td>force (D), it (P),</td>\n",
              "    </tr>\n",
              "    <tr>\n",
              "      <th>1</th>\n",
              "      <td>1</td>\n",
              "      <td>0</td>\n",
              "      <td>0</td>\n",
              "      <td>space created [SEPA] hah</td>\n",
              "      <td>5</td>\n",
              "      <td>1</td>\n",
              "      <td>Monkey</td>\n",
              "      <td>O</td>\n",
              "      <td>O O SEPA O</td>\n",
              "      <td>space (O), created (O), [SEPA] (SEPA), hah (O),</td>\n",
              "    </tr>\n",
              "    <tr>\n",
              "      <th>2</th>\n",
              "      <td>2</td>\n",
              "      <td>0</td>\n",
              "      <td>0</td>\n",
              "      <td>ez 500</td>\n",
              "      <td>9</td>\n",
              "      <td>6</td>\n",
              "      <td>6k Slayer</td>\n",
              "      <td>I</td>\n",
              "      <td>S O</td>\n",
              "      <td>ez (S), 500 (O),</td>\n",
              "    </tr>\n",
              "    <tr>\n",
              "      <th>3</th>\n",
              "      <td>3</td>\n",
              "      <td>0</td>\n",
              "      <td>1</td>\n",
              "      <td>mvp ulti</td>\n",
              "      <td>934</td>\n",
              "      <td>4</td>\n",
              "      <td>Kira</td>\n",
              "      <td>O</td>\n",
              "      <td>O S</td>\n",
              "      <td>mvp (O), ulti (S),</td>\n",
              "    </tr>\n",
              "    <tr>\n",
              "      <th>4</th>\n",
              "      <td>4</td>\n",
              "      <td>0</td>\n",
              "      <td>2</td>\n",
              "      <td>bye</td>\n",
              "      <td>1486</td>\n",
              "      <td>6</td>\n",
              "      <td>6k Slayer</td>\n",
              "      <td>O</td>\n",
              "      <td>O</td>\n",
              "      <td>bye (O),</td>\n",
              "    </tr>\n",
              "  </tbody>\n",
              "</table>\n",
              "</div>"
            ],
            "text/plain": [
              "   Unnamed: 0  ...                               combined_annotation\n",
              "0           0  ...                               force (D), it (P), \n",
              "1           1  ...  space (O), created (O), [SEPA] (SEPA), hah (O), \n",
              "2           2  ...                                 ez (S), 500 (O), \n",
              "3           3  ...                               mvp (O), ulti (S), \n",
              "4           4  ...                                         bye (O), \n",
              "\n",
              "[5 rows x 10 columns]"
            ]
          },
          "metadata": {
            "tags": []
          },
          "execution_count": 7
        }
      ]
    },
    {
      "cell_type": "code",
      "metadata": {
        "colab": {
          "base_uri": "https://localhost:8080/",
          "height": 204
        },
        "id": "FPyQJydd7tkt",
        "outputId": "47a31078-8511-44df-c4d9-20a827362d08"
      },
      "source": [
        "df_match_info = df_match_info.rename(columns={'match_id':'matchId',\r\n",
        "                        'conversation_id':'conversationId',\r\n",
        "                        'utterance':'utterance',\r\n",
        "                        'time':'chatTime',\r\n",
        "                        'slot':'playerSlot',\r\n",
        "                        'unit':'playerId',\r\n",
        "                        'utterance_label':'intentClass',\r\n",
        "                        'slot_label':'slotClasses',\r\n",
        "                        'combined_annotation':'slotTokens',\r\n",
        "                        } )\r\n",
        "df_match_info.head()"
      ],
      "execution_count": null,
      "outputs": [
        {
          "output_type": "execute_result",
          "data": {
            "text/html": [
              "<div>\n",
              "<style scoped>\n",
              "    .dataframe tbody tr th:only-of-type {\n",
              "        vertical-align: middle;\n",
              "    }\n",
              "\n",
              "    .dataframe tbody tr th {\n",
              "        vertical-align: top;\n",
              "    }\n",
              "\n",
              "    .dataframe thead th {\n",
              "        text-align: right;\n",
              "    }\n",
              "</style>\n",
              "<table border=\"1\" class=\"dataframe\">\n",
              "  <thead>\n",
              "    <tr style=\"text-align: right;\">\n",
              "      <th></th>\n",
              "      <th>Unnamed: 0</th>\n",
              "      <th>matchId</th>\n",
              "      <th>conversationId</th>\n",
              "      <th>utterance</th>\n",
              "      <th>chatTime</th>\n",
              "      <th>playerSlot</th>\n",
              "      <th>playerId</th>\n",
              "      <th>intentClass</th>\n",
              "      <th>slotClasses</th>\n",
              "      <th>slotTokens</th>\n",
              "    </tr>\n",
              "  </thead>\n",
              "  <tbody>\n",
              "    <tr>\n",
              "      <th>0</th>\n",
              "      <td>0</td>\n",
              "      <td>0</td>\n",
              "      <td>0</td>\n",
              "      <td>force it</td>\n",
              "      <td>-8</td>\n",
              "      <td>6</td>\n",
              "      <td>6k Slayer</td>\n",
              "      <td>A</td>\n",
              "      <td>D P</td>\n",
              "      <td>force (D), it (P),</td>\n",
              "    </tr>\n",
              "    <tr>\n",
              "      <th>1</th>\n",
              "      <td>1</td>\n",
              "      <td>0</td>\n",
              "      <td>0</td>\n",
              "      <td>space created [SEPA] hah</td>\n",
              "      <td>5</td>\n",
              "      <td>1</td>\n",
              "      <td>Monkey</td>\n",
              "      <td>O</td>\n",
              "      <td>O O SEPA O</td>\n",
              "      <td>space (O), created (O), [SEPA] (SEPA), hah (O),</td>\n",
              "    </tr>\n",
              "    <tr>\n",
              "      <th>2</th>\n",
              "      <td>2</td>\n",
              "      <td>0</td>\n",
              "      <td>0</td>\n",
              "      <td>ez 500</td>\n",
              "      <td>9</td>\n",
              "      <td>6</td>\n",
              "      <td>6k Slayer</td>\n",
              "      <td>I</td>\n",
              "      <td>S O</td>\n",
              "      <td>ez (S), 500 (O),</td>\n",
              "    </tr>\n",
              "    <tr>\n",
              "      <th>3</th>\n",
              "      <td>3</td>\n",
              "      <td>0</td>\n",
              "      <td>1</td>\n",
              "      <td>mvp ulti</td>\n",
              "      <td>934</td>\n",
              "      <td>4</td>\n",
              "      <td>Kira</td>\n",
              "      <td>O</td>\n",
              "      <td>O S</td>\n",
              "      <td>mvp (O), ulti (S),</td>\n",
              "    </tr>\n",
              "    <tr>\n",
              "      <th>4</th>\n",
              "      <td>4</td>\n",
              "      <td>0</td>\n",
              "      <td>2</td>\n",
              "      <td>bye</td>\n",
              "      <td>1486</td>\n",
              "      <td>6</td>\n",
              "      <td>6k Slayer</td>\n",
              "      <td>O</td>\n",
              "      <td>O</td>\n",
              "      <td>bye (O),</td>\n",
              "    </tr>\n",
              "  </tbody>\n",
              "</table>\n",
              "</div>"
            ],
            "text/plain": [
              "   Unnamed: 0  ...                                        slotTokens\n",
              "0           0  ...                               force (D), it (P), \n",
              "1           1  ...  space (O), created (O), [SEPA] (SEPA), hah (O), \n",
              "2           2  ...                                 ez (S), 500 (O), \n",
              "3           3  ...                               mvp (O), ulti (S), \n",
              "4           4  ...                                         bye (O), \n",
              "\n",
              "[5 rows x 10 columns]"
            ]
          },
          "metadata": {
            "tags": []
          },
          "execution_count": 8
        }
      ]
    },
    {
      "cell_type": "code",
      "metadata": {
        "colab": {
          "base_uri": "https://localhost:8080/",
          "height": 204
        },
        "id": "5gLt8z38_kP7",
        "outputId": "bfcb8acf-d8a5-4790-f620-a8887d242286"
      },
      "source": [
        "df_match_info = df_match_info.drop(['Unnamed: 0'], axis=1)\r\n",
        "df_match_info.head()"
      ],
      "execution_count": null,
      "outputs": [
        {
          "output_type": "execute_result",
          "data": {
            "text/html": [
              "<div>\n",
              "<style scoped>\n",
              "    .dataframe tbody tr th:only-of-type {\n",
              "        vertical-align: middle;\n",
              "    }\n",
              "\n",
              "    .dataframe tbody tr th {\n",
              "        vertical-align: top;\n",
              "    }\n",
              "\n",
              "    .dataframe thead th {\n",
              "        text-align: right;\n",
              "    }\n",
              "</style>\n",
              "<table border=\"1\" class=\"dataframe\">\n",
              "  <thead>\n",
              "    <tr style=\"text-align: right;\">\n",
              "      <th></th>\n",
              "      <th>matchId</th>\n",
              "      <th>conversationId</th>\n",
              "      <th>utterance</th>\n",
              "      <th>chatTime</th>\n",
              "      <th>playerSlot</th>\n",
              "      <th>playerId</th>\n",
              "      <th>intentClass</th>\n",
              "      <th>slotClasses</th>\n",
              "      <th>slotTokens</th>\n",
              "    </tr>\n",
              "  </thead>\n",
              "  <tbody>\n",
              "    <tr>\n",
              "      <th>0</th>\n",
              "      <td>0</td>\n",
              "      <td>0</td>\n",
              "      <td>force it</td>\n",
              "      <td>-8</td>\n",
              "      <td>6</td>\n",
              "      <td>6k Slayer</td>\n",
              "      <td>A</td>\n",
              "      <td>D P</td>\n",
              "      <td>force (D), it (P),</td>\n",
              "    </tr>\n",
              "    <tr>\n",
              "      <th>1</th>\n",
              "      <td>0</td>\n",
              "      <td>0</td>\n",
              "      <td>space created [SEPA] hah</td>\n",
              "      <td>5</td>\n",
              "      <td>1</td>\n",
              "      <td>Monkey</td>\n",
              "      <td>O</td>\n",
              "      <td>O O SEPA O</td>\n",
              "      <td>space (O), created (O), [SEPA] (SEPA), hah (O),</td>\n",
              "    </tr>\n",
              "    <tr>\n",
              "      <th>2</th>\n",
              "      <td>0</td>\n",
              "      <td>0</td>\n",
              "      <td>ez 500</td>\n",
              "      <td>9</td>\n",
              "      <td>6</td>\n",
              "      <td>6k Slayer</td>\n",
              "      <td>I</td>\n",
              "      <td>S O</td>\n",
              "      <td>ez (S), 500 (O),</td>\n",
              "    </tr>\n",
              "    <tr>\n",
              "      <th>3</th>\n",
              "      <td>0</td>\n",
              "      <td>1</td>\n",
              "      <td>mvp ulti</td>\n",
              "      <td>934</td>\n",
              "      <td>4</td>\n",
              "      <td>Kira</td>\n",
              "      <td>O</td>\n",
              "      <td>O S</td>\n",
              "      <td>mvp (O), ulti (S),</td>\n",
              "    </tr>\n",
              "    <tr>\n",
              "      <th>4</th>\n",
              "      <td>0</td>\n",
              "      <td>2</td>\n",
              "      <td>bye</td>\n",
              "      <td>1486</td>\n",
              "      <td>6</td>\n",
              "      <td>6k Slayer</td>\n",
              "      <td>O</td>\n",
              "      <td>O</td>\n",
              "      <td>bye (O),</td>\n",
              "    </tr>\n",
              "  </tbody>\n",
              "</table>\n",
              "</div>"
            ],
            "text/plain": [
              "   matchId  ...                                        slotTokens\n",
              "0        0  ...                               force (D), it (P), \n",
              "1        0  ...  space (O), created (O), [SEPA] (SEPA), hah (O), \n",
              "2        0  ...                                 ez (S), 500 (O), \n",
              "3        0  ...                               mvp (O), ulti (S), \n",
              "4        0  ...                                         bye (O), \n",
              "\n",
              "[5 rows x 9 columns]"
            ]
          },
          "metadata": {
            "tags": []
          },
          "execution_count": 9
        }
      ]
    },
    {
      "cell_type": "code",
      "metadata": {
        "id": "XnS4diDm_rKV"
      },
      "source": [
        "df_match_info.to_csv('45k_final_version_fix_column_name.csv')"
      ],
      "execution_count": null,
      "outputs": []
    },
    {
      "cell_type": "markdown",
      "metadata": {
        "id": "jszWc-Nc1--G"
      },
      "source": [
        "# graph for x: duration of matches y: merged number of utterance"
      ]
    },
    {
      "cell_type": "markdown",
      "metadata": {
        "id": "tkloz68M2JXa"
      },
      "source": [
        "## get all match duration dict"
      ]
    },
    {
      "cell_type": "code",
      "metadata": {
        "colab": {
          "base_uri": "https://localhost:8080/",
          "height": 224
        },
        "id": "Lu437cDG2FzX",
        "outputId": "3f506f29-0c8f-468e-8581-3bb25ed5c38b"
      },
      "source": [
        "df_match_info = pd.read_csv('match_info.csv')\r\n",
        "df_match_info.head()"
      ],
      "execution_count": null,
      "outputs": [
        {
          "output_type": "execute_result",
          "data": {
            "text/html": [
              "<div>\n",
              "<style scoped>\n",
              "    .dataframe tbody tr th:only-of-type {\n",
              "        vertical-align: middle;\n",
              "    }\n",
              "\n",
              "    .dataframe tbody tr th {\n",
              "        vertical-align: top;\n",
              "    }\n",
              "\n",
              "    .dataframe thead th {\n",
              "        text-align: right;\n",
              "    }\n",
              "</style>\n",
              "<table border=\"1\" class=\"dataframe\">\n",
              "  <thead>\n",
              "    <tr style=\"text-align: right;\">\n",
              "      <th></th>\n",
              "      <th>match_id</th>\n",
              "      <th>start_time</th>\n",
              "      <th>duration</th>\n",
              "      <th>tower_status_radiant</th>\n",
              "      <th>tower_status_dire</th>\n",
              "      <th>barracks_status_dire</th>\n",
              "      <th>barracks_status_radiant</th>\n",
              "      <th>first_blood_time</th>\n",
              "      <th>game_mode</th>\n",
              "      <th>radiant_win</th>\n",
              "      <th>negative_votes</th>\n",
              "      <th>positive_votes</th>\n",
              "      <th>cluster</th>\n",
              "    </tr>\n",
              "  </thead>\n",
              "  <tbody>\n",
              "    <tr>\n",
              "      <th>0</th>\n",
              "      <td>0</td>\n",
              "      <td>1446750112</td>\n",
              "      <td>2375</td>\n",
              "      <td>1982</td>\n",
              "      <td>4</td>\n",
              "      <td>3</td>\n",
              "      <td>63</td>\n",
              "      <td>1</td>\n",
              "      <td>22</td>\n",
              "      <td>True</td>\n",
              "      <td>0</td>\n",
              "      <td>1</td>\n",
              "      <td>155</td>\n",
              "    </tr>\n",
              "    <tr>\n",
              "      <th>1</th>\n",
              "      <td>1</td>\n",
              "      <td>1446753078</td>\n",
              "      <td>2582</td>\n",
              "      <td>0</td>\n",
              "      <td>1846</td>\n",
              "      <td>63</td>\n",
              "      <td>0</td>\n",
              "      <td>221</td>\n",
              "      <td>22</td>\n",
              "      <td>False</td>\n",
              "      <td>0</td>\n",
              "      <td>2</td>\n",
              "      <td>154</td>\n",
              "    </tr>\n",
              "    <tr>\n",
              "      <th>2</th>\n",
              "      <td>2</td>\n",
              "      <td>1446764586</td>\n",
              "      <td>2716</td>\n",
              "      <td>256</td>\n",
              "      <td>1972</td>\n",
              "      <td>63</td>\n",
              "      <td>48</td>\n",
              "      <td>190</td>\n",
              "      <td>22</td>\n",
              "      <td>False</td>\n",
              "      <td>0</td>\n",
              "      <td>0</td>\n",
              "      <td>132</td>\n",
              "    </tr>\n",
              "    <tr>\n",
              "      <th>3</th>\n",
              "      <td>3</td>\n",
              "      <td>1446765723</td>\n",
              "      <td>3085</td>\n",
              "      <td>4</td>\n",
              "      <td>1924</td>\n",
              "      <td>51</td>\n",
              "      <td>3</td>\n",
              "      <td>40</td>\n",
              "      <td>22</td>\n",
              "      <td>False</td>\n",
              "      <td>0</td>\n",
              "      <td>0</td>\n",
              "      <td>191</td>\n",
              "    </tr>\n",
              "    <tr>\n",
              "      <th>4</th>\n",
              "      <td>4</td>\n",
              "      <td>1446796385</td>\n",
              "      <td>1887</td>\n",
              "      <td>2047</td>\n",
              "      <td>0</td>\n",
              "      <td>0</td>\n",
              "      <td>63</td>\n",
              "      <td>58</td>\n",
              "      <td>22</td>\n",
              "      <td>True</td>\n",
              "      <td>0</td>\n",
              "      <td>0</td>\n",
              "      <td>156</td>\n",
              "    </tr>\n",
              "  </tbody>\n",
              "</table>\n",
              "</div>"
            ],
            "text/plain": [
              "   match_id  start_time  duration  ...  negative_votes  positive_votes  cluster\n",
              "0         0  1446750112      2375  ...               0               1      155\n",
              "1         1  1446753078      2582  ...               0               2      154\n",
              "2         2  1446764586      2716  ...               0               0      132\n",
              "3         3  1446765723      3085  ...               0               0      191\n",
              "4         4  1446796385      1887  ...               0               0      156\n",
              "\n",
              "[5 rows x 13 columns]"
            ]
          },
          "metadata": {
            "tags": []
          },
          "execution_count": 2
        }
      ]
    },
    {
      "cell_type": "code",
      "metadata": {
        "id": "0N-wGVVd2Sg3"
      },
      "source": [
        "match_duration_dict = {}\r\n",
        "for index, row in df_match_info.iterrows():\r\n",
        "  match_duration_dict[row['match_id']] = row['duration']\r\n",
        "# match_duration_dict"
      ],
      "execution_count": null,
      "outputs": []
    },
    {
      "cell_type": "markdown",
      "metadata": {
        "id": "BB0UhV2NXjL_"
      },
      "source": [
        "# get average utterance label on which duration data"
      ]
    },
    {
      "cell_type": "code",
      "metadata": {
        "colab": {
          "base_uri": "https://localhost:8080/",
          "height": 289
        },
        "id": "-YPDRkc1Xmz2",
        "outputId": "17cbb40c-d1dd-45fe-e24b-945648eb2643"
      },
      "source": [
        "import pandas as pd\r\n",
        "ori_dataset = pd.read_csv('45k_before_finalise.csv')\r\n",
        "ori_dataset.head()"
      ],
      "execution_count": null,
      "outputs": [
        {
          "output_type": "execute_result",
          "data": {
            "text/html": [
              "<div>\n",
              "<style scoped>\n",
              "    .dataframe tbody tr th:only-of-type {\n",
              "        vertical-align: middle;\n",
              "    }\n",
              "\n",
              "    .dataframe tbody tr th {\n",
              "        vertical-align: top;\n",
              "    }\n",
              "\n",
              "    .dataframe thead th {\n",
              "        text-align: right;\n",
              "    }\n",
              "</style>\n",
              "<table border=\"1\" class=\"dataframe\">\n",
              "  <thead>\n",
              "    <tr style=\"text-align: right;\">\n",
              "      <th></th>\n",
              "      <th>Unnamed: 0</th>\n",
              "      <th>match_id</th>\n",
              "      <th>conversation_id</th>\n",
              "      <th>utterance</th>\n",
              "      <th>time</th>\n",
              "      <th>slot</th>\n",
              "      <th>unit</th>\n",
              "      <th>Label</th>\n",
              "      <th>combined_annotation</th>\n",
              "      <th>final_label</th>\n",
              "      <th>review_label</th>\n",
              "      <th>word_level_data</th>\n",
              "      <th>slot_label</th>\n",
              "      <th>combined_annotation_version2</th>\n",
              "    </tr>\n",
              "  </thead>\n",
              "  <tbody>\n",
              "    <tr>\n",
              "      <th>0</th>\n",
              "      <td>0</td>\n",
              "      <td>0</td>\n",
              "      <td>0</td>\n",
              "      <td>force it</td>\n",
              "      <td>-8</td>\n",
              "      <td>6</td>\n",
              "      <td>6k Slayer</td>\n",
              "      <td>A</td>\n",
              "      <td>force (D), it (P),</td>\n",
              "      <td>A</td>\n",
              "      <td>NaN</td>\n",
              "      <td>force it</td>\n",
              "      <td>D P</td>\n",
              "      <td>force (D), it (P),</td>\n",
              "    </tr>\n",
              "    <tr>\n",
              "      <th>1</th>\n",
              "      <td>1</td>\n",
              "      <td>0</td>\n",
              "      <td>0</td>\n",
              "      <td>space created [SEPA] hah</td>\n",
              "      <td>5</td>\n",
              "      <td>1</td>\n",
              "      <td>Monkey</td>\n",
              "      <td>O</td>\n",
              "      <td>space (O), created (O), [SEPA] (SEPA), hah (O),</td>\n",
              "      <td>O</td>\n",
              "      <td>NaN</td>\n",
              "      <td>space created [SEPA] hah</td>\n",
              "      <td>O O SEPA O</td>\n",
              "      <td>space (O), created (O), [SEPA] (SEPA), hah (O),</td>\n",
              "    </tr>\n",
              "    <tr>\n",
              "      <th>2</th>\n",
              "      <td>2</td>\n",
              "      <td>0</td>\n",
              "      <td>0</td>\n",
              "      <td>ez 500</td>\n",
              "      <td>9</td>\n",
              "      <td>6</td>\n",
              "      <td>6k Slayer</td>\n",
              "      <td>I</td>\n",
              "      <td>ez (S), 500 (O),</td>\n",
              "      <td>I</td>\n",
              "      <td>NaN</td>\n",
              "      <td>ez 500</td>\n",
              "      <td>S O</td>\n",
              "      <td>ez (S), 500 (O),</td>\n",
              "    </tr>\n",
              "    <tr>\n",
              "      <th>3</th>\n",
              "      <td>3</td>\n",
              "      <td>0</td>\n",
              "      <td>1</td>\n",
              "      <td>mvp ulti</td>\n",
              "      <td>934</td>\n",
              "      <td>4</td>\n",
              "      <td>Kira</td>\n",
              "      <td>O</td>\n",
              "      <td>mvp (O), ulti (S),</td>\n",
              "      <td>O</td>\n",
              "      <td>NaN</td>\n",
              "      <td>mvp ulti</td>\n",
              "      <td>O S</td>\n",
              "      <td>mvp (O), ulti (S),</td>\n",
              "    </tr>\n",
              "    <tr>\n",
              "      <th>4</th>\n",
              "      <td>4</td>\n",
              "      <td>0</td>\n",
              "      <td>2</td>\n",
              "      <td>bye</td>\n",
              "      <td>1486</td>\n",
              "      <td>6</td>\n",
              "      <td>6k Slayer</td>\n",
              "      <td>O</td>\n",
              "      <td>bye (O),</td>\n",
              "      <td>O</td>\n",
              "      <td>NaN</td>\n",
              "      <td>bye</td>\n",
              "      <td>O</td>\n",
              "      <td>bye (O),</td>\n",
              "    </tr>\n",
              "  </tbody>\n",
              "</table>\n",
              "</div>"
            ],
            "text/plain": [
              "   Unnamed: 0  ...                      combined_annotation_version2\n",
              "0           0  ...                               force (D), it (P), \n",
              "1           1  ...  space (O), created (O), [SEPA] (SEPA), hah (O), \n",
              "2           2  ...                                 ez (S), 500 (O), \n",
              "3           3  ...                               mvp (O), ulti (S), \n",
              "4           4  ...                                         bye (O), \n",
              "\n",
              "[5 rows x 14 columns]"
            ]
          },
          "metadata": {
            "tags": []
          },
          "execution_count": 25
        }
      ]
    },
    {
      "cell_type": "code",
      "metadata": {
        "colab": {
          "base_uri": "https://localhost:8080/"
        },
        "id": "3HcpggSwlqvp",
        "outputId": "a1541d38-ff61-49a7-cf44-5b82029c7753"
      },
      "source": [
        "match_total_num = len(set(ori_dataset['match_id'].tolist()))\r\n",
        "match_total_num"
      ],
      "execution_count": null,
      "outputs": [
        {
          "output_type": "execute_result",
          "data": {
            "text/plain": [
              "1921"
            ]
          },
          "metadata": {
            "tags": []
          },
          "execution_count": 27
        }
      ]
    },
    {
      "cell_type": "code",
      "metadata": {
        "id": "ZtZoIdO0Xmz8"
      },
      "source": [
        "label1 = 'I'\r\n",
        "duration_list_for_label1 = []\r\n",
        "for index, row in ori_dataset.iterrows():\r\n",
        "  label = row['final_label']\r\n",
        "  if label != label1:\r\n",
        "    continue\r\n",
        "  match_id = row['match_id']\r\n",
        "  assert match_id in match_duration_dict\r\n",
        "  duration_match = match_duration_dict[match_id]\r\n",
        "  if row['time'] > duration_match:\r\n",
        "    duration_list_for_label1.append(1)\r\n",
        "  elif row['time']<= 0:\r\n",
        "    duration_list_for_label1.append(0)\r\n",
        "  else:\r\n",
        "    duration_list_for_label1.append(row['time']/duration_match)\r\n",
        "# duration_list"
      ],
      "execution_count": null,
      "outputs": []
    },
    {
      "cell_type": "code",
      "metadata": {
        "id": "Q0Yf7bFMmZnW"
      },
      "source": [
        "weights_label1 = [1/match_total_num for i in range(len(duration_list_for_label1))]"
      ],
      "execution_count": null,
      "outputs": []
    },
    {
      "cell_type": "code",
      "metadata": {
        "id": "_VbCR3nRXmz9"
      },
      "source": [
        "label2 = 'E'\r\n",
        "duration_list_for_label2 = []\r\n",
        "for index, row in ori_dataset.iterrows():\r\n",
        "  label = row['final_label']\r\n",
        "  if label != label2:\r\n",
        "    continue\r\n",
        "  match_id = row['match_id']\r\n",
        "  assert match_id in match_duration_dict\r\n",
        "  duration_match = match_duration_dict[match_id]\r\n",
        "  if row['time'] > duration_match:\r\n",
        "    duration_list_for_label2.append(1)\r\n",
        "  elif row['time']<= 0:\r\n",
        "    duration_list_for_label2.append(0)\r\n",
        "  else:\r\n",
        "    duration_list_for_label2.append(row['time']/duration_match)\r\n",
        "# duration_list"
      ],
      "execution_count": null,
      "outputs": []
    },
    {
      "cell_type": "code",
      "metadata": {
        "colab": {
          "base_uri": "https://localhost:8080/"
        },
        "id": "TvTeDhMDmo6t",
        "outputId": "4a580b92-87cb-441c-f3f7-be9a2ad82c12"
      },
      "source": [
        "len(duration_list_for_label2)"
      ],
      "execution_count": null,
      "outputs": [
        {
          "output_type": "execute_result",
          "data": {
            "text/plain": [
              "5952"
            ]
          },
          "metadata": {
            "tags": []
          },
          "execution_count": 34
        }
      ]
    },
    {
      "cell_type": "code",
      "metadata": {
        "id": "_60Hfz6OmBHh"
      },
      "source": [
        "weights_label2 = [1/match_total_num for i in range(len(duration_list_for_label2))]"
      ],
      "execution_count": null,
      "outputs": []
    },
    {
      "cell_type": "code",
      "metadata": {
        "colab": {
          "base_uri": "https://localhost:8080/",
          "height": 279
        },
        "id": "K-uIq3huXmz9",
        "outputId": "376ca73c-742f-408f-9930-1d9661eba72f"
      },
      "source": [
        "import matplotlib.pyplot as plt\r\n",
        "plt.hist(duration_list_for_label1,bins=[i/100 for i in range(0,100)],range=(0,1),edgecolor=\"green\",histtype='step',label='I', weights =weights_label1 )\r\n",
        "plt.hist(duration_list_for_label2,bins=[i/100 for i in range(0,100)],range=(0,1),edgecolor=\"red\",histtype='step',label='E', weights =weights_label2)\r\n",
        "plt.legend(loc='best')\r\n",
        "plt.xlabel('Duration of matches (normalized)')\r\n",
        "plt.ylabel('Merged number of utterance')\r\n",
        "plt.show()"
      ],
      "execution_count": null,
      "outputs": [
        {
          "output_type": "display_data",
          "data": {
            "image/png": "[encoded data removed]",
            "text/plain": [
              "<Figure size 432x288 with 1 Axes>"
            ]
          },
          "metadata": {
            "tags": [],
            "needs_background": "light"
          }
        }
      ]
    },
    {
      "cell_type": "markdown",
      "metadata": {
        "id": "LFGdJt9UgRfY"
      },
      "source": [
        "# get utterance label on which duration data time = first msg - last msg"
      ]
    },
    {
      "cell_type": "code",
      "metadata": {
        "id": "vrhsKh2zgU_-"
      },
      "source": [
        "import pandas as pd\r\n",
        "ori_dataset = pd.read_csv('45k_before_finalise.csv')\r\n",
        "ori_dataset.head()"
      ],
      "execution_count": null,
      "outputs": []
    },
    {
      "cell_type": "code",
      "metadata": {
        "id": "Bnbg0FLIgXgD"
      },
      "source": [
        "match_time_min_max_dict = {}\r\n",
        "for index, row in ori_dataset.iterrows():\r\n",
        "  if row['match_id'] in match_time_min_max_dict:\r\n",
        "    min_time, max_time, total_time = match_time_min_max_dict[row['match_id']]\r\n",
        "    assert row['time'] >= max_time\r\n",
        "    match_time_min_max_dict[row['match_id']] = min_time, row['time'], row['time']-min_time\r\n",
        "  else:\r\n",
        "    match_time_min_max_dict[row['match_id']] = row['time'], row['time'], 0\r\n",
        "match_time_min_max_dict"
      ],
      "execution_count": null,
      "outputs": []
    },
    {
      "cell_type": "code",
      "metadata": {
        "id": "G46jaYGPiMLZ"
      },
      "source": [
        "label1 = 'I'\r\n",
        "duration_list_for_label1 = []\r\n",
        "for index, row in ori_dataset.iterrows():\r\n",
        "  label = row['final_label']\r\n",
        "  if label != label1:\r\n",
        "    continue\r\n",
        "  match_id = row['match_id']\r\n",
        "  assert match_id in match_time_min_max_dict\r\n",
        "  min_time,_,total_time = match_time_min_max_dict[match_id]\r\n",
        "  if total_time == 0:\r\n",
        "    continue\r\n",
        "  duration_list_for_label1.append((row['time']-min_time)/total_time)\r\n",
        "duration_list_for_label1"
      ],
      "execution_count": null,
      "outputs": []
    },
    {
      "cell_type": "code",
      "metadata": {
        "id": "DeiuhzMbij1W"
      },
      "source": [
        "label2 = 'E'\r\n",
        "duration_list_for_label2 = []\r\n",
        "for index, row in ori_dataset.iterrows():\r\n",
        "  label = row['final_label']\r\n",
        "  if label != label2:\r\n",
        "    continue\r\n",
        "  match_id = row['match_id']\r\n",
        "  assert match_id in match_time_min_max_dict\r\n",
        "  min_time,_,total_time = match_time_min_max_dict[match_id]\r\n",
        "  if total_time == 0:\r\n",
        "    continue\r\n",
        "  duration_list_for_label2.append((row['time']-min_time)/total_time)\r\n",
        "# duration_list"
      ],
      "execution_count": null,
      "outputs": []
    },
    {
      "cell_type": "code",
      "metadata": {
        "colab": {
          "base_uri": "https://localhost:8080/",
          "height": 279
        },
        "id": "o-kdslk2jXlC",
        "outputId": "0abb54e5-ac3f-48ff-b40e-d867349413e3"
      },
      "source": [
        "import matplotlib.pyplot as plt\r\n",
        "plt.hist(duration_list_for_label1,bins=[i/100 for i in range(0,100)],range=(0,1),edgecolor=\"green\",histtype='step',label='I')\r\n",
        "plt.hist(duration_list_for_label2,bins=[i/100 for i in range(0,100)],range=(0,1),edgecolor=\"red\",histtype='step',label='E')\r\n",
        "plt.legend(loc='best')\r\n",
        "plt.xlabel('Duration of matches (normalized)')\r\n",
        "plt.ylabel('Merged number of utterance')\r\n",
        "plt.show()"
      ],
      "execution_count": null,
      "outputs": [
        {
          "output_type": "display_data",
          "data": {
            "image/png": "[encoded data removed]",
            "text/plain": [
              "<Figure size 432x288 with 1 Axes>"
            ]
          },
          "metadata": {
            "tags": [],
            "needs_background": "light"
          }
        }
      ]
    },
    {
      "cell_type": "markdown",
      "metadata": {
        "id": "_9D1euqmjtCj"
      },
      "source": [
        "# get slot label on which duration time time = min - max"
      ]
    },
    {
      "cell_type": "code",
      "metadata": {
        "id": "3Dc9P5Kfjvy6"
      },
      "source": [
        "import pandas as pd\r\n",
        "ori_dataset = pd.read_csv('45k_before_finalise.csv')\r\n",
        "ori_dataset.head()"
      ],
      "execution_count": null,
      "outputs": []
    },
    {
      "cell_type": "code",
      "metadata": {
        "id": "grh49V1wjwyt"
      },
      "source": [
        "label1 = 'S'\r\n",
        "duration_list_for_label1 = []\r\n",
        "for index, row in ori_dataset.iterrows():\r\n",
        "  # print(row['slot_label'])\r\n",
        "  text = str(row['slot_label'])\r\n",
        "  if text == 'nan':\r\n",
        "    continue\r\n",
        "  match_id = row['match_id']\r\n",
        "  assert match_id in match_time_min_max_dict\r\n",
        "  min_time,_, total_time = match_time_min_max_dict[match_id]\r\n",
        "  if total_time == 0:\r\n",
        "    continue\r\n",
        "  text_arr = text.split()\r\n",
        "  for t in text_arr:\r\n",
        "    if t.strip() == label1:\r\n",
        "      duration_list_for_label1.append((row['time']-min_time)/total_time)\r\n",
        "#       print(duration_list_for_label1)\r\n",
        "# duration_list_for_label1"
      ],
      "execution_count": null,
      "outputs": []
    },
    {
      "cell_type": "code",
      "metadata": {
        "id": "uoIBiMZGkCG_"
      },
      "source": [
        "label2 = 'T'\r\n",
        "duration_list_for_label2 = []\r\n",
        "for index, row in ori_dataset.iterrows():\r\n",
        "  # print(row['slot_label'])\r\n",
        "  text = str(row['slot_label'])\r\n",
        "  if text == 'nan':\r\n",
        "    continue\r\n",
        "  match_id = row['match_id']\r\n",
        "  assert match_id in match_time_min_max_dict\r\n",
        "  min_time,_, total_time = match_time_min_max_dict[match_id]\r\n",
        "  if total_time == 0:\r\n",
        "    continue\r\n",
        "  text_arr = text.split()\r\n",
        "  for t in text_arr:\r\n",
        "    if t.strip() == label2:\r\n",
        "      duration_list_for_label2.append((row['time']-min_time)/total_time)\r\n",
        "#       print(duration_list_for_label1)\r\n",
        "# duration_list_for_label1"
      ],
      "execution_count": null,
      "outputs": []
    },
    {
      "cell_type": "code",
      "metadata": {
        "colab": {
          "base_uri": "https://localhost:8080/",
          "height": 279
        },
        "id": "CTGc29GPkMlN",
        "outputId": "3540fafb-4c2e-4ebc-f8b2-11767c060212"
      },
      "source": [
        "import matplotlib.pyplot as plt\r\n",
        "plt.hist(duration_list_for_label1,bins=[i/100 for i in range(0,100)],range=(0,1),edgecolor=\"green\",histtype='step',label='S')\r\n",
        "plt.hist(duration_list_for_label2,bins=[i/100 for i in range(0,100)],range=(0,1),edgecolor=\"red\",histtype='step',label='T')\r\n",
        "plt.legend(loc='best')\r\n",
        "plt.xlabel('Duration of matches (normalized)')\r\n",
        "plt.ylabel('Merged number of token')\r\n",
        "plt.show()"
      ],
      "execution_count": null,
      "outputs": [
        {
          "output_type": "display_data",
          "data": {
            "image/png": "[encoded data removed]",
            "text/plain": [
              "<Figure size 432x288 with 1 Axes>"
            ]
          },
          "metadata": {
            "tags": [],
            "needs_background": "light"
          }
        }
      ]
    },
    {
      "cell_type": "markdown",
      "metadata": {
        "id": "U0l6cFn42mJ6"
      },
      "source": [
        "# get utterance label on which duration data"
      ]
    },
    {
      "cell_type": "code",
      "metadata": {
        "colab": {
          "base_uri": "https://localhost:8080/",
          "height": 306
        },
        "id": "IMvddMSm2kka",
        "outputId": "9bcfb2da-d99c-42fc-df01-f8fd1d845b8c"
      },
      "source": [
        "import pandas as pd\r\n",
        "ori_dataset = pd.read_csv('45k_before_finalise.csv')\r\n",
        "ori_dataset.head()"
      ],
      "execution_count": null,
      "outputs": [
        {
          "output_type": "execute_result",
          "data": {
            "text/html": [
              "<div>\n",
              "<style scoped>\n",
              "    .dataframe tbody tr th:only-of-type {\n",
              "        vertical-align: middle;\n",
              "    }\n",
              "\n",
              "    .dataframe tbody tr th {\n",
              "        vertical-align: top;\n",
              "    }\n",
              "\n",
              "    .dataframe thead th {\n",
              "        text-align: right;\n",
              "    }\n",
              "</style>\n",
              "<table border=\"1\" class=\"dataframe\">\n",
              "  <thead>\n",
              "    <tr style=\"text-align: right;\">\n",
              "      <th></th>\n",
              "      <th>Unnamed: 0</th>\n",
              "      <th>match_id</th>\n",
              "      <th>conversation_id</th>\n",
              "      <th>utterance</th>\n",
              "      <th>time</th>\n",
              "      <th>slot</th>\n",
              "      <th>unit</th>\n",
              "      <th>Label</th>\n",
              "      <th>combined_annotation</th>\n",
              "      <th>final_label</th>\n",
              "      <th>review_label</th>\n",
              "      <th>word_level_data</th>\n",
              "      <th>slot_label</th>\n",
              "      <th>combined_annotation_version2</th>\n",
              "    </tr>\n",
              "  </thead>\n",
              "  <tbody>\n",
              "    <tr>\n",
              "      <th>0</th>\n",
              "      <td>0</td>\n",
              "      <td>0</td>\n",
              "      <td>0</td>\n",
              "      <td>force it</td>\n",
              "      <td>-8</td>\n",
              "      <td>6</td>\n",
              "      <td>6k Slayer</td>\n",
              "      <td>A</td>\n",
              "      <td>force (D), it (P),</td>\n",
              "      <td>A</td>\n",
              "      <td>NaN</td>\n",
              "      <td>force it</td>\n",
              "      <td>D P</td>\n",
              "      <td>force (D), it (P),</td>\n",
              "    </tr>\n",
              "    <tr>\n",
              "      <th>1</th>\n",
              "      <td>1</td>\n",
              "      <td>0</td>\n",
              "      <td>0</td>\n",
              "      <td>space created [SEPA] hah</td>\n",
              "      <td>5</td>\n",
              "      <td>1</td>\n",
              "      <td>Monkey</td>\n",
              "      <td>O</td>\n",
              "      <td>space (O), created (O), [SEPA] (SEPA), hah (O),</td>\n",
              "      <td>O</td>\n",
              "      <td>NaN</td>\n",
              "      <td>space created [SEPA] hah</td>\n",
              "      <td>O O SEPA O</td>\n",
              "      <td>space (O), created (O), [SEPA] (SEPA), hah (O),</td>\n",
              "    </tr>\n",
              "    <tr>\n",
              "      <th>2</th>\n",
              "      <td>2</td>\n",
              "      <td>0</td>\n",
              "      <td>0</td>\n",
              "      <td>ez 500</td>\n",
              "      <td>9</td>\n",
              "      <td>6</td>\n",
              "      <td>6k Slayer</td>\n",
              "      <td>I</td>\n",
              "      <td>ez (S), 500 (O),</td>\n",
              "      <td>I</td>\n",
              "      <td>NaN</td>\n",
              "      <td>ez 500</td>\n",
              "      <td>S O</td>\n",
              "      <td>ez (S), 500 (O),</td>\n",
              "    </tr>\n",
              "    <tr>\n",
              "      <th>3</th>\n",
              "      <td>3</td>\n",
              "      <td>0</td>\n",
              "      <td>1</td>\n",
              "      <td>mvp ulti</td>\n",
              "      <td>934</td>\n",
              "      <td>4</td>\n",
              "      <td>Kira</td>\n",
              "      <td>O</td>\n",
              "      <td>mvp (O), ulti (S),</td>\n",
              "      <td>O</td>\n",
              "      <td>NaN</td>\n",
              "      <td>mvp ulti</td>\n",
              "      <td>O S</td>\n",
              "      <td>mvp (O), ulti (S),</td>\n",
              "    </tr>\n",
              "    <tr>\n",
              "      <th>4</th>\n",
              "      <td>4</td>\n",
              "      <td>0</td>\n",
              "      <td>2</td>\n",
              "      <td>bye</td>\n",
              "      <td>1486</td>\n",
              "      <td>6</td>\n",
              "      <td>6k Slayer</td>\n",
              "      <td>O</td>\n",
              "      <td>bye (O),</td>\n",
              "      <td>O</td>\n",
              "      <td>NaN</td>\n",
              "      <td>bye</td>\n",
              "      <td>O</td>\n",
              "      <td>bye (O),</td>\n",
              "    </tr>\n",
              "  </tbody>\n",
              "</table>\n",
              "</div>"
            ],
            "text/plain": [
              "   Unnamed: 0  ...                      combined_annotation_version2\n",
              "0           0  ...                               force (D), it (P), \n",
              "1           1  ...  space (O), created (O), [SEPA] (SEPA), hah (O), \n",
              "2           2  ...                                 ez (S), 500 (O), \n",
              "3           3  ...                               mvp (O), ulti (S), \n",
              "4           4  ...                                         bye (O), \n",
              "\n",
              "[5 rows x 14 columns]"
            ]
          },
          "metadata": {
            "tags": []
          },
          "execution_count": 4
        }
      ]
    },
    {
      "cell_type": "code",
      "metadata": {
        "id": "OAVuZwR62xeP"
      },
      "source": [
        "label1 = 'I'\r\n",
        "duration_list_for_label1 = []\r\n",
        "for index, row in ori_dataset.iterrows():\r\n",
        "  label = row['final_label']\r\n",
        "  if label != label1:\r\n",
        "    continue\r\n",
        "  match_id = row['match_id']\r\n",
        "  assert match_id in match_duration_dict\r\n",
        "  duration_match = match_duration_dict[match_id]\r\n",
        "  if row['time'] > duration_match:\r\n",
        "    duration_list_for_label1.append(1)\r\n",
        "  # elif row['time']<= 0:\r\n",
        "  #   duration_list_for_label1.append(0)\r\n",
        "  else:\r\n",
        "    duration_list_for_label1.append(row['time']/duration_match)\r\n",
        "label1_total_count = len(duration_list_for_label1)"
      ],
      "execution_count": null,
      "outputs": []
    },
    {
      "cell_type": "code",
      "metadata": {
        "id": "xcYW7L-c54s-"
      },
      "source": [
        "label2 = 'E'\r\n",
        "duration_list_for_label2 = []\r\n",
        "for index, row in ori_dataset.iterrows():\r\n",
        "  label = row['final_label']\r\n",
        "  if label != label2:\r\n",
        "    continue\r\n",
        "  match_id = row['match_id']\r\n",
        "  assert match_id in match_duration_dict\r\n",
        "  duration_match = match_duration_dict[match_id]\r\n",
        "  if row['time'] > duration_match:\r\n",
        "    duration_list_for_label2.append(1)\r\n",
        "  # elif row['time']<= 0:\r\n",
        "  #   duration_list_for_label2.append(0)\r\n",
        "  else:\r\n",
        "    duration_list_for_label2.append(row['time']/duration_match)\r\n",
        "label2_total_count = len(duration_list_for_label2)"
      ],
      "execution_count": null,
      "outputs": []
    },
    {
      "cell_type": "code",
      "metadata": {
        "id": "_68wC53TodG4"
      },
      "source": [
        "label3 = 'A'\r\n",
        "duration_list_for_label3 = []\r\n",
        "for index, row in ori_dataset.iterrows():\r\n",
        "  label = row['final_label']\r\n",
        "  if label != label3:\r\n",
        "    continue\r\n",
        "  match_id = row['match_id']\r\n",
        "  assert match_id in match_duration_dict\r\n",
        "  duration_match = match_duration_dict[match_id]\r\n",
        "  if row['time'] > duration_match:\r\n",
        "    duration_list_for_label3.append(1)\r\n",
        "  # elif row['time']<= 0:\r\n",
        "  #   duration_list_for_label2.append(0)\r\n",
        "  else:\r\n",
        "    duration_list_for_label3.append(row['time']/duration_match)\r\n",
        "label3_total_count = len(duration_list_for_label3)"
      ],
      "execution_count": null,
      "outputs": []
    },
    {
      "cell_type": "code",
      "metadata": {
        "id": "mIYBBR9-od3_"
      },
      "source": [
        "# label4 = 'O'\r\n",
        "# duration_list_for_label4 = []\r\n",
        "# for index, row in ori_dataset.iterrows():\r\n",
        "#   label = row['final_label']\r\n",
        "#   if label != label4:\r\n",
        "#     continue\r\n",
        "#   match_id = row['match_id']\r\n",
        "#   assert match_id in match_duration_dict\r\n",
        "#   duration_match = match_duration_dict[match_id]\r\n",
        "#   if row['time'] > duration_match:\r\n",
        "#     duration_list_for_label4.append(1)\r\n",
        "#   # elif row['time']<= 0:\r\n",
        "#   #   duration_list_for_label2.append(0)\r\n",
        "#   else:\r\n",
        "#     duration_list_for_label4.append(row['time']/duration_match)\r\n",
        "# # duration_list"
      ],
      "execution_count": null,
      "outputs": []
    },
    {
      "cell_type": "code",
      "metadata": {
        "colab": {
          "base_uri": "https://localhost:8080/"
        },
        "id": "vwajPryTTUsz",
        "outputId": "3493d96b-e268-44a2-ddcf-e058f6145bdf"
      },
      "source": [
        "# duration_list_for_label3 = []\r\n",
        "# for index, row in ori_dataset.iterrows():\r\n",
        "#   match_id = row['match_id']\r\n",
        "#   assert match_id in match_duration_dict\r\n",
        "#   duration_match = match_duration_dict[match_id]\r\n",
        "#   if row['time'] > duration_match:\r\n",
        "#     duration_list_for_label3.append(1)\r\n",
        "#   # elif row['time']<= 0:\r\n",
        "#   #   duration_list_for_label2.append(0)\r\n",
        "#   else:\r\n",
        "#     duration_list_for_label3.append(row['time']/duration_match)\r\n",
        "# len(duration_list_for_label3)"
      ],
      "execution_count": null,
      "outputs": [
        {
          "output_type": "execute_result",
          "data": {
            "text/plain": [
              "44869"
            ]
          },
          "metadata": {
            "tags": []
          },
          "execution_count": 11
        }
      ]
    },
    {
      "cell_type": "code",
      "metadata": {
        "colab": {
          "base_uri": "https://localhost:8080/",
          "height": 644
        },
        "id": "60tkk9Sfn5ng",
        "outputId": "6d3d67c1-d94c-46eb-f460-54c902ae793a"
      },
      "source": [
        "import matplotlib.pyplot as plt\r\n",
        "# def get_step_data(duration_list):\r\n",
        "#   bins = [i/100 for i in range(-10,100)]\r\n",
        "#   step_y = [0]\r\n",
        "#   for i in range(len(bins)-1):\r\n",
        "#     count = 0\r\n",
        "#     lower_bound = bins[i]\r\n",
        "#     upper_bound = bins[i+1]\r\n",
        "#     for duration in duration_list:\r\n",
        "#       if duration>=lower_bound and duration<=upper_bound:\r\n",
        "#         count+=1\r\n",
        "#     step_y.append(count)\r\n",
        "#   return step_y\r\n",
        "\r\n",
        "# normalised count\r\n",
        "def get_step_data(duration_list, total_count):\r\n",
        "  bins = [i/100 for i in range(-10,100)]\r\n",
        "  step_y = [0]\r\n",
        "  for i in range(len(bins)-1):\r\n",
        "    count = 0\r\n",
        "    lower_bound = bins[i]\r\n",
        "    upper_bound = bins[i+1]\r\n",
        "    for duration in duration_list:\r\n",
        "      if duration>=lower_bound and duration<=upper_bound:\r\n",
        "        count+=1\r\n",
        "    # print(count)\r\n",
        "    step_y.append(count/total_count)\r\n",
        "  return step_y\r\n",
        "\r\n",
        "import numpy as np\r\n",
        "plt.rcParams['figure.figsize'] = [11, 9]\r\n",
        "plt.rcParams['font.size'] = 39\r\n",
        "x = [i/100 for i in range(-10,100)]\r\n",
        "y1 = get_step_data(duration_list_for_label1,label1_total_count)\r\n",
        "# print(1/0)\r\n",
        "y2 = get_step_data(duration_list_for_label2,label2_total_count)\r\n",
        "y3 = get_step_data(duration_list_for_label3,label3_total_count)\r\n",
        "# y4 = get_step_data(duration_list_for_label4)\r\n",
        "plt.step(x, y1 ,color = 'purple',linewidth=1.5, label='Implicit')\r\n",
        "plt.step(x, y2 ,color = 'red',linewidth=1.5, label='Explicit')\r\n",
        "plt.step(x, y3 ,color = 'orange',linewidth=1.5, label='Action')\r\n",
        "# plt.step(x, y4 ,color = 'grey',linewidth=1.5, label='Other')\r\n",
        "plt.legend(loc=2)\r\n",
        "plt.xlabel('Duration of matches (normalised)')\r\n",
        "plt.ylabel('Merged number of utterance')\r\n",
        "plt.show()\r\n",
        "# plt.show()\r\n"
      ],
      "execution_count": null,
      "outputs": [
        {
          "output_type": "display_data",
          "data": {
            "image/png": "[encoded data removed]",
            "text/plain": [
              "<Figure size 792x648 with 1 Axes>"
            ]
          },
          "metadata": {
            "tags": [],
            "needs_background": "light"
          }
        }
      ]
    },
    {
      "cell_type": "code",
      "metadata": {
        "colab": {
          "base_uri": "https://localhost:8080/",
          "height": 644
        },
        "id": "gsw1CIQJpIPe",
        "outputId": "860fcb2a-b35f-41b5-e9c0-d47e80042086"
      },
      "source": [
        "import matplotlib.pyplot as plt\r\n",
        "def get_step_data(duration_list):\r\n",
        "  bins = [i/100 for i in range(-10,100)]\r\n",
        "  step_y = [0]\r\n",
        "  for i in range(len(bins)-1):\r\n",
        "    count = 0\r\n",
        "    lower_bound = bins[i]\r\n",
        "    upper_bound = bins[i+1]\r\n",
        "    for duration in duration_list:\r\n",
        "      if duration>=lower_bound and duration<=upper_bound:\r\n",
        "        count+=1\r\n",
        "    step_y.append(count)\r\n",
        "  return step_y\r\n",
        "\r\n",
        "import numpy as np\r\n",
        "plt.rcParams['figure.figsize'] = [11, 9]\r\n",
        "plt.rcParams['font.size'] = 39\r\n",
        "x = [i/100 for i in range(-10,100)]\r\n",
        "y1 = get_step_data(duration_list_for_label1)\r\n",
        "y2 = get_step_data(duration_list_for_label2)\r\n",
        "y3 = get_step_data(duration_list_for_label3)\r\n",
        "y4 = get_step_data(duration_list_for_label4)\r\n",
        "plt.step(x, y1 ,color = 'purple',linewidth=1.5, label='Implicit')\r\n",
        "plt.step(x, y2 ,color = 'red',linewidth=1.5, label='Explicit')\r\n",
        "plt.step(x, y3 ,color = 'orange',linewidth=1.5, label='Action')\r\n",
        "# plt.step(x, y4 ,color = 'grey',linewidth=1.5, label='Other')\r\n",
        "plt.legend(loc=2)\r\n",
        "plt.xlabel('Duration of matches (normalised)')\r\n",
        "plt.ylabel('Merged number of utterance')\r\n",
        "plt.show()\r\n",
        "plt.show()\r\n"
      ],
      "execution_count": null,
      "outputs": [
        {
          "output_type": "display_data",
          "data": {
            "image/png": "[encoded data removed]",
            "text/plain": [
              "<Figure size 792x648 with 1 Axes>"
            ]
          },
          "metadata": {
            "tags": [],
            "needs_background": "light"
          }
        }
      ]
    },
    {
      "cell_type": "code",
      "metadata": {
        "colab": {
          "base_uri": "https://localhost:8080/",
          "height": 279
        },
        "id": "aBL7LKub6CaD",
        "outputId": "0edb33f3-43ed-4f31-9cc5-f6550559079b"
      },
      "source": [
        "import matplotlib.pyplot as plt\r\n",
        "plt.hist(duration_list_for_label1,bins=[i/100 for i in range(-10,100)],range=(-1,1),edgecolor=\"green\",histtype='step',label='I')\r\n",
        "plt.hist(duration_list_for_label2,bins=[i/100 for i in range(-10,100)],range=(-1,1),edgecolor=\"red\",histtype='step',label='E')\r\n",
        "plt.legend(loc='best')\r\n",
        "plt.xlabel('Duration of matches (normalized)')\r\n",
        "plt.ylabel('Merged number of utterance')\r\n",
        "plt.show()"
      ],
      "execution_count": null,
      "outputs": [
        {
          "output_type": "display_data",
          "data": {
            "image/png": "[encoded data removed]",
            "text/plain": [
              "<Figure size 432x288 with 1 Axes>"
            ]
          },
          "metadata": {
            "tags": [],
            "needs_background": "light"
          }
        }
      ]
    },
    {
      "cell_type": "code",
      "metadata": {
        "colab": {
          "base_uri": "https://localhost:8080/"
        },
        "id": "xFGDn1ns62Pr",
        "outputId": "e334f5d6-b260-496e-963a-422d242c9743"
      },
      "source": [
        "len(duration_list_for_label2)"
      ],
      "execution_count": null,
      "outputs": [
        {
          "output_type": "execute_result",
          "data": {
            "text/plain": [
              "5952"
            ]
          },
          "metadata": {
            "tags": []
          },
          "execution_count": 22
        }
      ]
    },
    {
      "cell_type": "markdown",
      "metadata": {
        "id": "c60iAlOLPXh5"
      },
      "source": [
        "# get slot label on which duration time"
      ]
    },
    {
      "cell_type": "code",
      "metadata": {
        "colab": {
          "base_uri": "https://localhost:8080/",
          "height": 306
        },
        "id": "W6XqXol8PbWg",
        "outputId": "b334f245-0432-4008-a28e-f796ebf8fd5e"
      },
      "source": [
        "import pandas as pd\r\n",
        "ori_dataset = pd.read_csv('45k_before_finalise.csv')\r\n",
        "ori_dataset.head()"
      ],
      "execution_count": null,
      "outputs": [
        {
          "output_type": "execute_result",
          "data": {
            "text/html": [
              "<div>\n",
              "<style scoped>\n",
              "    .dataframe tbody tr th:only-of-type {\n",
              "        vertical-align: middle;\n",
              "    }\n",
              "\n",
              "    .dataframe tbody tr th {\n",
              "        vertical-align: top;\n",
              "    }\n",
              "\n",
              "    .dataframe thead th {\n",
              "        text-align: right;\n",
              "    }\n",
              "</style>\n",
              "<table border=\"1\" class=\"dataframe\">\n",
              "  <thead>\n",
              "    <tr style=\"text-align: right;\">\n",
              "      <th></th>\n",
              "      <th>Unnamed: 0</th>\n",
              "      <th>match_id</th>\n",
              "      <th>conversation_id</th>\n",
              "      <th>utterance</th>\n",
              "      <th>time</th>\n",
              "      <th>slot</th>\n",
              "      <th>unit</th>\n",
              "      <th>Label</th>\n",
              "      <th>combined_annotation</th>\n",
              "      <th>final_label</th>\n",
              "      <th>review_label</th>\n",
              "      <th>word_level_data</th>\n",
              "      <th>slot_label</th>\n",
              "      <th>combined_annotation_version2</th>\n",
              "    </tr>\n",
              "  </thead>\n",
              "  <tbody>\n",
              "    <tr>\n",
              "      <th>0</th>\n",
              "      <td>0</td>\n",
              "      <td>0</td>\n",
              "      <td>0</td>\n",
              "      <td>force it</td>\n",
              "      <td>-8</td>\n",
              "      <td>6</td>\n",
              "      <td>6k Slayer</td>\n",
              "      <td>A</td>\n",
              "      <td>force (D), it (P),</td>\n",
              "      <td>A</td>\n",
              "      <td>NaN</td>\n",
              "      <td>force it</td>\n",
              "      <td>D P</td>\n",
              "      <td>force (D), it (P),</td>\n",
              "    </tr>\n",
              "    <tr>\n",
              "      <th>1</th>\n",
              "      <td>1</td>\n",
              "      <td>0</td>\n",
              "      <td>0</td>\n",
              "      <td>space created [SEPA] hah</td>\n",
              "      <td>5</td>\n",
              "      <td>1</td>\n",
              "      <td>Monkey</td>\n",
              "      <td>O</td>\n",
              "      <td>space (O), created (O), [SEPA] (SEPA), hah (O),</td>\n",
              "      <td>O</td>\n",
              "      <td>NaN</td>\n",
              "      <td>space created [SEPA] hah</td>\n",
              "      <td>O O SEPA O</td>\n",
              "      <td>space (O), created (O), [SEPA] (SEPA), hah (O),</td>\n",
              "    </tr>\n",
              "    <tr>\n",
              "      <th>2</th>\n",
              "      <td>2</td>\n",
              "      <td>0</td>\n",
              "      <td>0</td>\n",
              "      <td>ez 500</td>\n",
              "      <td>9</td>\n",
              "      <td>6</td>\n",
              "      <td>6k Slayer</td>\n",
              "      <td>I</td>\n",
              "      <td>ez (S), 500 (O),</td>\n",
              "      <td>I</td>\n",
              "      <td>NaN</td>\n",
              "      <td>ez 500</td>\n",
              "      <td>S O</td>\n",
              "      <td>ez (S), 500 (O),</td>\n",
              "    </tr>\n",
              "    <tr>\n",
              "      <th>3</th>\n",
              "      <td>3</td>\n",
              "      <td>0</td>\n",
              "      <td>1</td>\n",
              "      <td>mvp ulti</td>\n",
              "      <td>934</td>\n",
              "      <td>4</td>\n",
              "      <td>Kira</td>\n",
              "      <td>O</td>\n",
              "      <td>mvp (O), ulti (S),</td>\n",
              "      <td>O</td>\n",
              "      <td>NaN</td>\n",
              "      <td>mvp ulti</td>\n",
              "      <td>O S</td>\n",
              "      <td>mvp (O), ulti (S),</td>\n",
              "    </tr>\n",
              "    <tr>\n",
              "      <th>4</th>\n",
              "      <td>4</td>\n",
              "      <td>0</td>\n",
              "      <td>2</td>\n",
              "      <td>bye</td>\n",
              "      <td>1486</td>\n",
              "      <td>6</td>\n",
              "      <td>6k Slayer</td>\n",
              "      <td>O</td>\n",
              "      <td>bye (O),</td>\n",
              "      <td>O</td>\n",
              "      <td>NaN</td>\n",
              "      <td>bye</td>\n",
              "      <td>O</td>\n",
              "      <td>bye (O),</td>\n",
              "    </tr>\n",
              "  </tbody>\n",
              "</table>\n",
              "</div>"
            ],
            "text/plain": [
              "   Unnamed: 0  ...                      combined_annotation_version2\n",
              "0           0  ...                               force (D), it (P), \n",
              "1           1  ...  space (O), created (O), [SEPA] (SEPA), hah (O), \n",
              "2           2  ...                                 ez (S), 500 (O), \n",
              "3           3  ...                               mvp (O), ulti (S), \n",
              "4           4  ...                                         bye (O), \n",
              "\n",
              "[5 rows x 14 columns]"
            ]
          },
          "metadata": {
            "tags": []
          },
          "execution_count": 45
        }
      ]
    },
    {
      "cell_type": "code",
      "metadata": {
        "id": "cbTuXiR9P0B-"
      },
      "source": [
        "label1 = 'S'\r\n",
        "duration_list_for_label1 = []\r\n",
        "for index, row in ori_dataset.iterrows():\r\n",
        "  # print(row['slot_label'])\r\n",
        "  text = str(row['slot_label'])\r\n",
        "  if text == 'nan':\r\n",
        "    continue\r\n",
        "  match_id = row['match_id']\r\n",
        "  assert match_id in match_duration_dict\r\n",
        "  duration_match = match_duration_dict[match_id]\r\n",
        "  text_arr = text.split()\r\n",
        "  for t in text_arr:\r\n",
        "    if t.strip() == label1:\r\n",
        "      # print('in')\r\n",
        "      if row['time'] > duration_match:\r\n",
        "        duration_list_for_label1.append(1)\r\n",
        "      # elif row['time']<= 0:\r\n",
        "      #   duration_list_for_label1.append(0)\r\n",
        "      else:\r\n",
        "        duration_list_for_label1.append(row['time']/duration_match)\r\n",
        "#       print(duration_list_for_label1)\r\n",
        "# duration_list_for_label1"
      ],
      "execution_count": null,
      "outputs": []
    },
    {
      "cell_type": "code",
      "metadata": {
        "id": "MZemxfrLnIOp"
      },
      "source": [
        "weights_label1 = [1/match_total_num for i in range(len(duration_list_for_label1))]"
      ],
      "execution_count": null,
      "outputs": []
    },
    {
      "cell_type": "code",
      "metadata": {
        "id": "BDJoTLHoRXyM"
      },
      "source": [
        "label2 = 'T'\r\n",
        "duration_list_for_label2 = []\r\n",
        "for index, row in ori_dataset.iterrows():\r\n",
        "  # print(row['slot_label'])\r\n",
        "  text = str(row['slot_label'])\r\n",
        "  if text == 'nan':\r\n",
        "    continue\r\n",
        "  match_id = row['match_id']\r\n",
        "  assert match_id in match_duration_dict\r\n",
        "  duration_match = match_duration_dict[match_id]\r\n",
        "  text_arr = text.split()\r\n",
        "  for t in text_arr:\r\n",
        "    if t.strip() == label2:\r\n",
        "      # print('in')\r\n",
        "      if row['time'] > duration_match:\r\n",
        "        duration_list_for_label2.append(1)\r\n",
        "      # elif row['time']<= 0:\r\n",
        "      #   duration_list_for_label2.append(0)\r\n",
        "      else:\r\n",
        "        duration_list_for_label2.append(row['time']/duration_match)\r\n",
        "#       print(duration_list_for_label1)\r\n",
        "# duration_list_for_label1"
      ],
      "execution_count": null,
      "outputs": []
    },
    {
      "cell_type": "code",
      "metadata": {
        "colab": {
          "base_uri": "https://localhost:8080/"
        },
        "id": "gAmA2qkoaqdH",
        "outputId": "36d24a65-c375-4cb5-9164-3bc4cec965d2"
      },
      "source": [
        "# duration_list_for_label3 = []\r\n",
        "# for index, row in ori_dataset.iterrows():\r\n",
        "#   # print(row['slot_label'])\r\n",
        "#   text = str(row['slot_label'])\r\n",
        "#   if text == 'nan':\r\n",
        "#     continue\r\n",
        "#   match_id = row['match_id']\r\n",
        "#   assert match_id in match_duration_dict\r\n",
        "#   duration_match = match_duration_dict[match_id]\r\n",
        "#   text_arr = text.split()\r\n",
        "#   for t in text_arr:\r\n",
        "#       if row['time'] > duration_match:\r\n",
        "#         duration_list_for_label3.append(1)\r\n",
        "#       else:\r\n",
        "#         duration_list_for_label3.append(row['time']/duration_match)\r\n",
        "# len(duration_list_for_label3)"
      ],
      "execution_count": null,
      "outputs": [
        {
          "output_type": "execute_result",
          "data": {
            "text/plain": [
              "166613"
            ]
          },
          "metadata": {
            "tags": []
          },
          "execution_count": 34
        }
      ]
    },
    {
      "cell_type": "code",
      "metadata": {
        "id": "o3tzNZefnMBX"
      },
      "source": [
        "weights_label2 = [1/match_total_num for i in range(len(duration_list_for_label2))]"
      ],
      "execution_count": null,
      "outputs": []
    },
    {
      "cell_type": "code",
      "metadata": {
        "id": "hm9Iebf56QSa"
      },
      "source": [
        "def get_step_data(duration_list):\r\n",
        "  bins = [i/100 for i in range(-10,100)]\r\n",
        "  step_y = [0]\r\n",
        "  for i in range(len(bins)-1):\r\n",
        "    count = 0\r\n",
        "    lower_bound = bins[i]\r\n",
        "    upper_bound = bins[i+1]\r\n",
        "    for duration in duration_list:\r\n",
        "      if duration>=lower_bound and duration<=upper_bound:\r\n",
        "        count+=1\r\n",
        "    step_y.append(count)\r\n",
        "  return step_y"
      ],
      "execution_count": null,
      "outputs": []
    },
    {
      "cell_type": "code",
      "metadata": {
        "colab": {
          "base_uri": "https://localhost:8080/",
          "height": 622
        },
        "id": "QHZifZwr5Z6t",
        "outputId": "90d2c899-0318-4cc5-9b16-6dffb5d2b199"
      },
      "source": [
        "import numpy as np\r\n",
        "plt.rcParams['figure.figsize'] = [11, 9]\r\n",
        "plt.rcParams['font.size'] = 39\r\n",
        "x = [i/100 for i in range(-10,100)]\r\n",
        "y1 = get_step_data(duration_list_for_label1)\r\n",
        "# print(y1)\r\n",
        "y2 = get_step_data(duration_list_for_label2)\r\n",
        "plt.step(x, y1 ,color = 'purple',linewidth=1.5, label='Game Slang')\r\n",
        "plt.step(x, y2 ,color = 'red',linewidth=1.5, label='Toxicity')\r\n",
        "plt.legend(loc=2)\r\n",
        "# plt.margins(10)\r\n",
        "plt.xlabel('Duration of matches (normalised)')\r\n",
        "plt.ylabel('Merged number of token')\r\n",
        "# plt.subplots_adjust(top = 1)\r\n",
        "plt.show()\r\n",
        "plt.show()\r\n"
      ],
      "execution_count": null,
      "outputs": [
        {
          "output_type": "display_data",
          "data": {
            "image/png": "[encoded data removed]",
            "text/plain": [
              "<Figure size 792x648 with 1 Axes>"
            ]
          },
          "metadata": {
            "tags": [],
            "needs_background": "light"
          }
        }
      ]
    },
    {
      "cell_type": "code",
      "metadata": {
        "colab": {
          "base_uri": "https://localhost:8080/",
          "height": 622
        },
        "id": "-IGzI-k2eToD",
        "outputId": "2abda608-807f-40a0-b8fe-7dcdc0c0d1d6"
      },
      "source": [
        "import matplotlib.pyplot as plt\r\n",
        "plt.hist(duration_list_for_label1,bins=[i/100 for i in range(-10,100)],range=(-1,1),edgecolor=\"green\",histtype='step',label='S', linewidth=1)\r\n",
        "plt.hist(duration_list_for_label2,bins=[i/100 for i in range(-10,100)],range=(-1,1),edgecolor=\"red\",histtype='step',label='T')\r\n",
        "plt.legend(loc='upper left')\r\n",
        "plt.xlabel('Duration of matches (normalized)')\r\n",
        "plt.ylabel('Merged number of token')\r\n",
        "plt.show()"
      ],
      "execution_count": null,
      "outputs": [
        {
          "output_type": "display_data",
          "data": {
            "image/png": "[encoded data removed]",
            "text/plain": [
              "<Figure size 792x648 with 1 Axes>"
            ]
          },
          "metadata": {
            "tags": [],
            "needs_background": "light"
          }
        }
      ]
    },
    {
      "cell_type": "code",
      "metadata": {
        "colab": {
          "base_uri": "https://localhost:8080/",
          "height": 283
        },
        "id": "jK_ZcbJz1U-8",
        "outputId": "09a7462e-7f13-431a-c5ea-cbbabba08920"
      },
      "source": [
        "import matplotlib.pyplot as plt\r\n",
        "plt.hist(duration_list_for_label1,bins=[i/100 for i in range(-10,100)],range=(-1,1),edgecolor=\"green\",histtype='step',label='S', linewidth=1)\r\n",
        "plt.hist(duration_list_for_label2,bins=[i/100 for i in range(-10,100)],range=(-1,1),edgecolor=\"red\",histtype='step',label='T')\r\n",
        "plt.legend(loc='upper left')\r\n",
        "plt.xlabel('Duration of matches (normalized)')\r\n",
        "plt.ylabel('Merged number of token')\r\n",
        "plt.show()"
      ],
      "execution_count": null,
      "outputs": [
        {
          "output_type": "display_data",
          "data": {
            "image/png": "[encoded data removed]",
            "text/plain": [
              "<Figure size 432x288 with 1 Axes>"
            ]
          },
          "metadata": {
            "tags": [],
            "needs_background": "light"
          }
        }
      ]
    },
    {
      "cell_type": "code",
      "metadata": {
        "colab": {
          "base_uri": "https://localhost:8080/",
          "height": 283
        },
        "id": "OOObyFrinSVi",
        "outputId": "b8d3ba0e-588e-4187-8f7d-73101d149696"
      },
      "source": [
        "import matplotlib.pyplot as plt\r\n",
        "plt.hist(duration_list_for_label1,bins=[i/100 for i in range(-10,100)],range=(-1,1),edgecolor=\"green\",histtype='step',label='S')\r\n",
        "plt.hist(duration_list_for_label2,bins=[i/100 for i in range(-10,100)],range=(-1,1),edgecolor=\"red\",histtype='step',label='T')\r\n",
        "plt.legend(loc='best')\r\n",
        "plt.xlabel('Duration of matches (normalized)')\r\n",
        "plt.ylabel('Merged number of token')\r\n",
        "plt.show()"
      ],
      "execution_count": null,
      "outputs": [
        {
          "output_type": "display_data",
          "data": {
            "image/png": "[encoded data removed]",
            "text/plain": [
              "<Figure size 432x288 with 1 Axes>"
            ]
          },
          "metadata": {
            "tags": [],
            "needs_background": "light"
          }
        }
      ]
    },
    {
      "cell_type": "code",
      "metadata": {
        "colab": {
          "base_uri": "https://localhost:8080/",
          "height": 283
        },
        "id": "GgyqKcPSRefG",
        "outputId": "5efaa5f2-ae97-4797-ab87-dea87375d3cf"
      },
      "source": [
        "import matplotlib.pyplot as plt\r\n",
        "plt.hist(duration_list_for_label1,bins=[i/100 for i in range(0,100)],range=(0,1),edgecolor=\"green\",histtype='step',label='S')\r\n",
        "plt.hist(duration_list_for_label2,bins=[i/100 for i in range(0,100)],range=(0,1),edgecolor=\"red\",histtype='step',label='T')\r\n",
        "plt.legend(loc='best')\r\n",
        "plt.xlabel('Duration of matches (normalized)')\r\n",
        "plt.ylabel('Merged number of token')\r\n",
        "plt.show()"
      ],
      "execution_count": null,
      "outputs": [
        {
          "output_type": "display_data",
          "data": {
            "image/png": "[encoded data removed]",
            "text/plain": [
              "<Figure size 432x288 with 1 Axes>"
            ]
          },
          "metadata": {
            "tags": [],
            "needs_background": "light"
          }
        }
      ]
    }
  ]
}