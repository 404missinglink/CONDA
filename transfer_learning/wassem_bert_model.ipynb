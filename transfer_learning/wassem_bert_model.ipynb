{
  "nbformat": 4,
  "nbformat_minor": 0,
  "metadata": {
    "kernelspec": {
      "display_name": "Python 3",
      "language": "python",
      "name": "python3"
    },
    "language_info": {
      "codemirror_mode": {
        "name": "ipython",
        "version": 3
      },
      "file_extension": ".py",
      "mimetype": "text/x-python",
      "name": "python",
      "nbconvert_exporter": "python",
      "pygments_lexer": "ipython3",
      "version": "3.7.0"
    },
    "colab": {
      "name": "wassem_bert_model",
      "provenance": [],
      "collapsed_sections": [],
      "toc_visible": true,
      "machine_shape": "hm"
    },
    "accelerator": "GPU"
  },
  "cells": [
    {
      "cell_type": "markdown",
      "metadata": {
        "id": "1oeqTKK4uIC7"
      },
      "source": [
        "# load dataset file"
      ]
    },
    {
      "cell_type": "code",
      "metadata": {
        "id": "aAE385ufY5V7"
      },
      "source": [
        "!pip install -U -q PyDrive\n",
        "from pydrive.auth import GoogleAuth\n",
        "from pydrive.drive import GoogleDrive\n",
        "from google.colab import auth\n",
        "from oauth2client.client import GoogleCredentials\n",
        "\n",
        "import pandas as pd\n",
        "\n",
        "\n",
        "# Authenticate and create the PyDrive client.\n",
        "auth.authenticate_user()\n",
        "gauth = GoogleAuth()\n",
        "gauth.credentials = GoogleCredentials.get_application_default()\n",
        "drive = GoogleDrive(gauth)\n",
        "# Download all three Microsoft BotBuilder Personality Chat Datasets on Google Colab virtual server\n",
        "# https://drive.google.com/file/d/10yi1MvU3lrlqyGLGZ0Ee7o4e72zEW4Fg/view?usp=sharing\n",
        "#chats.csv DOTA dataset 1.4 million\n",
        "# https://drive.google.com/file/d/1VALiNA_ruYl0jt66MBG7Eb_o3sWQIBqj/view?usp=sharing\n",
        "# https://drive.google.com/file/d/1-HsJ2w944FNCZPPiqYjV7Ip-2fmdNqz5/view?usp=sharing\n",
        "download_files = [\n",
        "          {'id':'1gNfBqguzBu8cHKMPc8C44GbvD443dNC5','file_name':'Wassem.csv'},\n",
        "          ]\n",
        "for entity in download_files:\n",
        "  id1 = entity['id']\n",
        "  downloaded = drive.CreateFile({'id':id1 }) \n",
        "  downloaded.GetContentFile(entity['file_name']) "
      ],
      "execution_count": null,
      "outputs": []
    },
    {
      "cell_type": "code",
      "metadata": {
        "id": "vuTT3e0mRJ4i"
      },
      "source": [
        "import pandas as pd\n",
        "import numpy as np\n",
        "import matplotlib.pyplot as plt\n",
        "\n",
        "data = pd.read_csv(\"Wassem.csv\")"
      ],
      "execution_count": null,
      "outputs": []
    },
    {
      "cell_type": "code",
      "metadata": {
        "id": "PjEQNh7ygqeA",
        "colab": {
          "base_uri": "https://localhost:8080/",
          "height": 204
        },
        "outputId": "7c7e3bef-9649-4724-ed8b-80ea5e6c60f9"
      },
      "source": [
        "data.head()"
      ],
      "execution_count": null,
      "outputs": [
        {
          "output_type": "execute_result",
          "data": {
            "text/html": [
              "<div>\n",
              "<style scoped>\n",
              "    .dataframe tbody tr th:only-of-type {\n",
              "        vertical-align: middle;\n",
              "    }\n",
              "\n",
              "    .dataframe tbody tr th {\n",
              "        vertical-align: top;\n",
              "    }\n",
              "\n",
              "    .dataframe thead th {\n",
              "        text-align: right;\n",
              "    }\n",
              "</style>\n",
              "<table border=\"1\" class=\"dataframe\">\n",
              "  <thead>\n",
              "    <tr style=\"text-align: right;\">\n",
              "      <th></th>\n",
              "      <th>Unnamed: 0</th>\n",
              "      <th>Tweet_ID</th>\n",
              "      <th>Previous</th>\n",
              "      <th>User_ID</th>\n",
              "      <th>Text</th>\n",
              "      <th>Label</th>\n",
              "    </tr>\n",
              "  </thead>\n",
              "  <tbody>\n",
              "    <tr>\n",
              "      <th>0</th>\n",
              "      <td>0</td>\n",
              "      <td>567080871472017408</td>\n",
              "      <td>5.670786e+17</td>\n",
              "      <td>2941145694</td>\n",
              "      <td>@truaemusic The followers of the religion give...</td>\n",
              "      <td>racism</td>\n",
              "    </tr>\n",
              "    <tr>\n",
              "      <th>1</th>\n",
              "      <td>1</td>\n",
              "      <td>566098518616449024</td>\n",
              "      <td>5.660874e+17</td>\n",
              "      <td>2941145694</td>\n",
              "      <td>@Love___Egypt @washingtonpost All the land tha...</td>\n",
              "      <td>racism</td>\n",
              "    </tr>\n",
              "    <tr>\n",
              "      <th>2</th>\n",
              "      <td>2</td>\n",
              "      <td>554672350361571328</td>\n",
              "      <td>NaN</td>\n",
              "      <td>2941145694</td>\n",
              "      <td>@CamilleHughes16 @edbarber101658 @_Watch_Obser...</td>\n",
              "      <td>racism</td>\n",
              "    </tr>\n",
              "    <tr>\n",
              "      <th>3</th>\n",
              "      <td>3</td>\n",
              "      <td>569878129772081153</td>\n",
              "      <td>5.698451e+17</td>\n",
              "      <td>2941145694</td>\n",
              "      <td>@KellyTurner99 @brushyblues @buellerishere The...</td>\n",
              "      <td>racism</td>\n",
              "    </tr>\n",
              "    <tr>\n",
              "      <th>4</th>\n",
              "      <td>4</td>\n",
              "      <td>568541747849998337</td>\n",
              "      <td>NaN</td>\n",
              "      <td>2941145694</td>\n",
              "      <td>@buellerishere Who cares. ISIS does what Moham...</td>\n",
              "      <td>racism</td>\n",
              "    </tr>\n",
              "  </tbody>\n",
              "</table>\n",
              "</div>"
            ],
            "text/plain": [
              "   Unnamed: 0  ...   Label\n",
              "0           0  ...  racism\n",
              "1           1  ...  racism\n",
              "2           2  ...  racism\n",
              "3           3  ...  racism\n",
              "4           4  ...  racism\n",
              "\n",
              "[5 rows x 6 columns]"
            ]
          },
          "metadata": {
            "tags": []
          },
          "execution_count": 3
        }
      ]
    },
    {
      "cell_type": "code",
      "metadata": {
        "colab": {
          "base_uri": "https://localhost:8080/",
          "height": 204
        },
        "id": "JHN7iN--yvNE",
        "outputId": "bf604b16-a3f3-4c29-da4e-1b1e97c2b61f"
      },
      "source": [
        "map_dict = {'racism':1,'sexism':1,'none':0}\n",
        "def map_to_binary(x):\n",
        "  return map_dict[x]\n",
        "data['Label'] = data['Label'].map(map_to_binary)\n",
        "data.head()"
      ],
      "execution_count": null,
      "outputs": [
        {
          "output_type": "execute_result",
          "data": {
            "text/html": [
              "<div>\n",
              "<style scoped>\n",
              "    .dataframe tbody tr th:only-of-type {\n",
              "        vertical-align: middle;\n",
              "    }\n",
              "\n",
              "    .dataframe tbody tr th {\n",
              "        vertical-align: top;\n",
              "    }\n",
              "\n",
              "    .dataframe thead th {\n",
              "        text-align: right;\n",
              "    }\n",
              "</style>\n",
              "<table border=\"1\" class=\"dataframe\">\n",
              "  <thead>\n",
              "    <tr style=\"text-align: right;\">\n",
              "      <th></th>\n",
              "      <th>Unnamed: 0</th>\n",
              "      <th>Tweet_ID</th>\n",
              "      <th>Previous</th>\n",
              "      <th>User_ID</th>\n",
              "      <th>Text</th>\n",
              "      <th>Label</th>\n",
              "    </tr>\n",
              "  </thead>\n",
              "  <tbody>\n",
              "    <tr>\n",
              "      <th>0</th>\n",
              "      <td>0</td>\n",
              "      <td>567080871472017408</td>\n",
              "      <td>5.670786e+17</td>\n",
              "      <td>2941145694</td>\n",
              "      <td>@truaemusic The followers of the religion give...</td>\n",
              "      <td>1</td>\n",
              "    </tr>\n",
              "    <tr>\n",
              "      <th>1</th>\n",
              "      <td>1</td>\n",
              "      <td>566098518616449024</td>\n",
              "      <td>5.660874e+17</td>\n",
              "      <td>2941145694</td>\n",
              "      <td>@Love___Egypt @washingtonpost All the land tha...</td>\n",
              "      <td>1</td>\n",
              "    </tr>\n",
              "    <tr>\n",
              "      <th>2</th>\n",
              "      <td>2</td>\n",
              "      <td>554672350361571328</td>\n",
              "      <td>NaN</td>\n",
              "      <td>2941145694</td>\n",
              "      <td>@CamilleHughes16 @edbarber101658 @_Watch_Obser...</td>\n",
              "      <td>1</td>\n",
              "    </tr>\n",
              "    <tr>\n",
              "      <th>3</th>\n",
              "      <td>3</td>\n",
              "      <td>569878129772081153</td>\n",
              "      <td>5.698451e+17</td>\n",
              "      <td>2941145694</td>\n",
              "      <td>@KellyTurner99 @brushyblues @buellerishere The...</td>\n",
              "      <td>1</td>\n",
              "    </tr>\n",
              "    <tr>\n",
              "      <th>4</th>\n",
              "      <td>4</td>\n",
              "      <td>568541747849998337</td>\n",
              "      <td>NaN</td>\n",
              "      <td>2941145694</td>\n",
              "      <td>@buellerishere Who cares. ISIS does what Moham...</td>\n",
              "      <td>1</td>\n",
              "    </tr>\n",
              "  </tbody>\n",
              "</table>\n",
              "</div>"
            ],
            "text/plain": [
              "   Unnamed: 0  ...  Label\n",
              "0           0  ...      1\n",
              "1           1  ...      1\n",
              "2           2  ...      1\n",
              "3           3  ...      1\n",
              "4           4  ...      1\n",
              "\n",
              "[5 rows x 6 columns]"
            ]
          },
          "metadata": {
            "tags": []
          },
          "execution_count": 3
        }
      ]
    },
    {
      "cell_type": "code",
      "metadata": {
        "colab": {
          "base_uri": "https://localhost:8080/"
        },
        "id": "s9SYGGT1u0ry",
        "outputId": "9e579b4c-8666-479b-999b-fef225221179"
      },
      "source": [
        "data['Label'].value_counts()"
      ],
      "execution_count": null,
      "outputs": [
        {
          "output_type": "execute_result",
          "data": {
            "text/plain": [
              "0    11115\n",
              "1     5087\n",
              "Name: Label, dtype: int64"
            ]
          },
          "metadata": {
            "tags": []
          },
          "execution_count": 5
        }
      ]
    },
    {
      "cell_type": "markdown",
      "metadata": {
        "id": "qeQ7EcY_wkZb"
      },
      "source": [
        "# bert tokenizer"
      ]
    },
    {
      "cell_type": "code",
      "metadata": {
        "colab": {
          "base_uri": "https://localhost:8080/"
        },
        "id": "Y9ttHmY1wpZV",
        "outputId": "6dd74bed-e5f2-4966-82d6-624da4a2444b"
      },
      "source": [
        "!pip install transformers"
      ],
      "execution_count": null,
      "outputs": [
        {
          "output_type": "stream",
          "text": [
            "Requirement already satisfied: transformers in /usr/local/lib/python3.6/dist-packages (4.0.1)\n",
            "Requirement already satisfied: numpy in /usr/local/lib/python3.6/dist-packages (from transformers) (1.18.5)\n",
            "Requirement already satisfied: requests in /usr/local/lib/python3.6/dist-packages (from transformers) (2.23.0)\n",
            "Requirement already satisfied: regex!=2019.12.17 in /usr/local/lib/python3.6/dist-packages (from transformers) (2019.12.20)\n",
            "Requirement already satisfied: sacremoses in /usr/local/lib/python3.6/dist-packages (from transformers) (0.0.43)\n",
            "Requirement already satisfied: filelock in /usr/local/lib/python3.6/dist-packages (from transformers) (3.0.12)\n",
            "Requirement already satisfied: dataclasses; python_version < \"3.7\" in /usr/local/lib/python3.6/dist-packages (from transformers) (0.8)\n",
            "Requirement already satisfied: packaging in /usr/local/lib/python3.6/dist-packages (from transformers) (20.7)\n",
            "Requirement already satisfied: tqdm>=4.27 in /usr/local/lib/python3.6/dist-packages (from transformers) (4.41.1)\n",
            "Requirement already satisfied: tokenizers==0.9.4 in /usr/local/lib/python3.6/dist-packages (from transformers) (0.9.4)\n",
            "Requirement already satisfied: idna<3,>=2.5 in /usr/local/lib/python3.6/dist-packages (from requests->transformers) (2.10)\n",
            "Requirement already satisfied: certifi>=2017.4.17 in /usr/local/lib/python3.6/dist-packages (from requests->transformers) (2020.12.5)\n",
            "Requirement already satisfied: chardet<4,>=3.0.2 in /usr/local/lib/python3.6/dist-packages (from requests->transformers) (3.0.4)\n",
            "Requirement already satisfied: urllib3!=1.25.0,!=1.25.1,<1.26,>=1.21.1 in /usr/local/lib/python3.6/dist-packages (from requests->transformers) (1.24.3)\n",
            "Requirement already satisfied: joblib in /usr/local/lib/python3.6/dist-packages (from sacremoses->transformers) (0.17.0)\n",
            "Requirement already satisfied: click in /usr/local/lib/python3.6/dist-packages (from sacremoses->transformers) (7.1.2)\n",
            "Requirement already satisfied: six in /usr/local/lib/python3.6/dist-packages (from sacremoses->transformers) (1.15.0)\n",
            "Requirement already satisfied: pyparsing>=2.0.2 in /usr/local/lib/python3.6/dist-packages (from packaging->transformers) (2.4.7)\n"
          ],
          "name": "stdout"
        }
      ]
    },
    {
      "cell_type": "code",
      "metadata": {
        "id": "FsYgXwrVwmHm",
        "colab": {
          "base_uri": "https://localhost:8080/",
          "height": 389
        },
        "outputId": "fb7d3f94-77a9-450b-9f30-ca93eefa60cc"
      },
      "source": [
        "import random\n",
        "import torch\n",
        "from torch.utils.data import TensorDataset, DataLoader, random_split\n",
        "from transformers import BertTokenizer\n",
        "from transformers import BertForSequenceClassification, AdamW\n",
        "from transformers import get_linear_schedule_with_warmup\n",
        "\n",
        "seed = 42\n",
        "random.seed(seed)\n",
        "np.random.seed(seed)\n",
        "torch.manual_seed(seed)\n",
        "torch.cuda.manual_seed_all(seed)\n",
        "torch.backends.cudnn.deterministic = True\n",
        "\n",
        "device = torch.device('cuda')"
      ],
      "execution_count": null,
      "outputs": [
        {
          "output_type": "error",
          "ename": "ModuleNotFoundError",
          "evalue": "ignored",
          "traceback": [
            "\u001b[0;31m---------------------------------------------------------------------------\u001b[0m",
            "\u001b[0;31mModuleNotFoundError\u001b[0m                       Traceback (most recent call last)",
            "\u001b[0;32m<ipython-input-4-a5b83aa7fb15>\u001b[0m in \u001b[0;36m<module>\u001b[0;34m()\u001b[0m\n\u001b[1;32m      2\u001b[0m \u001b[0;32mimport\u001b[0m \u001b[0mtorch\u001b[0m\u001b[0;34m\u001b[0m\u001b[0;34m\u001b[0m\u001b[0m\n\u001b[1;32m      3\u001b[0m \u001b[0;32mfrom\u001b[0m \u001b[0mtorch\u001b[0m\u001b[0;34m.\u001b[0m\u001b[0mutils\u001b[0m\u001b[0;34m.\u001b[0m\u001b[0mdata\u001b[0m \u001b[0;32mimport\u001b[0m \u001b[0mTensorDataset\u001b[0m\u001b[0;34m,\u001b[0m \u001b[0mDataLoader\u001b[0m\u001b[0;34m,\u001b[0m \u001b[0mrandom_split\u001b[0m\u001b[0;34m\u001b[0m\u001b[0;34m\u001b[0m\u001b[0m\n\u001b[0;32m----> 4\u001b[0;31m \u001b[0;32mfrom\u001b[0m \u001b[0mtransformers\u001b[0m \u001b[0;32mimport\u001b[0m \u001b[0mBertTokenizer\u001b[0m\u001b[0;34m\u001b[0m\u001b[0;34m\u001b[0m\u001b[0m\n\u001b[0m\u001b[1;32m      5\u001b[0m \u001b[0;32mfrom\u001b[0m \u001b[0mtransformers\u001b[0m \u001b[0;32mimport\u001b[0m \u001b[0mBertForSequenceClassification\u001b[0m\u001b[0;34m,\u001b[0m \u001b[0mAdamW\u001b[0m\u001b[0;34m\u001b[0m\u001b[0;34m\u001b[0m\u001b[0m\n\u001b[1;32m      6\u001b[0m \u001b[0;32mfrom\u001b[0m \u001b[0mtransformers\u001b[0m \u001b[0;32mimport\u001b[0m \u001b[0mget_linear_schedule_with_warmup\u001b[0m\u001b[0;34m\u001b[0m\u001b[0;34m\u001b[0m\u001b[0m\n",
            "\u001b[0;31mModuleNotFoundError\u001b[0m: No module named 'transformers'",
            "",
            "\u001b[0;31m---------------------------------------------------------------------------\u001b[0;32m\nNOTE: If your import is failing due to a missing package, you can\nmanually install dependencies using either !pip or !apt.\n\nTo view examples of installing some common dependencies, click the\n\"Open Examples\" button below.\n\u001b[0;31m---------------------------------------------------------------------------\u001b[0m\n"
          ]
        }
      ]
    },
    {
      "cell_type": "code",
      "metadata": {
        "colab": {
          "base_uri": "https://localhost:8080/"
        },
        "id": "shU5VUMnyf9t",
        "outputId": "d59acbf9-5045-4885-9221-3389d1c5a8e3"
      },
      "source": [
        "from sklearn.model_selection import train_test_split\n",
        "X = data['Text'].tolist()\n",
        "y = data['Label'].tolist()\n",
        "X_train, X_test, y_train, y_test = train_test_split(X, y, test_size=0.1, random_state=28)\n",
        "len(X_train)"
      ],
      "execution_count": null,
      "outputs": [
        {
          "output_type": "execute_result",
          "data": {
            "text/plain": [
              "14581"
            ]
          },
          "metadata": {
            "tags": []
          },
          "execution_count": 5
        }
      ]
    },
    {
      "cell_type": "code",
      "metadata": {
        "colab": {
          "base_uri": "https://localhost:8080/"
        },
        "id": "29-0DwscYRE1",
        "outputId": "4e6de1b8-8fd9-47a5-946a-15cf30b492c9"
      },
      "source": [
        "len(X_test)"
      ],
      "execution_count": null,
      "outputs": [
        {
          "output_type": "execute_result",
          "data": {
            "text/plain": [
              "1621"
            ]
          },
          "metadata": {
            "tags": []
          },
          "execution_count": 7
        }
      ]
    },
    {
      "cell_type": "code",
      "metadata": {
        "id": "ka7_HE3dwvch"
      },
      "source": [
        "\n",
        "tokenizer = BertTokenizer.from_pretrained('bert-base-uncased', do_lower_case=True)\n",
        "# Function to get token ids for a list of texts \n",
        "def encode_fn(text_list):\n",
        "    all_input_ids = []    \n",
        "    for text in text_list:\n",
        "        input_ids = tokenizer.encode(\n",
        "                        text,                      \n",
        "                        add_special_tokens = True,  # 添加special tokens， 也就是CLS和SEP\n",
        "                        max_length = 50,           # 设定最大文本长度\n",
        "                        pad_to_max_length = True,   # pad到最大的长度  \n",
        "                        return_tensors = 'pt'       # 返回的类型为pytorch tensor\n",
        "                   )\n",
        "        all_input_ids.append(input_ids)    \n",
        "    all_input_ids = torch.cat(all_input_ids, dim=0)\n",
        "    return all_input_ids"
      ],
      "execution_count": null,
      "outputs": []
    },
    {
      "cell_type": "markdown",
      "metadata": {
        "id": "DzORy5pS0e4m"
      },
      "source": [
        "# torch dataset"
      ]
    },
    {
      "cell_type": "code",
      "metadata": {
        "colab": {
          "base_uri": "https://localhost:8080/"
        },
        "id": "UE2cnRFjxlc9",
        "outputId": "f4f5a120-5c4c-4414-939a-53f2ea5b1a8a"
      },
      "source": [
        "epochs = 5\n",
        "batch_size = 32\n",
        "\n",
        "# Split data into train and validation\n",
        "train_ids = encode_fn(X_train)\n",
        "train_labels = torch.tensor(y_train)\n",
        "train_dataset = TensorDataset(train_ids, train_labels)\n",
        "\n",
        "test_ids = encode_fn(X_test)\n",
        "test_labels = torch.tensor(y_test)\n",
        "testdataset = TensorDataset(test_ids, test_labels)\n",
        "\n",
        "# train_dataset, val_dataset = random_split(dataset, [train_size, val_size])\n",
        "\n",
        "# Create train and validation dataloaders\n",
        "train_dataloader = DataLoader(train_dataset, batch_size = batch_size, shuffle = True)\n",
        "test_dataloader = DataLoader(testdataset, batch_size = batch_size, shuffle = False)"
      ],
      "execution_count": null,
      "outputs": [
        {
          "output_type": "stream",
          "text": [
            "Truncation was not explicitly activated but `max_length` is provided a specific value, please use `truncation=True` to explicitly truncate examples to max length. Defaulting to 'longest_first' truncation strategy. If you encode pairs of sequences (GLUE-style) with the tokenizer you can select this strategy more precisely by providing a specific strategy to `truncation`.\n",
            "/usr/local/lib/python3.6/dist-packages/transformers/tokenization_utils_base.py:2142: FutureWarning: The `pad_to_max_length` argument is deprecated and will be removed in a future version, use `padding=True` or `padding='longest'` to pad to the longest sequence in the batch, or use `padding='max_length'` to pad to a max length. In this case, you can give a specific length with `max_length` (e.g. `max_length=45`) or leave max_length to None to pad to the maximal input size of the model (e.g. 512 for Bert).\n",
            "  FutureWarning,\n"
          ],
          "name": "stderr"
        }
      ]
    },
    {
      "cell_type": "markdown",
      "metadata": {
        "id": "YCzDjZ_30j1x"
      },
      "source": [
        "# construct model"
      ]
    },
    {
      "cell_type": "code",
      "metadata": {
        "colab": {
          "base_uri": "https://localhost:8080/"
        },
        "id": "V7O71w1x0cGG",
        "outputId": "091bee6d-c417-4d82-80e8-0fe25c63abe6"
      },
      "source": [
        "# Load the pretrained BERT model\n",
        "model = BertForSequenceClassification.from_pretrained('bert-base-uncased', num_labels=2, output_attentions=False, output_hidden_states=False)\n",
        "model.cuda()\n",
        "\n",
        "# create optimizer and learning rate schedule\n",
        "optimizer = AdamW(model.parameters(), lr=2e-5)\n",
        "total_steps = len(train_dataloader) * epochs\n",
        "scheduler = get_linear_schedule_with_warmup(optimizer, num_warmup_steps=0, num_training_steps=total_steps)"
      ],
      "execution_count": null,
      "outputs": [
        {
          "output_type": "stream",
          "text": [
            "Some weights of the model checkpoint at bert-base-uncased were not used when initializing BertForSequenceClassification: ['cls.predictions.bias', 'cls.predictions.transform.dense.weight', 'cls.predictions.transform.dense.bias', 'cls.predictions.decoder.weight', 'cls.seq_relationship.weight', 'cls.seq_relationship.bias', 'cls.predictions.transform.LayerNorm.weight', 'cls.predictions.transform.LayerNorm.bias']\n",
            "- This IS expected if you are initializing BertForSequenceClassification from the checkpoint of a model trained on another task or with another architecture (e.g. initializing a BertForSequenceClassification model from a BertForPreTraining model).\n",
            "- This IS NOT expected if you are initializing BertForSequenceClassification from the checkpoint of a model that you expect to be exactly identical (initializing a BertForSequenceClassification model from a BertForSequenceClassification model).\n",
            "Some weights of BertForSequenceClassification were not initialized from the model checkpoint at bert-base-uncased and are newly initialized: ['classifier.weight', 'classifier.bias']\n",
            "You should probably TRAIN this model on a down-stream task to be able to use it for predictions and inference.\n"
          ],
          "name": "stderr"
        }
      ]
    },
    {
      "cell_type": "code",
      "metadata": {
        "id": "hq8LE9N21VYc"
      },
      "source": [
        "from sklearn.metrics import f1_score, accuracy_score\n",
        "\n",
        "def flat_accuracy(preds, labels):\n",
        "    \n",
        "    \"\"\"A function for calculating accuracy scores\"\"\"\n",
        "    \n",
        "    pred_flat = np.argmax(preds, axis=1).flatten()\n",
        "    labels_flat = labels.flatten()\n",
        "    return labels_flat, pred_flat"
      ],
      "execution_count": null,
      "outputs": []
    },
    {
      "cell_type": "markdown",
      "metadata": {
        "id": "ih6flmFb1gw5"
      },
      "source": [
        "# model training"
      ]
    },
    {
      "cell_type": "code",
      "metadata": {
        "colab": {
          "base_uri": "https://localhost:8080/"
        },
        "id": "ysrs7T-e1dP_",
        "outputId": "9644868a-c9ad-4138-b0d3-4694cc4cc426"
      },
      "source": [
        "for epoch in range(epochs):\n",
        "    model.train()\n",
        "    total_loss, total_val_loss = 0, 0\n",
        "    total_eval_accuracy = 0\n",
        "    for step, batch in enumerate(train_dataloader):\n",
        "        model.zero_grad()\n",
        "        # loss, logits = model(batch[0].to(device), token_type_ids=None, attention_mask=(batch[0]>0).to(device), labels=batch[1].to(device))\n",
        "        outputs = model(batch[0].to(device), token_type_ids=None, attention_mask=(batch[0]>0).to(device), labels=batch[1].to(device))\n",
        "        loss = outputs.loss\n",
        "        logits = outputs.logits\n",
        "        total_loss += loss.item()\n",
        "        loss.backward()\n",
        "        torch.nn.utils.clip_grad_norm_(model.parameters(), 1.0)\n",
        "        optimizer.step() \n",
        "        scheduler.step()\n",
        "        \n",
        "    model.eval()\n",
        "    labels_all = []\n",
        "    pred_flat_all = []\n",
        "    for i, batch in enumerate(test_dataloader):\n",
        "        with torch.no_grad():\n",
        "            outputs = model(batch[0].to(device), token_type_ids=None, attention_mask=(batch[0]>0).to(device), labels=batch[1].to(device))\n",
        "            loss = outputs.loss\n",
        "            logits = outputs.logits\n",
        "                \n",
        "            total_val_loss += loss.item()\n",
        "            \n",
        "            logits = logits.detach().cpu().numpy()\n",
        "            label_ids = batch[1].to('cpu').numpy()\n",
        "            labels_flat, pred_flat = flat_accuracy(logits, label_ids)\n",
        "            labels_all.extend(labels_flat)\n",
        "            pred_flat_all.extend(pred_flat)\n",
        "\n",
        "    torch.save(model, 'model_bert_base_from_wassem'+str(epoch)+'.ckpt')\n",
        "    # torch.save(slot_model, 'model_slot'+str(epoch)+'.ckpt')\n",
        "    \n",
        "    avg_train_loss = total_loss / len(train_dataloader)\n",
        "    avg_val_loss = total_val_loss / len(test_dataloader)\n",
        "    avg_val_accuracy = accuracy_score(labels_all, pred_flat_all)\n",
        "    \n",
        "    print(f'Train loss     : {avg_train_loss}')\n",
        "    print(f'Validation loss: {avg_val_loss}')\n",
        "    print(f'Accuracy: {avg_val_accuracy:.4f}')\n",
        "    print('\\n')"
      ],
      "execution_count": null,
      "outputs": [
        {
          "output_type": "stream",
          "text": [
            "Train loss     : 0.3630503141566327\n",
            "Validation loss: 0.32349565917370365\n",
            "Accuracy: 0.8600\n",
            "\n",
            "\n",
            "Train loss     : 0.24576621659492193\n",
            "Validation loss: 0.32729288263648165\n",
            "Accuracy: 0.8698\n",
            "\n",
            "\n",
            "Train loss     : 0.15850132502198808\n",
            "Validation loss: 0.425275747682534\n",
            "Accuracy: 0.8482\n",
            "\n",
            "\n",
            "Train loss     : 0.10168853756081182\n",
            "Validation loss: 0.4747424707839302\n",
            "Accuracy: 0.8637\n",
            "\n",
            "\n",
            "Train loss     : 0.06722365229762274\n",
            "Validation loss: 0.4971212418932541\n",
            "Accuracy: 0.8637\n",
            "\n",
            "\n"
          ],
          "name": "stdout"
        }
      ]
    },
    {
      "cell_type": "markdown",
      "metadata": {
        "id": "AobybpmcP7NH"
      },
      "source": [
        "# evaluate on 45k dota dataset"
      ]
    },
    {
      "cell_type": "code",
      "metadata": {
        "id": "OOoCMvdVikwx"
      },
      "source": [
        "!pip install -U -q PyDrive\r\n",
        "from pydrive.auth import GoogleAuth\r\n",
        "from pydrive.drive import GoogleDrive\r\n",
        "from google.colab import auth\r\n",
        "from oauth2client.client import GoogleCredentials\r\n",
        "\r\n",
        "import pandas as pd\r\n",
        "\r\n",
        "\r\n",
        "# Authenticate and create the PyDrive client.\r\n",
        "auth.authenticate_user()\r\n",
        "gauth = GoogleAuth()\r\n",
        "gauth.credentials = GoogleCredentials.get_application_default()\r\n",
        "drive = GoogleDrive(gauth)\r\n",
        "# Download all three Microsoft BotBuilder Personality Chat Datasets on Google Colab virtual server\r\n",
        "# https://drive.google.com/file/d/10yi1MvU3lrlqyGLGZ0Ee7o4e72zEW4Fg/view?usp=sharing\r\n",
        "#chats.csv DOTA dataset 1.4 million\r\n",
        "# https://drive.google.com/file/d/1VALiNA_ruYl0jt66MBG7Eb_o3sWQIBqj/view?usp=sharing\r\n",
        "# https://drive.google.com/file/d/1TJVC6VGiAqrMzNbh_-a70FWlR6zzLuvP/view?usp=sharing\r\n",
        "download_files = [\r\n",
        "          {'id':'1TJVC6VGiAqrMzNbh_-a70FWlR6zzLuvP','file_name':'45k_add_slot_label.csv'},\r\n",
        "          ]\r\n",
        "for entity in download_files:\r\n",
        "  id1 = entity['id']\r\n",
        "  downloaded = drive.CreateFile({'id':id1 }) \r\n",
        "  downloaded.GetContentFile(entity['file_name']) "
      ],
      "execution_count": null,
      "outputs": []
    },
    {
      "cell_type": "code",
      "metadata": {
        "id": "o3-B0pF4P9Sg",
        "colab": {
          "base_uri": "https://localhost:8080/",
          "height": 306
        },
        "outputId": "4c725761-753a-4072-f59b-154790c8b278"
      },
      "source": [
        "from sklearn.utils import shuffle\n",
        "import pandas as pd\n",
        "import numpy as np\n",
        "import matplotlib.pyplot as plt\n",
        "\n",
        "data = pd.read_csv(\"45k_add_slot_label.csv\")\n",
        "data.head()"
      ],
      "execution_count": null,
      "outputs": [
        {
          "output_type": "execute_result",
          "data": {
            "text/html": [
              "<div>\n",
              "<style scoped>\n",
              "    .dataframe tbody tr th:only-of-type {\n",
              "        vertical-align: middle;\n",
              "    }\n",
              "\n",
              "    .dataframe tbody tr th {\n",
              "        vertical-align: top;\n",
              "    }\n",
              "\n",
              "    .dataframe thead th {\n",
              "        text-align: right;\n",
              "    }\n",
              "</style>\n",
              "<table border=\"1\" class=\"dataframe\">\n",
              "  <thead>\n",
              "    <tr style=\"text-align: right;\">\n",
              "      <th></th>\n",
              "      <th>Unnamed: 0</th>\n",
              "      <th>match_id</th>\n",
              "      <th>conversation_id</th>\n",
              "      <th>utterance</th>\n",
              "      <th>time</th>\n",
              "      <th>slot</th>\n",
              "      <th>unit</th>\n",
              "      <th>Label</th>\n",
              "      <th>combined_annotation</th>\n",
              "      <th>final_label</th>\n",
              "      <th>review_label</th>\n",
              "      <th>word_level_data</th>\n",
              "      <th>slot_label</th>\n",
              "      <th>combined_annotation_version2</th>\n",
              "    </tr>\n",
              "  </thead>\n",
              "  <tbody>\n",
              "    <tr>\n",
              "      <th>0</th>\n",
              "      <td>0</td>\n",
              "      <td>0</td>\n",
              "      <td>0</td>\n",
              "      <td>force it</td>\n",
              "      <td>-8</td>\n",
              "      <td>6</td>\n",
              "      <td>6k Slayer</td>\n",
              "      <td>A</td>\n",
              "      <td>force (D), it (P),</td>\n",
              "      <td>A</td>\n",
              "      <td>NaN</td>\n",
              "      <td>force it</td>\n",
              "      <td>D P</td>\n",
              "      <td>force (D), it (P),</td>\n",
              "    </tr>\n",
              "    <tr>\n",
              "      <th>1</th>\n",
              "      <td>1</td>\n",
              "      <td>0</td>\n",
              "      <td>0</td>\n",
              "      <td>space created [SEPA] hah</td>\n",
              "      <td>5</td>\n",
              "      <td>1</td>\n",
              "      <td>Monkey</td>\n",
              "      <td>O</td>\n",
              "      <td>space (O), created (O), [SEPA] (SEPA), hah (O),</td>\n",
              "      <td>O</td>\n",
              "      <td>NaN</td>\n",
              "      <td>space created [SEPA] hah</td>\n",
              "      <td>O O SEPA O</td>\n",
              "      <td>space (O), created (O), [SEPA] (SEPA), hah (O),</td>\n",
              "    </tr>\n",
              "    <tr>\n",
              "      <th>2</th>\n",
              "      <td>2</td>\n",
              "      <td>0</td>\n",
              "      <td>0</td>\n",
              "      <td>ez 500</td>\n",
              "      <td>9</td>\n",
              "      <td>6</td>\n",
              "      <td>6k Slayer</td>\n",
              "      <td>I</td>\n",
              "      <td>ez (S), 500 (O),</td>\n",
              "      <td>I</td>\n",
              "      <td>NaN</td>\n",
              "      <td>ez 500</td>\n",
              "      <td>S O</td>\n",
              "      <td>ez (S), 500 (O),</td>\n",
              "    </tr>\n",
              "    <tr>\n",
              "      <th>3</th>\n",
              "      <td>3</td>\n",
              "      <td>0</td>\n",
              "      <td>1</td>\n",
              "      <td>mvp ulti</td>\n",
              "      <td>934</td>\n",
              "      <td>4</td>\n",
              "      <td>Kira</td>\n",
              "      <td>O</td>\n",
              "      <td>mvp (O), ulti (S),</td>\n",
              "      <td>O</td>\n",
              "      <td>NaN</td>\n",
              "      <td>mvp ulti</td>\n",
              "      <td>O S</td>\n",
              "      <td>mvp (O), ulti (S),</td>\n",
              "    </tr>\n",
              "    <tr>\n",
              "      <th>4</th>\n",
              "      <td>4</td>\n",
              "      <td>0</td>\n",
              "      <td>2</td>\n",
              "      <td>bye</td>\n",
              "      <td>1486</td>\n",
              "      <td>6</td>\n",
              "      <td>6k Slayer</td>\n",
              "      <td>O</td>\n",
              "      <td>bye (O),</td>\n",
              "      <td>O</td>\n",
              "      <td>NaN</td>\n",
              "      <td>bye</td>\n",
              "      <td>O</td>\n",
              "      <td>bye (O),</td>\n",
              "    </tr>\n",
              "  </tbody>\n",
              "</table>\n",
              "</div>"
            ],
            "text/plain": [
              "   Unnamed: 0  ...                      combined_annotation_version2\n",
              "0           0  ...                               force (D), it (P), \n",
              "1           1  ...  space (O), created (O), [SEPA] (SEPA), hah (O), \n",
              "2           2  ...                                 ez (S), 500 (O), \n",
              "3           3  ...                               mvp (O), ulti (S), \n",
              "4           4  ...                                         bye (O), \n",
              "\n",
              "[5 rows x 14 columns]"
            ]
          },
          "metadata": {
            "tags": []
          },
          "execution_count": 16
        }
      ]
    },
    {
      "cell_type": "code",
      "metadata": {
        "id": "jRh2dzUnQPNZ"
      },
      "source": [
        "# import pandas as pd\n",
        "# import numpy as np\n",
        "# import matplotlib.pyplot as plt\n",
        "# colnames = ['1','2','3','utterance','4','5','6','Label','combined_annotation']\n",
        "# test_data = pd.read_csv(\"50K_Output.csv\",names=colnames, header=None)"
      ],
      "execution_count": null,
      "outputs": []
    },
    {
      "cell_type": "code",
      "metadata": {
        "colab": {
          "base_uri": "https://localhost:8080/",
          "height": 306
        },
        "id": "nJIT606tQk4c",
        "outputId": "86059ecd-2ace-4e0e-e432-32f174489ee7"
      },
      "source": [
        "test_data = data\n",
        "def map_to_binary(x):\n",
        "  if x=='E' or x =='I':\n",
        "    return 1\n",
        "  else:\n",
        "    return 0\n",
        "\n",
        "test_data['Label'] = test_data['final_label'].map(map_to_binary)\n",
        "test_data.head()"
      ],
      "execution_count": null,
      "outputs": [
        {
          "output_type": "execute_result",
          "data": {
            "text/html": [
              "<div>\n",
              "<style scoped>\n",
              "    .dataframe tbody tr th:only-of-type {\n",
              "        vertical-align: middle;\n",
              "    }\n",
              "\n",
              "    .dataframe tbody tr th {\n",
              "        vertical-align: top;\n",
              "    }\n",
              "\n",
              "    .dataframe thead th {\n",
              "        text-align: right;\n",
              "    }\n",
              "</style>\n",
              "<table border=\"1\" class=\"dataframe\">\n",
              "  <thead>\n",
              "    <tr style=\"text-align: right;\">\n",
              "      <th></th>\n",
              "      <th>Unnamed: 0</th>\n",
              "      <th>match_id</th>\n",
              "      <th>conversation_id</th>\n",
              "      <th>utterance</th>\n",
              "      <th>time</th>\n",
              "      <th>slot</th>\n",
              "      <th>unit</th>\n",
              "      <th>Label</th>\n",
              "      <th>combined_annotation</th>\n",
              "      <th>final_label</th>\n",
              "      <th>review_label</th>\n",
              "      <th>word_level_data</th>\n",
              "      <th>slot_label</th>\n",
              "      <th>combined_annotation_version2</th>\n",
              "    </tr>\n",
              "  </thead>\n",
              "  <tbody>\n",
              "    <tr>\n",
              "      <th>0</th>\n",
              "      <td>0</td>\n",
              "      <td>0</td>\n",
              "      <td>0</td>\n",
              "      <td>force it</td>\n",
              "      <td>-8</td>\n",
              "      <td>6</td>\n",
              "      <td>6k Slayer</td>\n",
              "      <td>0</td>\n",
              "      <td>force (D), it (P),</td>\n",
              "      <td>A</td>\n",
              "      <td>NaN</td>\n",
              "      <td>force it</td>\n",
              "      <td>D P</td>\n",
              "      <td>force (D), it (P),</td>\n",
              "    </tr>\n",
              "    <tr>\n",
              "      <th>1</th>\n",
              "      <td>1</td>\n",
              "      <td>0</td>\n",
              "      <td>0</td>\n",
              "      <td>space created [SEPA] hah</td>\n",
              "      <td>5</td>\n",
              "      <td>1</td>\n",
              "      <td>Monkey</td>\n",
              "      <td>0</td>\n",
              "      <td>space (O), created (O), [SEPA] (SEPA), hah (O),</td>\n",
              "      <td>O</td>\n",
              "      <td>NaN</td>\n",
              "      <td>space created [SEPA] hah</td>\n",
              "      <td>O O SEPA O</td>\n",
              "      <td>space (O), created (O), [SEPA] (SEPA), hah (O),</td>\n",
              "    </tr>\n",
              "    <tr>\n",
              "      <th>2</th>\n",
              "      <td>2</td>\n",
              "      <td>0</td>\n",
              "      <td>0</td>\n",
              "      <td>ez 500</td>\n",
              "      <td>9</td>\n",
              "      <td>6</td>\n",
              "      <td>6k Slayer</td>\n",
              "      <td>1</td>\n",
              "      <td>ez (S), 500 (O),</td>\n",
              "      <td>I</td>\n",
              "      <td>NaN</td>\n",
              "      <td>ez 500</td>\n",
              "      <td>S O</td>\n",
              "      <td>ez (S), 500 (O),</td>\n",
              "    </tr>\n",
              "    <tr>\n",
              "      <th>3</th>\n",
              "      <td>3</td>\n",
              "      <td>0</td>\n",
              "      <td>1</td>\n",
              "      <td>mvp ulti</td>\n",
              "      <td>934</td>\n",
              "      <td>4</td>\n",
              "      <td>Kira</td>\n",
              "      <td>0</td>\n",
              "      <td>mvp (O), ulti (S),</td>\n",
              "      <td>O</td>\n",
              "      <td>NaN</td>\n",
              "      <td>mvp ulti</td>\n",
              "      <td>O S</td>\n",
              "      <td>mvp (O), ulti (S),</td>\n",
              "    </tr>\n",
              "    <tr>\n",
              "      <th>4</th>\n",
              "      <td>4</td>\n",
              "      <td>0</td>\n",
              "      <td>2</td>\n",
              "      <td>bye</td>\n",
              "      <td>1486</td>\n",
              "      <td>6</td>\n",
              "      <td>6k Slayer</td>\n",
              "      <td>0</td>\n",
              "      <td>bye (O),</td>\n",
              "      <td>O</td>\n",
              "      <td>NaN</td>\n",
              "      <td>bye</td>\n",
              "      <td>O</td>\n",
              "      <td>bye (O),</td>\n",
              "    </tr>\n",
              "  </tbody>\n",
              "</table>\n",
              "</div>"
            ],
            "text/plain": [
              "   Unnamed: 0  ...                      combined_annotation_version2\n",
              "0           0  ...                               force (D), it (P), \n",
              "1           1  ...  space (O), created (O), [SEPA] (SEPA), hah (O), \n",
              "2           2  ...                                 ez (S), 500 (O), \n",
              "3           3  ...                               mvp (O), ulti (S), \n",
              "4           4  ...                                         bye (O), \n",
              "\n",
              "[5 rows x 14 columns]"
            ]
          },
          "metadata": {
            "tags": []
          },
          "execution_count": 17
        }
      ]
    },
    {
      "cell_type": "code",
      "metadata": {
        "colab": {
          "base_uri": "https://localhost:8080/",
          "height": 306
        },
        "id": "QQKo4Ho-RUX-",
        "outputId": "a7e61ab1-dd33-40e8-8457-0717bd04e30e"
      },
      "source": [
        "def str_context(x):\n",
        "  return str(x)\n",
        "\n",
        "test_data['utterance'] = test_data['utterance'].map(str_context)\n",
        "test_data.head()"
      ],
      "execution_count": null,
      "outputs": [
        {
          "output_type": "execute_result",
          "data": {
            "text/html": [
              "<div>\n",
              "<style scoped>\n",
              "    .dataframe tbody tr th:only-of-type {\n",
              "        vertical-align: middle;\n",
              "    }\n",
              "\n",
              "    .dataframe tbody tr th {\n",
              "        vertical-align: top;\n",
              "    }\n",
              "\n",
              "    .dataframe thead th {\n",
              "        text-align: right;\n",
              "    }\n",
              "</style>\n",
              "<table border=\"1\" class=\"dataframe\">\n",
              "  <thead>\n",
              "    <tr style=\"text-align: right;\">\n",
              "      <th></th>\n",
              "      <th>Unnamed: 0</th>\n",
              "      <th>match_id</th>\n",
              "      <th>conversation_id</th>\n",
              "      <th>utterance</th>\n",
              "      <th>time</th>\n",
              "      <th>slot</th>\n",
              "      <th>unit</th>\n",
              "      <th>Label</th>\n",
              "      <th>combined_annotation</th>\n",
              "      <th>final_label</th>\n",
              "      <th>review_label</th>\n",
              "      <th>word_level_data</th>\n",
              "      <th>slot_label</th>\n",
              "      <th>combined_annotation_version2</th>\n",
              "    </tr>\n",
              "  </thead>\n",
              "  <tbody>\n",
              "    <tr>\n",
              "      <th>0</th>\n",
              "      <td>0</td>\n",
              "      <td>0</td>\n",
              "      <td>0</td>\n",
              "      <td>force it</td>\n",
              "      <td>-8</td>\n",
              "      <td>6</td>\n",
              "      <td>6k Slayer</td>\n",
              "      <td>0</td>\n",
              "      <td>force (D), it (P),</td>\n",
              "      <td>A</td>\n",
              "      <td>NaN</td>\n",
              "      <td>force it</td>\n",
              "      <td>D P</td>\n",
              "      <td>force (D), it (P),</td>\n",
              "    </tr>\n",
              "    <tr>\n",
              "      <th>1</th>\n",
              "      <td>1</td>\n",
              "      <td>0</td>\n",
              "      <td>0</td>\n",
              "      <td>space created [SEPA] hah</td>\n",
              "      <td>5</td>\n",
              "      <td>1</td>\n",
              "      <td>Monkey</td>\n",
              "      <td>0</td>\n",
              "      <td>space (O), created (O), [SEPA] (SEPA), hah (O),</td>\n",
              "      <td>O</td>\n",
              "      <td>NaN</td>\n",
              "      <td>space created [SEPA] hah</td>\n",
              "      <td>O O SEPA O</td>\n",
              "      <td>space (O), created (O), [SEPA] (SEPA), hah (O),</td>\n",
              "    </tr>\n",
              "    <tr>\n",
              "      <th>2</th>\n",
              "      <td>2</td>\n",
              "      <td>0</td>\n",
              "      <td>0</td>\n",
              "      <td>ez 500</td>\n",
              "      <td>9</td>\n",
              "      <td>6</td>\n",
              "      <td>6k Slayer</td>\n",
              "      <td>1</td>\n",
              "      <td>ez (S), 500 (O),</td>\n",
              "      <td>I</td>\n",
              "      <td>NaN</td>\n",
              "      <td>ez 500</td>\n",
              "      <td>S O</td>\n",
              "      <td>ez (S), 500 (O),</td>\n",
              "    </tr>\n",
              "    <tr>\n",
              "      <th>3</th>\n",
              "      <td>3</td>\n",
              "      <td>0</td>\n",
              "      <td>1</td>\n",
              "      <td>mvp ulti</td>\n",
              "      <td>934</td>\n",
              "      <td>4</td>\n",
              "      <td>Kira</td>\n",
              "      <td>0</td>\n",
              "      <td>mvp (O), ulti (S),</td>\n",
              "      <td>O</td>\n",
              "      <td>NaN</td>\n",
              "      <td>mvp ulti</td>\n",
              "      <td>O S</td>\n",
              "      <td>mvp (O), ulti (S),</td>\n",
              "    </tr>\n",
              "    <tr>\n",
              "      <th>4</th>\n",
              "      <td>4</td>\n",
              "      <td>0</td>\n",
              "      <td>2</td>\n",
              "      <td>bye</td>\n",
              "      <td>1486</td>\n",
              "      <td>6</td>\n",
              "      <td>6k Slayer</td>\n",
              "      <td>0</td>\n",
              "      <td>bye (O),</td>\n",
              "      <td>O</td>\n",
              "      <td>NaN</td>\n",
              "      <td>bye</td>\n",
              "      <td>O</td>\n",
              "      <td>bye (O),</td>\n",
              "    </tr>\n",
              "  </tbody>\n",
              "</table>\n",
              "</div>"
            ],
            "text/plain": [
              "   Unnamed: 0  ...                      combined_annotation_version2\n",
              "0           0  ...                               force (D), it (P), \n",
              "1           1  ...  space (O), created (O), [SEPA] (SEPA), hah (O), \n",
              "2           2  ...                                 ez (S), 500 (O), \n",
              "3           3  ...                               mvp (O), ulti (S), \n",
              "4           4  ...                                         bye (O), \n",
              "\n",
              "[5 rows x 14 columns]"
            ]
          },
          "metadata": {
            "tags": []
          },
          "execution_count": 18
        }
      ]
    },
    {
      "cell_type": "code",
      "metadata": {
        "colab": {
          "base_uri": "https://localhost:8080/"
        },
        "id": "ZfktFdrlQ4rH",
        "outputId": "d7edbd01-a805-4a7c-9b13-b39ece23fc7a"
      },
      "source": [
        "test_ids = encode_fn(test_data['utterance'].tolist())\n",
        "test_labels = torch.tensor(test_data['Label'].tolist())\n",
        "testdataset = TensorDataset(test_ids, test_labels)\n",
        "\n",
        "# train_dataset, val_dataset = random_split(dataset, [train_size, val_size])\n",
        "\n",
        "# Create train and validation dataloaders\n",
        "# train_dataloader = DataLoader(train_dataset, batch_size = batch_size, shuffle = True)\n",
        "test_dataloader = DataLoader(testdataset, batch_size = batch_size, shuffle = False)"
      ],
      "execution_count": null,
      "outputs": [
        {
          "output_type": "stream",
          "text": [
            "/usr/local/lib/python3.6/dist-packages/transformers/tokenization_utils_base.py:2142: FutureWarning: The `pad_to_max_length` argument is deprecated and will be removed in a future version, use `padding=True` or `padding='longest'` to pad to the longest sequence in the batch, or use `padding='max_length'` to pad to a max length. In this case, you can give a specific length with `max_length` (e.g. `max_length=45`) or leave max_length to None to pad to the maximal input size of the model (e.g. 512 for Bert).\n",
            "  FutureWarning,\n"
          ],
          "name": "stderr"
        }
      ]
    },
    {
      "cell_type": "code",
      "metadata": {
        "colab": {
          "base_uri": "https://localhost:8080/"
        },
        "id": "LWyh43kCRmDH",
        "outputId": "9764aa2e-9007-4b14-b625-1b69443221c1"
      },
      "source": [
        "labels_all = []\n",
        "pred_flat_all = []\n",
        "for i, batch in enumerate(test_dataloader):\n",
        "    with torch.no_grad():\n",
        "        outputs = model(batch[0].to(device), token_type_ids=None, attention_mask=(batch[0]>0).to(device), labels=batch[1].to(device))\n",
        "        loss = outputs.loss\n",
        "        logits = outputs.logits\n",
        "            \n",
        "        total_val_loss += loss.item()\n",
        "        \n",
        "        logits = logits.detach().cpu().numpy()\n",
        "        label_ids = batch[1].to('cpu').numpy()\n",
        "        labels_flat, pred_flat = flat_accuracy(logits, label_ids)\n",
        "        labels_all.extend(labels_flat)\n",
        "        pred_flat_all.extend(pred_flat)\n",
        "print(len(labels_all))\n",
        "print(len(pred_flat_all))"
      ],
      "execution_count": null,
      "outputs": [
        {
          "output_type": "stream",
          "text": [
            "44869\n",
            "44869\n"
          ],
          "name": "stdout"
        }
      ]
    },
    {
      "cell_type": "code",
      "metadata": {
        "colab": {
          "base_uri": "https://localhost:8080/"
        },
        "id": "5RJzjPheSDQn",
        "outputId": "e7ad8cd2-ac13-420a-f416-1155d769fc72"
      },
      "source": [
        "avg_val_accuracy = accuracy_score(labels_all, pred_flat_all)\n",
        "avg_val_accuracy"
      ],
      "execution_count": null,
      "outputs": [
        {
          "output_type": "execute_result",
          "data": {
            "text/plain": [
              "0.8059907731395841"
            ]
          },
          "metadata": {
            "tags": []
          },
          "execution_count": 22
        }
      ]
    },
    {
      "cell_type": "code",
      "metadata": {
        "colab": {
          "base_uri": "https://localhost:8080/"
        },
        "id": "wYlzBGe8Sid1",
        "outputId": "5e55f983-619b-4254-9226-ba366a4e6bc1"
      },
      "source": [
        "from sklearn.metrics import classification_report\n",
        "print(classification_report(y_true=labels_all,y_pred=pred_flat_all,digits=4))"
      ],
      "execution_count": null,
      "outputs": [
        {
          "output_type": "stream",
          "text": [
            "              precision    recall  f1-score   support\n",
            "\n",
            "           0     0.8062    0.9985    0.8921     36040\n",
            "           1     0.7650    0.0203    0.0395      8829\n",
            "\n",
            "    accuracy                         0.8060     44869\n",
            "   macro avg     0.7856    0.5094    0.4658     44869\n",
            "weighted avg     0.7981    0.8060    0.7243     44869\n",
            "\n"
          ],
          "name": "stdout"
        }
      ]
    },
    {
      "cell_type": "markdown",
      "metadata": {
        "id": "Y5jorpCWe8pI"
      },
      "source": [
        "# evaluate on dota dataset"
      ]
    },
    {
      "cell_type": "code",
      "metadata": {
        "id": "2pcQijSke8pL"
      },
      "source": [
        "!pip install -U -q PyDrive\n",
        "from pydrive.auth import GoogleAuth\n",
        "from pydrive.drive import GoogleDrive\n",
        "from google.colab import auth\n",
        "from oauth2client.client import GoogleCredentials\n",
        "\n",
        "import pandas as pd\n",
        "\n",
        "\n",
        "# Authenticate and create the PyDrive client.\n",
        "auth.authenticate_user()\n",
        "gauth = GoogleAuth()\n",
        "gauth.credentials = GoogleCredentials.get_application_default()\n",
        "drive = GoogleDrive(gauth)\n",
        "# Download all three Microsoft BotBuilder Personality Chat Datasets on Google Colab virtual server\n",
        "# https://drive.google.com/file/d/10yi1MvU3lrlqyGLGZ0Ee7o4e72zEW4Fg/view?usp=sharing\n",
        "#chats.csv DOTA dataset 1.4 million\n",
        "# https://drive.google.com/file/d/1VALiNA_ruYl0jt66MBG7Eb_o3sWQIBqj/view?usp=sharing\n",
        "# https://drive.google.com/file/d/1-HsJ2w944FNCZPPiqYjV7Ip-2fmdNqz5/view?usp=sharing\n",
        "download_files = [\n",
        "          {'id':'1VALiNA_ruYl0jt66MBG7Eb_o3sWQIBqj','file_name':'50K_Output.csv'},\n",
        "          {'id':'1-HsJ2w944FNCZPPiqYjV7Ip-2fmdNqz5','file_name':'word_level_data_combined_annotation.csv'},\n",
        "          ]\n",
        "for entity in download_files:\n",
        "  id1 = entity['id']\n",
        "  downloaded = drive.CreateFile({'id':id1 }) \n",
        "  downloaded.GetContentFile(entity['file_name']) "
      ],
      "execution_count": null,
      "outputs": []
    },
    {
      "cell_type": "code",
      "metadata": {
        "id": "Q6snNUCwe8pM"
      },
      "source": [
        "import pandas as pd\n",
        "import numpy as np\n",
        "import matplotlib.pyplot as plt\n",
        "colnames = ['1','2','3','utterance','4','5','6','Label','combined_annotation']\n",
        "test_data = pd.read_csv(\"50K_Output.csv\",names=colnames, header=None)"
      ],
      "execution_count": null,
      "outputs": []
    },
    {
      "cell_type": "code",
      "metadata": {
        "colab": {
          "base_uri": "https://localhost:8080/",
          "height": 204
        },
        "id": "mCFcBEyqe8pM",
        "outputId": "dcb6aa37-797d-443c-c92b-ba0015741a4b"
      },
      "source": [
        "def map_to_binary(x):\n",
        "  if x=='E' or x =='I':\n",
        "    return 1\n",
        "  else:\n",
        "    return 0\n",
        "\n",
        "test_data['Label'] = test_data['Label'].map(map_to_binary)\n",
        "test_data.head()"
      ],
      "execution_count": null,
      "outputs": [
        {
          "output_type": "execute_result",
          "data": {
            "text/html": [
              "<div>\n",
              "<style scoped>\n",
              "    .dataframe tbody tr th:only-of-type {\n",
              "        vertical-align: middle;\n",
              "    }\n",
              "\n",
              "    .dataframe tbody tr th {\n",
              "        vertical-align: top;\n",
              "    }\n",
              "\n",
              "    .dataframe thead th {\n",
              "        text-align: right;\n",
              "    }\n",
              "</style>\n",
              "<table border=\"1\" class=\"dataframe\">\n",
              "  <thead>\n",
              "    <tr style=\"text-align: right;\">\n",
              "      <th></th>\n",
              "      <th>1</th>\n",
              "      <th>2</th>\n",
              "      <th>3</th>\n",
              "      <th>utterance</th>\n",
              "      <th>4</th>\n",
              "      <th>5</th>\n",
              "      <th>6</th>\n",
              "      <th>Label</th>\n",
              "      <th>combined_annotation</th>\n",
              "    </tr>\n",
              "  </thead>\n",
              "  <tbody>\n",
              "    <tr>\n",
              "      <th>0</th>\n",
              "      <td>0</td>\n",
              "      <td>0</td>\n",
              "      <td>0</td>\n",
              "      <td>force it</td>\n",
              "      <td>-8</td>\n",
              "      <td>6</td>\n",
              "      <td>6k Slayer</td>\n",
              "      <td>0</td>\n",
              "      <td>force (D), it (P),</td>\n",
              "    </tr>\n",
              "    <tr>\n",
              "      <th>1</th>\n",
              "      <td>1</td>\n",
              "      <td>0</td>\n",
              "      <td>0</td>\n",
              "      <td>space created [SEPA] hah</td>\n",
              "      <td>5</td>\n",
              "      <td>1</td>\n",
              "      <td>Monkey</td>\n",
              "      <td>0</td>\n",
              "      <td>space (O), created (O), [SEPA] (SEPA), hah (O),</td>\n",
              "    </tr>\n",
              "    <tr>\n",
              "      <th>2</th>\n",
              "      <td>2</td>\n",
              "      <td>0</td>\n",
              "      <td>0</td>\n",
              "      <td>ez 500</td>\n",
              "      <td>9</td>\n",
              "      <td>6</td>\n",
              "      <td>6k Slayer</td>\n",
              "      <td>1</td>\n",
              "      <td>ez (S), 500 (O),</td>\n",
              "    </tr>\n",
              "    <tr>\n",
              "      <th>3</th>\n",
              "      <td>3</td>\n",
              "      <td>0</td>\n",
              "      <td>1</td>\n",
              "      <td>mvp ulti</td>\n",
              "      <td>934</td>\n",
              "      <td>4</td>\n",
              "      <td>Kira</td>\n",
              "      <td>0</td>\n",
              "      <td>mvp (O), ulti (S),</td>\n",
              "    </tr>\n",
              "    <tr>\n",
              "      <th>4</th>\n",
              "      <td>4</td>\n",
              "      <td>0</td>\n",
              "      <td>2</td>\n",
              "      <td>bye</td>\n",
              "      <td>1486</td>\n",
              "      <td>6</td>\n",
              "      <td>6k Slayer</td>\n",
              "      <td>0</td>\n",
              "      <td>bye (O),</td>\n",
              "    </tr>\n",
              "  </tbody>\n",
              "</table>\n",
              "</div>"
            ],
            "text/plain": [
              "   1  2  3  ...          6  Label                               combined_annotation\n",
              "0  0  0  0  ...  6k Slayer      0                               force (D), it (P), \n",
              "1  1  0  0  ...     Monkey      0  space (O), created (O), [SEPA] (SEPA), hah (O), \n",
              "2  2  0  0  ...  6k Slayer      1                                 ez (S), 500 (O), \n",
              "3  3  0  1  ...       Kira      0                               mvp (O), ulti (S), \n",
              "4  4  0  2  ...  6k Slayer      0                                         bye (O), \n",
              "\n",
              "[5 rows x 9 columns]"
            ]
          },
          "metadata": {
            "tags": []
          },
          "execution_count": 16
        }
      ]
    },
    {
      "cell_type": "code",
      "metadata": {
        "colab": {
          "base_uri": "https://localhost:8080/",
          "height": 204
        },
        "id": "spOx07hse8pN",
        "outputId": "0110f2ab-c44f-49b1-d370-bbccfa111ccf"
      },
      "source": [
        "def str_context(x):\n",
        "  return str(x)\n",
        "\n",
        "test_data['utterance'] = test_data['utterance'].map(str_context)\n",
        "test_data.head()"
      ],
      "execution_count": null,
      "outputs": [
        {
          "output_type": "execute_result",
          "data": {
            "text/html": [
              "<div>\n",
              "<style scoped>\n",
              "    .dataframe tbody tr th:only-of-type {\n",
              "        vertical-align: middle;\n",
              "    }\n",
              "\n",
              "    .dataframe tbody tr th {\n",
              "        vertical-align: top;\n",
              "    }\n",
              "\n",
              "    .dataframe thead th {\n",
              "        text-align: right;\n",
              "    }\n",
              "</style>\n",
              "<table border=\"1\" class=\"dataframe\">\n",
              "  <thead>\n",
              "    <tr style=\"text-align: right;\">\n",
              "      <th></th>\n",
              "      <th>1</th>\n",
              "      <th>2</th>\n",
              "      <th>3</th>\n",
              "      <th>utterance</th>\n",
              "      <th>4</th>\n",
              "      <th>5</th>\n",
              "      <th>6</th>\n",
              "      <th>Label</th>\n",
              "      <th>combined_annotation</th>\n",
              "    </tr>\n",
              "  </thead>\n",
              "  <tbody>\n",
              "    <tr>\n",
              "      <th>0</th>\n",
              "      <td>0</td>\n",
              "      <td>0</td>\n",
              "      <td>0</td>\n",
              "      <td>force it</td>\n",
              "      <td>-8</td>\n",
              "      <td>6</td>\n",
              "      <td>6k Slayer</td>\n",
              "      <td>0</td>\n",
              "      <td>force (D), it (P),</td>\n",
              "    </tr>\n",
              "    <tr>\n",
              "      <th>1</th>\n",
              "      <td>1</td>\n",
              "      <td>0</td>\n",
              "      <td>0</td>\n",
              "      <td>space created [SEPA] hah</td>\n",
              "      <td>5</td>\n",
              "      <td>1</td>\n",
              "      <td>Monkey</td>\n",
              "      <td>0</td>\n",
              "      <td>space (O), created (O), [SEPA] (SEPA), hah (O),</td>\n",
              "    </tr>\n",
              "    <tr>\n",
              "      <th>2</th>\n",
              "      <td>2</td>\n",
              "      <td>0</td>\n",
              "      <td>0</td>\n",
              "      <td>ez 500</td>\n",
              "      <td>9</td>\n",
              "      <td>6</td>\n",
              "      <td>6k Slayer</td>\n",
              "      <td>1</td>\n",
              "      <td>ez (S), 500 (O),</td>\n",
              "    </tr>\n",
              "    <tr>\n",
              "      <th>3</th>\n",
              "      <td>3</td>\n",
              "      <td>0</td>\n",
              "      <td>1</td>\n",
              "      <td>mvp ulti</td>\n",
              "      <td>934</td>\n",
              "      <td>4</td>\n",
              "      <td>Kira</td>\n",
              "      <td>0</td>\n",
              "      <td>mvp (O), ulti (S),</td>\n",
              "    </tr>\n",
              "    <tr>\n",
              "      <th>4</th>\n",
              "      <td>4</td>\n",
              "      <td>0</td>\n",
              "      <td>2</td>\n",
              "      <td>bye</td>\n",
              "      <td>1486</td>\n",
              "      <td>6</td>\n",
              "      <td>6k Slayer</td>\n",
              "      <td>0</td>\n",
              "      <td>bye (O),</td>\n",
              "    </tr>\n",
              "  </tbody>\n",
              "</table>\n",
              "</div>"
            ],
            "text/plain": [
              "   1  2  3  ...          6  Label                               combined_annotation\n",
              "0  0  0  0  ...  6k Slayer      0                               force (D), it (P), \n",
              "1  1  0  0  ...     Monkey      0  space (O), created (O), [SEPA] (SEPA), hah (O), \n",
              "2  2  0  0  ...  6k Slayer      1                                 ez (S), 500 (O), \n",
              "3  3  0  1  ...       Kira      0                               mvp (O), ulti (S), \n",
              "4  4  0  2  ...  6k Slayer      0                                         bye (O), \n",
              "\n",
              "[5 rows x 9 columns]"
            ]
          },
          "metadata": {
            "tags": []
          },
          "execution_count": 17
        }
      ]
    },
    {
      "cell_type": "code",
      "metadata": {
        "colab": {
          "base_uri": "https://localhost:8080/"
        },
        "id": "PsPH2_7We8pO",
        "outputId": "2edb4cb2-83be-45dd-b94c-a213d66dac50"
      },
      "source": [
        "test_ids = encode_fn(test_data['utterance'].tolist())\n",
        "test_labels = torch.tensor(test_data['Label'].tolist())\n",
        "testdataset = TensorDataset(test_ids, test_labels)\n",
        "\n",
        "# train_dataset, val_dataset = random_split(dataset, [train_size, val_size])\n",
        "\n",
        "# Create train and validation dataloaders\n",
        "# train_dataloader = DataLoader(train_dataset, batch_size = batch_size, shuffle = True)\n",
        "test_dataloader = DataLoader(testdataset, batch_size = batch_size, shuffle = False)"
      ],
      "execution_count": null,
      "outputs": [
        {
          "output_type": "stream",
          "text": [
            "/usr/local/lib/python3.6/dist-packages/transformers/tokenization_utils_base.py:2022: FutureWarning: The `pad_to_max_length` argument is deprecated and will be removed in a future version, use `padding=True` or `padding='longest'` to pad to the longest sequence in the batch, or use `padding='max_length'` to pad to a max length. In this case, you can give a specific length with `max_length` (e.g. `max_length=45`) or leave max_length to None to pad to the maximal input size of the model (e.g. 512 for Bert).\n",
            "  FutureWarning,\n"
          ],
          "name": "stderr"
        }
      ]
    },
    {
      "cell_type": "code",
      "metadata": {
        "colab": {
          "base_uri": "https://localhost:8080/"
        },
        "id": "yR_csR4ze8pO",
        "outputId": "391ac0af-1464-4d98-cd18-cc9a46dab93e"
      },
      "source": [
        "labels_all = []\n",
        "pred_flat_all = []\n",
        "for i, batch in enumerate(test_dataloader):\n",
        "    with torch.no_grad():\n",
        "        loss, logits = model(batch[0].to(device), token_type_ids=None, attention_mask=(batch[0]>0).to(device), labels=batch[1].to(device))\n",
        "            \n",
        "        total_val_loss += loss.item()\n",
        "        \n",
        "        logits = logits.detach().cpu().numpy()\n",
        "        label_ids = batch[1].to('cpu').numpy()\n",
        "        labels_flat, pred_flat = flat_accuracy(logits, label_ids)\n",
        "        labels_all.extend(labels_flat)\n",
        "        pred_flat_all.extend(pred_flat)\n",
        "print(len(labels_all))\n",
        "print(len(pred_flat_all))"
      ],
      "execution_count": null,
      "outputs": [
        {
          "output_type": "stream",
          "text": [
            "50001\n",
            "50001\n"
          ],
          "name": "stdout"
        }
      ]
    },
    {
      "cell_type": "code",
      "metadata": {
        "colab": {
          "base_uri": "https://localhost:8080/"
        },
        "id": "7VALp_wqe8pO",
        "outputId": "62818458-e8e7-4c56-d377-c3076edcef32"
      },
      "source": [
        "avg_val_accuracy = accuracy_score(labels_all, pred_flat_all)\n",
        "avg_val_accuracy"
      ],
      "execution_count": null,
      "outputs": [
        {
          "output_type": "execute_result",
          "data": {
            "text/plain": [
              "0.8307233855322893"
            ]
          },
          "metadata": {
            "tags": []
          },
          "execution_count": 20
        }
      ]
    },
    {
      "cell_type": "code",
      "metadata": {
        "colab": {
          "base_uri": "https://localhost:8080/"
        },
        "id": "n5HFep-ne8pP",
        "outputId": "47f06658-b522-40e0-c261-b8a3f8a539c0"
      },
      "source": [
        "from sklearn.metrics import classification_report\n",
        "print(classification_report(y_true=labels_all,y_pred=pred_flat_all,digits=4))"
      ],
      "execution_count": null,
      "outputs": [
        {
          "output_type": "stream",
          "text": [
            "              precision    recall  f1-score   support\n",
            "\n",
            "           0     0.8314    0.9987    0.9074     41508\n",
            "           1     0.6043    0.0099    0.0195      8493\n",
            "\n",
            "    accuracy                         0.8307     50001\n",
            "   macro avg     0.7178    0.5043    0.4634     50001\n",
            "weighted avg     0.7928    0.8307    0.7565     50001\n",
            "\n"
          ],
          "name": "stdout"
        }
      ]
    },
    {
      "cell_type": "markdown",
      "metadata": {
        "id": "get4lR7RXBoa"
      },
      "source": [
        "# evaluate on storm dataset"
      ]
    },
    {
      "cell_type": "code",
      "metadata": {
        "id": "U50cvuObXBoa"
      },
      "source": [
        "!pip install -U -q PyDrive\n",
        "from pydrive.auth import GoogleAuth\n",
        "from pydrive.drive import GoogleDrive\n",
        "from google.colab import auth\n",
        "from oauth2client.client import GoogleCredentials\n",
        "\n",
        "import pandas as pd\n",
        "\n",
        "\n",
        "# Authenticate and create the PyDrive client.\n",
        "auth.authenticate_user()\n",
        "gauth = GoogleAuth()\n",
        "gauth.credentials = GoogleCredentials.get_application_default()\n",
        "drive = GoogleDrive(gauth)\n",
        "# Download all three Microsoft BotBuilder Personality Chat Datasets on Google Colab virtual server\n",
        "# https://drive.google.com/file/d/10yi1MvU3lrlqyGLGZ0Ee7o4e72zEW4Fg/view?usp=sharing\n",
        "#chats.csv DOTA dataset 1.4 million\n",
        "# https://drive.google.com/file/d/1VALiNA_ruYl0jt66MBG7Eb_o3sWQIBqj/view?usp=sharing\n",
        "# https://drive.google.com/file/d/1-HsJ2w944FNCZPPiqYjV7Ip-2fmdNqz5/view?usp=sharing\n",
        "download_files = [\n",
        "          {'id':'1LNjeEeHNpJwS4O9OK2gOSpwddwzHCaqW','file_name':'storm.csv'},\n",
        "          ]\n",
        "for entity in download_files:\n",
        "  id1 = entity['id']\n",
        "  downloaded = drive.CreateFile({'id':id1 }) \n",
        "  downloaded.GetContentFile(entity['file_name']) "
      ],
      "execution_count": null,
      "outputs": []
    },
    {
      "cell_type": "code",
      "metadata": {
        "id": "CBwSVA0vXBob"
      },
      "source": [
        "import pandas as pd\n",
        "import numpy as np\n",
        "import matplotlib.pyplot as plt\n",
        "# colnames = ['1','2','3','utterance','4','5','6','Label','combined_annotation']\n",
        "test_data = pd.read_csv(\"storm.csv\")"
      ],
      "execution_count": null,
      "outputs": []
    },
    {
      "cell_type": "code",
      "metadata": {
        "colab": {
          "base_uri": "https://localhost:8080/",
          "height": 204
        },
        "id": "uUJsHWqyXBob",
        "outputId": "381a1277-b1c3-4908-9737-195510e4fb5a"
      },
      "source": [
        "map_dict = {'hate':1,'noHate':0,'relation':0,'idk/skip':0}\n",
        "def map_to_binary(x):\n",
        "  return map_dict[x]\n",
        "test_data['label'] = test_data['label'].map(map_to_binary)\n",
        "test_data.head()"
      ],
      "execution_count": null,
      "outputs": [
        {
          "output_type": "execute_result",
          "data": {
            "text/html": [
              "<div>\n",
              "<style scoped>\n",
              "    .dataframe tbody tr th:only-of-type {\n",
              "        vertical-align: middle;\n",
              "    }\n",
              "\n",
              "    .dataframe tbody tr th {\n",
              "        vertical-align: top;\n",
              "    }\n",
              "\n",
              "    .dataframe thead th {\n",
              "        text-align: right;\n",
              "    }\n",
              "</style>\n",
              "<table border=\"1\" class=\"dataframe\">\n",
              "  <thead>\n",
              "    <tr style=\"text-align: right;\">\n",
              "      <th></th>\n",
              "      <th>sentence</th>\n",
              "      <th>label</th>\n",
              "      <th>user_id</th>\n",
              "      <th>file_id</th>\n",
              "    </tr>\n",
              "  </thead>\n",
              "  <tbody>\n",
              "    <tr>\n",
              "      <th>0</th>\n",
              "      <td>b'As of March 13th , 2014 , the booklet had be...</td>\n",
              "      <td>0</td>\n",
              "      <td>572066</td>\n",
              "      <td>12834217_1</td>\n",
              "    </tr>\n",
              "    <tr>\n",
              "      <th>1</th>\n",
              "      <td>b'In order to help increase the booklets downl...</td>\n",
              "      <td>0</td>\n",
              "      <td>572066</td>\n",
              "      <td>12834217_2</td>\n",
              "    </tr>\n",
              "    <tr>\n",
              "      <th>2</th>\n",
              "      <td>b'( Simply copy and paste the following text i...</td>\n",
              "      <td>0</td>\n",
              "      <td>572066</td>\n",
              "      <td>12834217_3</td>\n",
              "    </tr>\n",
              "    <tr>\n",
              "      <th>3</th>\n",
              "      <td>b'Click below for a FREE download of a colorfu...</td>\n",
              "      <td>1</td>\n",
              "      <td>572066</td>\n",
              "      <td>12834217_4</td>\n",
              "    </tr>\n",
              "    <tr>\n",
              "      <th>4</th>\n",
              "      <td>b\"Click on the `` DOWNLOAD ( 7.42 MB ) '' gree...</td>\n",
              "      <td>0</td>\n",
              "      <td>572066</td>\n",
              "      <td>12834217_5</td>\n",
              "    </tr>\n",
              "  </tbody>\n",
              "</table>\n",
              "</div>"
            ],
            "text/plain": [
              "                                            sentence  ...     file_id\n",
              "0  b'As of March 13th , 2014 , the booklet had be...  ...  12834217_1\n",
              "1  b'In order to help increase the booklets downl...  ...  12834217_2\n",
              "2  b'( Simply copy and paste the following text i...  ...  12834217_3\n",
              "3  b'Click below for a FREE download of a colorfu...  ...  12834217_4\n",
              "4  b\"Click on the `` DOWNLOAD ( 7.42 MB ) '' gree...  ...  12834217_5\n",
              "\n",
              "[5 rows x 4 columns]"
            ]
          },
          "metadata": {
            "tags": []
          },
          "execution_count": 24
        }
      ]
    },
    {
      "cell_type": "code",
      "metadata": {
        "colab": {
          "base_uri": "https://localhost:8080/"
        },
        "id": "Ow667cozXBob",
        "outputId": "e3485543-16c7-43fd-f850-bc69f7b5ecb4"
      },
      "source": [
        "test_ids = encode_fn(test_data['sentence'].tolist())\n",
        "test_labels = torch.tensor(test_data['label'].tolist())\n",
        "testdataset = TensorDataset(test_ids, test_labels)\n",
        "\n",
        "# train_dataset, val_dataset = random_split(dataset, [train_size, val_size])\n",
        "\n",
        "# Create train and validation dataloaders\n",
        "# train_dataloader = DataLoader(train_dataset, batch_size = batch_size, shuffle = True)\n",
        "test_dataloader = DataLoader(testdataset, batch_size = batch_size, shuffle = False)"
      ],
      "execution_count": null,
      "outputs": [
        {
          "output_type": "stream",
          "text": [
            "/usr/local/lib/python3.6/dist-packages/transformers/tokenization_utils_base.py:2022: FutureWarning: The `pad_to_max_length` argument is deprecated and will be removed in a future version, use `padding=True` or `padding='longest'` to pad to the longest sequence in the batch, or use `padding='max_length'` to pad to a max length. In this case, you can give a specific length with `max_length` (e.g. `max_length=45`) or leave max_length to None to pad to the maximal input size of the model (e.g. 512 for Bert).\n",
            "  FutureWarning,\n"
          ],
          "name": "stderr"
        }
      ]
    },
    {
      "cell_type": "code",
      "metadata": {
        "colab": {
          "base_uri": "https://localhost:8080/"
        },
        "id": "7vWcboDGXBoc",
        "outputId": "a620745c-45e4-4c67-c20b-796b5e0a4551"
      },
      "source": [
        "labels_all = []\n",
        "pred_flat_all = []\n",
        "for i, batch in enumerate(test_dataloader):\n",
        "    with torch.no_grad():\n",
        "        loss, logits = model(batch[0].to(device), token_type_ids=None, attention_mask=(batch[0]>0).to(device), labels=batch[1].to(device))\n",
        "            \n",
        "        total_val_loss += loss.item()\n",
        "        \n",
        "        logits = logits.detach().cpu().numpy()\n",
        "        label_ids = batch[1].to('cpu').numpy()\n",
        "        labels_flat, pred_flat = flat_accuracy(logits, label_ids)\n",
        "        labels_all.extend(labels_flat)\n",
        "        pred_flat_all.extend(pred_flat)\n",
        "print(len(labels_all))\n",
        "print(len(pred_flat_all))"
      ],
      "execution_count": null,
      "outputs": [
        {
          "output_type": "stream",
          "text": [
            "10944\n",
            "10944\n"
          ],
          "name": "stdout"
        }
      ]
    },
    {
      "cell_type": "code",
      "metadata": {
        "colab": {
          "base_uri": "https://localhost:8080/"
        },
        "id": "OBB5-GnvXBoc",
        "outputId": "0b4affc3-bb6d-40e5-ac39-f41d3908470b"
      },
      "source": [
        "avg_val_accuracy = accuracy_score(labels_all, pred_flat_all)\n",
        "avg_val_accuracy"
      ],
      "execution_count": null,
      "outputs": [
        {
          "output_type": "execute_result",
          "data": {
            "text/plain": [
              "0.8845029239766082"
            ]
          },
          "metadata": {
            "tags": []
          },
          "execution_count": 27
        }
      ]
    },
    {
      "cell_type": "code",
      "metadata": {
        "colab": {
          "base_uri": "https://localhost:8080/"
        },
        "id": "9KwziDdxXBoc",
        "outputId": "0e61cc3b-3ae8-457f-bad5-cae80b920f05"
      },
      "source": [
        "from sklearn.metrics import classification_report\n",
        "print(classification_report(y_true=labels_all,y_pred=pred_flat_all,digits=4))"
      ],
      "execution_count": null,
      "outputs": [
        {
          "output_type": "stream",
          "text": [
            "              precision    recall  f1-score   support\n",
            "\n",
            "           0     0.8985    0.9811    0.9380      9748\n",
            "           1     0.3867    0.0970    0.1551      1196\n",
            "\n",
            "    accuracy                         0.8845     10944\n",
            "   macro avg     0.6426    0.5391    0.5465     10944\n",
            "weighted avg     0.8426    0.8845    0.8525     10944\n",
            "\n"
          ],
          "name": "stdout"
        }
      ]
    },
    {
      "cell_type": "markdown",
      "metadata": {
        "id": "LIShm6P2XCUC"
      },
      "source": [
        "# evaluate on fox dataset"
      ]
    },
    {
      "cell_type": "code",
      "metadata": {
        "id": "lzdV-FxSXCUC"
      },
      "source": [
        "!pip install -U -q PyDrive\n",
        "from pydrive.auth import GoogleAuth\n",
        "from pydrive.drive import GoogleDrive\n",
        "from google.colab import auth\n",
        "from oauth2client.client import GoogleCredentials\n",
        "\n",
        "import pandas as pd\n",
        "\n",
        "\n",
        "# Authenticate and create the PyDrive client.\n",
        "auth.authenticate_user()\n",
        "gauth = GoogleAuth()\n",
        "gauth.credentials = GoogleCredentials.get_application_default()\n",
        "drive = GoogleDrive(gauth)\n",
        "# Download all three Microsoft BotBuilder Personality Chat Datasets on Google Colab virtual server\n",
        "# https://drive.google.com/file/d/10yi1MvU3lrlqyGLGZ0Ee7o4e72zEW4Fg/view?usp=sharing\n",
        "#chats.csv DOTA dataset 1.4 million\n",
        "# https://drive.google.com/file/d/1VALiNA_ruYl0jt66MBG7Eb_o3sWQIBqj/view?usp=sharing\n",
        "# https://drive.google.com/file/d/1-HsJ2w944FNCZPPiqYjV7Ip-2fmdNqz5/view?usp=sharing\n",
        "download_files = [\n",
        "          {'id':'1fKnmVJYBVkLKSr6YDXwUz5tZAHDc7YvO','file_name':'fox.csv'},\n",
        "          ]\n",
        "for entity in download_files:\n",
        "  id1 = entity['id']\n",
        "  downloaded = drive.CreateFile({'id':id1 }) \n",
        "  downloaded.GetContentFile(entity['file_name']) "
      ],
      "execution_count": null,
      "outputs": []
    },
    {
      "cell_type": "code",
      "metadata": {
        "id": "BMonhlpKXCUC"
      },
      "source": [
        "import pandas as pd\n",
        "import numpy as np\n",
        "import matplotlib.pyplot as plt\n",
        "test_data = pd.read_csv(\"fox.csv\")"
      ],
      "execution_count": null,
      "outputs": []
    },
    {
      "cell_type": "code",
      "metadata": {
        "colab": {
          "base_uri": "https://localhost:8080/",
          "height": 306
        },
        "id": "lqUGazDpXCUC",
        "outputId": "fca37043-eab1-4b80-e81d-179030910351"
      },
      "source": [
        "map_dict = {'hateful':1,'non-hateful':0}\n",
        "def map_to_binary(x):\n",
        "  return map_dict[x]\n",
        "test_data['label'] = test_data['label'].map(map_to_binary)\n",
        "test_data.head()"
      ],
      "execution_count": null,
      "outputs": [
        {
          "output_type": "execute_result",
          "data": {
            "text/html": [
              "<div>\n",
              "<style scoped>\n",
              "    .dataframe tbody tr th:only-of-type {\n",
              "        vertical-align: middle;\n",
              "    }\n",
              "\n",
              "    .dataframe tbody tr th {\n",
              "        vertical-align: top;\n",
              "    }\n",
              "\n",
              "    .dataframe thead th {\n",
              "        text-align: right;\n",
              "    }\n",
              "</style>\n",
              "<table border=\"1\" class=\"dataframe\">\n",
              "  <thead>\n",
              "    <tr style=\"text-align: right;\">\n",
              "      <th></th>\n",
              "      <th>Unnamed: 0</th>\n",
              "      <th>title</th>\n",
              "      <th>text</th>\n",
              "      <th>label</th>\n",
              "      <th>succ</th>\n",
              "      <th>meta</th>\n",
              "      <th>user</th>\n",
              "      <th>mentions</th>\n",
              "      <th>prev</th>\n",
              "    </tr>\n",
              "  </thead>\n",
              "  <tbody>\n",
              "    <tr>\n",
              "      <th>0</th>\n",
              "      <td>0</td>\n",
              "      <td>German lawmakers approve 'no means no' rape la...</td>\n",
              "      <td>Merkel would never say NO</td>\n",
              "      <td>1</td>\n",
              "      <td>NaN</td>\n",
              "      <td>German lawmakers passed a bill Thursday that w...</td>\n",
              "      <td>barryswallows</td>\n",
              "      <td>NaN</td>\n",
              "      <td>NaN</td>\n",
              "    </tr>\n",
              "    <tr>\n",
              "      <th>1</th>\n",
              "      <td>1</td>\n",
              "      <td>German lawmakers approve 'no means no' rape la...</td>\n",
              "      <td>Expect more and more women to be asking .. \"wh...</td>\n",
              "      <td>1</td>\n",
              "      <td>NaN</td>\n",
              "      <td>German lawmakers passed a bill Thursday that w...</td>\n",
              "      <td>PostApocalypticHero</td>\n",
              "      <td>NaN</td>\n",
              "      <td>NaN</td>\n",
              "    </tr>\n",
              "    <tr>\n",
              "      <th>2</th>\n",
              "      <td>2</td>\n",
              "      <td>German lawmakers approve 'no means no' rape la...</td>\n",
              "      <td>Groping people in public wasn't already illega...</td>\n",
              "      <td>0</td>\n",
              "      <td>NaN</td>\n",
              "      <td>German lawmakers passed a bill Thursday that w...</td>\n",
              "      <td>californiamojo</td>\n",
              "      <td>NaN</td>\n",
              "      <td>NaN</td>\n",
              "    </tr>\n",
              "    <tr>\n",
              "      <th>3</th>\n",
              "      <td>3</td>\n",
              "      <td>German lawmakers approve 'no means no' rape la...</td>\n",
              "      <td>Merkel, possible the only person in charge who...</td>\n",
              "      <td>1</td>\n",
              "      <td>NaN</td>\n",
              "      <td>German lawmakers passed a bill Thursday that w...</td>\n",
              "      <td>MikeSte</td>\n",
              "      <td>NaN</td>\n",
              "      <td>NaN</td>\n",
              "    </tr>\n",
              "    <tr>\n",
              "      <th>4</th>\n",
              "      <td>4</td>\n",
              "      <td>German lawmakers approve 'no means no' rape la...</td>\n",
              "      <td>They know very well, no means NO! They need to...</td>\n",
              "      <td>1</td>\n",
              "      <td>NaN</td>\n",
              "      <td>German lawmakers passed a bill Thursday that w...</td>\n",
              "      <td>scientist</td>\n",
              "      <td>NaN</td>\n",
              "      <td>NaN</td>\n",
              "    </tr>\n",
              "  </tbody>\n",
              "</table>\n",
              "</div>"
            ],
            "text/plain": [
              "   Unnamed: 0                                              title  ... mentions  prev\n",
              "0           0  German lawmakers approve 'no means no' rape la...  ...      NaN   NaN\n",
              "1           1  German lawmakers approve 'no means no' rape la...  ...      NaN   NaN\n",
              "2           2  German lawmakers approve 'no means no' rape la...  ...      NaN   NaN\n",
              "3           3  German lawmakers approve 'no means no' rape la...  ...      NaN   NaN\n",
              "4           4  German lawmakers approve 'no means no' rape la...  ...      NaN   NaN\n",
              "\n",
              "[5 rows x 9 columns]"
            ]
          },
          "metadata": {
            "tags": []
          },
          "execution_count": 31
        }
      ]
    },
    {
      "cell_type": "code",
      "metadata": {
        "colab": {
          "base_uri": "https://localhost:8080/"
        },
        "id": "9jYK1AvpXCUD",
        "outputId": "d9c24f0b-a49e-4d11-b572-dc69af41b80f"
      },
      "source": [
        "test_ids = encode_fn(test_data['text'].tolist())\n",
        "test_labels = torch.tensor(test_data['label'].tolist())\n",
        "testdataset = TensorDataset(test_ids, test_labels)\n",
        "\n",
        "# train_dataset, val_dataset = random_split(dataset, [train_size, val_size])\n",
        "\n",
        "# Create train and validation dataloaders\n",
        "# train_dataloader = DataLoader(train_dataset, batch_size = batch_size, shuffle = True)\n",
        "test_dataloader = DataLoader(testdataset, batch_size = batch_size, shuffle = False)"
      ],
      "execution_count": null,
      "outputs": [
        {
          "output_type": "stream",
          "text": [
            "/usr/local/lib/python3.6/dist-packages/transformers/tokenization_utils_base.py:2022: FutureWarning: The `pad_to_max_length` argument is deprecated and will be removed in a future version, use `padding=True` or `padding='longest'` to pad to the longest sequence in the batch, or use `padding='max_length'` to pad to a max length. In this case, you can give a specific length with `max_length` (e.g. `max_length=45`) or leave max_length to None to pad to the maximal input size of the model (e.g. 512 for Bert).\n",
            "  FutureWarning,\n"
          ],
          "name": "stderr"
        }
      ]
    },
    {
      "cell_type": "code",
      "metadata": {
        "colab": {
          "base_uri": "https://localhost:8080/"
        },
        "id": "ik9Ml0wuXCUD",
        "outputId": "2baa81f1-bf00-4e1d-834c-aa54bfe85df2"
      },
      "source": [
        "labels_all = []\n",
        "pred_flat_all = []\n",
        "for i, batch in enumerate(test_dataloader):\n",
        "    with torch.no_grad():\n",
        "        loss, logits = model(batch[0].to(device), token_type_ids=None, attention_mask=(batch[0]>0).to(device), labels=batch[1].to(device))\n",
        "            \n",
        "        total_val_loss += loss.item()\n",
        "        \n",
        "        logits = logits.detach().cpu().numpy()\n",
        "        label_ids = batch[1].to('cpu').numpy()\n",
        "        labels_flat, pred_flat = flat_accuracy(logits, label_ids)\n",
        "        labels_all.extend(labels_flat)\n",
        "        pred_flat_all.extend(pred_flat)\n",
        "print(len(labels_all))\n",
        "print(len(pred_flat_all))"
      ],
      "execution_count": null,
      "outputs": [
        {
          "output_type": "stream",
          "text": [
            "1526\n",
            "1526\n"
          ],
          "name": "stdout"
        }
      ]
    },
    {
      "cell_type": "code",
      "metadata": {
        "colab": {
          "base_uri": "https://localhost:8080/"
        },
        "id": "HVxPM1pRXCUD",
        "outputId": "69484f13-69e3-4845-c2fa-3c3e4b87d492"
      },
      "source": [
        "avg_val_accuracy = accuracy_score(labels_all, pred_flat_all)\n",
        "avg_val_accuracy"
      ],
      "execution_count": null,
      "outputs": [
        {
          "output_type": "execute_result",
          "data": {
            "text/plain": [
              "0.72870249017038"
            ]
          },
          "metadata": {
            "tags": []
          },
          "execution_count": 34
        }
      ]
    },
    {
      "cell_type": "code",
      "metadata": {
        "colab": {
          "base_uri": "https://localhost:8080/"
        },
        "id": "UmVQNDqsXCUD",
        "outputId": "46c292b1-ec32-4c1a-83d0-0b0079bd40a9"
      },
      "source": [
        "from sklearn.metrics import classification_report\n",
        "print(classification_report(y_true=labels_all,y_pred=pred_flat_all,digits=4))"
      ],
      "execution_count": null,
      "outputs": [
        {
          "output_type": "stream",
          "text": [
            "              precision    recall  f1-score   support\n",
            "\n",
            "           0     0.7339    0.9734    0.8369      1091\n",
            "           1     0.6329    0.1149    0.1946       435\n",
            "\n",
            "    accuracy                         0.7287      1526\n",
            "   macro avg     0.6834    0.5442    0.5157      1526\n",
            "weighted avg     0.7051    0.7287    0.6538      1526\n",
            "\n"
          ],
          "name": "stdout"
        }
      ]
    }
  ]
}