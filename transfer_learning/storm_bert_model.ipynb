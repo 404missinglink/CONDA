{
  "nbformat": 4,
  "nbformat_minor": 0,
  "metadata": {
    "kernelspec": {
      "display_name": "Python 3",
      "language": "python",
      "name": "python3"
    },
    "language_info": {
      "codemirror_mode": {
        "name": "ipython",
        "version": 3
      },
      "file_extension": ".py",
      "mimetype": "text/x-python",
      "name": "python",
      "nbconvert_exporter": "python",
      "pygments_lexer": "ipython3",
      "version": "3.7.0"
    },
    "colab": {
      "name": "storm_bert_model",
      "provenance": [],
      "collapsed_sections": [],
      "toc_visible": true,
      "machine_shape": "hm"
    },
    "accelerator": "GPU",
    "widgets": {
      "application/vnd.jupyter.widget-state+json": {
        "5d4a9ddbe98c4a1c8dcf47673ca667d6": {
          "model_module": "@jupyter-widgets/controls",
          "model_name": "HBoxModel",
          "state": {
            "_view_name": "HBoxView",
            "_dom_classes": [],
            "_model_name": "HBoxModel",
            "_view_module": "@jupyter-widgets/controls",
            "_model_module_version": "1.5.0",
            "_view_count": null,
            "_view_module_version": "1.5.0",
            "box_style": "",
            "layout": "IPY_MODEL_1d85bff129e6475f81de77d392449a87",
            "_model_module": "@jupyter-widgets/controls",
            "children": [
              "IPY_MODEL_74ee05fbf13c4803a2837770397c40f0",
              "IPY_MODEL_4e18e91fd9f64b2199506f5d56945705"
            ]
          }
        },
        "1d85bff129e6475f81de77d392449a87": {
          "model_module": "@jupyter-widgets/base",
          "model_name": "LayoutModel",
          "state": {
            "_view_name": "LayoutView",
            "grid_template_rows": null,
            "right": null,
            "justify_content": null,
            "_view_module": "@jupyter-widgets/base",
            "overflow": null,
            "_model_module_version": "1.2.0",
            "_view_count": null,
            "flex_flow": null,
            "width": null,
            "min_width": null,
            "border": null,
            "align_items": null,
            "bottom": null,
            "_model_module": "@jupyter-widgets/base",
            "top": null,
            "grid_column": null,
            "overflow_y": null,
            "overflow_x": null,
            "grid_auto_flow": null,
            "grid_area": null,
            "grid_template_columns": null,
            "flex": null,
            "_model_name": "LayoutModel",
            "justify_items": null,
            "grid_row": null,
            "max_height": null,
            "align_content": null,
            "visibility": null,
            "align_self": null,
            "height": null,
            "min_height": null,
            "padding": null,
            "grid_auto_rows": null,
            "grid_gap": null,
            "max_width": null,
            "order": null,
            "_view_module_version": "1.2.0",
            "grid_template_areas": null,
            "object_position": null,
            "object_fit": null,
            "grid_auto_columns": null,
            "margin": null,
            "display": null,
            "left": null
          }
        },
        "74ee05fbf13c4803a2837770397c40f0": {
          "model_module": "@jupyter-widgets/controls",
          "model_name": "FloatProgressModel",
          "state": {
            "_view_name": "ProgressView",
            "style": "IPY_MODEL_9992a62556de47c5be81d7f7d7c82cba",
            "_dom_classes": [],
            "description": "Downloading: 100%",
            "_model_name": "FloatProgressModel",
            "bar_style": "success",
            "max": 231508,
            "_view_module": "@jupyter-widgets/controls",
            "_model_module_version": "1.5.0",
            "value": 231508,
            "_view_count": null,
            "_view_module_version": "1.5.0",
            "orientation": "horizontal",
            "min": 0,
            "description_tooltip": null,
            "_model_module": "@jupyter-widgets/controls",
            "layout": "IPY_MODEL_7e73cdef472643caa5b2454402c9b125"
          }
        },
        "4e18e91fd9f64b2199506f5d56945705": {
          "model_module": "@jupyter-widgets/controls",
          "model_name": "HTMLModel",
          "state": {
            "_view_name": "HTMLView",
            "style": "IPY_MODEL_dbd6b315b77441b2a04775be265da472",
            "_dom_classes": [],
            "description": "",
            "_model_name": "HTMLModel",
            "placeholder": "​",
            "_view_module": "@jupyter-widgets/controls",
            "_model_module_version": "1.5.0",
            "value": " 232k/232k [00:00&lt;00:00, 1.59MB/s]",
            "_view_count": null,
            "_view_module_version": "1.5.0",
            "description_tooltip": null,
            "_model_module": "@jupyter-widgets/controls",
            "layout": "IPY_MODEL_b07418ab67484128b487d72b37eb4beb"
          }
        },
        "9992a62556de47c5be81d7f7d7c82cba": {
          "model_module": "@jupyter-widgets/controls",
          "model_name": "ProgressStyleModel",
          "state": {
            "_view_name": "StyleView",
            "_model_name": "ProgressStyleModel",
            "description_width": "initial",
            "_view_module": "@jupyter-widgets/base",
            "_model_module_version": "1.5.0",
            "_view_count": null,
            "_view_module_version": "1.2.0",
            "bar_color": null,
            "_model_module": "@jupyter-widgets/controls"
          }
        },
        "7e73cdef472643caa5b2454402c9b125": {
          "model_module": "@jupyter-widgets/base",
          "model_name": "LayoutModel",
          "state": {
            "_view_name": "LayoutView",
            "grid_template_rows": null,
            "right": null,
            "justify_content": null,
            "_view_module": "@jupyter-widgets/base",
            "overflow": null,
            "_model_module_version": "1.2.0",
            "_view_count": null,
            "flex_flow": null,
            "width": null,
            "min_width": null,
            "border": null,
            "align_items": null,
            "bottom": null,
            "_model_module": "@jupyter-widgets/base",
            "top": null,
            "grid_column": null,
            "overflow_y": null,
            "overflow_x": null,
            "grid_auto_flow": null,
            "grid_area": null,
            "grid_template_columns": null,
            "flex": null,
            "_model_name": "LayoutModel",
            "justify_items": null,
            "grid_row": null,
            "max_height": null,
            "align_content": null,
            "visibility": null,
            "align_self": null,
            "height": null,
            "min_height": null,
            "padding": null,
            "grid_auto_rows": null,
            "grid_gap": null,
            "max_width": null,
            "order": null,
            "_view_module_version": "1.2.0",
            "grid_template_areas": null,
            "object_position": null,
            "object_fit": null,
            "grid_auto_columns": null,
            "margin": null,
            "display": null,
            "left": null
          }
        },
        "dbd6b315b77441b2a04775be265da472": {
          "model_module": "@jupyter-widgets/controls",
          "model_name": "DescriptionStyleModel",
          "state": {
            "_view_name": "StyleView",
            "_model_name": "DescriptionStyleModel",
            "description_width": "",
            "_view_module": "@jupyter-widgets/base",
            "_model_module_version": "1.5.0",
            "_view_count": null,
            "_view_module_version": "1.2.0",
            "_model_module": "@jupyter-widgets/controls"
          }
        },
        "b07418ab67484128b487d72b37eb4beb": {
          "model_module": "@jupyter-widgets/base",
          "model_name": "LayoutModel",
          "state": {
            "_view_name": "LayoutView",
            "grid_template_rows": null,
            "right": null,
            "justify_content": null,
            "_view_module": "@jupyter-widgets/base",
            "overflow": null,
            "_model_module_version": "1.2.0",
            "_view_count": null,
            "flex_flow": null,
            "width": null,
            "min_width": null,
            "border": null,
            "align_items": null,
            "bottom": null,
            "_model_module": "@jupyter-widgets/base",
            "top": null,
            "grid_column": null,
            "overflow_y": null,
            "overflow_x": null,
            "grid_auto_flow": null,
            "grid_area": null,
            "grid_template_columns": null,
            "flex": null,
            "_model_name": "LayoutModel",
            "justify_items": null,
            "grid_row": null,
            "max_height": null,
            "align_content": null,
            "visibility": null,
            "align_self": null,
            "height": null,
            "min_height": null,
            "padding": null,
            "grid_auto_rows": null,
            "grid_gap": null,
            "max_width": null,
            "order": null,
            "_view_module_version": "1.2.0",
            "grid_template_areas": null,
            "object_position": null,
            "object_fit": null,
            "grid_auto_columns": null,
            "margin": null,
            "display": null,
            "left": null
          }
        },
        "dc8d3cb244ff4ee299d416dbba499984": {
          "model_module": "@jupyter-widgets/controls",
          "model_name": "HBoxModel",
          "state": {
            "_view_name": "HBoxView",
            "_dom_classes": [],
            "_model_name": "HBoxModel",
            "_view_module": "@jupyter-widgets/controls",
            "_model_module_version": "1.5.0",
            "_view_count": null,
            "_view_module_version": "1.5.0",
            "box_style": "",
            "layout": "IPY_MODEL_80cac53cd62646f281582429ad511c66",
            "_model_module": "@jupyter-widgets/controls",
            "children": [
              "IPY_MODEL_a11b54b6bc5549889663b97bc8f76fe0",
              "IPY_MODEL_b9b98d00780f43f7b9f4177aa882c029"
            ]
          }
        },
        "80cac53cd62646f281582429ad511c66": {
          "model_module": "@jupyter-widgets/base",
          "model_name": "LayoutModel",
          "state": {
            "_view_name": "LayoutView",
            "grid_template_rows": null,
            "right": null,
            "justify_content": null,
            "_view_module": "@jupyter-widgets/base",
            "overflow": null,
            "_model_module_version": "1.2.0",
            "_view_count": null,
            "flex_flow": null,
            "width": null,
            "min_width": null,
            "border": null,
            "align_items": null,
            "bottom": null,
            "_model_module": "@jupyter-widgets/base",
            "top": null,
            "grid_column": null,
            "overflow_y": null,
            "overflow_x": null,
            "grid_auto_flow": null,
            "grid_area": null,
            "grid_template_columns": null,
            "flex": null,
            "_model_name": "LayoutModel",
            "justify_items": null,
            "grid_row": null,
            "max_height": null,
            "align_content": null,
            "visibility": null,
            "align_self": null,
            "height": null,
            "min_height": null,
            "padding": null,
            "grid_auto_rows": null,
            "grid_gap": null,
            "max_width": null,
            "order": null,
            "_view_module_version": "1.2.0",
            "grid_template_areas": null,
            "object_position": null,
            "object_fit": null,
            "grid_auto_columns": null,
            "margin": null,
            "display": null,
            "left": null
          }
        },
        "a11b54b6bc5549889663b97bc8f76fe0": {
          "model_module": "@jupyter-widgets/controls",
          "model_name": "FloatProgressModel",
          "state": {
            "_view_name": "ProgressView",
            "style": "IPY_MODEL_dff1f87fc4c94d5bb651985987a2684a",
            "_dom_classes": [],
            "description": "Downloading: 100%",
            "_model_name": "FloatProgressModel",
            "bar_style": "success",
            "max": 433,
            "_view_module": "@jupyter-widgets/controls",
            "_model_module_version": "1.5.0",
            "value": 433,
            "_view_count": null,
            "_view_module_version": "1.5.0",
            "orientation": "horizontal",
            "min": 0,
            "description_tooltip": null,
            "_model_module": "@jupyter-widgets/controls",
            "layout": "IPY_MODEL_d78087909e264a3184429ad72e73b383"
          }
        },
        "b9b98d00780f43f7b9f4177aa882c029": {
          "model_module": "@jupyter-widgets/controls",
          "model_name": "HTMLModel",
          "state": {
            "_view_name": "HTMLView",
            "style": "IPY_MODEL_fbc3b0f8f5b24984982b120511eca17d",
            "_dom_classes": [],
            "description": "",
            "_model_name": "HTMLModel",
            "placeholder": "​",
            "_view_module": "@jupyter-widgets/controls",
            "_model_module_version": "1.5.0",
            "value": " 433/433 [00:29&lt;00:00, 14.6B/s]",
            "_view_count": null,
            "_view_module_version": "1.5.0",
            "description_tooltip": null,
            "_model_module": "@jupyter-widgets/controls",
            "layout": "IPY_MODEL_73bce7e29ded4145a9aba03bdfacb589"
          }
        },
        "dff1f87fc4c94d5bb651985987a2684a": {
          "model_module": "@jupyter-widgets/controls",
          "model_name": "ProgressStyleModel",
          "state": {
            "_view_name": "StyleView",
            "_model_name": "ProgressStyleModel",
            "description_width": "initial",
            "_view_module": "@jupyter-widgets/base",
            "_model_module_version": "1.5.0",
            "_view_count": null,
            "_view_module_version": "1.2.0",
            "bar_color": null,
            "_model_module": "@jupyter-widgets/controls"
          }
        },
        "d78087909e264a3184429ad72e73b383": {
          "model_module": "@jupyter-widgets/base",
          "model_name": "LayoutModel",
          "state": {
            "_view_name": "LayoutView",
            "grid_template_rows": null,
            "right": null,
            "justify_content": null,
            "_view_module": "@jupyter-widgets/base",
            "overflow": null,
            "_model_module_version": "1.2.0",
            "_view_count": null,
            "flex_flow": null,
            "width": null,
            "min_width": null,
            "border": null,
            "align_items": null,
            "bottom": null,
            "_model_module": "@jupyter-widgets/base",
            "top": null,
            "grid_column": null,
            "overflow_y": null,
            "overflow_x": null,
            "grid_auto_flow": null,
            "grid_area": null,
            "grid_template_columns": null,
            "flex": null,
            "_model_name": "LayoutModel",
            "justify_items": null,
            "grid_row": null,
            "max_height": null,
            "align_content": null,
            "visibility": null,
            "align_self": null,
            "height": null,
            "min_height": null,
            "padding": null,
            "grid_auto_rows": null,
            "grid_gap": null,
            "max_width": null,
            "order": null,
            "_view_module_version": "1.2.0",
            "grid_template_areas": null,
            "object_position": null,
            "object_fit": null,
            "grid_auto_columns": null,
            "margin": null,
            "display": null,
            "left": null
          }
        },
        "fbc3b0f8f5b24984982b120511eca17d": {
          "model_module": "@jupyter-widgets/controls",
          "model_name": "DescriptionStyleModel",
          "state": {
            "_view_name": "StyleView",
            "_model_name": "DescriptionStyleModel",
            "description_width": "",
            "_view_module": "@jupyter-widgets/base",
            "_model_module_version": "1.5.0",
            "_view_count": null,
            "_view_module_version": "1.2.0",
            "_model_module": "@jupyter-widgets/controls"
          }
        },
        "73bce7e29ded4145a9aba03bdfacb589": {
          "model_module": "@jupyter-widgets/base",
          "model_name": "LayoutModel",
          "state": {
            "_view_name": "LayoutView",
            "grid_template_rows": null,
            "right": null,
            "justify_content": null,
            "_view_module": "@jupyter-widgets/base",
            "overflow": null,
            "_model_module_version": "1.2.0",
            "_view_count": null,
            "flex_flow": null,
            "width": null,
            "min_width": null,
            "border": null,
            "align_items": null,
            "bottom": null,
            "_model_module": "@jupyter-widgets/base",
            "top": null,
            "grid_column": null,
            "overflow_y": null,
            "overflow_x": null,
            "grid_auto_flow": null,
            "grid_area": null,
            "grid_template_columns": null,
            "flex": null,
            "_model_name": "LayoutModel",
            "justify_items": null,
            "grid_row": null,
            "max_height": null,
            "align_content": null,
            "visibility": null,
            "align_self": null,
            "height": null,
            "min_height": null,
            "padding": null,
            "grid_auto_rows": null,
            "grid_gap": null,
            "max_width": null,
            "order": null,
            "_view_module_version": "1.2.0",
            "grid_template_areas": null,
            "object_position": null,
            "object_fit": null,
            "grid_auto_columns": null,
            "margin": null,
            "display": null,
            "left": null
          }
        },
        "61d837c4a8fe417f98c2ace6f6a0a679": {
          "model_module": "@jupyter-widgets/controls",
          "model_name": "HBoxModel",
          "state": {
            "_view_name": "HBoxView",
            "_dom_classes": [],
            "_model_name": "HBoxModel",
            "_view_module": "@jupyter-widgets/controls",
            "_model_module_version": "1.5.0",
            "_view_count": null,
            "_view_module_version": "1.5.0",
            "box_style": "",
            "layout": "IPY_MODEL_ad3440d5d556482797e4d0036592e185",
            "_model_module": "@jupyter-widgets/controls",
            "children": [
              "IPY_MODEL_a506cb57cdf14b5388692f29ca5d54f4",
              "IPY_MODEL_0b9bda2f52dc46409c3aee6e17c55233"
            ]
          }
        },
        "ad3440d5d556482797e4d0036592e185": {
          "model_module": "@jupyter-widgets/base",
          "model_name": "LayoutModel",
          "state": {
            "_view_name": "LayoutView",
            "grid_template_rows": null,
            "right": null,
            "justify_content": null,
            "_view_module": "@jupyter-widgets/base",
            "overflow": null,
            "_model_module_version": "1.2.0",
            "_view_count": null,
            "flex_flow": null,
            "width": null,
            "min_width": null,
            "border": null,
            "align_items": null,
            "bottom": null,
            "_model_module": "@jupyter-widgets/base",
            "top": null,
            "grid_column": null,
            "overflow_y": null,
            "overflow_x": null,
            "grid_auto_flow": null,
            "grid_area": null,
            "grid_template_columns": null,
            "flex": null,
            "_model_name": "LayoutModel",
            "justify_items": null,
            "grid_row": null,
            "max_height": null,
            "align_content": null,
            "visibility": null,
            "align_self": null,
            "height": null,
            "min_height": null,
            "padding": null,
            "grid_auto_rows": null,
            "grid_gap": null,
            "max_width": null,
            "order": null,
            "_view_module_version": "1.2.0",
            "grid_template_areas": null,
            "object_position": null,
            "object_fit": null,
            "grid_auto_columns": null,
            "margin": null,
            "display": null,
            "left": null
          }
        },
        "a506cb57cdf14b5388692f29ca5d54f4": {
          "model_module": "@jupyter-widgets/controls",
          "model_name": "FloatProgressModel",
          "state": {
            "_view_name": "ProgressView",
            "style": "IPY_MODEL_b91251da073d48eca2ad90638d5d75a6",
            "_dom_classes": [],
            "description": "Downloading: 100%",
            "_model_name": "FloatProgressModel",
            "bar_style": "success",
            "max": 440473133,
            "_view_module": "@jupyter-widgets/controls",
            "_model_module_version": "1.5.0",
            "value": 440473133,
            "_view_count": null,
            "_view_module_version": "1.5.0",
            "orientation": "horizontal",
            "min": 0,
            "description_tooltip": null,
            "_model_module": "@jupyter-widgets/controls",
            "layout": "IPY_MODEL_2e944fa88baf44a69e73a46475b203f2"
          }
        },
        "0b9bda2f52dc46409c3aee6e17c55233": {
          "model_module": "@jupyter-widgets/controls",
          "model_name": "HTMLModel",
          "state": {
            "_view_name": "HTMLView",
            "style": "IPY_MODEL_261df514dc6a40f0bfc8b877655892cd",
            "_dom_classes": [],
            "description": "",
            "_model_name": "HTMLModel",
            "placeholder": "​",
            "_view_module": "@jupyter-widgets/controls",
            "_model_module_version": "1.5.0",
            "value": " 440M/440M [00:08&lt;00:00, 52.1MB/s]",
            "_view_count": null,
            "_view_module_version": "1.5.0",
            "description_tooltip": null,
            "_model_module": "@jupyter-widgets/controls",
            "layout": "IPY_MODEL_779ee5514d614e0e9df2f823a6d138da"
          }
        },
        "b91251da073d48eca2ad90638d5d75a6": {
          "model_module": "@jupyter-widgets/controls",
          "model_name": "ProgressStyleModel",
          "state": {
            "_view_name": "StyleView",
            "_model_name": "ProgressStyleModel",
            "description_width": "initial",
            "_view_module": "@jupyter-widgets/base",
            "_model_module_version": "1.5.0",
            "_view_count": null,
            "_view_module_version": "1.2.0",
            "bar_color": null,
            "_model_module": "@jupyter-widgets/controls"
          }
        },
        "2e944fa88baf44a69e73a46475b203f2": {
          "model_module": "@jupyter-widgets/base",
          "model_name": "LayoutModel",
          "state": {
            "_view_name": "LayoutView",
            "grid_template_rows": null,
            "right": null,
            "justify_content": null,
            "_view_module": "@jupyter-widgets/base",
            "overflow": null,
            "_model_module_version": "1.2.0",
            "_view_count": null,
            "flex_flow": null,
            "width": null,
            "min_width": null,
            "border": null,
            "align_items": null,
            "bottom": null,
            "_model_module": "@jupyter-widgets/base",
            "top": null,
            "grid_column": null,
            "overflow_y": null,
            "overflow_x": null,
            "grid_auto_flow": null,
            "grid_area": null,
            "grid_template_columns": null,
            "flex": null,
            "_model_name": "LayoutModel",
            "justify_items": null,
            "grid_row": null,
            "max_height": null,
            "align_content": null,
            "visibility": null,
            "align_self": null,
            "height": null,
            "min_height": null,
            "padding": null,
            "grid_auto_rows": null,
            "grid_gap": null,
            "max_width": null,
            "order": null,
            "_view_module_version": "1.2.0",
            "grid_template_areas": null,
            "object_position": null,
            "object_fit": null,
            "grid_auto_columns": null,
            "margin": null,
            "display": null,
            "left": null
          }
        },
        "261df514dc6a40f0bfc8b877655892cd": {
          "model_module": "@jupyter-widgets/controls",
          "model_name": "DescriptionStyleModel",
          "state": {
            "_view_name": "StyleView",
            "_model_name": "DescriptionStyleModel",
            "description_width": "",
            "_view_module": "@jupyter-widgets/base",
            "_model_module_version": "1.5.0",
            "_view_count": null,
            "_view_module_version": "1.2.0",
            "_model_module": "@jupyter-widgets/controls"
          }
        },
        "779ee5514d614e0e9df2f823a6d138da": {
          "model_module": "@jupyter-widgets/base",
          "model_name": "LayoutModel",
          "state": {
            "_view_name": "LayoutView",
            "grid_template_rows": null,
            "right": null,
            "justify_content": null,
            "_view_module": "@jupyter-widgets/base",
            "overflow": null,
            "_model_module_version": "1.2.0",
            "_view_count": null,
            "flex_flow": null,
            "width": null,
            "min_width": null,
            "border": null,
            "align_items": null,
            "bottom": null,
            "_model_module": "@jupyter-widgets/base",
            "top": null,
            "grid_column": null,
            "overflow_y": null,
            "overflow_x": null,
            "grid_auto_flow": null,
            "grid_area": null,
            "grid_template_columns": null,
            "flex": null,
            "_model_name": "LayoutModel",
            "justify_items": null,
            "grid_row": null,
            "max_height": null,
            "align_content": null,
            "visibility": null,
            "align_self": null,
            "height": null,
            "min_height": null,
            "padding": null,
            "grid_auto_rows": null,
            "grid_gap": null,
            "max_width": null,
            "order": null,
            "_view_module_version": "1.2.0",
            "grid_template_areas": null,
            "object_position": null,
            "object_fit": null,
            "grid_auto_columns": null,
            "margin": null,
            "display": null,
            "left": null
          }
        }
      }
    }
  },
  "cells": [
    {
      "cell_type": "markdown",
      "metadata": {
        "id": "1oeqTKK4uIC7"
      },
      "source": [
        "# load dataset file"
      ]
    },
    {
      "cell_type": "code",
      "metadata": {
        "id": "aAE385ufY5V7"
      },
      "source": [
        "!pip install -U -q PyDrive\n",
        "from pydrive.auth import GoogleAuth\n",
        "from pydrive.drive import GoogleDrive\n",
        "from google.colab import auth\n",
        "from oauth2client.client import GoogleCredentials\n",
        "\n",
        "import pandas as pd\n",
        "\n",
        "\n",
        "# Authenticate and create the PyDrive client.\n",
        "auth.authenticate_user()\n",
        "gauth = GoogleAuth()\n",
        "gauth.credentials = GoogleCredentials.get_application_default()\n",
        "drive = GoogleDrive(gauth)\n",
        "# Download all three Microsoft BotBuilder Personality Chat Datasets on Google Colab virtual server\n",
        "# https://drive.google.com/file/d/10yi1MvU3lrlqyGLGZ0Ee7o4e72zEW4Fg/view?usp=sharing\n",
        "#chats.csv DOTA dataset 1.4 million\n",
        "# https://drive.google.com/file/d/1VALiNA_ruYl0jt66MBG7Eb_o3sWQIBqj/view?usp=sharing\n",
        "# https://drive.google.com/file/d/1-HsJ2w944FNCZPPiqYjV7Ip-2fmdNqz5/view?usp=sharing\n",
        "download_files = [\n",
        "          {'id':'1LNjeEeHNpJwS4O9OK2gOSpwddwzHCaqW','file_name':'storm.csv'},\n",
        "          ]\n",
        "for entity in download_files:\n",
        "  id1 = entity['id']\n",
        "  downloaded = drive.CreateFile({'id':id1 }) \n",
        "  downloaded.GetContentFile(entity['file_name']) "
      ],
      "execution_count": null,
      "outputs": []
    },
    {
      "cell_type": "code",
      "metadata": {
        "id": "vuTT3e0mRJ4i"
      },
      "source": [
        "import pandas as pd\n",
        "import numpy as np\n",
        "import matplotlib.pyplot as plt\n",
        "\n",
        "data = pd.read_csv(\"storm.csv\")"
      ],
      "execution_count": null,
      "outputs": []
    },
    {
      "cell_type": "code",
      "metadata": {
        "id": "PjEQNh7ygqeA",
        "colab": {
          "base_uri": "https://localhost:8080/",
          "height": 204
        },
        "outputId": "8ee89e5f-0ad8-4df6-e295-08a4a23b9891"
      },
      "source": [
        "data.head()"
      ],
      "execution_count": null,
      "outputs": [
        {
          "output_type": "execute_result",
          "data": {
            "text/html": [
              "<div>\n",
              "<style scoped>\n",
              "    .dataframe tbody tr th:only-of-type {\n",
              "        vertical-align: middle;\n",
              "    }\n",
              "\n",
              "    .dataframe tbody tr th {\n",
              "        vertical-align: top;\n",
              "    }\n",
              "\n",
              "    .dataframe thead th {\n",
              "        text-align: right;\n",
              "    }\n",
              "</style>\n",
              "<table border=\"1\" class=\"dataframe\">\n",
              "  <thead>\n",
              "    <tr style=\"text-align: right;\">\n",
              "      <th></th>\n",
              "      <th>sentence</th>\n",
              "      <th>label</th>\n",
              "      <th>user_id</th>\n",
              "      <th>file_id</th>\n",
              "    </tr>\n",
              "  </thead>\n",
              "  <tbody>\n",
              "    <tr>\n",
              "      <th>0</th>\n",
              "      <td>b'As of March 13th , 2014 , the booklet had be...</td>\n",
              "      <td>noHate</td>\n",
              "      <td>572066</td>\n",
              "      <td>12834217_1</td>\n",
              "    </tr>\n",
              "    <tr>\n",
              "      <th>1</th>\n",
              "      <td>b'In order to help increase the booklets downl...</td>\n",
              "      <td>noHate</td>\n",
              "      <td>572066</td>\n",
              "      <td>12834217_2</td>\n",
              "    </tr>\n",
              "    <tr>\n",
              "      <th>2</th>\n",
              "      <td>b'( Simply copy and paste the following text i...</td>\n",
              "      <td>noHate</td>\n",
              "      <td>572066</td>\n",
              "      <td>12834217_3</td>\n",
              "    </tr>\n",
              "    <tr>\n",
              "      <th>3</th>\n",
              "      <td>b'Click below for a FREE download of a colorfu...</td>\n",
              "      <td>hate</td>\n",
              "      <td>572066</td>\n",
              "      <td>12834217_4</td>\n",
              "    </tr>\n",
              "    <tr>\n",
              "      <th>4</th>\n",
              "      <td>b\"Click on the `` DOWNLOAD ( 7.42 MB ) '' gree...</td>\n",
              "      <td>noHate</td>\n",
              "      <td>572066</td>\n",
              "      <td>12834217_5</td>\n",
              "    </tr>\n",
              "  </tbody>\n",
              "</table>\n",
              "</div>"
            ],
            "text/plain": [
              "                                            sentence  ...     file_id\n",
              "0  b'As of March 13th , 2014 , the booklet had be...  ...  12834217_1\n",
              "1  b'In order to help increase the booklets downl...  ...  12834217_2\n",
              "2  b'( Simply copy and paste the following text i...  ...  12834217_3\n",
              "3  b'Click below for a FREE download of a colorfu...  ...  12834217_4\n",
              "4  b\"Click on the `` DOWNLOAD ( 7.42 MB ) '' gree...  ...  12834217_5\n",
              "\n",
              "[5 rows x 4 columns]"
            ]
          },
          "metadata": {
            "tags": []
          },
          "execution_count": 3
        }
      ]
    },
    {
      "cell_type": "code",
      "metadata": {
        "colab": {
          "base_uri": "https://localhost:8080/"
        },
        "id": "S_oUJvPkNZ5B",
        "outputId": "cba5ba80-dcae-4978-9227-71ff4ba1dcc0"
      },
      "source": [
        "data['label'].value_counts()"
      ],
      "execution_count": null,
      "outputs": [
        {
          "output_type": "execute_result",
          "data": {
            "text/plain": [
              "noHate      9507\n",
              "hate        1196\n",
              "relation     168\n",
              "idk/skip      73\n",
              "Name: label, dtype: int64"
            ]
          },
          "metadata": {
            "tags": []
          },
          "execution_count": 4
        }
      ]
    },
    {
      "cell_type": "code",
      "metadata": {
        "colab": {
          "base_uri": "https://localhost:8080/",
          "height": 204
        },
        "id": "JHN7iN--yvNE",
        "outputId": "0302eedc-e615-46db-e799-de1909f8a3e1"
      },
      "source": [
        "map_dict = {'hate':1,'noHate':0,'relation':0,'idk/skip':0}\n",
        "def map_to_binary(x):\n",
        "  return map_dict[x]\n",
        "data['label'] = data['label'].map(map_to_binary)\n",
        "data.head()"
      ],
      "execution_count": null,
      "outputs": [
        {
          "output_type": "execute_result",
          "data": {
            "text/html": [
              "<div>\n",
              "<style scoped>\n",
              "    .dataframe tbody tr th:only-of-type {\n",
              "        vertical-align: middle;\n",
              "    }\n",
              "\n",
              "    .dataframe tbody tr th {\n",
              "        vertical-align: top;\n",
              "    }\n",
              "\n",
              "    .dataframe thead th {\n",
              "        text-align: right;\n",
              "    }\n",
              "</style>\n",
              "<table border=\"1\" class=\"dataframe\">\n",
              "  <thead>\n",
              "    <tr style=\"text-align: right;\">\n",
              "      <th></th>\n",
              "      <th>sentence</th>\n",
              "      <th>label</th>\n",
              "      <th>user_id</th>\n",
              "      <th>file_id</th>\n",
              "    </tr>\n",
              "  </thead>\n",
              "  <tbody>\n",
              "    <tr>\n",
              "      <th>0</th>\n",
              "      <td>b'As of March 13th , 2014 , the booklet had be...</td>\n",
              "      <td>0</td>\n",
              "      <td>572066</td>\n",
              "      <td>12834217_1</td>\n",
              "    </tr>\n",
              "    <tr>\n",
              "      <th>1</th>\n",
              "      <td>b'In order to help increase the booklets downl...</td>\n",
              "      <td>0</td>\n",
              "      <td>572066</td>\n",
              "      <td>12834217_2</td>\n",
              "    </tr>\n",
              "    <tr>\n",
              "      <th>2</th>\n",
              "      <td>b'( Simply copy and paste the following text i...</td>\n",
              "      <td>0</td>\n",
              "      <td>572066</td>\n",
              "      <td>12834217_3</td>\n",
              "    </tr>\n",
              "    <tr>\n",
              "      <th>3</th>\n",
              "      <td>b'Click below for a FREE download of a colorfu...</td>\n",
              "      <td>1</td>\n",
              "      <td>572066</td>\n",
              "      <td>12834217_4</td>\n",
              "    </tr>\n",
              "    <tr>\n",
              "      <th>4</th>\n",
              "      <td>b\"Click on the `` DOWNLOAD ( 7.42 MB ) '' gree...</td>\n",
              "      <td>0</td>\n",
              "      <td>572066</td>\n",
              "      <td>12834217_5</td>\n",
              "    </tr>\n",
              "  </tbody>\n",
              "</table>\n",
              "</div>"
            ],
            "text/plain": [
              "                                            sentence  ...     file_id\n",
              "0  b'As of March 13th , 2014 , the booklet had be...  ...  12834217_1\n",
              "1  b'In order to help increase the booklets downl...  ...  12834217_2\n",
              "2  b'( Simply copy and paste the following text i...  ...  12834217_3\n",
              "3  b'Click below for a FREE download of a colorfu...  ...  12834217_4\n",
              "4  b\"Click on the `` DOWNLOAD ( 7.42 MB ) '' gree...  ...  12834217_5\n",
              "\n",
              "[5 rows x 4 columns]"
            ]
          },
          "metadata": {
            "tags": []
          },
          "execution_count": 5
        }
      ]
    },
    {
      "cell_type": "code",
      "metadata": {
        "colab": {
          "base_uri": "https://localhost:8080/"
        },
        "id": "s9SYGGT1u0ry",
        "outputId": "011d82d3-c689-4136-f384-2dd7be87aa35"
      },
      "source": [
        "data['label'].value_counts()"
      ],
      "execution_count": null,
      "outputs": [
        {
          "output_type": "execute_result",
          "data": {
            "text/plain": [
              "0    9748\n",
              "1    1196\n",
              "Name: label, dtype: int64"
            ]
          },
          "metadata": {
            "tags": []
          },
          "execution_count": 6
        }
      ]
    },
    {
      "cell_type": "markdown",
      "metadata": {
        "id": "qeQ7EcY_wkZb"
      },
      "source": [
        "# bert tokenizer"
      ]
    },
    {
      "cell_type": "code",
      "metadata": {
        "colab": {
          "base_uri": "https://localhost:8080/"
        },
        "id": "Y9ttHmY1wpZV",
        "outputId": "b1d750e6-49e5-4b2b-f0e1-6e017bb0c0bb"
      },
      "source": [
        "!pip install transformers"
      ],
      "execution_count": null,
      "outputs": [
        {
          "output_type": "stream",
          "text": [
            "Collecting transformers\n",
            "\u001b[?25l  Downloading https://files.pythonhosted.org/packages/ed/db/98c3ea1a78190dac41c0127a063abf92bd01b4b0b6970a6db1c2f5b66fa0/transformers-4.0.1-py3-none-any.whl (1.4MB)\n",
            "\u001b[K     |████████████████████████████████| 1.4MB 6.0MB/s \n",
            "\u001b[?25hRequirement already satisfied: requests in /usr/local/lib/python3.6/dist-packages (from transformers) (2.23.0)\n",
            "Requirement already satisfied: dataclasses; python_version < \"3.7\" in /usr/local/lib/python3.6/dist-packages (from transformers) (0.8)\n",
            "Requirement already satisfied: numpy in /usr/local/lib/python3.6/dist-packages (from transformers) (1.18.5)\n",
            "Requirement already satisfied: packaging in /usr/local/lib/python3.6/dist-packages (from transformers) (20.7)\n",
            "Requirement already satisfied: regex!=2019.12.17 in /usr/local/lib/python3.6/dist-packages (from transformers) (2019.12.20)\n",
            "Requirement already satisfied: tqdm>=4.27 in /usr/local/lib/python3.6/dist-packages (from transformers) (4.41.1)\n",
            "Collecting sacremoses\n",
            "\u001b[?25l  Downloading https://files.pythonhosted.org/packages/7d/34/09d19aff26edcc8eb2a01bed8e98f13a1537005d31e95233fd48216eed10/sacremoses-0.0.43.tar.gz (883kB)\n",
            "\u001b[K     |████████████████████████████████| 890kB 18.5MB/s \n",
            "\u001b[?25hRequirement already satisfied: filelock in /usr/local/lib/python3.6/dist-packages (from transformers) (3.0.12)\n",
            "Collecting tokenizers==0.9.4\n",
            "\u001b[?25l  Downloading https://files.pythonhosted.org/packages/0f/1c/e789a8b12e28be5bc1ce2156cf87cb522b379be9cadc7ad8091a4cc107c4/tokenizers-0.9.4-cp36-cp36m-manylinux2010_x86_64.whl (2.9MB)\n",
            "\u001b[K     |████████████████████████████████| 2.9MB 27.8MB/s \n",
            "\u001b[?25hRequirement already satisfied: chardet<4,>=3.0.2 in /usr/local/lib/python3.6/dist-packages (from requests->transformers) (3.0.4)\n",
            "Requirement already satisfied: certifi>=2017.4.17 in /usr/local/lib/python3.6/dist-packages (from requests->transformers) (2020.12.5)\n",
            "Requirement already satisfied: idna<3,>=2.5 in /usr/local/lib/python3.6/dist-packages (from requests->transformers) (2.10)\n",
            "Requirement already satisfied: urllib3!=1.25.0,!=1.25.1,<1.26,>=1.21.1 in /usr/local/lib/python3.6/dist-packages (from requests->transformers) (1.24.3)\n",
            "Requirement already satisfied: pyparsing>=2.0.2 in /usr/local/lib/python3.6/dist-packages (from packaging->transformers) (2.4.7)\n",
            "Requirement already satisfied: six in /usr/local/lib/python3.6/dist-packages (from sacremoses->transformers) (1.15.0)\n",
            "Requirement already satisfied: click in /usr/local/lib/python3.6/dist-packages (from sacremoses->transformers) (7.1.2)\n",
            "Requirement already satisfied: joblib in /usr/local/lib/python3.6/dist-packages (from sacremoses->transformers) (0.17.0)\n",
            "Building wheels for collected packages: sacremoses\n",
            "  Building wheel for sacremoses (setup.py) ... \u001b[?25l\u001b[?25hdone\n",
            "  Created wheel for sacremoses: filename=sacremoses-0.0.43-cp36-none-any.whl size=893261 sha256=c3265d4ab9ced03c82845b113a7752563b239c87f95e337c7764e294ab6eff13\n",
            "  Stored in directory: /root/.cache/pip/wheels/29/3c/fd/7ce5c3f0666dab31a50123635e6fb5e19ceb42ce38d4e58f45\n",
            "Successfully built sacremoses\n",
            "Installing collected packages: sacremoses, tokenizers, transformers\n",
            "Successfully installed sacremoses-0.0.43 tokenizers-0.9.4 transformers-4.0.1\n"
          ],
          "name": "stdout"
        }
      ]
    },
    {
      "cell_type": "code",
      "metadata": {
        "id": "FsYgXwrVwmHm"
      },
      "source": [
        "import random\n",
        "import torch\n",
        "from torch.utils.data import TensorDataset, DataLoader, random_split\n",
        "from transformers import BertTokenizer\n",
        "from transformers import BertForSequenceClassification, AdamW\n",
        "from transformers import get_linear_schedule_with_warmup\n",
        "\n",
        "seed = 42\n",
        "random.seed(seed)\n",
        "np.random.seed(seed)\n",
        "torch.manual_seed(seed)\n",
        "torch.cuda.manual_seed_all(seed)\n",
        "torch.backends.cudnn.deterministic = True\n",
        "\n",
        "device = torch.device('cuda')"
      ],
      "execution_count": null,
      "outputs": []
    },
    {
      "cell_type": "code",
      "metadata": {
        "colab": {
          "base_uri": "https://localhost:8080/"
        },
        "id": "shU5VUMnyf9t",
        "outputId": "165205c9-3102-4325-aa57-988dbcb56d5c"
      },
      "source": [
        "from sklearn.model_selection import train_test_split\n",
        "X = data['sentence'].tolist()\n",
        "y = data['label'].tolist()\n",
        "X_train, X_test, y_train, y_test = train_test_split(X, y, test_size=0.1, random_state=28)\n",
        "len(X_train)"
      ],
      "execution_count": null,
      "outputs": [
        {
          "output_type": "execute_result",
          "data": {
            "text/plain": [
              "9849"
            ]
          },
          "metadata": {
            "tags": []
          },
          "execution_count": 3
        }
      ]
    },
    {
      "cell_type": "code",
      "metadata": {
        "id": "jHM1JmG1YvhD",
        "colab": {
          "base_uri": "https://localhost:8080/"
        },
        "outputId": "13a706d6-2618-4944-9927-135d1ebf3a19"
      },
      "source": [
        "len(X_test)"
      ],
      "execution_count": null,
      "outputs": [
        {
          "output_type": "execute_result",
          "data": {
            "text/plain": [
              "1095"
            ]
          },
          "metadata": {
            "tags": []
          },
          "execution_count": 4
        }
      ]
    },
    {
      "cell_type": "code",
      "metadata": {
        "id": "ka7_HE3dwvch",
        "colab": {
          "base_uri": "https://localhost:8080/",
          "height": 67,
          "referenced_widgets": [
            "5d4a9ddbe98c4a1c8dcf47673ca667d6",
            "1d85bff129e6475f81de77d392449a87",
            "74ee05fbf13c4803a2837770397c40f0",
            "4e18e91fd9f64b2199506f5d56945705",
            "9992a62556de47c5be81d7f7d7c82cba",
            "7e73cdef472643caa5b2454402c9b125",
            "dbd6b315b77441b2a04775be265da472",
            "b07418ab67484128b487d72b37eb4beb"
          ]
        },
        "outputId": "416f4ba3-da5d-4f88-dd30-f3591ab4752c"
      },
      "source": [
        "\n",
        "tokenizer = BertTokenizer.from_pretrained('bert-base-uncased', do_lower_case=True)\n",
        "# Function to get token ids for a list of texts \n",
        "def encode_fn(text_list):\n",
        "    all_input_ids = []    \n",
        "    for text in text_list:\n",
        "        input_ids = tokenizer.encode(\n",
        "                        text,                      \n",
        "                        add_special_tokens = True,  # 添加special tokens， 也就是CLS和SEP\n",
        "                        max_length = 50,           # 设定最大文本长度\n",
        "                        pad_to_max_length = True,   # pad到最大的长度  \n",
        "                        return_tensors = 'pt'       # 返回的类型为pytorch tensor\n",
        "                   )\n",
        "        all_input_ids.append(input_ids)    \n",
        "    all_input_ids = torch.cat(all_input_ids, dim=0)\n",
        "    return all_input_ids"
      ],
      "execution_count": null,
      "outputs": [
        {
          "output_type": "display_data",
          "data": {
            "application/vnd.jupyter.widget-view+json": {
              "model_id": "5d4a9ddbe98c4a1c8dcf47673ca667d6",
              "version_minor": 0,
              "version_major": 2
            },
            "text/plain": [
              "HBox(children=(FloatProgress(value=0.0, description='Downloading', max=231508.0, style=ProgressStyle(descripti…"
            ]
          },
          "metadata": {
            "tags": []
          }
        },
        {
          "output_type": "stream",
          "text": [
            "\n"
          ],
          "name": "stdout"
        }
      ]
    },
    {
      "cell_type": "markdown",
      "metadata": {
        "id": "DzORy5pS0e4m"
      },
      "source": [
        "# torch dataset"
      ]
    },
    {
      "cell_type": "code",
      "metadata": {
        "colab": {
          "base_uri": "https://localhost:8080/"
        },
        "id": "UE2cnRFjxlc9",
        "outputId": "36032d62-110d-424d-ef4d-e67ce5044549"
      },
      "source": [
        "epochs = 5\n",
        "batch_size = 32\n",
        "\n",
        "# Split data into train and validation\n",
        "train_ids = encode_fn(X_train)\n",
        "train_labels = torch.tensor(y_train)\n",
        "train_dataset = TensorDataset(train_ids, train_labels)\n",
        "\n",
        "test_ids = encode_fn(X_test)\n",
        "test_labels = torch.tensor(y_test)\n",
        "testdataset = TensorDataset(test_ids, test_labels)\n",
        "\n",
        "# train_dataset, val_dataset = random_split(dataset, [train_size, val_size])\n",
        "\n",
        "# Create train and validation dataloaders\n",
        "train_dataloader = DataLoader(train_dataset, batch_size = batch_size, shuffle = True)\n",
        "test_dataloader = DataLoader(testdataset, batch_size = batch_size, shuffle = False)"
      ],
      "execution_count": null,
      "outputs": [
        {
          "output_type": "stream",
          "text": [
            "Truncation was not explicitly activated but `max_length` is provided a specific value, please use `truncation=True` to explicitly truncate examples to max length. Defaulting to 'longest_first' truncation strategy. If you encode pairs of sequences (GLUE-style) with the tokenizer you can select this strategy more precisely by providing a specific strategy to `truncation`.\n",
            "/usr/local/lib/python3.6/dist-packages/transformers/tokenization_utils_base.py:2142: FutureWarning: The `pad_to_max_length` argument is deprecated and will be removed in a future version, use `padding=True` or `padding='longest'` to pad to the longest sequence in the batch, or use `padding='max_length'` to pad to a max length. In this case, you can give a specific length with `max_length` (e.g. `max_length=45`) or leave max_length to None to pad to the maximal input size of the model (e.g. 512 for Bert).\n",
            "  FutureWarning,\n"
          ],
          "name": "stderr"
        }
      ]
    },
    {
      "cell_type": "markdown",
      "metadata": {
        "id": "YCzDjZ_30j1x"
      },
      "source": [
        "# construct model"
      ]
    },
    {
      "cell_type": "code",
      "metadata": {
        "colab": {
          "base_uri": "https://localhost:8080/",
          "height": 227,
          "referenced_widgets": [
            "dc8d3cb244ff4ee299d416dbba499984",
            "80cac53cd62646f281582429ad511c66",
            "a11b54b6bc5549889663b97bc8f76fe0",
            "b9b98d00780f43f7b9f4177aa882c029",
            "dff1f87fc4c94d5bb651985987a2684a",
            "d78087909e264a3184429ad72e73b383",
            "fbc3b0f8f5b24984982b120511eca17d",
            "73bce7e29ded4145a9aba03bdfacb589",
            "61d837c4a8fe417f98c2ace6f6a0a679",
            "ad3440d5d556482797e4d0036592e185",
            "a506cb57cdf14b5388692f29ca5d54f4",
            "0b9bda2f52dc46409c3aee6e17c55233",
            "b91251da073d48eca2ad90638d5d75a6",
            "2e944fa88baf44a69e73a46475b203f2",
            "261df514dc6a40f0bfc8b877655892cd",
            "779ee5514d614e0e9df2f823a6d138da"
          ]
        },
        "id": "V7O71w1x0cGG",
        "outputId": "13d2c639-608f-4447-f300-1cd34dccafc8"
      },
      "source": [
        "# Load the pretrained BERT model\n",
        "model = BertForSequenceClassification.from_pretrained('bert-base-uncased', num_labels=2, output_attentions=False, output_hidden_states=False)\n",
        "model.cuda()\n",
        "\n",
        "# create optimizer and learning rate schedule\n",
        "optimizer = AdamW(model.parameters(), lr=2e-5)\n",
        "total_steps = len(train_dataloader) * epochs\n",
        "scheduler = get_linear_schedule_with_warmup(optimizer, num_warmup_steps=0, num_training_steps=total_steps)"
      ],
      "execution_count": null,
      "outputs": [
        {
          "output_type": "display_data",
          "data": {
            "application/vnd.jupyter.widget-view+json": {
              "model_id": "dc8d3cb244ff4ee299d416dbba499984",
              "version_minor": 0,
              "version_major": 2
            },
            "text/plain": [
              "HBox(children=(FloatProgress(value=0.0, description='Downloading', max=433.0, style=ProgressStyle(description_…"
            ]
          },
          "metadata": {
            "tags": []
          }
        },
        {
          "output_type": "stream",
          "text": [
            "\n"
          ],
          "name": "stdout"
        },
        {
          "output_type": "display_data",
          "data": {
            "application/vnd.jupyter.widget-view+json": {
              "model_id": "61d837c4a8fe417f98c2ace6f6a0a679",
              "version_minor": 0,
              "version_major": 2
            },
            "text/plain": [
              "HBox(children=(FloatProgress(value=0.0, description='Downloading', max=440473133.0, style=ProgressStyle(descri…"
            ]
          },
          "metadata": {
            "tags": []
          }
        },
        {
          "output_type": "stream",
          "text": [
            "\n"
          ],
          "name": "stdout"
        },
        {
          "output_type": "stream",
          "text": [
            "Some weights of the model checkpoint at bert-base-uncased were not used when initializing BertForSequenceClassification: ['cls.predictions.bias', 'cls.predictions.transform.dense.weight', 'cls.predictions.transform.dense.bias', 'cls.predictions.decoder.weight', 'cls.seq_relationship.weight', 'cls.seq_relationship.bias', 'cls.predictions.transform.LayerNorm.weight', 'cls.predictions.transform.LayerNorm.bias']\n",
            "- This IS expected if you are initializing BertForSequenceClassification from the checkpoint of a model trained on another task or with another architecture (e.g. initializing a BertForSequenceClassification model from a BertForPreTraining model).\n",
            "- This IS NOT expected if you are initializing BertForSequenceClassification from the checkpoint of a model that you expect to be exactly identical (initializing a BertForSequenceClassification model from a BertForSequenceClassification model).\n",
            "Some weights of BertForSequenceClassification were not initialized from the model checkpoint at bert-base-uncased and are newly initialized: ['classifier.weight', 'classifier.bias']\n",
            "You should probably TRAIN this model on a down-stream task to be able to use it for predictions and inference.\n"
          ],
          "name": "stderr"
        }
      ]
    },
    {
      "cell_type": "code",
      "metadata": {
        "id": "hq8LE9N21VYc"
      },
      "source": [
        "from sklearn.metrics import f1_score, accuracy_score\n",
        "\n",
        "def flat_accuracy(preds, labels):\n",
        "    \n",
        "    \"\"\"A function for calculating accuracy scores\"\"\"\n",
        "    \n",
        "    pred_flat = np.argmax(preds, axis=1).flatten()\n",
        "    labels_flat = labels.flatten()\n",
        "    return labels_flat, pred_flat"
      ],
      "execution_count": null,
      "outputs": []
    },
    {
      "cell_type": "markdown",
      "metadata": {
        "id": "ih6flmFb1gw5"
      },
      "source": [
        "# model training"
      ]
    },
    {
      "cell_type": "code",
      "metadata": {
        "colab": {
          "base_uri": "https://localhost:8080/"
        },
        "id": "ysrs7T-e1dP_",
        "outputId": "40038da1-fb41-4783-d1c3-cdd2ed34826a"
      },
      "source": [
        "for epoch in range(epochs):\n",
        "    model.train()\n",
        "    total_loss, total_val_loss = 0, 0\n",
        "    total_eval_accuracy = 0\n",
        "    for step, batch in enumerate(train_dataloader):\n",
        "        model.zero_grad()\n",
        "        outputs = model(batch[0].to(device), token_type_ids=None, attention_mask=(batch[0]>0).to(device), labels=batch[1].to(device))\n",
        "        loss = outputs.loss\n",
        "        logits = outputs.logits\n",
        "        total_loss += loss.item()\n",
        "        loss.backward()\n",
        "        torch.nn.utils.clip_grad_norm_(model.parameters(), 1.0)\n",
        "        optimizer.step() \n",
        "        scheduler.step()\n",
        "        \n",
        "    model.eval()\n",
        "    labels_all = []\n",
        "    pred_flat_all = []\n",
        "    for i, batch in enumerate(test_dataloader):\n",
        "        with torch.no_grad():\n",
        "            outputs = model(batch[0].to(device), token_type_ids=None, attention_mask=(batch[0]>0).to(device), labels=batch[1].to(device))\n",
        "            loss = outputs.loss\n",
        "            logits = outputs.logits\n",
        "                \n",
        "            total_val_loss += loss.item()\n",
        "            \n",
        "            logits = logits.detach().cpu().numpy()\n",
        "            label_ids = batch[1].to('cpu').numpy()\n",
        "            labels_flat, pred_flat = flat_accuracy(logits, label_ids)\n",
        "            labels_all.extend(labels_flat)\n",
        "            pred_flat_all.extend(pred_flat)\n",
        "\n",
        "    torch.save(model, 'model_bert_base_from_wassem'+str(epoch)+'.ckpt')\n",
        "    # torch.save(slot_model, 'model_slot'+str(epoch)+'.ckpt')\n",
        "    \n",
        "    avg_train_loss = total_loss / len(train_dataloader)\n",
        "    avg_val_loss = total_val_loss / len(test_dataloader)\n",
        "    avg_val_accuracy = accuracy_score(labels_all, pred_flat_all)\n",
        "    \n",
        "    print(f'Train loss     : {avg_train_loss}')\n",
        "    print(f'Validation loss: {avg_val_loss}')\n",
        "    print(f'Accuracy: {avg_val_accuracy:.4f}')\n",
        "    print('\\n')"
      ],
      "execution_count": null,
      "outputs": [
        {
          "output_type": "stream",
          "text": [
            "Train loss     : 0.24852820843240464\n",
            "Validation loss: 0.23498225084372928\n",
            "Accuracy: 0.9014\n",
            "\n",
            "\n",
            "Train loss     : 0.1495338156305302\n",
            "Validation loss: 0.22642236373254232\n",
            "Accuracy: 0.9151\n",
            "\n",
            "\n",
            "Train loss     : 0.08494487056030904\n",
            "Validation loss: 0.2985574931704572\n",
            "Accuracy: 0.9151\n",
            "\n",
            "\n",
            "Train loss     : 0.042557403387036175\n",
            "Validation loss: 0.38262120416787054\n",
            "Accuracy: 0.9160\n",
            "\n",
            "\n",
            "Train loss     : 0.023360725631710603\n",
            "Validation loss: 0.3987087814869093\n",
            "Accuracy: 0.9196\n",
            "\n",
            "\n"
          ],
          "name": "stdout"
        }
      ]
    },
    {
      "cell_type": "markdown",
      "metadata": {
        "id": "AobybpmcP7NH"
      },
      "source": [
        "# evaluate on dota dataset"
      ]
    },
    {
      "cell_type": "code",
      "metadata": {
        "id": "o3-B0pF4P9Sg"
      },
      "source": [
        "!pip install -U -q PyDrive\n",
        "from pydrive.auth import GoogleAuth\n",
        "from pydrive.drive import GoogleDrive\n",
        "from google.colab import auth\n",
        "from oauth2client.client import GoogleCredentials\n",
        "\n",
        "import pandas as pd\n",
        "\n",
        "\n",
        "# Authenticate and create the PyDrive client.\n",
        "auth.authenticate_user()\n",
        "gauth = GoogleAuth()\n",
        "gauth.credentials = GoogleCredentials.get_application_default()\n",
        "drive = GoogleDrive(gauth)\n",
        "# Download all three Microsoft BotBuilder Personality Chat Datasets on Google Colab virtual server\n",
        "# https://drive.google.com/file/d/10yi1MvU3lrlqyGLGZ0Ee7o4e72zEW4Fg/view?usp=sharing\n",
        "#chats.csv DOTA dataset 1.4 million\n",
        "# https://drive.google.com/file/d/1VALiNA_ruYl0jt66MBG7Eb_o3sWQIBqj/view?usp=sharing\n",
        "# https://drive.google.com/file/d/1-HsJ2w944FNCZPPiqYjV7Ip-2fmdNqz5/view?usp=sharing\n",
        "download_files = [\n",
        "          {'id':'1VALiNA_ruYl0jt66MBG7Eb_o3sWQIBqj','file_name':'50K_Output.csv'},\n",
        "          {'id':'1-HsJ2w944FNCZPPiqYjV7Ip-2fmdNqz5','file_name':'word_level_data_combined_annotation.csv'},\n",
        "          ]\n",
        "for entity in download_files:\n",
        "  id1 = entity['id']\n",
        "  downloaded = drive.CreateFile({'id':id1 }) \n",
        "  downloaded.GetContentFile(entity['file_name']) "
      ],
      "execution_count": null,
      "outputs": []
    },
    {
      "cell_type": "code",
      "metadata": {
        "id": "jRh2dzUnQPNZ"
      },
      "source": [
        "import pandas as pd\n",
        "import numpy as np\n",
        "import matplotlib.pyplot as plt\n",
        "colnames = ['1','2','3','utterance','4','5','6','Label','combined_annotation']\n",
        "test_data = pd.read_csv(\"50K_Output.csv\",names=colnames, header=None)"
      ],
      "execution_count": null,
      "outputs": []
    },
    {
      "cell_type": "code",
      "metadata": {
        "colab": {
          "base_uri": "https://localhost:8080/",
          "height": 204
        },
        "id": "nJIT606tQk4c",
        "outputId": "5ece3fd1-1eb7-46b8-87d5-18c6600c03f1"
      },
      "source": [
        "def map_to_binary(x):\n",
        "  x = str(x)\n",
        "  if 'E' in x or 'I' in x:\n",
        "    return 1\n",
        "  else:\n",
        "    return 0\n",
        "\n",
        "test_data['Label'] = test_data['Label'].map(map_to_binary)\n",
        "test_data.head()"
      ],
      "execution_count": null,
      "outputs": [
        {
          "output_type": "execute_result",
          "data": {
            "text/html": [
              "<div>\n",
              "<style scoped>\n",
              "    .dataframe tbody tr th:only-of-type {\n",
              "        vertical-align: middle;\n",
              "    }\n",
              "\n",
              "    .dataframe tbody tr th {\n",
              "        vertical-align: top;\n",
              "    }\n",
              "\n",
              "    .dataframe thead th {\n",
              "        text-align: right;\n",
              "    }\n",
              "</style>\n",
              "<table border=\"1\" class=\"dataframe\">\n",
              "  <thead>\n",
              "    <tr style=\"text-align: right;\">\n",
              "      <th></th>\n",
              "      <th>1</th>\n",
              "      <th>2</th>\n",
              "      <th>3</th>\n",
              "      <th>utterance</th>\n",
              "      <th>4</th>\n",
              "      <th>5</th>\n",
              "      <th>6</th>\n",
              "      <th>Label</th>\n",
              "      <th>combined_annotation</th>\n",
              "    </tr>\n",
              "  </thead>\n",
              "  <tbody>\n",
              "    <tr>\n",
              "      <th>0</th>\n",
              "      <td>0</td>\n",
              "      <td>0</td>\n",
              "      <td>0</td>\n",
              "      <td>force it</td>\n",
              "      <td>-8</td>\n",
              "      <td>6</td>\n",
              "      <td>6k Slayer</td>\n",
              "      <td>0</td>\n",
              "      <td>force (D), it (P),</td>\n",
              "    </tr>\n",
              "    <tr>\n",
              "      <th>1</th>\n",
              "      <td>1</td>\n",
              "      <td>0</td>\n",
              "      <td>0</td>\n",
              "      <td>space created [SEPA] hah</td>\n",
              "      <td>5</td>\n",
              "      <td>1</td>\n",
              "      <td>Monkey</td>\n",
              "      <td>0</td>\n",
              "      <td>space (O), created (O), [SEPA] (SEPA), hah (O),</td>\n",
              "    </tr>\n",
              "    <tr>\n",
              "      <th>2</th>\n",
              "      <td>2</td>\n",
              "      <td>0</td>\n",
              "      <td>0</td>\n",
              "      <td>ez 500</td>\n",
              "      <td>9</td>\n",
              "      <td>6</td>\n",
              "      <td>6k Slayer</td>\n",
              "      <td>1</td>\n",
              "      <td>ez (S), 500 (O),</td>\n",
              "    </tr>\n",
              "    <tr>\n",
              "      <th>3</th>\n",
              "      <td>3</td>\n",
              "      <td>0</td>\n",
              "      <td>1</td>\n",
              "      <td>mvp ulti</td>\n",
              "      <td>934</td>\n",
              "      <td>4</td>\n",
              "      <td>Kira</td>\n",
              "      <td>0</td>\n",
              "      <td>mvp (O), ulti (S),</td>\n",
              "    </tr>\n",
              "    <tr>\n",
              "      <th>4</th>\n",
              "      <td>4</td>\n",
              "      <td>0</td>\n",
              "      <td>2</td>\n",
              "      <td>bye</td>\n",
              "      <td>1486</td>\n",
              "      <td>6</td>\n",
              "      <td>6k Slayer</td>\n",
              "      <td>0</td>\n",
              "      <td>bye (O),</td>\n",
              "    </tr>\n",
              "  </tbody>\n",
              "</table>\n",
              "</div>"
            ],
            "text/plain": [
              "   1  2  3  ...          6  Label                               combined_annotation\n",
              "0  0  0  0  ...  6k Slayer      0                               force (D), it (P), \n",
              "1  1  0  0  ...     Monkey      0  space (O), created (O), [SEPA] (SEPA), hah (O), \n",
              "2  2  0  0  ...  6k Slayer      1                                 ez (S), 500 (O), \n",
              "3  3  0  1  ...       Kira      0                               mvp (O), ulti (S), \n",
              "4  4  0  2  ...  6k Slayer      0                                         bye (O), \n",
              "\n",
              "[5 rows x 9 columns]"
            ]
          },
          "metadata": {
            "tags": []
          },
          "execution_count": 17
        }
      ]
    },
    {
      "cell_type": "code",
      "metadata": {
        "colab": {
          "base_uri": "https://localhost:8080/",
          "height": 204
        },
        "id": "QQKo4Ho-RUX-",
        "outputId": "923c3e59-8c1b-4d8f-fe51-3cff9579d6fc"
      },
      "source": [
        "def str_context(x):\n",
        "  return str(x)\n",
        "\n",
        "test_data['utterance'] = test_data['utterance'].map(str_context)\n",
        "test_data.head()"
      ],
      "execution_count": null,
      "outputs": [
        {
          "output_type": "execute_result",
          "data": {
            "text/html": [
              "<div>\n",
              "<style scoped>\n",
              "    .dataframe tbody tr th:only-of-type {\n",
              "        vertical-align: middle;\n",
              "    }\n",
              "\n",
              "    .dataframe tbody tr th {\n",
              "        vertical-align: top;\n",
              "    }\n",
              "\n",
              "    .dataframe thead th {\n",
              "        text-align: right;\n",
              "    }\n",
              "</style>\n",
              "<table border=\"1\" class=\"dataframe\">\n",
              "  <thead>\n",
              "    <tr style=\"text-align: right;\">\n",
              "      <th></th>\n",
              "      <th>1</th>\n",
              "      <th>2</th>\n",
              "      <th>3</th>\n",
              "      <th>utterance</th>\n",
              "      <th>4</th>\n",
              "      <th>5</th>\n",
              "      <th>6</th>\n",
              "      <th>Label</th>\n",
              "      <th>combined_annotation</th>\n",
              "    </tr>\n",
              "  </thead>\n",
              "  <tbody>\n",
              "    <tr>\n",
              "      <th>0</th>\n",
              "      <td>0</td>\n",
              "      <td>0</td>\n",
              "      <td>0</td>\n",
              "      <td>force it</td>\n",
              "      <td>-8</td>\n",
              "      <td>6</td>\n",
              "      <td>6k Slayer</td>\n",
              "      <td>0</td>\n",
              "      <td>force (D), it (P),</td>\n",
              "    </tr>\n",
              "    <tr>\n",
              "      <th>1</th>\n",
              "      <td>1</td>\n",
              "      <td>0</td>\n",
              "      <td>0</td>\n",
              "      <td>space created [SEPA] hah</td>\n",
              "      <td>5</td>\n",
              "      <td>1</td>\n",
              "      <td>Monkey</td>\n",
              "      <td>0</td>\n",
              "      <td>space (O), created (O), [SEPA] (SEPA), hah (O),</td>\n",
              "    </tr>\n",
              "    <tr>\n",
              "      <th>2</th>\n",
              "      <td>2</td>\n",
              "      <td>0</td>\n",
              "      <td>0</td>\n",
              "      <td>ez 500</td>\n",
              "      <td>9</td>\n",
              "      <td>6</td>\n",
              "      <td>6k Slayer</td>\n",
              "      <td>1</td>\n",
              "      <td>ez (S), 500 (O),</td>\n",
              "    </tr>\n",
              "    <tr>\n",
              "      <th>3</th>\n",
              "      <td>3</td>\n",
              "      <td>0</td>\n",
              "      <td>1</td>\n",
              "      <td>mvp ulti</td>\n",
              "      <td>934</td>\n",
              "      <td>4</td>\n",
              "      <td>Kira</td>\n",
              "      <td>0</td>\n",
              "      <td>mvp (O), ulti (S),</td>\n",
              "    </tr>\n",
              "    <tr>\n",
              "      <th>4</th>\n",
              "      <td>4</td>\n",
              "      <td>0</td>\n",
              "      <td>2</td>\n",
              "      <td>bye</td>\n",
              "      <td>1486</td>\n",
              "      <td>6</td>\n",
              "      <td>6k Slayer</td>\n",
              "      <td>0</td>\n",
              "      <td>bye (O),</td>\n",
              "    </tr>\n",
              "  </tbody>\n",
              "</table>\n",
              "</div>"
            ],
            "text/plain": [
              "   1  2  3  ...          6  Label                               combined_annotation\n",
              "0  0  0  0  ...  6k Slayer      0                               force (D), it (P), \n",
              "1  1  0  0  ...     Monkey      0  space (O), created (O), [SEPA] (SEPA), hah (O), \n",
              "2  2  0  0  ...  6k Slayer      1                                 ez (S), 500 (O), \n",
              "3  3  0  1  ...       Kira      0                               mvp (O), ulti (S), \n",
              "4  4  0  2  ...  6k Slayer      0                                         bye (O), \n",
              "\n",
              "[5 rows x 9 columns]"
            ]
          },
          "metadata": {
            "tags": []
          },
          "execution_count": 18
        }
      ]
    },
    {
      "cell_type": "code",
      "metadata": {
        "colab": {
          "base_uri": "https://localhost:8080/"
        },
        "id": "ZfktFdrlQ4rH",
        "outputId": "d03b687c-8e0d-437a-ed0b-d131e2f8f4b0"
      },
      "source": [
        "test_ids = encode_fn(test_data['utterance'].tolist())\n",
        "test_labels = torch.tensor(test_data['Label'].tolist())\n",
        "testdataset = TensorDataset(test_ids, test_labels)\n",
        "\n",
        "# train_dataset, val_dataset = random_split(dataset, [train_size, val_size])\n",
        "\n",
        "# Create train and validation dataloaders\n",
        "# train_dataloader = DataLoader(train_dataset, batch_size = batch_size, shuffle = True)\n",
        "test_dataloader = DataLoader(testdataset, batch_size = batch_size, shuffle = False)"
      ],
      "execution_count": null,
      "outputs": [
        {
          "output_type": "stream",
          "text": [
            "/usr/local/lib/python3.6/dist-packages/transformers/tokenization_utils_base.py:2022: FutureWarning: The `pad_to_max_length` argument is deprecated and will be removed in a future version, use `padding=True` or `padding='longest'` to pad to the longest sequence in the batch, or use `padding='max_length'` to pad to a max length. In this case, you can give a specific length with `max_length` (e.g. `max_length=45`) or leave max_length to None to pad to the maximal input size of the model (e.g. 512 for Bert).\n",
            "  FutureWarning,\n"
          ],
          "name": "stderr"
        }
      ]
    },
    {
      "cell_type": "code",
      "metadata": {
        "colab": {
          "base_uri": "https://localhost:8080/"
        },
        "id": "LWyh43kCRmDH",
        "outputId": "2dd7a596-0d64-4650-8db9-93808d44748a"
      },
      "source": [
        "labels_all = []\n",
        "pred_flat_all = []\n",
        "for i, batch in enumerate(test_dataloader):\n",
        "    with torch.no_grad():\n",
        "        loss, logits = model(batch[0].to(device), token_type_ids=None, attention_mask=(batch[0]>0).to(device), labels=batch[1].to(device))\n",
        "            \n",
        "        total_val_loss += loss.item()\n",
        "        \n",
        "        logits = logits.detach().cpu().numpy()\n",
        "        label_ids = batch[1].to('cpu').numpy()\n",
        "        labels_flat, pred_flat = flat_accuracy(logits, label_ids)\n",
        "        labels_all.extend(labels_flat)\n",
        "        pred_flat_all.extend(pred_flat)\n",
        "print(len(labels_all))\n",
        "print(len(pred_flat_all))"
      ],
      "execution_count": null,
      "outputs": [
        {
          "output_type": "stream",
          "text": [
            "50001\n",
            "50001\n"
          ],
          "name": "stdout"
        }
      ]
    },
    {
      "cell_type": "code",
      "metadata": {
        "colab": {
          "base_uri": "https://localhost:8080/"
        },
        "id": "5RJzjPheSDQn",
        "outputId": "06bb1f95-ec69-4853-ed6f-5da29cc21860"
      },
      "source": [
        "avg_val_accuracy = accuracy_score(labels_all, pred_flat_all)\n",
        "avg_val_accuracy"
      ],
      "execution_count": null,
      "outputs": [
        {
          "output_type": "execute_result",
          "data": {
            "text/plain": [
              "0.8329033419331613"
            ]
          },
          "metadata": {
            "tags": []
          },
          "execution_count": 21
        }
      ]
    },
    {
      "cell_type": "code",
      "metadata": {
        "colab": {
          "base_uri": "https://localhost:8080/"
        },
        "id": "wYlzBGe8Sid1",
        "outputId": "71ee46d4-9ff7-4cb9-a72b-1ce7c638fa2f"
      },
      "source": [
        "from sklearn.metrics import classification_report\n",
        "print(classification_report(y_true=labels_all,y_pred=pred_flat_all,digits=4))"
      ],
      "execution_count": null,
      "outputs": [
        {
          "output_type": "stream",
          "text": [
            "              precision    recall  f1-score   support\n",
            "\n",
            "           0     0.8346    0.9962    0.9082     41507\n",
            "           1     0.6527    0.0350    0.0664      8494\n",
            "\n",
            "    accuracy                         0.8329     50001\n",
            "   macro avg     0.7437    0.5156    0.4873     50001\n",
            "weighted avg     0.8037    0.8329    0.7652     50001\n",
            "\n"
          ],
          "name": "stdout"
        }
      ]
    },
    {
      "cell_type": "markdown",
      "metadata": {
        "id": "LIShm6P2XCUC"
      },
      "source": [
        "# evaluate on fox dataset"
      ]
    },
    {
      "cell_type": "code",
      "metadata": {
        "id": "lzdV-FxSXCUC"
      },
      "source": [
        "!pip install -U -q PyDrive\n",
        "from pydrive.auth import GoogleAuth\n",
        "from pydrive.drive import GoogleDrive\n",
        "from google.colab import auth\n",
        "from oauth2client.client import GoogleCredentials\n",
        "\n",
        "import pandas as pd\n",
        "\n",
        "\n",
        "# Authenticate and create the PyDrive client.\n",
        "auth.authenticate_user()\n",
        "gauth = GoogleAuth()\n",
        "gauth.credentials = GoogleCredentials.get_application_default()\n",
        "drive = GoogleDrive(gauth)\n",
        "# Download all three Microsoft BotBuilder Personality Chat Datasets on Google Colab virtual server\n",
        "# https://drive.google.com/file/d/10yi1MvU3lrlqyGLGZ0Ee7o4e72zEW4Fg/view?usp=sharing\n",
        "#chats.csv DOTA dataset 1.4 million\n",
        "# https://drive.google.com/file/d/1VALiNA_ruYl0jt66MBG7Eb_o3sWQIBqj/view?usp=sharing\n",
        "# https://drive.google.com/file/d/1-HsJ2w944FNCZPPiqYjV7Ip-2fmdNqz5/view?usp=sharing\n",
        "download_files = [\n",
        "          {'id':'1fKnmVJYBVkLKSr6YDXwUz5tZAHDc7YvO','file_name':'fox.csv'},\n",
        "          ]\n",
        "for entity in download_files:\n",
        "  id1 = entity['id']\n",
        "  downloaded = drive.CreateFile({'id':id1 }) \n",
        "  downloaded.GetContentFile(entity['file_name']) "
      ],
      "execution_count": null,
      "outputs": []
    },
    {
      "cell_type": "code",
      "metadata": {
        "id": "BMonhlpKXCUC"
      },
      "source": [
        "import pandas as pd\n",
        "import numpy as np\n",
        "import matplotlib.pyplot as plt\n",
        "test_data = pd.read_csv(\"fox.csv\")"
      ],
      "execution_count": null,
      "outputs": []
    },
    {
      "cell_type": "code",
      "metadata": {
        "colab": {
          "base_uri": "https://localhost:8080/",
          "height": 306
        },
        "id": "lqUGazDpXCUC",
        "outputId": "e4dc8683-72ae-4802-995e-96c8e41a861d"
      },
      "source": [
        "map_dict = {'hateful':1,'non-hateful':0}\n",
        "def map_to_binary(x):\n",
        "  return map_dict[x]\n",
        "test_data['label'] = test_data['label'].map(map_to_binary)\n",
        "test_data.head()"
      ],
      "execution_count": null,
      "outputs": [
        {
          "output_type": "execute_result",
          "data": {
            "text/html": [
              "<div>\n",
              "<style scoped>\n",
              "    .dataframe tbody tr th:only-of-type {\n",
              "        vertical-align: middle;\n",
              "    }\n",
              "\n",
              "    .dataframe tbody tr th {\n",
              "        vertical-align: top;\n",
              "    }\n",
              "\n",
              "    .dataframe thead th {\n",
              "        text-align: right;\n",
              "    }\n",
              "</style>\n",
              "<table border=\"1\" class=\"dataframe\">\n",
              "  <thead>\n",
              "    <tr style=\"text-align: right;\">\n",
              "      <th></th>\n",
              "      <th>Unnamed: 0</th>\n",
              "      <th>title</th>\n",
              "      <th>text</th>\n",
              "      <th>label</th>\n",
              "      <th>succ</th>\n",
              "      <th>meta</th>\n",
              "      <th>user</th>\n",
              "      <th>mentions</th>\n",
              "      <th>prev</th>\n",
              "    </tr>\n",
              "  </thead>\n",
              "  <tbody>\n",
              "    <tr>\n",
              "      <th>0</th>\n",
              "      <td>0</td>\n",
              "      <td>German lawmakers approve 'no means no' rape la...</td>\n",
              "      <td>Merkel would never say NO</td>\n",
              "      <td>1</td>\n",
              "      <td>NaN</td>\n",
              "      <td>German lawmakers passed a bill Thursday that w...</td>\n",
              "      <td>barryswallows</td>\n",
              "      <td>NaN</td>\n",
              "      <td>NaN</td>\n",
              "    </tr>\n",
              "    <tr>\n",
              "      <th>1</th>\n",
              "      <td>1</td>\n",
              "      <td>German lawmakers approve 'no means no' rape la...</td>\n",
              "      <td>Expect more and more women to be asking .. \"wh...</td>\n",
              "      <td>1</td>\n",
              "      <td>NaN</td>\n",
              "      <td>German lawmakers passed a bill Thursday that w...</td>\n",
              "      <td>PostApocalypticHero</td>\n",
              "      <td>NaN</td>\n",
              "      <td>NaN</td>\n",
              "    </tr>\n",
              "    <tr>\n",
              "      <th>2</th>\n",
              "      <td>2</td>\n",
              "      <td>German lawmakers approve 'no means no' rape la...</td>\n",
              "      <td>Groping people in public wasn't already illega...</td>\n",
              "      <td>0</td>\n",
              "      <td>NaN</td>\n",
              "      <td>German lawmakers passed a bill Thursday that w...</td>\n",
              "      <td>californiamojo</td>\n",
              "      <td>NaN</td>\n",
              "      <td>NaN</td>\n",
              "    </tr>\n",
              "    <tr>\n",
              "      <th>3</th>\n",
              "      <td>3</td>\n",
              "      <td>German lawmakers approve 'no means no' rape la...</td>\n",
              "      <td>Merkel, possible the only person in charge who...</td>\n",
              "      <td>1</td>\n",
              "      <td>NaN</td>\n",
              "      <td>German lawmakers passed a bill Thursday that w...</td>\n",
              "      <td>MikeSte</td>\n",
              "      <td>NaN</td>\n",
              "      <td>NaN</td>\n",
              "    </tr>\n",
              "    <tr>\n",
              "      <th>4</th>\n",
              "      <td>4</td>\n",
              "      <td>German lawmakers approve 'no means no' rape la...</td>\n",
              "      <td>They know very well, no means NO! They need to...</td>\n",
              "      <td>1</td>\n",
              "      <td>NaN</td>\n",
              "      <td>German lawmakers passed a bill Thursday that w...</td>\n",
              "      <td>scientist</td>\n",
              "      <td>NaN</td>\n",
              "      <td>NaN</td>\n",
              "    </tr>\n",
              "  </tbody>\n",
              "</table>\n",
              "</div>"
            ],
            "text/plain": [
              "   Unnamed: 0                                              title  ... mentions  prev\n",
              "0           0  German lawmakers approve 'no means no' rape la...  ...      NaN   NaN\n",
              "1           1  German lawmakers approve 'no means no' rape la...  ...      NaN   NaN\n",
              "2           2  German lawmakers approve 'no means no' rape la...  ...      NaN   NaN\n",
              "3           3  German lawmakers approve 'no means no' rape la...  ...      NaN   NaN\n",
              "4           4  German lawmakers approve 'no means no' rape la...  ...      NaN   NaN\n",
              "\n",
              "[5 rows x 9 columns]"
            ]
          },
          "metadata": {
            "tags": []
          },
          "execution_count": 25
        }
      ]
    },
    {
      "cell_type": "code",
      "metadata": {
        "colab": {
          "base_uri": "https://localhost:8080/"
        },
        "id": "9jYK1AvpXCUD",
        "outputId": "c8a5d1c3-d5f9-457b-b025-7d23a8360e29"
      },
      "source": [
        "test_ids = encode_fn(test_data['text'].tolist())\n",
        "test_labels = torch.tensor(test_data['label'].tolist())\n",
        "testdataset = TensorDataset(test_ids, test_labels)\n",
        "\n",
        "# train_dataset, val_dataset = random_split(dataset, [train_size, val_size])\n",
        "\n",
        "# Create train and validation dataloaders\n",
        "# train_dataloader = DataLoader(train_dataset, batch_size = batch_size, shuffle = True)\n",
        "test_dataloader = DataLoader(testdataset, batch_size = batch_size, shuffle = False)"
      ],
      "execution_count": null,
      "outputs": [
        {
          "output_type": "stream",
          "text": [
            "/usr/local/lib/python3.6/dist-packages/transformers/tokenization_utils_base.py:2022: FutureWarning: The `pad_to_max_length` argument is deprecated and will be removed in a future version, use `padding=True` or `padding='longest'` to pad to the longest sequence in the batch, or use `padding='max_length'` to pad to a max length. In this case, you can give a specific length with `max_length` (e.g. `max_length=45`) or leave max_length to None to pad to the maximal input size of the model (e.g. 512 for Bert).\n",
            "  FutureWarning,\n"
          ],
          "name": "stderr"
        }
      ]
    },
    {
      "cell_type": "code",
      "metadata": {
        "colab": {
          "base_uri": "https://localhost:8080/"
        },
        "id": "ik9Ml0wuXCUD",
        "outputId": "dd1ce358-e052-43f5-a8e6-0adf8eb13c72"
      },
      "source": [
        "labels_all = []\n",
        "pred_flat_all = []\n",
        "for i, batch in enumerate(test_dataloader):\n",
        "    with torch.no_grad():\n",
        "        loss, logits = model(batch[0].to(device), token_type_ids=None, attention_mask=(batch[0]>0).to(device), labels=batch[1].to(device))\n",
        "            \n",
        "        total_val_loss += loss.item()\n",
        "        \n",
        "        logits = logits.detach().cpu().numpy()\n",
        "        label_ids = batch[1].to('cpu').numpy()\n",
        "        labels_flat, pred_flat = flat_accuracy(logits, label_ids)\n",
        "        labels_all.extend(labels_flat)\n",
        "        pred_flat_all.extend(pred_flat)\n",
        "print(len(labels_all))\n",
        "print(len(pred_flat_all))"
      ],
      "execution_count": null,
      "outputs": [
        {
          "output_type": "stream",
          "text": [
            "1526\n",
            "1526\n"
          ],
          "name": "stdout"
        }
      ]
    },
    {
      "cell_type": "code",
      "metadata": {
        "colab": {
          "base_uri": "https://localhost:8080/"
        },
        "id": "HVxPM1pRXCUD",
        "outputId": "1ca2e9b2-5a82-4590-cec3-e4cd9d3c7774"
      },
      "source": [
        "avg_val_accuracy = accuracy_score(labels_all, pred_flat_all)\n",
        "avg_val_accuracy"
      ],
      "execution_count": null,
      "outputs": [
        {
          "output_type": "execute_result",
          "data": {
            "text/plain": [
              "0.7378768020969856"
            ]
          },
          "metadata": {
            "tags": []
          },
          "execution_count": 28
        }
      ]
    },
    {
      "cell_type": "code",
      "metadata": {
        "colab": {
          "base_uri": "https://localhost:8080/"
        },
        "id": "UmVQNDqsXCUD",
        "outputId": "3f983ca5-3060-4b18-b4a8-176826930d93"
      },
      "source": [
        "from sklearn.metrics import classification_report\n",
        "print(classification_report(y_true=labels_all,y_pred=pred_flat_all,digits=4))"
      ],
      "execution_count": null,
      "outputs": [
        {
          "output_type": "stream",
          "text": [
            "              precision    recall  f1-score   support\n",
            "\n",
            "           0     0.7635    0.9175    0.8335      1091\n",
            "           1     0.5814    0.2874    0.3846       435\n",
            "\n",
            "    accuracy                         0.7379      1526\n",
            "   macro avg     0.6725    0.6024    0.6090      1526\n",
            "weighted avg     0.7116    0.7379    0.7055      1526\n",
            "\n"
          ],
          "name": "stdout"
        }
      ]
    },
    {
      "cell_type": "markdown",
      "metadata": {
        "id": "-sQL--9oaK4B"
      },
      "source": [
        "# evaluate on wassem dataset"
      ]
    },
    {
      "cell_type": "code",
      "metadata": {
        "id": "REEwKHBjaK4B"
      },
      "source": [
        "!pip install -U -q PyDrive\n",
        "from pydrive.auth import GoogleAuth\n",
        "from pydrive.drive import GoogleDrive\n",
        "from google.colab import auth\n",
        "from oauth2client.client import GoogleCredentials\n",
        "\n",
        "import pandas as pd\n",
        "\n",
        "\n",
        "# Authenticate and create the PyDrive client.\n",
        "auth.authenticate_user()\n",
        "gauth = GoogleAuth()\n",
        "gauth.credentials = GoogleCredentials.get_application_default()\n",
        "drive = GoogleDrive(gauth)\n",
        "# Download all three Microsoft BotBuilder Personality Chat Datasets on Google Colab virtual server\n",
        "# https://drive.google.com/file/d/10yi1MvU3lrlqyGLGZ0Ee7o4e72zEW4Fg/view?usp=sharing\n",
        "#chats.csv DOTA dataset 1.4 million\n",
        "# https://drive.google.com/file/d/1VALiNA_ruYl0jt66MBG7Eb_o3sWQIBqj/view?usp=sharing\n",
        "# https://drive.google.com/file/d/1-HsJ2w944FNCZPPiqYjV7Ip-2fmdNqz5/view?usp=sharing\n",
        "download_files = [\n",
        "          {'id':'1gNfBqguzBu8cHKMPc8C44GbvD443dNC5','file_name':'Wassem.csv'},\n",
        "          ]\n",
        "for entity in download_files:\n",
        "  id1 = entity['id']\n",
        "  downloaded = drive.CreateFile({'id':id1 }) \n",
        "  downloaded.GetContentFile(entity['file_name']) "
      ],
      "execution_count": null,
      "outputs": []
    },
    {
      "cell_type": "code",
      "metadata": {
        "id": "Y7XBCK_faK4B"
      },
      "source": [
        "import pandas as pd\n",
        "import numpy as np\n",
        "import matplotlib.pyplot as plt\n",
        "test_data = pd.read_csv(\"Wassem.csv\")"
      ],
      "execution_count": null,
      "outputs": []
    },
    {
      "cell_type": "code",
      "metadata": {
        "colab": {
          "base_uri": "https://localhost:8080/",
          "height": 204
        },
        "id": "DOPAAM-xaK4B",
        "outputId": "299027bb-eeea-4308-b111-e3fa12ea5f6e"
      },
      "source": [
        "map_dict = {'racism':1,'sexism':1,'none':0}\n",
        "def map_to_binary(x):\n",
        "  return map_dict[x]\n",
        "test_data['Label'] = test_data['Label'].map(map_to_binary)\n",
        "test_data.head()"
      ],
      "execution_count": null,
      "outputs": [
        {
          "output_type": "execute_result",
          "data": {
            "text/html": [
              "<div>\n",
              "<style scoped>\n",
              "    .dataframe tbody tr th:only-of-type {\n",
              "        vertical-align: middle;\n",
              "    }\n",
              "\n",
              "    .dataframe tbody tr th {\n",
              "        vertical-align: top;\n",
              "    }\n",
              "\n",
              "    .dataframe thead th {\n",
              "        text-align: right;\n",
              "    }\n",
              "</style>\n",
              "<table border=\"1\" class=\"dataframe\">\n",
              "  <thead>\n",
              "    <tr style=\"text-align: right;\">\n",
              "      <th></th>\n",
              "      <th>Unnamed: 0</th>\n",
              "      <th>Tweet_ID</th>\n",
              "      <th>Previous</th>\n",
              "      <th>User_ID</th>\n",
              "      <th>Text</th>\n",
              "      <th>Label</th>\n",
              "    </tr>\n",
              "  </thead>\n",
              "  <tbody>\n",
              "    <tr>\n",
              "      <th>0</th>\n",
              "      <td>0</td>\n",
              "      <td>567080871472017408</td>\n",
              "      <td>5.670786e+17</td>\n",
              "      <td>2941145694</td>\n",
              "      <td>@truaemusic The followers of the religion give...</td>\n",
              "      <td>1</td>\n",
              "    </tr>\n",
              "    <tr>\n",
              "      <th>1</th>\n",
              "      <td>1</td>\n",
              "      <td>566098518616449024</td>\n",
              "      <td>5.660874e+17</td>\n",
              "      <td>2941145694</td>\n",
              "      <td>@Love___Egypt @washingtonpost All the land tha...</td>\n",
              "      <td>1</td>\n",
              "    </tr>\n",
              "    <tr>\n",
              "      <th>2</th>\n",
              "      <td>2</td>\n",
              "      <td>554672350361571328</td>\n",
              "      <td>NaN</td>\n",
              "      <td>2941145694</td>\n",
              "      <td>@CamilleHughes16 @edbarber101658 @_Watch_Obser...</td>\n",
              "      <td>1</td>\n",
              "    </tr>\n",
              "    <tr>\n",
              "      <th>3</th>\n",
              "      <td>3</td>\n",
              "      <td>569878129772081153</td>\n",
              "      <td>5.698451e+17</td>\n",
              "      <td>2941145694</td>\n",
              "      <td>@KellyTurner99 @brushyblues @buellerishere The...</td>\n",
              "      <td>1</td>\n",
              "    </tr>\n",
              "    <tr>\n",
              "      <th>4</th>\n",
              "      <td>4</td>\n",
              "      <td>568541747849998337</td>\n",
              "      <td>NaN</td>\n",
              "      <td>2941145694</td>\n",
              "      <td>@buellerishere Who cares. ISIS does what Moham...</td>\n",
              "      <td>1</td>\n",
              "    </tr>\n",
              "  </tbody>\n",
              "</table>\n",
              "</div>"
            ],
            "text/plain": [
              "   Unnamed: 0  ...  Label\n",
              "0           0  ...      1\n",
              "1           1  ...      1\n",
              "2           2  ...      1\n",
              "3           3  ...      1\n",
              "4           4  ...      1\n",
              "\n",
              "[5 rows x 6 columns]"
            ]
          },
          "metadata": {
            "tags": []
          },
          "execution_count": 32
        }
      ]
    },
    {
      "cell_type": "code",
      "metadata": {
        "colab": {
          "base_uri": "https://localhost:8080/"
        },
        "id": "Y8N0-0uJaK4B",
        "outputId": "b9511c9c-4308-4e69-cd8c-0444d4df4927"
      },
      "source": [
        "test_ids = encode_fn(test_data['Text'].tolist())\n",
        "test_labels = torch.tensor(test_data['Label'].tolist())\n",
        "testdataset = TensorDataset(test_ids, test_labels)\n",
        "\n",
        "# train_dataset, val_dataset = random_split(dataset, [train_size, val_size])\n",
        "\n",
        "# Create train and validation dataloaders\n",
        "# train_dataloader = DataLoader(train_dataset, batch_size = batch_size, shuffle = True)\n",
        "test_dataloader = DataLoader(testdataset, batch_size = batch_size, shuffle = False)"
      ],
      "execution_count": null,
      "outputs": [
        {
          "output_type": "stream",
          "text": [
            "/usr/local/lib/python3.6/dist-packages/transformers/tokenization_utils_base.py:2022: FutureWarning: The `pad_to_max_length` argument is deprecated and will be removed in a future version, use `padding=True` or `padding='longest'` to pad to the longest sequence in the batch, or use `padding='max_length'` to pad to a max length. In this case, you can give a specific length with `max_length` (e.g. `max_length=45`) or leave max_length to None to pad to the maximal input size of the model (e.g. 512 for Bert).\n",
            "  FutureWarning,\n"
          ],
          "name": "stderr"
        }
      ]
    },
    {
      "cell_type": "code",
      "metadata": {
        "colab": {
          "base_uri": "https://localhost:8080/"
        },
        "id": "HaAqbQeeaK4C",
        "outputId": "fcaa8977-5d4e-4f26-a896-527c2053c5b9"
      },
      "source": [
        "labels_all = []\n",
        "pred_flat_all = []\n",
        "for i, batch in enumerate(test_dataloader):\n",
        "    with torch.no_grad():\n",
        "        loss, logits = model(batch[0].to(device), token_type_ids=None, attention_mask=(batch[0]>0).to(device), labels=batch[1].to(device))\n",
        "            \n",
        "        total_val_loss += loss.item()\n",
        "        \n",
        "        logits = logits.detach().cpu().numpy()\n",
        "        label_ids = batch[1].to('cpu').numpy()\n",
        "        labels_flat, pred_flat = flat_accuracy(logits, label_ids)\n",
        "        labels_all.extend(labels_flat)\n",
        "        pred_flat_all.extend(pred_flat)\n",
        "print(len(labels_all))\n",
        "print(len(pred_flat_all))"
      ],
      "execution_count": null,
      "outputs": [
        {
          "output_type": "stream",
          "text": [
            "16202\n",
            "16202\n"
          ],
          "name": "stdout"
        }
      ]
    },
    {
      "cell_type": "code",
      "metadata": {
        "colab": {
          "base_uri": "https://localhost:8080/"
        },
        "id": "HyE-5tuHaK4C",
        "outputId": "6b6c6c01-887e-4be6-8e89-942be36d1de4"
      },
      "source": [
        "avg_val_accuracy = accuracy_score(labels_all, pred_flat_all)\n",
        "avg_val_accuracy"
      ],
      "execution_count": null,
      "outputs": [
        {
          "output_type": "execute_result",
          "data": {
            "text/plain": [
              "0.7117639797555857"
            ]
          },
          "metadata": {
            "tags": []
          },
          "execution_count": 35
        }
      ]
    },
    {
      "cell_type": "code",
      "metadata": {
        "colab": {
          "base_uri": "https://localhost:8080/"
        },
        "id": "eBhZMKScaK4C",
        "outputId": "5214f76a-85a2-4449-9bfb-73d95e5e87d7"
      },
      "source": [
        "from sklearn.metrics import classification_report\n",
        "print(classification_report(y_true=labels_all,y_pred=pred_flat_all,digits=4))"
      ],
      "execution_count": null,
      "outputs": [
        {
          "output_type": "stream",
          "text": [
            "              precision    recall  f1-score   support\n",
            "\n",
            "           0     0.7183    0.9539    0.8195     11115\n",
            "           1     0.6447    0.1826    0.2846      5087\n",
            "\n",
            "    accuracy                         0.7118     16202\n",
            "   macro avg     0.6815    0.5683    0.5521     16202\n",
            "weighted avg     0.6952    0.7118    0.6516     16202\n",
            "\n"
          ],
          "name": "stdout"
        }
      ]
    },
    {
      "cell_type": "markdown",
      "metadata": {
        "id": "S1j7dlxQjjGG"
      },
      "source": [
        "# evaluate on 45k dota dataset"
      ]
    },
    {
      "cell_type": "code",
      "metadata": {
        "id": "OOoCMvdVikwx"
      },
      "source": [
        "!pip install -U -q PyDrive\r\n",
        "from pydrive.auth import GoogleAuth\r\n",
        "from pydrive.drive import GoogleDrive\r\n",
        "from google.colab import auth\r\n",
        "from oauth2client.client import GoogleCredentials\r\n",
        "\r\n",
        "import pandas as pd\r\n",
        "\r\n",
        "\r\n",
        "# Authenticate and create the PyDrive client.\r\n",
        "auth.authenticate_user()\r\n",
        "gauth = GoogleAuth()\r\n",
        "gauth.credentials = GoogleCredentials.get_application_default()\r\n",
        "drive = GoogleDrive(gauth)\r\n",
        "# Download all three Microsoft BotBuilder Personality Chat Datasets on Google Colab virtual server\r\n",
        "# https://drive.google.com/file/d/10yi1MvU3lrlqyGLGZ0Ee7o4e72zEW4Fg/view?usp=sharing\r\n",
        "#chats.csv DOTA dataset 1.4 million\r\n",
        "# https://drive.google.com/file/d/1VALiNA_ruYl0jt66MBG7Eb_o3sWQIBqj/view?usp=sharing\r\n",
        "# https://drive.google.com/file/d/1TJVC6VGiAqrMzNbh_-a70FWlR6zzLuvP/view?usp=sharing\r\n",
        "download_files = [\r\n",
        "          {'id':'1TJVC6VGiAqrMzNbh_-a70FWlR6zzLuvP','file_name':'45k_add_slot_label.csv'},\r\n",
        "          ]\r\n",
        "for entity in download_files:\r\n",
        "  id1 = entity['id']\r\n",
        "  downloaded = drive.CreateFile({'id':id1 }) \r\n",
        "  downloaded.GetContentFile(entity['file_name']) "
      ],
      "execution_count": null,
      "outputs": []
    },
    {
      "cell_type": "code",
      "metadata": {
        "colab": {
          "base_uri": "https://localhost:8080/",
          "height": 306
        },
        "id": "mq5NU7AGjjGJ",
        "outputId": "c5cfefb5-9b87-45f8-89fa-93ef47f27801"
      },
      "source": [
        "from sklearn.utils import shuffle\n",
        "import pandas as pd\n",
        "import numpy as np\n",
        "import matplotlib.pyplot as plt\n",
        "\n",
        "data = pd.read_csv(\"45k_add_slot_label.csv\")\n",
        "data.head()"
      ],
      "execution_count": null,
      "outputs": [
        {
          "output_type": "execute_result",
          "data": {
            "text/html": [
              "<div>\n",
              "<style scoped>\n",
              "    .dataframe tbody tr th:only-of-type {\n",
              "        vertical-align: middle;\n",
              "    }\n",
              "\n",
              "    .dataframe tbody tr th {\n",
              "        vertical-align: top;\n",
              "    }\n",
              "\n",
              "    .dataframe thead th {\n",
              "        text-align: right;\n",
              "    }\n",
              "</style>\n",
              "<table border=\"1\" class=\"dataframe\">\n",
              "  <thead>\n",
              "    <tr style=\"text-align: right;\">\n",
              "      <th></th>\n",
              "      <th>Unnamed: 0</th>\n",
              "      <th>match_id</th>\n",
              "      <th>conversation_id</th>\n",
              "      <th>utterance</th>\n",
              "      <th>time</th>\n",
              "      <th>slot</th>\n",
              "      <th>unit</th>\n",
              "      <th>Label</th>\n",
              "      <th>combined_annotation</th>\n",
              "      <th>final_label</th>\n",
              "      <th>review_label</th>\n",
              "      <th>word_level_data</th>\n",
              "      <th>slot_label</th>\n",
              "      <th>combined_annotation_version2</th>\n",
              "    </tr>\n",
              "  </thead>\n",
              "  <tbody>\n",
              "    <tr>\n",
              "      <th>0</th>\n",
              "      <td>0</td>\n",
              "      <td>0</td>\n",
              "      <td>0</td>\n",
              "      <td>force it</td>\n",
              "      <td>-8</td>\n",
              "      <td>6</td>\n",
              "      <td>6k Slayer</td>\n",
              "      <td>A</td>\n",
              "      <td>force (D), it (P),</td>\n",
              "      <td>A</td>\n",
              "      <td>NaN</td>\n",
              "      <td>force it</td>\n",
              "      <td>D P</td>\n",
              "      <td>force (D), it (P),</td>\n",
              "    </tr>\n",
              "    <tr>\n",
              "      <th>1</th>\n",
              "      <td>1</td>\n",
              "      <td>0</td>\n",
              "      <td>0</td>\n",
              "      <td>space created [SEPA] hah</td>\n",
              "      <td>5</td>\n",
              "      <td>1</td>\n",
              "      <td>Monkey</td>\n",
              "      <td>O</td>\n",
              "      <td>space (O), created (O), [SEPA] (SEPA), hah (O),</td>\n",
              "      <td>O</td>\n",
              "      <td>NaN</td>\n",
              "      <td>space created [SEPA] hah</td>\n",
              "      <td>O O SEPA O</td>\n",
              "      <td>space (O), created (O), [SEPA] (SEPA), hah (O),</td>\n",
              "    </tr>\n",
              "    <tr>\n",
              "      <th>2</th>\n",
              "      <td>2</td>\n",
              "      <td>0</td>\n",
              "      <td>0</td>\n",
              "      <td>ez 500</td>\n",
              "      <td>9</td>\n",
              "      <td>6</td>\n",
              "      <td>6k Slayer</td>\n",
              "      <td>I</td>\n",
              "      <td>ez (S), 500 (O),</td>\n",
              "      <td>I</td>\n",
              "      <td>NaN</td>\n",
              "      <td>ez 500</td>\n",
              "      <td>S O</td>\n",
              "      <td>ez (S), 500 (O),</td>\n",
              "    </tr>\n",
              "    <tr>\n",
              "      <th>3</th>\n",
              "      <td>3</td>\n",
              "      <td>0</td>\n",
              "      <td>1</td>\n",
              "      <td>mvp ulti</td>\n",
              "      <td>934</td>\n",
              "      <td>4</td>\n",
              "      <td>Kira</td>\n",
              "      <td>O</td>\n",
              "      <td>mvp (O), ulti (S),</td>\n",
              "      <td>O</td>\n",
              "      <td>NaN</td>\n",
              "      <td>mvp ulti</td>\n",
              "      <td>O S</td>\n",
              "      <td>mvp (O), ulti (S),</td>\n",
              "    </tr>\n",
              "    <tr>\n",
              "      <th>4</th>\n",
              "      <td>4</td>\n",
              "      <td>0</td>\n",
              "      <td>2</td>\n",
              "      <td>bye</td>\n",
              "      <td>1486</td>\n",
              "      <td>6</td>\n",
              "      <td>6k Slayer</td>\n",
              "      <td>O</td>\n",
              "      <td>bye (O),</td>\n",
              "      <td>O</td>\n",
              "      <td>NaN</td>\n",
              "      <td>bye</td>\n",
              "      <td>O</td>\n",
              "      <td>bye (O),</td>\n",
              "    </tr>\n",
              "  </tbody>\n",
              "</table>\n",
              "</div>"
            ],
            "text/plain": [
              "   Unnamed: 0  ...                      combined_annotation_version2\n",
              "0           0  ...                               force (D), it (P), \n",
              "1           1  ...  space (O), created (O), [SEPA] (SEPA), hah (O), \n",
              "2           2  ...                                 ez (S), 500 (O), \n",
              "3           3  ...                               mvp (O), ulti (S), \n",
              "4           4  ...                                         bye (O), \n",
              "\n",
              "[5 rows x 14 columns]"
            ]
          },
          "metadata": {
            "tags": []
          },
          "execution_count": 16
        }
      ]
    },
    {
      "cell_type": "code",
      "metadata": {
        "id": "V7Zy11fLjjGK"
      },
      "source": [
        "# import pandas as pd\n",
        "# import numpy as np\n",
        "# import matplotlib.pyplot as plt\n",
        "# colnames = ['1','2','3','utterance','4','5','6','Label','combined_annotation']\n",
        "# test_data = pd.read_csv(\"50K_Output.csv\",names=colnames, header=None)"
      ],
      "execution_count": null,
      "outputs": []
    },
    {
      "cell_type": "code",
      "metadata": {
        "colab": {
          "base_uri": "https://localhost:8080/",
          "height": 306
        },
        "id": "MTUFCT8ejjGK",
        "outputId": "f96e7fe5-9c42-415c-cf62-c0f0401ceb37"
      },
      "source": [
        "test_data = data\n",
        "def map_to_binary(x):\n",
        "  if x=='E' or x =='I':\n",
        "    return 1\n",
        "  else:\n",
        "    return 0\n",
        "\n",
        "test_data['Label'] = test_data['final_label'].map(map_to_binary)\n",
        "test_data.head()"
      ],
      "execution_count": null,
      "outputs": [
        {
          "output_type": "execute_result",
          "data": {
            "text/html": [
              "<div>\n",
              "<style scoped>\n",
              "    .dataframe tbody tr th:only-of-type {\n",
              "        vertical-align: middle;\n",
              "    }\n",
              "\n",
              "    .dataframe tbody tr th {\n",
              "        vertical-align: top;\n",
              "    }\n",
              "\n",
              "    .dataframe thead th {\n",
              "        text-align: right;\n",
              "    }\n",
              "</style>\n",
              "<table border=\"1\" class=\"dataframe\">\n",
              "  <thead>\n",
              "    <tr style=\"text-align: right;\">\n",
              "      <th></th>\n",
              "      <th>Unnamed: 0</th>\n",
              "      <th>match_id</th>\n",
              "      <th>conversation_id</th>\n",
              "      <th>utterance</th>\n",
              "      <th>time</th>\n",
              "      <th>slot</th>\n",
              "      <th>unit</th>\n",
              "      <th>Label</th>\n",
              "      <th>combined_annotation</th>\n",
              "      <th>final_label</th>\n",
              "      <th>review_label</th>\n",
              "      <th>word_level_data</th>\n",
              "      <th>slot_label</th>\n",
              "      <th>combined_annotation_version2</th>\n",
              "    </tr>\n",
              "  </thead>\n",
              "  <tbody>\n",
              "    <tr>\n",
              "      <th>0</th>\n",
              "      <td>0</td>\n",
              "      <td>0</td>\n",
              "      <td>0</td>\n",
              "      <td>force it</td>\n",
              "      <td>-8</td>\n",
              "      <td>6</td>\n",
              "      <td>6k Slayer</td>\n",
              "      <td>0</td>\n",
              "      <td>force (D), it (P),</td>\n",
              "      <td>A</td>\n",
              "      <td>NaN</td>\n",
              "      <td>force it</td>\n",
              "      <td>D P</td>\n",
              "      <td>force (D), it (P),</td>\n",
              "    </tr>\n",
              "    <tr>\n",
              "      <th>1</th>\n",
              "      <td>1</td>\n",
              "      <td>0</td>\n",
              "      <td>0</td>\n",
              "      <td>space created [SEPA] hah</td>\n",
              "      <td>5</td>\n",
              "      <td>1</td>\n",
              "      <td>Monkey</td>\n",
              "      <td>0</td>\n",
              "      <td>space (O), created (O), [SEPA] (SEPA), hah (O),</td>\n",
              "      <td>O</td>\n",
              "      <td>NaN</td>\n",
              "      <td>space created [SEPA] hah</td>\n",
              "      <td>O O SEPA O</td>\n",
              "      <td>space (O), created (O), [SEPA] (SEPA), hah (O),</td>\n",
              "    </tr>\n",
              "    <tr>\n",
              "      <th>2</th>\n",
              "      <td>2</td>\n",
              "      <td>0</td>\n",
              "      <td>0</td>\n",
              "      <td>ez 500</td>\n",
              "      <td>9</td>\n",
              "      <td>6</td>\n",
              "      <td>6k Slayer</td>\n",
              "      <td>1</td>\n",
              "      <td>ez (S), 500 (O),</td>\n",
              "      <td>I</td>\n",
              "      <td>NaN</td>\n",
              "      <td>ez 500</td>\n",
              "      <td>S O</td>\n",
              "      <td>ez (S), 500 (O),</td>\n",
              "    </tr>\n",
              "    <tr>\n",
              "      <th>3</th>\n",
              "      <td>3</td>\n",
              "      <td>0</td>\n",
              "      <td>1</td>\n",
              "      <td>mvp ulti</td>\n",
              "      <td>934</td>\n",
              "      <td>4</td>\n",
              "      <td>Kira</td>\n",
              "      <td>0</td>\n",
              "      <td>mvp (O), ulti (S),</td>\n",
              "      <td>O</td>\n",
              "      <td>NaN</td>\n",
              "      <td>mvp ulti</td>\n",
              "      <td>O S</td>\n",
              "      <td>mvp (O), ulti (S),</td>\n",
              "    </tr>\n",
              "    <tr>\n",
              "      <th>4</th>\n",
              "      <td>4</td>\n",
              "      <td>0</td>\n",
              "      <td>2</td>\n",
              "      <td>bye</td>\n",
              "      <td>1486</td>\n",
              "      <td>6</td>\n",
              "      <td>6k Slayer</td>\n",
              "      <td>0</td>\n",
              "      <td>bye (O),</td>\n",
              "      <td>O</td>\n",
              "      <td>NaN</td>\n",
              "      <td>bye</td>\n",
              "      <td>O</td>\n",
              "      <td>bye (O),</td>\n",
              "    </tr>\n",
              "  </tbody>\n",
              "</table>\n",
              "</div>"
            ],
            "text/plain": [
              "   Unnamed: 0  ...                      combined_annotation_version2\n",
              "0           0  ...                               force (D), it (P), \n",
              "1           1  ...  space (O), created (O), [SEPA] (SEPA), hah (O), \n",
              "2           2  ...                                 ez (S), 500 (O), \n",
              "3           3  ...                               mvp (O), ulti (S), \n",
              "4           4  ...                                         bye (O), \n",
              "\n",
              "[5 rows x 14 columns]"
            ]
          },
          "metadata": {
            "tags": []
          },
          "execution_count": 18
        }
      ]
    },
    {
      "cell_type": "code",
      "metadata": {
        "colab": {
          "base_uri": "https://localhost:8080/",
          "height": 306
        },
        "id": "RJCnMOfEjjGL",
        "outputId": "731a6ba0-96b6-45d2-aedc-d159cb16277d"
      },
      "source": [
        "def str_context(x):\n",
        "  return str(x)\n",
        "\n",
        "test_data['utterance'] = test_data['utterance'].map(str_context)\n",
        "test_data.head()"
      ],
      "execution_count": null,
      "outputs": [
        {
          "output_type": "execute_result",
          "data": {
            "text/html": [
              "<div>\n",
              "<style scoped>\n",
              "    .dataframe tbody tr th:only-of-type {\n",
              "        vertical-align: middle;\n",
              "    }\n",
              "\n",
              "    .dataframe tbody tr th {\n",
              "        vertical-align: top;\n",
              "    }\n",
              "\n",
              "    .dataframe thead th {\n",
              "        text-align: right;\n",
              "    }\n",
              "</style>\n",
              "<table border=\"1\" class=\"dataframe\">\n",
              "  <thead>\n",
              "    <tr style=\"text-align: right;\">\n",
              "      <th></th>\n",
              "      <th>Unnamed: 0</th>\n",
              "      <th>match_id</th>\n",
              "      <th>conversation_id</th>\n",
              "      <th>utterance</th>\n",
              "      <th>time</th>\n",
              "      <th>slot</th>\n",
              "      <th>unit</th>\n",
              "      <th>Label</th>\n",
              "      <th>combined_annotation</th>\n",
              "      <th>final_label</th>\n",
              "      <th>review_label</th>\n",
              "      <th>word_level_data</th>\n",
              "      <th>slot_label</th>\n",
              "      <th>combined_annotation_version2</th>\n",
              "    </tr>\n",
              "  </thead>\n",
              "  <tbody>\n",
              "    <tr>\n",
              "      <th>0</th>\n",
              "      <td>0</td>\n",
              "      <td>0</td>\n",
              "      <td>0</td>\n",
              "      <td>force it</td>\n",
              "      <td>-8</td>\n",
              "      <td>6</td>\n",
              "      <td>6k Slayer</td>\n",
              "      <td>0</td>\n",
              "      <td>force (D), it (P),</td>\n",
              "      <td>A</td>\n",
              "      <td>NaN</td>\n",
              "      <td>force it</td>\n",
              "      <td>D P</td>\n",
              "      <td>force (D), it (P),</td>\n",
              "    </tr>\n",
              "    <tr>\n",
              "      <th>1</th>\n",
              "      <td>1</td>\n",
              "      <td>0</td>\n",
              "      <td>0</td>\n",
              "      <td>space created [SEPA] hah</td>\n",
              "      <td>5</td>\n",
              "      <td>1</td>\n",
              "      <td>Monkey</td>\n",
              "      <td>0</td>\n",
              "      <td>space (O), created (O), [SEPA] (SEPA), hah (O),</td>\n",
              "      <td>O</td>\n",
              "      <td>NaN</td>\n",
              "      <td>space created [SEPA] hah</td>\n",
              "      <td>O O SEPA O</td>\n",
              "      <td>space (O), created (O), [SEPA] (SEPA), hah (O),</td>\n",
              "    </tr>\n",
              "    <tr>\n",
              "      <th>2</th>\n",
              "      <td>2</td>\n",
              "      <td>0</td>\n",
              "      <td>0</td>\n",
              "      <td>ez 500</td>\n",
              "      <td>9</td>\n",
              "      <td>6</td>\n",
              "      <td>6k Slayer</td>\n",
              "      <td>1</td>\n",
              "      <td>ez (S), 500 (O),</td>\n",
              "      <td>I</td>\n",
              "      <td>NaN</td>\n",
              "      <td>ez 500</td>\n",
              "      <td>S O</td>\n",
              "      <td>ez (S), 500 (O),</td>\n",
              "    </tr>\n",
              "    <tr>\n",
              "      <th>3</th>\n",
              "      <td>3</td>\n",
              "      <td>0</td>\n",
              "      <td>1</td>\n",
              "      <td>mvp ulti</td>\n",
              "      <td>934</td>\n",
              "      <td>4</td>\n",
              "      <td>Kira</td>\n",
              "      <td>0</td>\n",
              "      <td>mvp (O), ulti (S),</td>\n",
              "      <td>O</td>\n",
              "      <td>NaN</td>\n",
              "      <td>mvp ulti</td>\n",
              "      <td>O S</td>\n",
              "      <td>mvp (O), ulti (S),</td>\n",
              "    </tr>\n",
              "    <tr>\n",
              "      <th>4</th>\n",
              "      <td>4</td>\n",
              "      <td>0</td>\n",
              "      <td>2</td>\n",
              "      <td>bye</td>\n",
              "      <td>1486</td>\n",
              "      <td>6</td>\n",
              "      <td>6k Slayer</td>\n",
              "      <td>0</td>\n",
              "      <td>bye (O),</td>\n",
              "      <td>O</td>\n",
              "      <td>NaN</td>\n",
              "      <td>bye</td>\n",
              "      <td>O</td>\n",
              "      <td>bye (O),</td>\n",
              "    </tr>\n",
              "  </tbody>\n",
              "</table>\n",
              "</div>"
            ],
            "text/plain": [
              "   Unnamed: 0  ...                      combined_annotation_version2\n",
              "0           0  ...                               force (D), it (P), \n",
              "1           1  ...  space (O), created (O), [SEPA] (SEPA), hah (O), \n",
              "2           2  ...                                 ez (S), 500 (O), \n",
              "3           3  ...                               mvp (O), ulti (S), \n",
              "4           4  ...                                         bye (O), \n",
              "\n",
              "[5 rows x 14 columns]"
            ]
          },
          "metadata": {
            "tags": []
          },
          "execution_count": 19
        }
      ]
    },
    {
      "cell_type": "code",
      "metadata": {
        "colab": {
          "base_uri": "https://localhost:8080/"
        },
        "id": "x_31O1mzjjGL",
        "outputId": "a8f4a794-41e2-466f-ea9f-d2be4fba0d67"
      },
      "source": [
        "test_ids = encode_fn(test_data['utterance'].tolist())\n",
        "test_labels = torch.tensor(test_data['Label'].tolist())\n",
        "testdataset = TensorDataset(test_ids, test_labels)\n",
        "\n",
        "# train_dataset, val_dataset = random_split(dataset, [train_size, val_size])\n",
        "\n",
        "# Create train and validation dataloaders\n",
        "# train_dataloader = DataLoader(train_dataset, batch_size = batch_size, shuffle = True)\n",
        "test_dataloader = DataLoader(testdataset, batch_size = batch_size, shuffle = False)"
      ],
      "execution_count": null,
      "outputs": [
        {
          "output_type": "stream",
          "text": [
            "/usr/local/lib/python3.6/dist-packages/transformers/tokenization_utils_base.py:2142: FutureWarning: The `pad_to_max_length` argument is deprecated and will be removed in a future version, use `padding=True` or `padding='longest'` to pad to the longest sequence in the batch, or use `padding='max_length'` to pad to a max length. In this case, you can give a specific length with `max_length` (e.g. `max_length=45`) or leave max_length to None to pad to the maximal input size of the model (e.g. 512 for Bert).\n",
            "  FutureWarning,\n"
          ],
          "name": "stderr"
        }
      ]
    },
    {
      "cell_type": "code",
      "metadata": {
        "colab": {
          "base_uri": "https://localhost:8080/"
        },
        "id": "sdx6FiczjjGL",
        "outputId": "900300b7-3e24-4f4e-8265-fdd8a659186b"
      },
      "source": [
        "labels_all = []\n",
        "pred_flat_all = []\n",
        "for i, batch in enumerate(test_dataloader):\n",
        "    with torch.no_grad():\n",
        "        outputs = model(batch[0].to(device), token_type_ids=None, attention_mask=(batch[0]>0).to(device), labels=batch[1].to(device))\n",
        "        loss = outputs.loss\n",
        "        logits = outputs.logits\n",
        "            \n",
        "        total_val_loss += loss.item()\n",
        "        \n",
        "        logits = logits.detach().cpu().numpy()\n",
        "        label_ids = batch[1].to('cpu').numpy()\n",
        "        labels_flat, pred_flat = flat_accuracy(logits, label_ids)\n",
        "        labels_all.extend(labels_flat)\n",
        "        pred_flat_all.extend(pred_flat)\n",
        "print(len(labels_all))\n",
        "print(len(pred_flat_all))"
      ],
      "execution_count": null,
      "outputs": [
        {
          "output_type": "stream",
          "text": [
            "44869\n",
            "44869\n"
          ],
          "name": "stdout"
        }
      ]
    },
    {
      "cell_type": "code",
      "metadata": {
        "colab": {
          "base_uri": "https://localhost:8080/"
        },
        "id": "002hwBhujjGM",
        "outputId": "00cc91b4-dff9-4c22-d944-81ce36e9a1d7"
      },
      "source": [
        "avg_val_accuracy = accuracy_score(labels_all, pred_flat_all)\n",
        "avg_val_accuracy"
      ],
      "execution_count": null,
      "outputs": [
        {
          "output_type": "execute_result",
          "data": {
            "text/plain": [
              "0.8106264904499766"
            ]
          },
          "metadata": {
            "tags": []
          },
          "execution_count": 22
        }
      ]
    },
    {
      "cell_type": "code",
      "metadata": {
        "colab": {
          "base_uri": "https://localhost:8080/"
        },
        "id": "9sLDiStojjGM",
        "outputId": "74a42e00-1220-4f2a-ebf1-21814a3b5db3"
      },
      "source": [
        "from sklearn.metrics import classification_report\n",
        "print(classification_report(y_true=labels_all,y_pred=pred_flat_all,digits=4))"
      ],
      "execution_count": null,
      "outputs": [
        {
          "output_type": "stream",
          "text": [
            "              precision    recall  f1-score   support\n",
            "\n",
            "           0     0.8125    0.9936    0.8939     36040\n",
            "           1     0.7085    0.0639    0.1172      8829\n",
            "\n",
            "    accuracy                         0.8106     44869\n",
            "   macro avg     0.7605    0.5287    0.5056     44869\n",
            "weighted avg     0.7920    0.8106    0.7411     44869\n",
            "\n"
          ],
          "name": "stdout"
        }
      ]
    }
  ]
}