{
  "nbformat": 4,
  "nbformat_minor": 0,
  "metadata": {
    "kernelspec": {
      "display_name": "Python 3",
      "language": "python",
      "name": "python3"
    },
    "language_info": {
      "codemirror_mode": {
        "name": "ipython",
        "version": 3
      },
      "file_extension": ".py",
      "mimetype": "text/x-python",
      "name": "python",
      "nbconvert_exporter": "python",
      "pygments_lexer": "ipython3",
      "version": "3.7.0"
    },
    "colab": {
      "name": "transfer_learning_our_dataset",
      "provenance": [],
      "collapsed_sections": [],
      "toc_visible": true,
      "machine_shape": "hm"
    },
    "accelerator": "GPU",
    "widgets": {
      "application/vnd.jupyter.widget-state+json": {
        "29f54c27e4d1445394c4faab2412b82f": {
          "model_module": "@jupyter-widgets/controls",
          "model_name": "HBoxModel",
          "state": {
            "_view_name": "HBoxView",
            "_dom_classes": [],
            "_model_name": "HBoxModel",
            "_view_module": "@jupyter-widgets/controls",
            "_model_module_version": "1.5.0",
            "_view_count": null,
            "_view_module_version": "1.5.0",
            "box_style": "",
            "layout": "IPY_MODEL_161df8b8d51147f0a89618d3a72b5355",
            "_model_module": "@jupyter-widgets/controls",
            "children": [
              "IPY_MODEL_cf3115946a784eccacfa27ac0e90fd27",
              "IPY_MODEL_5d5df47b094b4039a2ca7fe70ebdea52"
            ]
          }
        },
        "161df8b8d51147f0a89618d3a72b5355": {
          "model_module": "@jupyter-widgets/base",
          "model_name": "LayoutModel",
          "state": {
            "_view_name": "LayoutView",
            "grid_template_rows": null,
            "right": null,
            "justify_content": null,
            "_view_module": "@jupyter-widgets/base",
            "overflow": null,
            "_model_module_version": "1.2.0",
            "_view_count": null,
            "flex_flow": null,
            "width": null,
            "min_width": null,
            "border": null,
            "align_items": null,
            "bottom": null,
            "_model_module": "@jupyter-widgets/base",
            "top": null,
            "grid_column": null,
            "overflow_y": null,
            "overflow_x": null,
            "grid_auto_flow": null,
            "grid_area": null,
            "grid_template_columns": null,
            "flex": null,
            "_model_name": "LayoutModel",
            "justify_items": null,
            "grid_row": null,
            "max_height": null,
            "align_content": null,
            "visibility": null,
            "align_self": null,
            "height": null,
            "min_height": null,
            "padding": null,
            "grid_auto_rows": null,
            "grid_gap": null,
            "max_width": null,
            "order": null,
            "_view_module_version": "1.2.0",
            "grid_template_areas": null,
            "object_position": null,
            "object_fit": null,
            "grid_auto_columns": null,
            "margin": null,
            "display": null,
            "left": null
          }
        },
        "cf3115946a784eccacfa27ac0e90fd27": {
          "model_module": "@jupyter-widgets/controls",
          "model_name": "FloatProgressModel",
          "state": {
            "_view_name": "ProgressView",
            "style": "IPY_MODEL_3da29a8695184bb8b72897be99137da6",
            "_dom_classes": [],
            "description": "Downloading: 100%",
            "_model_name": "FloatProgressModel",
            "bar_style": "success",
            "max": 231508,
            "_view_module": "@jupyter-widgets/controls",
            "_model_module_version": "1.5.0",
            "value": 231508,
            "_view_count": null,
            "_view_module_version": "1.5.0",
            "orientation": "horizontal",
            "min": 0,
            "description_tooltip": null,
            "_model_module": "@jupyter-widgets/controls",
            "layout": "IPY_MODEL_98e50ee0f79543cbb5446884d2bdff75"
          }
        },
        "5d5df47b094b4039a2ca7fe70ebdea52": {
          "model_module": "@jupyter-widgets/controls",
          "model_name": "HTMLModel",
          "state": {
            "_view_name": "HTMLView",
            "style": "IPY_MODEL_e78f95a8a5174b0ab8b7abcbbe71cedb",
            "_dom_classes": [],
            "description": "",
            "_model_name": "HTMLModel",
            "placeholder": "​",
            "_view_module": "@jupyter-widgets/controls",
            "_model_module_version": "1.5.0",
            "value": " 232k/232k [00:00&lt;00:00, 635kB/s]",
            "_view_count": null,
            "_view_module_version": "1.5.0",
            "description_tooltip": null,
            "_model_module": "@jupyter-widgets/controls",
            "layout": "IPY_MODEL_ee6621accce44d748bbf7960c8bb7359"
          }
        },
        "3da29a8695184bb8b72897be99137da6": {
          "model_module": "@jupyter-widgets/controls",
          "model_name": "ProgressStyleModel",
          "state": {
            "_view_name": "StyleView",
            "_model_name": "ProgressStyleModel",
            "description_width": "initial",
            "_view_module": "@jupyter-widgets/base",
            "_model_module_version": "1.5.0",
            "_view_count": null,
            "_view_module_version": "1.2.0",
            "bar_color": null,
            "_model_module": "@jupyter-widgets/controls"
          }
        },
        "98e50ee0f79543cbb5446884d2bdff75": {
          "model_module": "@jupyter-widgets/base",
          "model_name": "LayoutModel",
          "state": {
            "_view_name": "LayoutView",
            "grid_template_rows": null,
            "right": null,
            "justify_content": null,
            "_view_module": "@jupyter-widgets/base",
            "overflow": null,
            "_model_module_version": "1.2.0",
            "_view_count": null,
            "flex_flow": null,
            "width": null,
            "min_width": null,
            "border": null,
            "align_items": null,
            "bottom": null,
            "_model_module": "@jupyter-widgets/base",
            "top": null,
            "grid_column": null,
            "overflow_y": null,
            "overflow_x": null,
            "grid_auto_flow": null,
            "grid_area": null,
            "grid_template_columns": null,
            "flex": null,
            "_model_name": "LayoutModel",
            "justify_items": null,
            "grid_row": null,
            "max_height": null,
            "align_content": null,
            "visibility": null,
            "align_self": null,
            "height": null,
            "min_height": null,
            "padding": null,
            "grid_auto_rows": null,
            "grid_gap": null,
            "max_width": null,
            "order": null,
            "_view_module_version": "1.2.0",
            "grid_template_areas": null,
            "object_position": null,
            "object_fit": null,
            "grid_auto_columns": null,
            "margin": null,
            "display": null,
            "left": null
          }
        },
        "e78f95a8a5174b0ab8b7abcbbe71cedb": {
          "model_module": "@jupyter-widgets/controls",
          "model_name": "DescriptionStyleModel",
          "state": {
            "_view_name": "StyleView",
            "_model_name": "DescriptionStyleModel",
            "description_width": "",
            "_view_module": "@jupyter-widgets/base",
            "_model_module_version": "1.5.0",
            "_view_count": null,
            "_view_module_version": "1.2.0",
            "_model_module": "@jupyter-widgets/controls"
          }
        },
        "ee6621accce44d748bbf7960c8bb7359": {
          "model_module": "@jupyter-widgets/base",
          "model_name": "LayoutModel",
          "state": {
            "_view_name": "LayoutView",
            "grid_template_rows": null,
            "right": null,
            "justify_content": null,
            "_view_module": "@jupyter-widgets/base",
            "overflow": null,
            "_model_module_version": "1.2.0",
            "_view_count": null,
            "flex_flow": null,
            "width": null,
            "min_width": null,
            "border": null,
            "align_items": null,
            "bottom": null,
            "_model_module": "@jupyter-widgets/base",
            "top": null,
            "grid_column": null,
            "overflow_y": null,
            "overflow_x": null,
            "grid_auto_flow": null,
            "grid_area": null,
            "grid_template_columns": null,
            "flex": null,
            "_model_name": "LayoutModel",
            "justify_items": null,
            "grid_row": null,
            "max_height": null,
            "align_content": null,
            "visibility": null,
            "align_self": null,
            "height": null,
            "min_height": null,
            "padding": null,
            "grid_auto_rows": null,
            "grid_gap": null,
            "max_width": null,
            "order": null,
            "_view_module_version": "1.2.0",
            "grid_template_areas": null,
            "object_position": null,
            "object_fit": null,
            "grid_auto_columns": null,
            "margin": null,
            "display": null,
            "left": null
          }
        },
        "3096761a8a7246208cd6f2f272c8eeb3": {
          "model_module": "@jupyter-widgets/controls",
          "model_name": "HBoxModel",
          "state": {
            "_view_name": "HBoxView",
            "_dom_classes": [],
            "_model_name": "HBoxModel",
            "_view_module": "@jupyter-widgets/controls",
            "_model_module_version": "1.5.0",
            "_view_count": null,
            "_view_module_version": "1.5.0",
            "box_style": "",
            "layout": "IPY_MODEL_5e969272eed241cc9a35dfaf2fe0f432",
            "_model_module": "@jupyter-widgets/controls",
            "children": [
              "IPY_MODEL_a0dd72308b0047ce94ec883c9b4c493d",
              "IPY_MODEL_9c650c6e4f9a470bab2342ae1b40c178"
            ]
          }
        },
        "5e969272eed241cc9a35dfaf2fe0f432": {
          "model_module": "@jupyter-widgets/base",
          "model_name": "LayoutModel",
          "state": {
            "_view_name": "LayoutView",
            "grid_template_rows": null,
            "right": null,
            "justify_content": null,
            "_view_module": "@jupyter-widgets/base",
            "overflow": null,
            "_model_module_version": "1.2.0",
            "_view_count": null,
            "flex_flow": null,
            "width": null,
            "min_width": null,
            "border": null,
            "align_items": null,
            "bottom": null,
            "_model_module": "@jupyter-widgets/base",
            "top": null,
            "grid_column": null,
            "overflow_y": null,
            "overflow_x": null,
            "grid_auto_flow": null,
            "grid_area": null,
            "grid_template_columns": null,
            "flex": null,
            "_model_name": "LayoutModel",
            "justify_items": null,
            "grid_row": null,
            "max_height": null,
            "align_content": null,
            "visibility": null,
            "align_self": null,
            "height": null,
            "min_height": null,
            "padding": null,
            "grid_auto_rows": null,
            "grid_gap": null,
            "max_width": null,
            "order": null,
            "_view_module_version": "1.2.0",
            "grid_template_areas": null,
            "object_position": null,
            "object_fit": null,
            "grid_auto_columns": null,
            "margin": null,
            "display": null,
            "left": null
          }
        },
        "a0dd72308b0047ce94ec883c9b4c493d": {
          "model_module": "@jupyter-widgets/controls",
          "model_name": "FloatProgressModel",
          "state": {
            "_view_name": "ProgressView",
            "style": "IPY_MODEL_75196c05444c49f595a376c450e39f53",
            "_dom_classes": [],
            "description": "Downloading: 100%",
            "_model_name": "FloatProgressModel",
            "bar_style": "success",
            "max": 433,
            "_view_module": "@jupyter-widgets/controls",
            "_model_module_version": "1.5.0",
            "value": 433,
            "_view_count": null,
            "_view_module_version": "1.5.0",
            "orientation": "horizontal",
            "min": 0,
            "description_tooltip": null,
            "_model_module": "@jupyter-widgets/controls",
            "layout": "IPY_MODEL_ba9a145fbd9c47fba326388d48d30248"
          }
        },
        "9c650c6e4f9a470bab2342ae1b40c178": {
          "model_module": "@jupyter-widgets/controls",
          "model_name": "HTMLModel",
          "state": {
            "_view_name": "HTMLView",
            "style": "IPY_MODEL_f0f82fa947cd49fa9e5613585d148532",
            "_dom_classes": [],
            "description": "",
            "_model_name": "HTMLModel",
            "placeholder": "​",
            "_view_module": "@jupyter-widgets/controls",
            "_model_module_version": "1.5.0",
            "value": " 433/433 [00:00&lt;00:00, 19.9kB/s]",
            "_view_count": null,
            "_view_module_version": "1.5.0",
            "description_tooltip": null,
            "_model_module": "@jupyter-widgets/controls",
            "layout": "IPY_MODEL_62705e2df8af493e9ab458c1f120417d"
          }
        },
        "75196c05444c49f595a376c450e39f53": {
          "model_module": "@jupyter-widgets/controls",
          "model_name": "ProgressStyleModel",
          "state": {
            "_view_name": "StyleView",
            "_model_name": "ProgressStyleModel",
            "description_width": "initial",
            "_view_module": "@jupyter-widgets/base",
            "_model_module_version": "1.5.0",
            "_view_count": null,
            "_view_module_version": "1.2.0",
            "bar_color": null,
            "_model_module": "@jupyter-widgets/controls"
          }
        },
        "ba9a145fbd9c47fba326388d48d30248": {
          "model_module": "@jupyter-widgets/base",
          "model_name": "LayoutModel",
          "state": {
            "_view_name": "LayoutView",
            "grid_template_rows": null,
            "right": null,
            "justify_content": null,
            "_view_module": "@jupyter-widgets/base",
            "overflow": null,
            "_model_module_version": "1.2.0",
            "_view_count": null,
            "flex_flow": null,
            "width": null,
            "min_width": null,
            "border": null,
            "align_items": null,
            "bottom": null,
            "_model_module": "@jupyter-widgets/base",
            "top": null,
            "grid_column": null,
            "overflow_y": null,
            "overflow_x": null,
            "grid_auto_flow": null,
            "grid_area": null,
            "grid_template_columns": null,
            "flex": null,
            "_model_name": "LayoutModel",
            "justify_items": null,
            "grid_row": null,
            "max_height": null,
            "align_content": null,
            "visibility": null,
            "align_self": null,
            "height": null,
            "min_height": null,
            "padding": null,
            "grid_auto_rows": null,
            "grid_gap": null,
            "max_width": null,
            "order": null,
            "_view_module_version": "1.2.0",
            "grid_template_areas": null,
            "object_position": null,
            "object_fit": null,
            "grid_auto_columns": null,
            "margin": null,
            "display": null,
            "left": null
          }
        },
        "f0f82fa947cd49fa9e5613585d148532": {
          "model_module": "@jupyter-widgets/controls",
          "model_name": "DescriptionStyleModel",
          "state": {
            "_view_name": "StyleView",
            "_model_name": "DescriptionStyleModel",
            "description_width": "",
            "_view_module": "@jupyter-widgets/base",
            "_model_module_version": "1.5.0",
            "_view_count": null,
            "_view_module_version": "1.2.0",
            "_model_module": "@jupyter-widgets/controls"
          }
        },
        "62705e2df8af493e9ab458c1f120417d": {
          "model_module": "@jupyter-widgets/base",
          "model_name": "LayoutModel",
          "state": {
            "_view_name": "LayoutView",
            "grid_template_rows": null,
            "right": null,
            "justify_content": null,
            "_view_module": "@jupyter-widgets/base",
            "overflow": null,
            "_model_module_version": "1.2.0",
            "_view_count": null,
            "flex_flow": null,
            "width": null,
            "min_width": null,
            "border": null,
            "align_items": null,
            "bottom": null,
            "_model_module": "@jupyter-widgets/base",
            "top": null,
            "grid_column": null,
            "overflow_y": null,
            "overflow_x": null,
            "grid_auto_flow": null,
            "grid_area": null,
            "grid_template_columns": null,
            "flex": null,
            "_model_name": "LayoutModel",
            "justify_items": null,
            "grid_row": null,
            "max_height": null,
            "align_content": null,
            "visibility": null,
            "align_self": null,
            "height": null,
            "min_height": null,
            "padding": null,
            "grid_auto_rows": null,
            "grid_gap": null,
            "max_width": null,
            "order": null,
            "_view_module_version": "1.2.0",
            "grid_template_areas": null,
            "object_position": null,
            "object_fit": null,
            "grid_auto_columns": null,
            "margin": null,
            "display": null,
            "left": null
          }
        },
        "d7bc2a9744ff49638c5a1d6202aa037e": {
          "model_module": "@jupyter-widgets/controls",
          "model_name": "HBoxModel",
          "state": {
            "_view_name": "HBoxView",
            "_dom_classes": [],
            "_model_name": "HBoxModel",
            "_view_module": "@jupyter-widgets/controls",
            "_model_module_version": "1.5.0",
            "_view_count": null,
            "_view_module_version": "1.5.0",
            "box_style": "",
            "layout": "IPY_MODEL_b23ffc80cb324561bf4cfe1614180b3d",
            "_model_module": "@jupyter-widgets/controls",
            "children": [
              "IPY_MODEL_37884bea322d4dbe88045cbe7f0b3228",
              "IPY_MODEL_cd50efd150d44fd69b452101763d8d23"
            ]
          }
        },
        "b23ffc80cb324561bf4cfe1614180b3d": {
          "model_module": "@jupyter-widgets/base",
          "model_name": "LayoutModel",
          "state": {
            "_view_name": "LayoutView",
            "grid_template_rows": null,
            "right": null,
            "justify_content": null,
            "_view_module": "@jupyter-widgets/base",
            "overflow": null,
            "_model_module_version": "1.2.0",
            "_view_count": null,
            "flex_flow": null,
            "width": null,
            "min_width": null,
            "border": null,
            "align_items": null,
            "bottom": null,
            "_model_module": "@jupyter-widgets/base",
            "top": null,
            "grid_column": null,
            "overflow_y": null,
            "overflow_x": null,
            "grid_auto_flow": null,
            "grid_area": null,
            "grid_template_columns": null,
            "flex": null,
            "_model_name": "LayoutModel",
            "justify_items": null,
            "grid_row": null,
            "max_height": null,
            "align_content": null,
            "visibility": null,
            "align_self": null,
            "height": null,
            "min_height": null,
            "padding": null,
            "grid_auto_rows": null,
            "grid_gap": null,
            "max_width": null,
            "order": null,
            "_view_module_version": "1.2.0",
            "grid_template_areas": null,
            "object_position": null,
            "object_fit": null,
            "grid_auto_columns": null,
            "margin": null,
            "display": null,
            "left": null
          }
        },
        "37884bea322d4dbe88045cbe7f0b3228": {
          "model_module": "@jupyter-widgets/controls",
          "model_name": "FloatProgressModel",
          "state": {
            "_view_name": "ProgressView",
            "style": "IPY_MODEL_6b98e4a2ea944d25be491299b7e2ab6f",
            "_dom_classes": [],
            "description": "Downloading: 100%",
            "_model_name": "FloatProgressModel",
            "bar_style": "success",
            "max": 440473133,
            "_view_module": "@jupyter-widgets/controls",
            "_model_module_version": "1.5.0",
            "value": 440473133,
            "_view_count": null,
            "_view_module_version": "1.5.0",
            "orientation": "horizontal",
            "min": 0,
            "description_tooltip": null,
            "_model_module": "@jupyter-widgets/controls",
            "layout": "IPY_MODEL_940a7f2362de40e3939e39cb712ab6fc"
          }
        },
        "cd50efd150d44fd69b452101763d8d23": {
          "model_module": "@jupyter-widgets/controls",
          "model_name": "HTMLModel",
          "state": {
            "_view_name": "HTMLView",
            "style": "IPY_MODEL_649cc9b0298c415b83564421b759664a",
            "_dom_classes": [],
            "description": "",
            "_model_name": "HTMLModel",
            "placeholder": "​",
            "_view_module": "@jupyter-widgets/controls",
            "_model_module_version": "1.5.0",
            "value": " 440M/440M [00:06&lt;00:00, 72.6MB/s]",
            "_view_count": null,
            "_view_module_version": "1.5.0",
            "description_tooltip": null,
            "_model_module": "@jupyter-widgets/controls",
            "layout": "IPY_MODEL_ba9793ffbd024b4c914108316a40b38a"
          }
        },
        "6b98e4a2ea944d25be491299b7e2ab6f": {
          "model_module": "@jupyter-widgets/controls",
          "model_name": "ProgressStyleModel",
          "state": {
            "_view_name": "StyleView",
            "_model_name": "ProgressStyleModel",
            "description_width": "initial",
            "_view_module": "@jupyter-widgets/base",
            "_model_module_version": "1.5.0",
            "_view_count": null,
            "_view_module_version": "1.2.0",
            "bar_color": null,
            "_model_module": "@jupyter-widgets/controls"
          }
        },
        "940a7f2362de40e3939e39cb712ab6fc": {
          "model_module": "@jupyter-widgets/base",
          "model_name": "LayoutModel",
          "state": {
            "_view_name": "LayoutView",
            "grid_template_rows": null,
            "right": null,
            "justify_content": null,
            "_view_module": "@jupyter-widgets/base",
            "overflow": null,
            "_model_module_version": "1.2.0",
            "_view_count": null,
            "flex_flow": null,
            "width": null,
            "min_width": null,
            "border": null,
            "align_items": null,
            "bottom": null,
            "_model_module": "@jupyter-widgets/base",
            "top": null,
            "grid_column": null,
            "overflow_y": null,
            "overflow_x": null,
            "grid_auto_flow": null,
            "grid_area": null,
            "grid_template_columns": null,
            "flex": null,
            "_model_name": "LayoutModel",
            "justify_items": null,
            "grid_row": null,
            "max_height": null,
            "align_content": null,
            "visibility": null,
            "align_self": null,
            "height": null,
            "min_height": null,
            "padding": null,
            "grid_auto_rows": null,
            "grid_gap": null,
            "max_width": null,
            "order": null,
            "_view_module_version": "1.2.0",
            "grid_template_areas": null,
            "object_position": null,
            "object_fit": null,
            "grid_auto_columns": null,
            "margin": null,
            "display": null,
            "left": null
          }
        },
        "649cc9b0298c415b83564421b759664a": {
          "model_module": "@jupyter-widgets/controls",
          "model_name": "DescriptionStyleModel",
          "state": {
            "_view_name": "StyleView",
            "_model_name": "DescriptionStyleModel",
            "description_width": "",
            "_view_module": "@jupyter-widgets/base",
            "_model_module_version": "1.5.0",
            "_view_count": null,
            "_view_module_version": "1.2.0",
            "_model_module": "@jupyter-widgets/controls"
          }
        },
        "ba9793ffbd024b4c914108316a40b38a": {
          "model_module": "@jupyter-widgets/base",
          "model_name": "LayoutModel",
          "state": {
            "_view_name": "LayoutView",
            "grid_template_rows": null,
            "right": null,
            "justify_content": null,
            "_view_module": "@jupyter-widgets/base",
            "overflow": null,
            "_model_module_version": "1.2.0",
            "_view_count": null,
            "flex_flow": null,
            "width": null,
            "min_width": null,
            "border": null,
            "align_items": null,
            "bottom": null,
            "_model_module": "@jupyter-widgets/base",
            "top": null,
            "grid_column": null,
            "overflow_y": null,
            "overflow_x": null,
            "grid_auto_flow": null,
            "grid_area": null,
            "grid_template_columns": null,
            "flex": null,
            "_model_name": "LayoutModel",
            "justify_items": null,
            "grid_row": null,
            "max_height": null,
            "align_content": null,
            "visibility": null,
            "align_self": null,
            "height": null,
            "min_height": null,
            "padding": null,
            "grid_auto_rows": null,
            "grid_gap": null,
            "max_width": null,
            "order": null,
            "_view_module_version": "1.2.0",
            "grid_template_areas": null,
            "object_position": null,
            "object_fit": null,
            "grid_auto_columns": null,
            "margin": null,
            "display": null,
            "left": null
          }
        }
      }
    }
  },
  "cells": [
    {
      "cell_type": "markdown",
      "metadata": {
        "id": "1oeqTKK4uIC7"
      },
      "source": [
        "# load dataset file"
      ]
    },
    {
      "cell_type": "code",
      "metadata": {
        "id": "aAE385ufY5V7"
      },
      "source": [
        "!pip install -U -q PyDrive\n",
        "from pydrive.auth import GoogleAuth\n",
        "from pydrive.drive import GoogleDrive\n",
        "from google.colab import auth\n",
        "from oauth2client.client import GoogleCredentials\n",
        "\n",
        "import pandas as pd\n",
        "\n",
        "\n",
        "# Authenticate and create the PyDrive client.\n",
        "auth.authenticate_user()\n",
        "gauth = GoogleAuth()\n",
        "gauth.credentials = GoogleCredentials.get_application_default()\n",
        "drive = GoogleDrive(gauth)\n",
        "# Download all three Microsoft BotBuilder Personality Chat Datasets on Google Colab virtual server\n",
        "# https://drive.google.com/file/d/10yi1MvU3lrlqyGLGZ0Ee7o4e72zEW4Fg/view?usp=sharing\n",
        "#chats.csv DOTA dataset 1.4 million\n",
        "# https://drive.google.com/file/d/1VALiNA_ruYl0jt66MBG7Eb_o3sWQIBqj/view?usp=sharing\n",
        "# https://drive.google.com/file/d/1-HsJ2w944FNCZPPiqYjV7Ip-2fmdNqz5/view?usp=sharing\n",
        "download_files = [\n",
        "          {'id':'1VALiNA_ruYl0jt66MBG7Eb_o3sWQIBqj','file_name':'50K_Output.csv'},\n",
        "          {'id':'1-HsJ2w944FNCZPPiqYjV7Ip-2fmdNqz5','file_name':'word_level_data_combined_annotation.csv'},\n",
        "          {'id':'1TJVC6VGiAqrMzNbh_-a70FWlR6zzLuvP','file_name':'45k_before_finalise.csv'},\n",
        "          ]\n",
        "for entity in download_files:\n",
        "  id1 = entity['id']\n",
        "  downloaded = drive.CreateFile({'id':id1 }) \n",
        "  downloaded.GetContentFile(entity['file_name']) "
      ],
      "execution_count": null,
      "outputs": []
    },
    {
      "cell_type": "code",
      "metadata": {
        "id": "vuTT3e0mRJ4i"
      },
      "source": [
        "import pandas as pd\n",
        "import numpy as np\n",
        "import matplotlib.pyplot as plt\n",
        "import pandas as pd\n",
        "import numpy as np\n",
        "import matplotlib.pyplot as plt\n",
        "# colnames = ['1','2','3','utterance','4','5','6','Label','combined_annotation']\n",
        "data = pd.read_csv(\"45k_before_finalise.csv\")\n",
        "# data = pd.read_csv(\"Wassem.csv\")"
      ],
      "execution_count": null,
      "outputs": []
    },
    {
      "cell_type": "code",
      "metadata": {
        "id": "PjEQNh7ygqeA",
        "colab": {
          "base_uri": "https://localhost:8080/",
          "height": 306
        },
        "outputId": "1a0f77dd-fbfc-45db-db59-490c4f39d96b"
      },
      "source": [
        "data.head()"
      ],
      "execution_count": null,
      "outputs": [
        {
          "output_type": "execute_result",
          "data": {
            "text/html": [
              "<div>\n",
              "<style scoped>\n",
              "    .dataframe tbody tr th:only-of-type {\n",
              "        vertical-align: middle;\n",
              "    }\n",
              "\n",
              "    .dataframe tbody tr th {\n",
              "        vertical-align: top;\n",
              "    }\n",
              "\n",
              "    .dataframe thead th {\n",
              "        text-align: right;\n",
              "    }\n",
              "</style>\n",
              "<table border=\"1\" class=\"dataframe\">\n",
              "  <thead>\n",
              "    <tr style=\"text-align: right;\">\n",
              "      <th></th>\n",
              "      <th>Unnamed: 0</th>\n",
              "      <th>match_id</th>\n",
              "      <th>conversation_id</th>\n",
              "      <th>utterance</th>\n",
              "      <th>time</th>\n",
              "      <th>slot</th>\n",
              "      <th>unit</th>\n",
              "      <th>Label</th>\n",
              "      <th>combined_annotation</th>\n",
              "      <th>final_label</th>\n",
              "      <th>review_label</th>\n",
              "      <th>word_level_data</th>\n",
              "      <th>slot_label</th>\n",
              "      <th>combined_annotation_version2</th>\n",
              "    </tr>\n",
              "  </thead>\n",
              "  <tbody>\n",
              "    <tr>\n",
              "      <th>0</th>\n",
              "      <td>0</td>\n",
              "      <td>0</td>\n",
              "      <td>0</td>\n",
              "      <td>force it</td>\n",
              "      <td>-8</td>\n",
              "      <td>6</td>\n",
              "      <td>6k Slayer</td>\n",
              "      <td>A</td>\n",
              "      <td>force (D), it (P),</td>\n",
              "      <td>A</td>\n",
              "      <td>NaN</td>\n",
              "      <td>force it</td>\n",
              "      <td>D P</td>\n",
              "      <td>force (D), it (P),</td>\n",
              "    </tr>\n",
              "    <tr>\n",
              "      <th>1</th>\n",
              "      <td>1</td>\n",
              "      <td>0</td>\n",
              "      <td>0</td>\n",
              "      <td>space created [SEPA] hah</td>\n",
              "      <td>5</td>\n",
              "      <td>1</td>\n",
              "      <td>Monkey</td>\n",
              "      <td>O</td>\n",
              "      <td>space (O), created (O), [SEPA] (SEPA), hah (O),</td>\n",
              "      <td>O</td>\n",
              "      <td>NaN</td>\n",
              "      <td>space created [SEPA] hah</td>\n",
              "      <td>O O SEPA O</td>\n",
              "      <td>space (O), created (O), [SEPA] (SEPA), hah (O),</td>\n",
              "    </tr>\n",
              "    <tr>\n",
              "      <th>2</th>\n",
              "      <td>2</td>\n",
              "      <td>0</td>\n",
              "      <td>0</td>\n",
              "      <td>ez 500</td>\n",
              "      <td>9</td>\n",
              "      <td>6</td>\n",
              "      <td>6k Slayer</td>\n",
              "      <td>I</td>\n",
              "      <td>ez (S), 500 (O),</td>\n",
              "      <td>I</td>\n",
              "      <td>NaN</td>\n",
              "      <td>ez 500</td>\n",
              "      <td>S O</td>\n",
              "      <td>ez (S), 500 (O),</td>\n",
              "    </tr>\n",
              "    <tr>\n",
              "      <th>3</th>\n",
              "      <td>3</td>\n",
              "      <td>0</td>\n",
              "      <td>1</td>\n",
              "      <td>mvp ulti</td>\n",
              "      <td>934</td>\n",
              "      <td>4</td>\n",
              "      <td>Kira</td>\n",
              "      <td>O</td>\n",
              "      <td>mvp (O), ulti (S),</td>\n",
              "      <td>O</td>\n",
              "      <td>NaN</td>\n",
              "      <td>mvp ulti</td>\n",
              "      <td>O S</td>\n",
              "      <td>mvp (O), ulti (S),</td>\n",
              "    </tr>\n",
              "    <tr>\n",
              "      <th>4</th>\n",
              "      <td>4</td>\n",
              "      <td>0</td>\n",
              "      <td>2</td>\n",
              "      <td>bye</td>\n",
              "      <td>1486</td>\n",
              "      <td>6</td>\n",
              "      <td>6k Slayer</td>\n",
              "      <td>O</td>\n",
              "      <td>bye (O),</td>\n",
              "      <td>O</td>\n",
              "      <td>NaN</td>\n",
              "      <td>bye</td>\n",
              "      <td>O</td>\n",
              "      <td>bye (O),</td>\n",
              "    </tr>\n",
              "  </tbody>\n",
              "</table>\n",
              "</div>"
            ],
            "text/plain": [
              "   Unnamed: 0  ...                      combined_annotation_version2\n",
              "0           0  ...                               force (D), it (P), \n",
              "1           1  ...  space (O), created (O), [SEPA] (SEPA), hah (O), \n",
              "2           2  ...                                 ez (S), 500 (O), \n",
              "3           3  ...                               mvp (O), ulti (S), \n",
              "4           4  ...                                         bye (O), \n",
              "\n",
              "[5 rows x 14 columns]"
            ]
          },
          "metadata": {
            "tags": []
          },
          "execution_count": 4
        }
      ]
    },
    {
      "cell_type": "code",
      "metadata": {
        "colab": {
          "base_uri": "https://localhost:8080/",
          "height": 306
        },
        "id": "JHN7iN--yvNE",
        "outputId": "e7d4ec8e-9d99-4a49-f0c3-abd93e488c06"
      },
      "source": [
        "def map_to_binary(x):\n",
        "  if x=='E' or x =='I':\n",
        "    return 1\n",
        "  else:\n",
        "    return 0\n",
        "\n",
        "data['final_label'] = data['final_label'].map(map_to_binary)\n",
        "data.head()"
      ],
      "execution_count": null,
      "outputs": [
        {
          "output_type": "execute_result",
          "data": {
            "text/html": [
              "<div>\n",
              "<style scoped>\n",
              "    .dataframe tbody tr th:only-of-type {\n",
              "        vertical-align: middle;\n",
              "    }\n",
              "\n",
              "    .dataframe tbody tr th {\n",
              "        vertical-align: top;\n",
              "    }\n",
              "\n",
              "    .dataframe thead th {\n",
              "        text-align: right;\n",
              "    }\n",
              "</style>\n",
              "<table border=\"1\" class=\"dataframe\">\n",
              "  <thead>\n",
              "    <tr style=\"text-align: right;\">\n",
              "      <th></th>\n",
              "      <th>Unnamed: 0</th>\n",
              "      <th>match_id</th>\n",
              "      <th>conversation_id</th>\n",
              "      <th>utterance</th>\n",
              "      <th>time</th>\n",
              "      <th>slot</th>\n",
              "      <th>unit</th>\n",
              "      <th>Label</th>\n",
              "      <th>combined_annotation</th>\n",
              "      <th>final_label</th>\n",
              "      <th>review_label</th>\n",
              "      <th>word_level_data</th>\n",
              "      <th>slot_label</th>\n",
              "      <th>combined_annotation_version2</th>\n",
              "    </tr>\n",
              "  </thead>\n",
              "  <tbody>\n",
              "    <tr>\n",
              "      <th>0</th>\n",
              "      <td>0</td>\n",
              "      <td>0</td>\n",
              "      <td>0</td>\n",
              "      <td>force it</td>\n",
              "      <td>-8</td>\n",
              "      <td>6</td>\n",
              "      <td>6k Slayer</td>\n",
              "      <td>A</td>\n",
              "      <td>force (D), it (P),</td>\n",
              "      <td>0</td>\n",
              "      <td>NaN</td>\n",
              "      <td>force it</td>\n",
              "      <td>D P</td>\n",
              "      <td>force (D), it (P),</td>\n",
              "    </tr>\n",
              "    <tr>\n",
              "      <th>1</th>\n",
              "      <td>1</td>\n",
              "      <td>0</td>\n",
              "      <td>0</td>\n",
              "      <td>space created [SEPA] hah</td>\n",
              "      <td>5</td>\n",
              "      <td>1</td>\n",
              "      <td>Monkey</td>\n",
              "      <td>O</td>\n",
              "      <td>space (O), created (O), [SEPA] (SEPA), hah (O),</td>\n",
              "      <td>0</td>\n",
              "      <td>NaN</td>\n",
              "      <td>space created [SEPA] hah</td>\n",
              "      <td>O O SEPA O</td>\n",
              "      <td>space (O), created (O), [SEPA] (SEPA), hah (O),</td>\n",
              "    </tr>\n",
              "    <tr>\n",
              "      <th>2</th>\n",
              "      <td>2</td>\n",
              "      <td>0</td>\n",
              "      <td>0</td>\n",
              "      <td>ez 500</td>\n",
              "      <td>9</td>\n",
              "      <td>6</td>\n",
              "      <td>6k Slayer</td>\n",
              "      <td>I</td>\n",
              "      <td>ez (S), 500 (O),</td>\n",
              "      <td>1</td>\n",
              "      <td>NaN</td>\n",
              "      <td>ez 500</td>\n",
              "      <td>S O</td>\n",
              "      <td>ez (S), 500 (O),</td>\n",
              "    </tr>\n",
              "    <tr>\n",
              "      <th>3</th>\n",
              "      <td>3</td>\n",
              "      <td>0</td>\n",
              "      <td>1</td>\n",
              "      <td>mvp ulti</td>\n",
              "      <td>934</td>\n",
              "      <td>4</td>\n",
              "      <td>Kira</td>\n",
              "      <td>O</td>\n",
              "      <td>mvp (O), ulti (S),</td>\n",
              "      <td>0</td>\n",
              "      <td>NaN</td>\n",
              "      <td>mvp ulti</td>\n",
              "      <td>O S</td>\n",
              "      <td>mvp (O), ulti (S),</td>\n",
              "    </tr>\n",
              "    <tr>\n",
              "      <th>4</th>\n",
              "      <td>4</td>\n",
              "      <td>0</td>\n",
              "      <td>2</td>\n",
              "      <td>bye</td>\n",
              "      <td>1486</td>\n",
              "      <td>6</td>\n",
              "      <td>6k Slayer</td>\n",
              "      <td>O</td>\n",
              "      <td>bye (O),</td>\n",
              "      <td>0</td>\n",
              "      <td>NaN</td>\n",
              "      <td>bye</td>\n",
              "      <td>O</td>\n",
              "      <td>bye (O),</td>\n",
              "    </tr>\n",
              "  </tbody>\n",
              "</table>\n",
              "</div>"
            ],
            "text/plain": [
              "   Unnamed: 0  ...                      combined_annotation_version2\n",
              "0           0  ...                               force (D), it (P), \n",
              "1           1  ...  space (O), created (O), [SEPA] (SEPA), hah (O), \n",
              "2           2  ...                                 ez (S), 500 (O), \n",
              "3           3  ...                               mvp (O), ulti (S), \n",
              "4           4  ...                                         bye (O), \n",
              "\n",
              "[5 rows x 14 columns]"
            ]
          },
          "metadata": {
            "tags": []
          },
          "execution_count": 7
        }
      ]
    },
    {
      "cell_type": "code",
      "metadata": {
        "colab": {
          "base_uri": "https://localhost:8080/",
          "height": 204
        },
        "id": "AUb8BnVAebbC",
        "outputId": "968e3e9d-065c-438e-8adf-d7bb8aa28bc6"
      },
      "source": [
        "def str_context(x):\n",
        "  return str(x)\n",
        "\n",
        "data['utterance'] = data['utterance'].map(str_context)\n",
        "data.head()"
      ],
      "execution_count": null,
      "outputs": [
        {
          "output_type": "execute_result",
          "data": {
            "text/html": [
              "<div>\n",
              "<style scoped>\n",
              "    .dataframe tbody tr th:only-of-type {\n",
              "        vertical-align: middle;\n",
              "    }\n",
              "\n",
              "    .dataframe tbody tr th {\n",
              "        vertical-align: top;\n",
              "    }\n",
              "\n",
              "    .dataframe thead th {\n",
              "        text-align: right;\n",
              "    }\n",
              "</style>\n",
              "<table border=\"1\" class=\"dataframe\">\n",
              "  <thead>\n",
              "    <tr style=\"text-align: right;\">\n",
              "      <th></th>\n",
              "      <th>1</th>\n",
              "      <th>2</th>\n",
              "      <th>3</th>\n",
              "      <th>utterance</th>\n",
              "      <th>4</th>\n",
              "      <th>5</th>\n",
              "      <th>6</th>\n",
              "      <th>Label</th>\n",
              "      <th>combined_annotation</th>\n",
              "    </tr>\n",
              "  </thead>\n",
              "  <tbody>\n",
              "    <tr>\n",
              "      <th>0</th>\n",
              "      <td>0</td>\n",
              "      <td>0</td>\n",
              "      <td>0</td>\n",
              "      <td>force it</td>\n",
              "      <td>-8</td>\n",
              "      <td>6</td>\n",
              "      <td>6k Slayer</td>\n",
              "      <td>0</td>\n",
              "      <td>force (D), it (P),</td>\n",
              "    </tr>\n",
              "    <tr>\n",
              "      <th>1</th>\n",
              "      <td>1</td>\n",
              "      <td>0</td>\n",
              "      <td>0</td>\n",
              "      <td>space created [SEPA] hah</td>\n",
              "      <td>5</td>\n",
              "      <td>1</td>\n",
              "      <td>Monkey</td>\n",
              "      <td>0</td>\n",
              "      <td>space (O), created (O), [SEPA] (SEPA), hah (O),</td>\n",
              "    </tr>\n",
              "    <tr>\n",
              "      <th>2</th>\n",
              "      <td>2</td>\n",
              "      <td>0</td>\n",
              "      <td>0</td>\n",
              "      <td>ez 500</td>\n",
              "      <td>9</td>\n",
              "      <td>6</td>\n",
              "      <td>6k Slayer</td>\n",
              "      <td>1</td>\n",
              "      <td>ez (S), 500 (O),</td>\n",
              "    </tr>\n",
              "    <tr>\n",
              "      <th>3</th>\n",
              "      <td>3</td>\n",
              "      <td>0</td>\n",
              "      <td>1</td>\n",
              "      <td>mvp ulti</td>\n",
              "      <td>934</td>\n",
              "      <td>4</td>\n",
              "      <td>Kira</td>\n",
              "      <td>0</td>\n",
              "      <td>mvp (O), ulti (S),</td>\n",
              "    </tr>\n",
              "    <tr>\n",
              "      <th>4</th>\n",
              "      <td>4</td>\n",
              "      <td>0</td>\n",
              "      <td>2</td>\n",
              "      <td>bye</td>\n",
              "      <td>1486</td>\n",
              "      <td>6</td>\n",
              "      <td>6k Slayer</td>\n",
              "      <td>0</td>\n",
              "      <td>bye (O),</td>\n",
              "    </tr>\n",
              "  </tbody>\n",
              "</table>\n",
              "</div>"
            ],
            "text/plain": [
              "   1  2  3  ...          6  Label                               combined_annotation\n",
              "0  0  0  0  ...  6k Slayer      0                               force (D), it (P), \n",
              "1  1  0  0  ...     Monkey      0  space (O), created (O), [SEPA] (SEPA), hah (O), \n",
              "2  2  0  0  ...  6k Slayer      1                                 ez (S), 500 (O), \n",
              "3  3  0  1  ...       Kira      0                               mvp (O), ulti (S), \n",
              "4  4  0  2  ...  6k Slayer      0                                         bye (O), \n",
              "\n",
              "[5 rows x 9 columns]"
            ]
          },
          "metadata": {
            "tags": []
          },
          "execution_count": 5
        }
      ]
    },
    {
      "cell_type": "code",
      "metadata": {
        "colab": {
          "base_uri": "https://localhost:8080/"
        },
        "id": "s9SYGGT1u0ry",
        "outputId": "ca53bb0d-263b-4b06-94d9-3874b2497103"
      },
      "source": [
        "data['final_label'].value_counts()"
      ],
      "execution_count": null,
      "outputs": [
        {
          "output_type": "execute_result",
          "data": {
            "text/plain": [
              "0    36040\n",
              "1     8829\n",
              "Name: final_label, dtype: int64"
            ]
          },
          "metadata": {
            "tags": []
          },
          "execution_count": 8
        }
      ]
    },
    {
      "cell_type": "markdown",
      "metadata": {
        "id": "qeQ7EcY_wkZb"
      },
      "source": [
        "# bert tokenizer"
      ]
    },
    {
      "cell_type": "code",
      "metadata": {
        "colab": {
          "base_uri": "https://localhost:8080/"
        },
        "id": "Y9ttHmY1wpZV",
        "outputId": "5a411f68-f33e-4f53-d11a-954bf9e3d7c9"
      },
      "source": [
        "!pip install transformers"
      ],
      "execution_count": null,
      "outputs": [
        {
          "output_type": "stream",
          "text": [
            "Collecting transformers\n",
            "\u001b[?25l  Downloading https://files.pythonhosted.org/packages/ed/db/98c3ea1a78190dac41c0127a063abf92bd01b4b0b6970a6db1c2f5b66fa0/transformers-4.0.1-py3-none-any.whl (1.4MB)\n",
            "\r\u001b[K     |▎                               | 10kB 17.9MB/s eta 0:00:01\r\u001b[K     |▌                               | 20kB 22.2MB/s eta 0:00:01\r\u001b[K     |▊                               | 30kB 24.2MB/s eta 0:00:01\r\u001b[K     |█                               | 40kB 18.6MB/s eta 0:00:01\r\u001b[K     |█▏                              | 51kB 15.2MB/s eta 0:00:01\r\u001b[K     |█▌                              | 61kB 17.2MB/s eta 0:00:01\r\u001b[K     |█▊                              | 71kB 14.1MB/s eta 0:00:01\r\u001b[K     |██                              | 81kB 14.7MB/s eta 0:00:01\r\u001b[K     |██▏                             | 92kB 14.2MB/s eta 0:00:01\r\u001b[K     |██▍                             | 102kB 13.7MB/s eta 0:00:01\r\u001b[K     |██▋                             | 112kB 13.7MB/s eta 0:00:01\r\u001b[K     |███                             | 122kB 13.7MB/s eta 0:00:01\r\u001b[K     |███▏                            | 133kB 13.7MB/s eta 0:00:01\r\u001b[K     |███▍                            | 143kB 13.7MB/s eta 0:00:01\r\u001b[K     |███▋                            | 153kB 13.7MB/s eta 0:00:01\r\u001b[K     |███▉                            | 163kB 13.7MB/s eta 0:00:01\r\u001b[K     |████▏                           | 174kB 13.7MB/s eta 0:00:01\r\u001b[K     |████▍                           | 184kB 13.7MB/s eta 0:00:01\r\u001b[K     |████▋                           | 194kB 13.7MB/s eta 0:00:01\r\u001b[K     |████▉                           | 204kB 13.7MB/s eta 0:00:01\r\u001b[K     |█████                           | 215kB 13.7MB/s eta 0:00:01\r\u001b[K     |█████▎                          | 225kB 13.7MB/s eta 0:00:01\r\u001b[K     |█████▋                          | 235kB 13.7MB/s eta 0:00:01\r\u001b[K     |█████▉                          | 245kB 13.7MB/s eta 0:00:01\r\u001b[K     |██████                          | 256kB 13.7MB/s eta 0:00:01\r\u001b[K     |██████▎                         | 266kB 13.7MB/s eta 0:00:01\r\u001b[K     |██████▌                         | 276kB 13.7MB/s eta 0:00:01\r\u001b[K     |██████▉                         | 286kB 13.7MB/s eta 0:00:01\r\u001b[K     |███████                         | 296kB 13.7MB/s eta 0:00:01\r\u001b[K     |███████▎                        | 307kB 13.7MB/s eta 0:00:01\r\u001b[K     |███████▌                        | 317kB 13.7MB/s eta 0:00:01\r\u001b[K     |███████▊                        | 327kB 13.7MB/s eta 0:00:01\r\u001b[K     |████████                        | 337kB 13.7MB/s eta 0:00:01\r\u001b[K     |████████▎                       | 348kB 13.7MB/s eta 0:00:01\r\u001b[K     |████████▌                       | 358kB 13.7MB/s eta 0:00:01\r\u001b[K     |████████▊                       | 368kB 13.7MB/s eta 0:00:01\r\u001b[K     |█████████                       | 378kB 13.7MB/s eta 0:00:01\r\u001b[K     |█████████▏                      | 389kB 13.7MB/s eta 0:00:01\r\u001b[K     |█████████▌                      | 399kB 13.7MB/s eta 0:00:01\r\u001b[K     |█████████▊                      | 409kB 13.7MB/s eta 0:00:01\r\u001b[K     |██████████                      | 419kB 13.7MB/s eta 0:00:01\r\u001b[K     |██████████▏                     | 430kB 13.7MB/s eta 0:00:01\r\u001b[K     |██████████▍                     | 440kB 13.7MB/s eta 0:00:01\r\u001b[K     |██████████▋                     | 450kB 13.7MB/s eta 0:00:01\r\u001b[K     |███████████                     | 460kB 13.7MB/s eta 0:00:01\r\u001b[K     |███████████▏                    | 471kB 13.7MB/s eta 0:00:01\r\u001b[K     |███████████▍                    | 481kB 13.7MB/s eta 0:00:01\r\u001b[K     |███████████▋                    | 491kB 13.7MB/s eta 0:00:01\r\u001b[K     |███████████▉                    | 501kB 13.7MB/s eta 0:00:01\r\u001b[K     |████████████▏                   | 512kB 13.7MB/s eta 0:00:01\r\u001b[K     |████████████▍                   | 522kB 13.7MB/s eta 0:00:01\r\u001b[K     |████████████▋                   | 532kB 13.7MB/s eta 0:00:01\r\u001b[K     |████████████▉                   | 542kB 13.7MB/s eta 0:00:01\r\u001b[K     |█████████████                   | 552kB 13.7MB/s eta 0:00:01\r\u001b[K     |█████████████▎                  | 563kB 13.7MB/s eta 0:00:01\r\u001b[K     |█████████████▋                  | 573kB 13.7MB/s eta 0:00:01\r\u001b[K     |█████████████▉                  | 583kB 13.7MB/s eta 0:00:01\r\u001b[K     |██████████████                  | 593kB 13.7MB/s eta 0:00:01\r\u001b[K     |██████████████▎                 | 604kB 13.7MB/s eta 0:00:01\r\u001b[K     |██████████████▌                 | 614kB 13.7MB/s eta 0:00:01\r\u001b[K     |██████████████▉                 | 624kB 13.7MB/s eta 0:00:01\r\u001b[K     |███████████████                 | 634kB 13.7MB/s eta 0:00:01\r\u001b[K     |███████████████▎                | 645kB 13.7MB/s eta 0:00:01\r\u001b[K     |███████████████▌                | 655kB 13.7MB/s eta 0:00:01\r\u001b[K     |███████████████▊                | 665kB 13.7MB/s eta 0:00:01\r\u001b[K     |████████████████                | 675kB 13.7MB/s eta 0:00:01\r\u001b[K     |████████████████▎               | 686kB 13.7MB/s eta 0:00:01\r\u001b[K     |████████████████▌               | 696kB 13.7MB/s eta 0:00:01\r\u001b[K     |████████████████▊               | 706kB 13.7MB/s eta 0:00:01\r\u001b[K     |█████████████████               | 716kB 13.7MB/s eta 0:00:01\r\u001b[K     |█████████████████▏              | 727kB 13.7MB/s eta 0:00:01\r\u001b[K     |█████████████████▌              | 737kB 13.7MB/s eta 0:00:01\r\u001b[K     |█████████████████▊              | 747kB 13.7MB/s eta 0:00:01\r\u001b[K     |██████████████████              | 757kB 13.7MB/s eta 0:00:01\r\u001b[K     |██████████████████▏             | 768kB 13.7MB/s eta 0:00:01\r\u001b[K     |██████████████████▍             | 778kB 13.7MB/s eta 0:00:01\r\u001b[K     |██████████████████▋             | 788kB 13.7MB/s eta 0:00:01\r\u001b[K     |███████████████████             | 798kB 13.7MB/s eta 0:00:01\r\u001b[K     |███████████████████▏            | 808kB 13.7MB/s eta 0:00:01\r\u001b[K     |███████████████████▍            | 819kB 13.7MB/s eta 0:00:01\r\u001b[K     |███████████████████▋            | 829kB 13.7MB/s eta 0:00:01\r\u001b[K     |███████████████████▉            | 839kB 13.7MB/s eta 0:00:01\r\u001b[K     |████████████████████▏           | 849kB 13.7MB/s eta 0:00:01\r\u001b[K     |████████████████████▍           | 860kB 13.7MB/s eta 0:00:01\r\u001b[K     |████████████████████▋           | 870kB 13.7MB/s eta 0:00:01\r\u001b[K     |████████████████████▉           | 880kB 13.7MB/s eta 0:00:01\r\u001b[K     |█████████████████████           | 890kB 13.7MB/s eta 0:00:01\r\u001b[K     |█████████████████████▎          | 901kB 13.7MB/s eta 0:00:01\r\u001b[K     |█████████████████████▋          | 911kB 13.7MB/s eta 0:00:01\r\u001b[K     |█████████████████████▉          | 921kB 13.7MB/s eta 0:00:01\r\u001b[K     |██████████████████████          | 931kB 13.7MB/s eta 0:00:01\r\u001b[K     |██████████████████████▎         | 942kB 13.7MB/s eta 0:00:01\r\u001b[K     |██████████████████████▌         | 952kB 13.7MB/s eta 0:00:01\r\u001b[K     |██████████████████████▊         | 962kB 13.7MB/s eta 0:00:01\r\u001b[K     |███████████████████████         | 972kB 13.7MB/s eta 0:00:01\r\u001b[K     |███████████████████████▎        | 983kB 13.7MB/s eta 0:00:01\r\u001b[K     |███████████████████████▌        | 993kB 13.7MB/s eta 0:00:01\r\u001b[K     |███████████████████████▊        | 1.0MB 13.7MB/s eta 0:00:01\r\u001b[K     |████████████████████████        | 1.0MB 13.7MB/s eta 0:00:01\r\u001b[K     |████████████████████████▎       | 1.0MB 13.7MB/s eta 0:00:01\r\u001b[K     |████████████████████████▌       | 1.0MB 13.7MB/s eta 0:00:01\r\u001b[K     |████████████████████████▊       | 1.0MB 13.7MB/s eta 0:00:01\r\u001b[K     |█████████████████████████       | 1.1MB 13.7MB/s eta 0:00:01\r\u001b[K     |█████████████████████████▏      | 1.1MB 13.7MB/s eta 0:00:01\r\u001b[K     |█████████████████████████▍      | 1.1MB 13.7MB/s eta 0:00:01\r\u001b[K     |█████████████████████████▊      | 1.1MB 13.7MB/s eta 0:00:01\r\u001b[K     |██████████████████████████      | 1.1MB 13.7MB/s eta 0:00:01\r\u001b[K     |██████████████████████████▏     | 1.1MB 13.7MB/s eta 0:00:01\r\u001b[K     |██████████████████████████▍     | 1.1MB 13.7MB/s eta 0:00:01\r\u001b[K     |██████████████████████████▋     | 1.1MB 13.7MB/s eta 0:00:01\r\u001b[K     |███████████████████████████     | 1.1MB 13.7MB/s eta 0:00:01\r\u001b[K     |███████████████████████████▏    | 1.1MB 13.7MB/s eta 0:00:01\r\u001b[K     |███████████████████████████▍    | 1.2MB 13.7MB/s eta 0:00:01\r\u001b[K     |███████████████████████████▋    | 1.2MB 13.7MB/s eta 0:00:01\r\u001b[K     |███████████████████████████▉    | 1.2MB 13.7MB/s eta 0:00:01\r\u001b[K     |████████████████████████████    | 1.2MB 13.7MB/s eta 0:00:01\r\u001b[K     |████████████████████████████▍   | 1.2MB 13.7MB/s eta 0:00:01\r\u001b[K     |████████████████████████████▋   | 1.2MB 13.7MB/s eta 0:00:01\r\u001b[K     |████████████████████████████▉   | 1.2MB 13.7MB/s eta 0:00:01\r\u001b[K     |█████████████████████████████   | 1.2MB 13.7MB/s eta 0:00:01\r\u001b[K     |█████████████████████████████▎  | 1.2MB 13.7MB/s eta 0:00:01\r\u001b[K     |█████████████████████████████▋  | 1.2MB 13.7MB/s eta 0:00:01\r\u001b[K     |█████████████████████████████▉  | 1.3MB 13.7MB/s eta 0:00:01\r\u001b[K     |██████████████████████████████  | 1.3MB 13.7MB/s eta 0:00:01\r\u001b[K     |██████████████████████████████▎ | 1.3MB 13.7MB/s eta 0:00:01\r\u001b[K     |██████████████████████████████▌ | 1.3MB 13.7MB/s eta 0:00:01\r\u001b[K     |██████████████████████████████▊ | 1.3MB 13.7MB/s eta 0:00:01\r\u001b[K     |███████████████████████████████ | 1.3MB 13.7MB/s eta 0:00:01\r\u001b[K     |███████████████████████████████▎| 1.3MB 13.7MB/s eta 0:00:01\r\u001b[K     |███████████████████████████████▌| 1.3MB 13.7MB/s eta 0:00:01\r\u001b[K     |███████████████████████████████▊| 1.3MB 13.7MB/s eta 0:00:01\r\u001b[K     |████████████████████████████████| 1.4MB 13.7MB/s eta 0:00:01\r\u001b[K     |████████████████████████████████| 1.4MB 13.7MB/s \n",
            "\u001b[?25hRequirement already satisfied: numpy in /usr/local/lib/python3.6/dist-packages (from transformers) (1.18.5)\n",
            "Requirement already satisfied: requests in /usr/local/lib/python3.6/dist-packages (from transformers) (2.23.0)\n",
            "Requirement already satisfied: packaging in /usr/local/lib/python3.6/dist-packages (from transformers) (20.7)\n",
            "Requirement already satisfied: regex!=2019.12.17 in /usr/local/lib/python3.6/dist-packages (from transformers) (2019.12.20)\n",
            "Requirement already satisfied: tqdm>=4.27 in /usr/local/lib/python3.6/dist-packages (from transformers) (4.41.1)\n",
            "Requirement already satisfied: dataclasses; python_version < \"3.7\" in /usr/local/lib/python3.6/dist-packages (from transformers) (0.8)\n",
            "Collecting tokenizers==0.9.4\n",
            "\u001b[?25l  Downloading https://files.pythonhosted.org/packages/0f/1c/e789a8b12e28be5bc1ce2156cf87cb522b379be9cadc7ad8091a4cc107c4/tokenizers-0.9.4-cp36-cp36m-manylinux2010_x86_64.whl (2.9MB)\n",
            "\u001b[K     |████████████████████████████████| 2.9MB 60.8MB/s \n",
            "\u001b[?25hRequirement already satisfied: filelock in /usr/local/lib/python3.6/dist-packages (from transformers) (3.0.12)\n",
            "Collecting sacremoses\n",
            "\u001b[?25l  Downloading https://files.pythonhosted.org/packages/7d/34/09d19aff26edcc8eb2a01bed8e98f13a1537005d31e95233fd48216eed10/sacremoses-0.0.43.tar.gz (883kB)\n",
            "\u001b[K     |████████████████████████████████| 890kB 49.9MB/s \n",
            "\u001b[?25hRequirement already satisfied: certifi>=2017.4.17 in /usr/local/lib/python3.6/dist-packages (from requests->transformers) (2020.12.5)\n",
            "Requirement already satisfied: chardet<4,>=3.0.2 in /usr/local/lib/python3.6/dist-packages (from requests->transformers) (3.0.4)\n",
            "Requirement already satisfied: idna<3,>=2.5 in /usr/local/lib/python3.6/dist-packages (from requests->transformers) (2.10)\n",
            "Requirement already satisfied: urllib3!=1.25.0,!=1.25.1,<1.26,>=1.21.1 in /usr/local/lib/python3.6/dist-packages (from requests->transformers) (1.24.3)\n",
            "Requirement already satisfied: pyparsing>=2.0.2 in /usr/local/lib/python3.6/dist-packages (from packaging->transformers) (2.4.7)\n",
            "Requirement already satisfied: six in /usr/local/lib/python3.6/dist-packages (from sacremoses->transformers) (1.15.0)\n",
            "Requirement already satisfied: click in /usr/local/lib/python3.6/dist-packages (from sacremoses->transformers) (7.1.2)\n",
            "Requirement already satisfied: joblib in /usr/local/lib/python3.6/dist-packages (from sacremoses->transformers) (0.17.0)\n",
            "Building wheels for collected packages: sacremoses\n",
            "  Building wheel for sacremoses (setup.py) ... \u001b[?25l\u001b[?25hdone\n",
            "  Created wheel for sacremoses: filename=sacremoses-0.0.43-cp36-none-any.whl size=893261 sha256=3f3bf0697bbfb0084d371c7895d7eb3e8cc6a01d4ea188b2a015c6bd902f40bf\n",
            "  Stored in directory: /root/.cache/pip/wheels/29/3c/fd/7ce5c3f0666dab31a50123635e6fb5e19ceb42ce38d4e58f45\n",
            "Successfully built sacremoses\n",
            "Installing collected packages: tokenizers, sacremoses, transformers\n",
            "Successfully installed sacremoses-0.0.43 tokenizers-0.9.4 transformers-4.0.1\n"
          ],
          "name": "stdout"
        }
      ]
    },
    {
      "cell_type": "code",
      "metadata": {
        "id": "FsYgXwrVwmHm"
      },
      "source": [
        "import random\n",
        "import torch\n",
        "from torch.utils.data import TensorDataset, DataLoader, random_split\n",
        "from transformers import BertTokenizer\n",
        "from transformers import BertForSequenceClassification, AdamW\n",
        "from transformers import get_linear_schedule_with_warmup\n",
        "\n",
        "seed = 42\n",
        "random.seed(seed)\n",
        "np.random.seed(seed)\n",
        "torch.manual_seed(seed)\n",
        "torch.cuda.manual_seed_all(seed)\n",
        "torch.backends.cudnn.deterministic = True\n",
        "\n",
        "device = torch.device('cuda')"
      ],
      "execution_count": null,
      "outputs": []
    },
    {
      "cell_type": "code",
      "metadata": {
        "colab": {
          "base_uri": "https://localhost:8080/"
        },
        "id": "shU5VUMnyf9t",
        "outputId": "b4d40b88-1be3-42e4-c73e-a532cf88b249"
      },
      "source": [
        "from sklearn.model_selection import train_test_split\n",
        "X = data['utterance'].tolist()\n",
        "y = data['Label'].tolist()\n",
        "X_train, X_test, y_train, y_test = train_test_split(X, y, test_size=0.1, random_state=28)\n",
        "len(X_train)"
      ],
      "execution_count": null,
      "outputs": [
        {
          "output_type": "execute_result",
          "data": {
            "text/plain": [
              "40382"
            ]
          },
          "metadata": {
            "tags": []
          },
          "execution_count": 5
        }
      ]
    },
    {
      "cell_type": "code",
      "metadata": {
        "colab": {
          "base_uri": "https://localhost:8080/"
        },
        "id": "GPscvJpxZsmM",
        "outputId": "1656467c-bf3b-4a4d-9cc8-2dd3d28669b1"
      },
      "source": [
        "len(X_test)"
      ],
      "execution_count": null,
      "outputs": [
        {
          "output_type": "execute_result",
          "data": {
            "text/plain": [
              "4487"
            ]
          },
          "metadata": {
            "tags": []
          },
          "execution_count": 6
        }
      ]
    },
    {
      "cell_type": "code",
      "metadata": {
        "id": "ka7_HE3dwvch",
        "colab": {
          "base_uri": "https://localhost:8080/",
          "height": 67,
          "referenced_widgets": [
            "29f54c27e4d1445394c4faab2412b82f",
            "161df8b8d51147f0a89618d3a72b5355",
            "cf3115946a784eccacfa27ac0e90fd27",
            "5d5df47b094b4039a2ca7fe70ebdea52",
            "3da29a8695184bb8b72897be99137da6",
            "98e50ee0f79543cbb5446884d2bdff75",
            "e78f95a8a5174b0ab8b7abcbbe71cedb",
            "ee6621accce44d748bbf7960c8bb7359"
          ]
        },
        "outputId": "02496c01-195f-46db-e610-43a24605d53d"
      },
      "source": [
        "\n",
        "tokenizer = BertTokenizer.from_pretrained('bert-base-uncased', do_lower_case=True)\n",
        "# Function to get token ids for a list of texts \n",
        "def encode_fn(text_list):\n",
        "    all_input_ids = []    \n",
        "    for text in text_list:\n",
        "        input_ids = tokenizer.encode(\n",
        "                        text,                      \n",
        "                        add_special_tokens = True,  # 添加special tokens， 也就是CLS和SEP\n",
        "                        max_length = 50,           # 设定最大文本长度\n",
        "                        pad_to_max_length = True,   # pad到最大的长度  \n",
        "                        return_tensors = 'pt'       # 返回的类型为pytorch tensor\n",
        "                   )\n",
        "        all_input_ids.append(input_ids)    \n",
        "    all_input_ids = torch.cat(all_input_ids, dim=0)\n",
        "    return all_input_ids"
      ],
      "execution_count": null,
      "outputs": [
        {
          "output_type": "display_data",
          "data": {
            "application/vnd.jupyter.widget-view+json": {
              "model_id": "29f54c27e4d1445394c4faab2412b82f",
              "version_minor": 0,
              "version_major": 2
            },
            "text/plain": [
              "HBox(children=(FloatProgress(value=0.0, description='Downloading', max=231508.0, style=ProgressStyle(descripti…"
            ]
          },
          "metadata": {
            "tags": []
          }
        },
        {
          "output_type": "stream",
          "text": [
            "\n"
          ],
          "name": "stdout"
        }
      ]
    },
    {
      "cell_type": "markdown",
      "metadata": {
        "id": "DzORy5pS0e4m"
      },
      "source": [
        "# torch dataset"
      ]
    },
    {
      "cell_type": "code",
      "metadata": {
        "colab": {
          "base_uri": "https://localhost:8080/"
        },
        "id": "UE2cnRFjxlc9",
        "outputId": "a52fd37a-ceb9-488b-a69a-3e7187aa7d76"
      },
      "source": [
        "epochs = 5\n",
        "batch_size = 32\n",
        "\n",
        "# Split data into train and validation\n",
        "train_ids = encode_fn(X_train)\n",
        "train_labels = torch.tensor(y_train)\n",
        "train_dataset = TensorDataset(train_ids, train_labels)\n",
        "\n",
        "test_ids = encode_fn(X_test)\n",
        "test_labels = torch.tensor(y_test)\n",
        "testdataset = TensorDataset(test_ids, test_labels)\n",
        "\n",
        "# train_dataset, val_dataset = random_split(dataset, [train_size, val_size])\n",
        "\n",
        "# Create train and validation dataloaders\n",
        "train_dataloader = DataLoader(train_dataset, batch_size = batch_size, shuffle = True)\n",
        "test_dataloader = DataLoader(testdataset, batch_size = batch_size, shuffle = False)"
      ],
      "execution_count": null,
      "outputs": [
        {
          "output_type": "stream",
          "text": [
            "Truncation was not explicitly activated but `max_length` is provided a specific value, please use `truncation=True` to explicitly truncate examples to max length. Defaulting to 'longest_first' truncation strategy. If you encode pairs of sequences (GLUE-style) with the tokenizer you can select this strategy more precisely by providing a specific strategy to `truncation`.\n",
            "/usr/local/lib/python3.6/dist-packages/transformers/tokenization_utils_base.py:2142: FutureWarning: The `pad_to_max_length` argument is deprecated and will be removed in a future version, use `padding=True` or `padding='longest'` to pad to the longest sequence in the batch, or use `padding='max_length'` to pad to a max length. In this case, you can give a specific length with `max_length` (e.g. `max_length=45`) or leave max_length to None to pad to the maximal input size of the model (e.g. 512 for Bert).\n",
            "  FutureWarning,\n"
          ],
          "name": "stderr"
        }
      ]
    },
    {
      "cell_type": "markdown",
      "metadata": {
        "id": "YCzDjZ_30j1x"
      },
      "source": [
        "# construct model"
      ]
    },
    {
      "cell_type": "code",
      "metadata": {
        "colab": {
          "base_uri": "https://localhost:8080/",
          "height": 227,
          "referenced_widgets": [
            "3096761a8a7246208cd6f2f272c8eeb3",
            "5e969272eed241cc9a35dfaf2fe0f432",
            "a0dd72308b0047ce94ec883c9b4c493d",
            "9c650c6e4f9a470bab2342ae1b40c178",
            "75196c05444c49f595a376c450e39f53",
            "ba9a145fbd9c47fba326388d48d30248",
            "f0f82fa947cd49fa9e5613585d148532",
            "62705e2df8af493e9ab458c1f120417d",
            "d7bc2a9744ff49638c5a1d6202aa037e",
            "b23ffc80cb324561bf4cfe1614180b3d",
            "37884bea322d4dbe88045cbe7f0b3228",
            "cd50efd150d44fd69b452101763d8d23",
            "6b98e4a2ea944d25be491299b7e2ab6f",
            "940a7f2362de40e3939e39cb712ab6fc",
            "649cc9b0298c415b83564421b759664a",
            "ba9793ffbd024b4c914108316a40b38a"
          ]
        },
        "id": "V7O71w1x0cGG",
        "outputId": "2f05cb7a-8053-4f9b-c7cf-697c82c30a40"
      },
      "source": [
        "# Load the pretrained BERT model\n",
        "model = BertForSequenceClassification.from_pretrained('bert-base-uncased', num_labels=2, output_attentions=False, output_hidden_states=False)\n",
        "model.cuda()\n",
        "\n",
        "# create optimizer and learning rate schedule\n",
        "optimizer = AdamW(model.parameters(), lr=2e-5)\n",
        "total_steps = len(train_dataloader) * epochs\n",
        "scheduler = get_linear_schedule_with_warmup(optimizer, num_warmup_steps=0, num_training_steps=total_steps)"
      ],
      "execution_count": null,
      "outputs": [
        {
          "output_type": "display_data",
          "data": {
            "application/vnd.jupyter.widget-view+json": {
              "model_id": "3096761a8a7246208cd6f2f272c8eeb3",
              "version_minor": 0,
              "version_major": 2
            },
            "text/plain": [
              "HBox(children=(FloatProgress(value=0.0, description='Downloading', max=433.0, style=ProgressStyle(description_…"
            ]
          },
          "metadata": {
            "tags": []
          }
        },
        {
          "output_type": "stream",
          "text": [
            "\n"
          ],
          "name": "stdout"
        },
        {
          "output_type": "display_data",
          "data": {
            "application/vnd.jupyter.widget-view+json": {
              "model_id": "d7bc2a9744ff49638c5a1d6202aa037e",
              "version_minor": 0,
              "version_major": 2
            },
            "text/plain": [
              "HBox(children=(FloatProgress(value=0.0, description='Downloading', max=440473133.0, style=ProgressStyle(descri…"
            ]
          },
          "metadata": {
            "tags": []
          }
        },
        {
          "output_type": "stream",
          "text": [
            "\n"
          ],
          "name": "stdout"
        },
        {
          "output_type": "stream",
          "text": [
            "Some weights of the model checkpoint at bert-base-uncased were not used when initializing BertForSequenceClassification: ['cls.predictions.bias', 'cls.predictions.transform.dense.weight', 'cls.predictions.transform.dense.bias', 'cls.predictions.decoder.weight', 'cls.seq_relationship.weight', 'cls.seq_relationship.bias', 'cls.predictions.transform.LayerNorm.weight', 'cls.predictions.transform.LayerNorm.bias']\n",
            "- This IS expected if you are initializing BertForSequenceClassification from the checkpoint of a model trained on another task or with another architecture (e.g. initializing a BertForSequenceClassification model from a BertForPreTraining model).\n",
            "- This IS NOT expected if you are initializing BertForSequenceClassification from the checkpoint of a model that you expect to be exactly identical (initializing a BertForSequenceClassification model from a BertForSequenceClassification model).\n",
            "Some weights of BertForSequenceClassification were not initialized from the model checkpoint at bert-base-uncased and are newly initialized: ['classifier.weight', 'classifier.bias']\n",
            "You should probably TRAIN this model on a down-stream task to be able to use it for predictions and inference.\n"
          ],
          "name": "stderr"
        }
      ]
    },
    {
      "cell_type": "code",
      "metadata": {
        "id": "hq8LE9N21VYc"
      },
      "source": [
        "from sklearn.metrics import f1_score, accuracy_score\n",
        "\n",
        "def flat_accuracy(preds, labels):\n",
        "    \n",
        "    \"\"\"A function for calculating accuracy scores\"\"\"\n",
        "    \n",
        "    pred_flat = np.argmax(preds, axis=1).flatten()\n",
        "    labels_flat = labels.flatten()\n",
        "    return labels_flat, pred_flat"
      ],
      "execution_count": null,
      "outputs": []
    },
    {
      "cell_type": "markdown",
      "metadata": {
        "id": "ih6flmFb1gw5"
      },
      "source": [
        "# model training"
      ]
    },
    {
      "cell_type": "code",
      "metadata": {
        "colab": {
          "base_uri": "https://localhost:8080/"
        },
        "id": "ysrs7T-e1dP_",
        "outputId": "2b1e6fe0-6b72-47da-b7a8-8ce1df8603ee"
      },
      "source": [
        "for epoch in range(epochs):\n",
        "    model.train()\n",
        "    total_loss, total_val_loss = 0, 0\n",
        "    total_eval_accuracy = 0\n",
        "    for step, batch in enumerate(train_dataloader):\n",
        "        model.zero_grad()\n",
        "        outputs = model(batch[0].to(device), token_type_ids=None, attention_mask=(batch[0]>0).to(device), labels=batch[1].to(device))\n",
        "        loss = outputs.loss\n",
        "        logits = outputs.logits\n",
        "        total_loss += loss.item()\n",
        "        loss.backward()\n",
        "        torch.nn.utils.clip_grad_norm_(model.parameters(), 1.0)\n",
        "        optimizer.step() \n",
        "        scheduler.step()\n",
        "        \n",
        "    model.eval()\n",
        "    labels_all = []\n",
        "    pred_flat_all = []\n",
        "    for i, batch in enumerate(test_dataloader):\n",
        "        with torch.no_grad():\n",
        "            outputs = model(batch[0].to(device), token_type_ids=None, attention_mask=(batch[0]>0).to(device), labels=batch[1].to(device))\n",
        "            loss = outputs.loss\n",
        "            logits = outputs.logits\n",
        "                \n",
        "            total_val_loss += loss.item()\n",
        "            \n",
        "            logits = logits.detach().cpu().numpy()\n",
        "            label_ids = batch[1].to('cpu').numpy()\n",
        "            labels_flat, pred_flat = flat_accuracy(logits, label_ids)\n",
        "            labels_all.extend(labels_flat)\n",
        "            pred_flat_all.extend(pred_flat)\n",
        "\n",
        "    torch.save(model, 'model_bert_base_from_wassem'+str(epoch)+'.ckpt')\n",
        "    # torch.save(slot_model, 'model_slot'+str(epoch)+'.ckpt')\n",
        "    \n",
        "    avg_train_loss = total_loss / len(train_dataloader)\n",
        "    avg_val_loss = total_val_loss / len(test_dataloader)\n",
        "    avg_val_accuracy = accuracy_score(labels_all, pred_flat_all)\n",
        "    \n",
        "    print(f'Train loss     : {avg_train_loss}')\n",
        "    print(f'Validation loss: {avg_val_loss}')\n",
        "    print(f'Accuracy: {avg_val_accuracy:.4f}')\n",
        "    print('\\n')"
      ],
      "execution_count": null,
      "outputs": [
        {
          "output_type": "stream",
          "text": [
            "Train loss     : 0.20594463267316612\n",
            "Validation loss: 0.1705988754464942\n",
            "Accuracy: 0.9440\n",
            "\n",
            "\n",
            "Train loss     : 0.15894470998736704\n",
            "Validation loss: 0.17980765533532686\n",
            "Accuracy: 0.9454\n",
            "\n",
            "\n",
            "Train loss     : 0.13016862202072998\n",
            "Validation loss: 0.19062481811092158\n",
            "Accuracy: 0.9434\n",
            "\n",
            "\n",
            "Train loss     : 0.09951567455302783\n",
            "Validation loss: 0.2244349388008237\n",
            "Accuracy: 0.9432\n",
            "\n",
            "\n",
            "Train loss     : 0.0782939764965086\n",
            "Validation loss: 0.2565594246050426\n",
            "Accuracy: 0.9414\n",
            "\n",
            "\n"
          ],
          "name": "stdout"
        }
      ]
    },
    {
      "cell_type": "markdown",
      "metadata": {
        "id": "-sQL--9oaK4B"
      },
      "source": [
        "# evaluate on wassem dataset"
      ]
    },
    {
      "cell_type": "code",
      "metadata": {
        "id": "REEwKHBjaK4B"
      },
      "source": [
        "!pip install -U -q PyDrive\n",
        "from pydrive.auth import GoogleAuth\n",
        "from pydrive.drive import GoogleDrive\n",
        "from google.colab import auth\n",
        "from oauth2client.client import GoogleCredentials\n",
        "\n",
        "import pandas as pd\n",
        "\n",
        "\n",
        "# Authenticate and create the PyDrive client.\n",
        "auth.authenticate_user()\n",
        "gauth = GoogleAuth()\n",
        "gauth.credentials = GoogleCredentials.get_application_default()\n",
        "drive = GoogleDrive(gauth)\n",
        "# Download all three Microsoft BotBuilder Personality Chat Datasets on Google Colab virtual server\n",
        "# https://drive.google.com/file/d/10yi1MvU3lrlqyGLGZ0Ee7o4e72zEW4Fg/view?usp=sharing\n",
        "#chats.csv DOTA dataset 1.4 million\n",
        "# https://drive.google.com/file/d/1VALiNA_ruYl0jt66MBG7Eb_o3sWQIBqj/view?usp=sharing\n",
        "# https://drive.google.com/file/d/1-HsJ2w944FNCZPPiqYjV7Ip-2fmdNqz5/view?usp=sharing\n",
        "download_files = [\n",
        "          {'id':'1gNfBqguzBu8cHKMPc8C44GbvD443dNC5','file_name':'Wassem.csv'},\n",
        "          ]\n",
        "for entity in download_files:\n",
        "  id1 = entity['id']\n",
        "  downloaded = drive.CreateFile({'id':id1 }) \n",
        "  downloaded.GetContentFile(entity['file_name']) "
      ],
      "execution_count": null,
      "outputs": []
    },
    {
      "cell_type": "code",
      "metadata": {
        "id": "Y7XBCK_faK4B"
      },
      "source": [
        "import pandas as pd\n",
        "import numpy as np\n",
        "import matplotlib.pyplot as plt\n",
        "test_data = pd.read_csv(\"Wassem.csv\")"
      ],
      "execution_count": null,
      "outputs": []
    },
    {
      "cell_type": "code",
      "metadata": {
        "colab": {
          "base_uri": "https://localhost:8080/",
          "height": 204
        },
        "id": "DOPAAM-xaK4B",
        "outputId": "ee573f78-4a49-4ed1-b9d2-88f7388029ef"
      },
      "source": [
        "map_dict = {'racism':1,'sexism':1,'none':0}\n",
        "def map_to_binary(x):\n",
        "  return map_dict[x]\n",
        "test_data['Label'] = test_data['Label'].map(map_to_binary)\n",
        "test_data.head()"
      ],
      "execution_count": null,
      "outputs": [
        {
          "output_type": "execute_result",
          "data": {
            "text/html": [
              "<div>\n",
              "<style scoped>\n",
              "    .dataframe tbody tr th:only-of-type {\n",
              "        vertical-align: middle;\n",
              "    }\n",
              "\n",
              "    .dataframe tbody tr th {\n",
              "        vertical-align: top;\n",
              "    }\n",
              "\n",
              "    .dataframe thead th {\n",
              "        text-align: right;\n",
              "    }\n",
              "</style>\n",
              "<table border=\"1\" class=\"dataframe\">\n",
              "  <thead>\n",
              "    <tr style=\"text-align: right;\">\n",
              "      <th></th>\n",
              "      <th>Unnamed: 0</th>\n",
              "      <th>Tweet_ID</th>\n",
              "      <th>Previous</th>\n",
              "      <th>User_ID</th>\n",
              "      <th>Text</th>\n",
              "      <th>Label</th>\n",
              "    </tr>\n",
              "  </thead>\n",
              "  <tbody>\n",
              "    <tr>\n",
              "      <th>0</th>\n",
              "      <td>0</td>\n",
              "      <td>567080871472017408</td>\n",
              "      <td>5.670786e+17</td>\n",
              "      <td>2941145694</td>\n",
              "      <td>@truaemusic The followers of the religion give...</td>\n",
              "      <td>1</td>\n",
              "    </tr>\n",
              "    <tr>\n",
              "      <th>1</th>\n",
              "      <td>1</td>\n",
              "      <td>566098518616449024</td>\n",
              "      <td>5.660874e+17</td>\n",
              "      <td>2941145694</td>\n",
              "      <td>@Love___Egypt @washingtonpost All the land tha...</td>\n",
              "      <td>1</td>\n",
              "    </tr>\n",
              "    <tr>\n",
              "      <th>2</th>\n",
              "      <td>2</td>\n",
              "      <td>554672350361571328</td>\n",
              "      <td>NaN</td>\n",
              "      <td>2941145694</td>\n",
              "      <td>@CamilleHughes16 @edbarber101658 @_Watch_Obser...</td>\n",
              "      <td>1</td>\n",
              "    </tr>\n",
              "    <tr>\n",
              "      <th>3</th>\n",
              "      <td>3</td>\n",
              "      <td>569878129772081153</td>\n",
              "      <td>5.698451e+17</td>\n",
              "      <td>2941145694</td>\n",
              "      <td>@KellyTurner99 @brushyblues @buellerishere The...</td>\n",
              "      <td>1</td>\n",
              "    </tr>\n",
              "    <tr>\n",
              "      <th>4</th>\n",
              "      <td>4</td>\n",
              "      <td>568541747849998337</td>\n",
              "      <td>NaN</td>\n",
              "      <td>2941145694</td>\n",
              "      <td>@buellerishere Who cares. ISIS does what Moham...</td>\n",
              "      <td>1</td>\n",
              "    </tr>\n",
              "  </tbody>\n",
              "</table>\n",
              "</div>"
            ],
            "text/plain": [
              "   Unnamed: 0  ...  Label\n",
              "0           0  ...      1\n",
              "1           1  ...      1\n",
              "2           2  ...      1\n",
              "3           3  ...      1\n",
              "4           4  ...      1\n",
              "\n",
              "[5 rows x 6 columns]"
            ]
          },
          "metadata": {
            "tags": []
          },
          "execution_count": 17
        }
      ]
    },
    {
      "cell_type": "code",
      "metadata": {
        "colab": {
          "base_uri": "https://localhost:8080/"
        },
        "id": "Y8N0-0uJaK4B",
        "outputId": "ec22b0be-43c7-425d-c6c6-7a8d6f3956aa"
      },
      "source": [
        "test_ids = encode_fn(test_data['Text'].tolist())\n",
        "test_labels = torch.tensor(test_data['Label'].tolist())\n",
        "testdataset = TensorDataset(test_ids, test_labels)\n",
        "\n",
        "# train_dataset, val_dataset = random_split(dataset, [train_size, val_size])\n",
        "\n",
        "# Create train and validation dataloaders\n",
        "# train_dataloader = DataLoader(train_dataset, batch_size = batch_size, shuffle = True)\n",
        "test_dataloader = DataLoader(testdataset, batch_size = batch_size, shuffle = False)"
      ],
      "execution_count": null,
      "outputs": [
        {
          "output_type": "stream",
          "text": [
            "/usr/local/lib/python3.6/dist-packages/transformers/tokenization_utils_base.py:2142: FutureWarning: The `pad_to_max_length` argument is deprecated and will be removed in a future version, use `padding=True` or `padding='longest'` to pad to the longest sequence in the batch, or use `padding='max_length'` to pad to a max length. In this case, you can give a specific length with `max_length` (e.g. `max_length=45`) or leave max_length to None to pad to the maximal input size of the model (e.g. 512 for Bert).\n",
            "  FutureWarning,\n"
          ],
          "name": "stderr"
        }
      ]
    },
    {
      "cell_type": "code",
      "metadata": {
        "colab": {
          "base_uri": "https://localhost:8080/"
        },
        "id": "HaAqbQeeaK4C",
        "outputId": "b89227e1-a33a-4390-ee25-ae0a15e09f7c"
      },
      "source": [
        "labels_all = []\n",
        "pred_flat_all = []\n",
        "for i, batch in enumerate(test_dataloader):\n",
        "    with torch.no_grad():\n",
        "        outputs = model(batch[0].to(device), token_type_ids=None, attention_mask=(batch[0]>0).to(device), labels=batch[1].to(device))\n",
        "        loss = outputs.loss\n",
        "        logits = outputs.logits\n",
        "            \n",
        "        total_val_loss += loss.item()\n",
        "        \n",
        "        logits = logits.detach().cpu().numpy()\n",
        "        label_ids = batch[1].to('cpu').numpy()\n",
        "        labels_flat, pred_flat = flat_accuracy(logits, label_ids)\n",
        "        labels_all.extend(labels_flat)\n",
        "        pred_flat_all.extend(pred_flat)\n",
        "print(len(labels_all))\n",
        "print(len(pred_flat_all))"
      ],
      "execution_count": null,
      "outputs": [
        {
          "output_type": "stream",
          "text": [
            "16202\n",
            "16202\n"
          ],
          "name": "stdout"
        }
      ]
    },
    {
      "cell_type": "code",
      "metadata": {
        "colab": {
          "base_uri": "https://localhost:8080/"
        },
        "id": "HyE-5tuHaK4C",
        "outputId": "34e1f69b-5ede-4407-a942-7e9009b0a504"
      },
      "source": [
        "avg_val_accuracy = accuracy_score(labels_all, pred_flat_all)\n",
        "avg_val_accuracy"
      ],
      "execution_count": null,
      "outputs": [
        {
          "output_type": "execute_result",
          "data": {
            "text/plain": [
              "0.6789285273423035"
            ]
          },
          "metadata": {
            "tags": []
          },
          "execution_count": 20
        }
      ]
    },
    {
      "cell_type": "code",
      "metadata": {
        "colab": {
          "base_uri": "https://localhost:8080/"
        },
        "id": "eBhZMKScaK4C",
        "outputId": "f91ed074-a422-4b62-ea49-0bb007771b2b"
      },
      "source": [
        "from sklearn.metrics import classification_report\n",
        "print(classification_report(y_true=labels_all,y_pred=pred_flat_all,digits=4))"
      ],
      "execution_count": null,
      "outputs": [
        {
          "output_type": "stream",
          "text": [
            "              precision    recall  f1-score   support\n",
            "\n",
            "           0     0.6989    0.9346    0.7998     11115\n",
            "           1     0.4571    0.1203    0.1905      5087\n",
            "\n",
            "    accuracy                         0.6789     16202\n",
            "   macro avg     0.5780    0.5274    0.4951     16202\n",
            "weighted avg     0.6230    0.6789    0.6085     16202\n",
            "\n"
          ],
          "name": "stdout"
        }
      ]
    },
    {
      "cell_type": "markdown",
      "metadata": {
        "id": "get4lR7RXBoa"
      },
      "source": [
        "# evaluate on storm dataset"
      ]
    },
    {
      "cell_type": "code",
      "metadata": {
        "id": "U50cvuObXBoa"
      },
      "source": [
        "!pip install -U -q PyDrive\n",
        "from pydrive.auth import GoogleAuth\n",
        "from pydrive.drive import GoogleDrive\n",
        "from google.colab import auth\n",
        "from oauth2client.client import GoogleCredentials\n",
        "\n",
        "import pandas as pd\n",
        "\n",
        "\n",
        "# Authenticate and create the PyDrive client.\n",
        "auth.authenticate_user()\n",
        "gauth = GoogleAuth()\n",
        "gauth.credentials = GoogleCredentials.get_application_default()\n",
        "drive = GoogleDrive(gauth)\n",
        "# Download all three Microsoft BotBuilder Personality Chat Datasets on Google Colab virtual server\n",
        "# https://drive.google.com/file/d/10yi1MvU3lrlqyGLGZ0Ee7o4e72zEW4Fg/view?usp=sharing\n",
        "#chats.csv DOTA dataset 1.4 million\n",
        "# https://drive.google.com/file/d/1VALiNA_ruYl0jt66MBG7Eb_o3sWQIBqj/view?usp=sharing\n",
        "# https://drive.google.com/file/d/1-HsJ2w944FNCZPPiqYjV7Ip-2fmdNqz5/view?usp=sharing\n",
        "download_files = [\n",
        "          {'id':'1LNjeEeHNpJwS4O9OK2gOSpwddwzHCaqW','file_name':'storm.csv'},\n",
        "          ]\n",
        "for entity in download_files:\n",
        "  id1 = entity['id']\n",
        "  downloaded = drive.CreateFile({'id':id1 }) \n",
        "  downloaded.GetContentFile(entity['file_name']) "
      ],
      "execution_count": null,
      "outputs": []
    },
    {
      "cell_type": "code",
      "metadata": {
        "id": "CBwSVA0vXBob"
      },
      "source": [
        "import pandas as pd\n",
        "import numpy as np\n",
        "import matplotlib.pyplot as plt\n",
        "# colnames = ['1','2','3','utterance','4','5','6','Label','combined_annotation']\n",
        "test_data = pd.read_csv(\"storm.csv\")"
      ],
      "execution_count": null,
      "outputs": []
    },
    {
      "cell_type": "code",
      "metadata": {
        "colab": {
          "base_uri": "https://localhost:8080/",
          "height": 204
        },
        "id": "uUJsHWqyXBob",
        "outputId": "6fc34dcc-38f3-48e1-946e-04110b24b1e9"
      },
      "source": [
        "map_dict = {'hate':1,'noHate':0,'relation':0,'idk/skip':0}\n",
        "def map_to_binary(x):\n",
        "  return map_dict[x]\n",
        "test_data['label'] = test_data['label'].map(map_to_binary)\n",
        "test_data.head()"
      ],
      "execution_count": null,
      "outputs": [
        {
          "output_type": "execute_result",
          "data": {
            "text/html": [
              "<div>\n",
              "<style scoped>\n",
              "    .dataframe tbody tr th:only-of-type {\n",
              "        vertical-align: middle;\n",
              "    }\n",
              "\n",
              "    .dataframe tbody tr th {\n",
              "        vertical-align: top;\n",
              "    }\n",
              "\n",
              "    .dataframe thead th {\n",
              "        text-align: right;\n",
              "    }\n",
              "</style>\n",
              "<table border=\"1\" class=\"dataframe\">\n",
              "  <thead>\n",
              "    <tr style=\"text-align: right;\">\n",
              "      <th></th>\n",
              "      <th>sentence</th>\n",
              "      <th>label</th>\n",
              "      <th>user_id</th>\n",
              "      <th>file_id</th>\n",
              "    </tr>\n",
              "  </thead>\n",
              "  <tbody>\n",
              "    <tr>\n",
              "      <th>0</th>\n",
              "      <td>b'As of March 13th , 2014 , the booklet had be...</td>\n",
              "      <td>0</td>\n",
              "      <td>572066</td>\n",
              "      <td>12834217_1</td>\n",
              "    </tr>\n",
              "    <tr>\n",
              "      <th>1</th>\n",
              "      <td>b'In order to help increase the booklets downl...</td>\n",
              "      <td>0</td>\n",
              "      <td>572066</td>\n",
              "      <td>12834217_2</td>\n",
              "    </tr>\n",
              "    <tr>\n",
              "      <th>2</th>\n",
              "      <td>b'( Simply copy and paste the following text i...</td>\n",
              "      <td>0</td>\n",
              "      <td>572066</td>\n",
              "      <td>12834217_3</td>\n",
              "    </tr>\n",
              "    <tr>\n",
              "      <th>3</th>\n",
              "      <td>b'Click below for a FREE download of a colorfu...</td>\n",
              "      <td>1</td>\n",
              "      <td>572066</td>\n",
              "      <td>12834217_4</td>\n",
              "    </tr>\n",
              "    <tr>\n",
              "      <th>4</th>\n",
              "      <td>b\"Click on the `` DOWNLOAD ( 7.42 MB ) '' gree...</td>\n",
              "      <td>0</td>\n",
              "      <td>572066</td>\n",
              "      <td>12834217_5</td>\n",
              "    </tr>\n",
              "  </tbody>\n",
              "</table>\n",
              "</div>"
            ],
            "text/plain": [
              "                                            sentence  ...     file_id\n",
              "0  b'As of March 13th , 2014 , the booklet had be...  ...  12834217_1\n",
              "1  b'In order to help increase the booklets downl...  ...  12834217_2\n",
              "2  b'( Simply copy and paste the following text i...  ...  12834217_3\n",
              "3  b'Click below for a FREE download of a colorfu...  ...  12834217_4\n",
              "4  b\"Click on the `` DOWNLOAD ( 7.42 MB ) '' gree...  ...  12834217_5\n",
              "\n",
              "[5 rows x 4 columns]"
            ]
          },
          "metadata": {
            "tags": []
          },
          "execution_count": 24
        }
      ]
    },
    {
      "cell_type": "code",
      "metadata": {
        "colab": {
          "base_uri": "https://localhost:8080/"
        },
        "id": "Ow667cozXBob",
        "outputId": "1919ee63-d2b0-488e-b9bf-be611b7aad65"
      },
      "source": [
        "test_ids = encode_fn(test_data['sentence'].tolist())\n",
        "test_labels = torch.tensor(test_data['label'].tolist())\n",
        "testdataset = TensorDataset(test_ids, test_labels)\n",
        "\n",
        "# train_dataset, val_dataset = random_split(dataset, [train_size, val_size])\n",
        "\n",
        "# Create train and validation dataloaders\n",
        "# train_dataloader = DataLoader(train_dataset, batch_size = batch_size, shuffle = True)\n",
        "test_dataloader = DataLoader(testdataset, batch_size = batch_size, shuffle = False)"
      ],
      "execution_count": null,
      "outputs": [
        {
          "output_type": "stream",
          "text": [
            "/usr/local/lib/python3.6/dist-packages/transformers/tokenization_utils_base.py:2142: FutureWarning: The `pad_to_max_length` argument is deprecated and will be removed in a future version, use `padding=True` or `padding='longest'` to pad to the longest sequence in the batch, or use `padding='max_length'` to pad to a max length. In this case, you can give a specific length with `max_length` (e.g. `max_length=45`) or leave max_length to None to pad to the maximal input size of the model (e.g. 512 for Bert).\n",
            "  FutureWarning,\n"
          ],
          "name": "stderr"
        }
      ]
    },
    {
      "cell_type": "code",
      "metadata": {
        "colab": {
          "base_uri": "https://localhost:8080/"
        },
        "id": "7vWcboDGXBoc",
        "outputId": "40c5afc8-8e3f-4512-96a1-022df09d5aab"
      },
      "source": [
        "labels_all = []\n",
        "pred_flat_all = []\n",
        "for i, batch in enumerate(test_dataloader):\n",
        "    with torch.no_grad():\n",
        "        outputs = model(batch[0].to(device), token_type_ids=None, attention_mask=(batch[0]>0).to(device), labels=batch[1].to(device))\n",
        "        loss = outputs.loss\n",
        "        logits = outputs.logits\n",
        "            \n",
        "        total_val_loss += loss.item()\n",
        "        \n",
        "        logits = logits.detach().cpu().numpy()\n",
        "        label_ids = batch[1].to('cpu').numpy()\n",
        "        labels_flat, pred_flat = flat_accuracy(logits, label_ids)\n",
        "        labels_all.extend(labels_flat)\n",
        "        pred_flat_all.extend(pred_flat)\n",
        "print(len(labels_all))\n",
        "print(len(pred_flat_all))"
      ],
      "execution_count": null,
      "outputs": [
        {
          "output_type": "stream",
          "text": [
            "10944\n",
            "10944\n"
          ],
          "name": "stdout"
        }
      ]
    },
    {
      "cell_type": "code",
      "metadata": {
        "colab": {
          "base_uri": "https://localhost:8080/"
        },
        "id": "OBB5-GnvXBoc",
        "outputId": "9e2da1b4-0e8e-49f6-c312-772db117c465"
      },
      "source": [
        "avg_val_accuracy = accuracy_score(labels_all, pred_flat_all)\n",
        "avg_val_accuracy"
      ],
      "execution_count": null,
      "outputs": [
        {
          "output_type": "execute_result",
          "data": {
            "text/plain": [
              "0.8760964912280702"
            ]
          },
          "metadata": {
            "tags": []
          },
          "execution_count": 27
        }
      ]
    },
    {
      "cell_type": "code",
      "metadata": {
        "colab": {
          "base_uri": "https://localhost:8080/"
        },
        "id": "9KwziDdxXBoc",
        "outputId": "364293d5-47a3-40b2-8344-98ee69880f07"
      },
      "source": [
        "from sklearn.metrics import classification_report\n",
        "print(classification_report(y_true=labels_all,y_pred=pred_flat_all,digits=4))"
      ],
      "execution_count": null,
      "outputs": [
        {
          "output_type": "stream",
          "text": [
            "              precision    recall  f1-score   support\n",
            "\n",
            "           0     0.8989    0.9700    0.9331      9748\n",
            "           1     0.3113    0.1104    0.1630      1196\n",
            "\n",
            "    accuracy                         0.8761     10944\n",
            "   macro avg     0.6051    0.5402    0.5480     10944\n",
            "weighted avg     0.8347    0.8761    0.8489     10944\n",
            "\n"
          ],
          "name": "stdout"
        }
      ]
    },
    {
      "cell_type": "markdown",
      "metadata": {
        "id": "LIShm6P2XCUC"
      },
      "source": [
        "# evaluate on fox dataset"
      ]
    },
    {
      "cell_type": "code",
      "metadata": {
        "id": "lzdV-FxSXCUC"
      },
      "source": [
        "!pip install -U -q PyDrive\n",
        "from pydrive.auth import GoogleAuth\n",
        "from pydrive.drive import GoogleDrive\n",
        "from google.colab import auth\n",
        "from oauth2client.client import GoogleCredentials\n",
        "\n",
        "import pandas as pd\n",
        "\n",
        "\n",
        "# Authenticate and create the PyDrive client.\n",
        "auth.authenticate_user()\n",
        "gauth = GoogleAuth()\n",
        "gauth.credentials = GoogleCredentials.get_application_default()\n",
        "drive = GoogleDrive(gauth)\n",
        "# Download all three Microsoft BotBuilder Personality Chat Datasets on Google Colab virtual server\n",
        "# https://drive.google.com/file/d/10yi1MvU3lrlqyGLGZ0Ee7o4e72zEW4Fg/view?usp=sharing\n",
        "#chats.csv DOTA dataset 1.4 million\n",
        "# https://drive.google.com/file/d/1VALiNA_ruYl0jt66MBG7Eb_o3sWQIBqj/view?usp=sharing\n",
        "# https://drive.google.com/file/d/1-HsJ2w944FNCZPPiqYjV7Ip-2fmdNqz5/view?usp=sharing\n",
        "download_files = [\n",
        "          {'id':'1fKnmVJYBVkLKSr6YDXwUz5tZAHDc7YvO','file_name':'fox.csv'},\n",
        "          ]\n",
        "for entity in download_files:\n",
        "  id1 = entity['id']\n",
        "  downloaded = drive.CreateFile({'id':id1 }) \n",
        "  downloaded.GetContentFile(entity['file_name']) "
      ],
      "execution_count": null,
      "outputs": []
    },
    {
      "cell_type": "code",
      "metadata": {
        "id": "BMonhlpKXCUC"
      },
      "source": [
        "import pandas as pd\n",
        "import numpy as np\n",
        "import matplotlib.pyplot as plt\n",
        "test_data = pd.read_csv(\"fox.csv\")"
      ],
      "execution_count": null,
      "outputs": []
    },
    {
      "cell_type": "code",
      "metadata": {
        "colab": {
          "base_uri": "https://localhost:8080/",
          "height": 306
        },
        "id": "lqUGazDpXCUC",
        "outputId": "256a3e27-0e2b-422f-ee71-a29e9d156e4e"
      },
      "source": [
        "map_dict = {'hateful':1,'non-hateful':0}\n",
        "def map_to_binary(x):\n",
        "  return map_dict[x]\n",
        "test_data['label'] = test_data['label'].map(map_to_binary)\n",
        "test_data.head()"
      ],
      "execution_count": null,
      "outputs": [
        {
          "output_type": "execute_result",
          "data": {
            "text/html": [
              "<div>\n",
              "<style scoped>\n",
              "    .dataframe tbody tr th:only-of-type {\n",
              "        vertical-align: middle;\n",
              "    }\n",
              "\n",
              "    .dataframe tbody tr th {\n",
              "        vertical-align: top;\n",
              "    }\n",
              "\n",
              "    .dataframe thead th {\n",
              "        text-align: right;\n",
              "    }\n",
              "</style>\n",
              "<table border=\"1\" class=\"dataframe\">\n",
              "  <thead>\n",
              "    <tr style=\"text-align: right;\">\n",
              "      <th></th>\n",
              "      <th>Unnamed: 0</th>\n",
              "      <th>title</th>\n",
              "      <th>text</th>\n",
              "      <th>label</th>\n",
              "      <th>succ</th>\n",
              "      <th>meta</th>\n",
              "      <th>user</th>\n",
              "      <th>mentions</th>\n",
              "      <th>prev</th>\n",
              "    </tr>\n",
              "  </thead>\n",
              "  <tbody>\n",
              "    <tr>\n",
              "      <th>0</th>\n",
              "      <td>0</td>\n",
              "      <td>German lawmakers approve 'no means no' rape la...</td>\n",
              "      <td>Merkel would never say NO</td>\n",
              "      <td>1</td>\n",
              "      <td>NaN</td>\n",
              "      <td>German lawmakers passed a bill Thursday that w...</td>\n",
              "      <td>barryswallows</td>\n",
              "      <td>NaN</td>\n",
              "      <td>NaN</td>\n",
              "    </tr>\n",
              "    <tr>\n",
              "      <th>1</th>\n",
              "      <td>1</td>\n",
              "      <td>German lawmakers approve 'no means no' rape la...</td>\n",
              "      <td>Expect more and more women to be asking .. \"wh...</td>\n",
              "      <td>1</td>\n",
              "      <td>NaN</td>\n",
              "      <td>German lawmakers passed a bill Thursday that w...</td>\n",
              "      <td>PostApocalypticHero</td>\n",
              "      <td>NaN</td>\n",
              "      <td>NaN</td>\n",
              "    </tr>\n",
              "    <tr>\n",
              "      <th>2</th>\n",
              "      <td>2</td>\n",
              "      <td>German lawmakers approve 'no means no' rape la...</td>\n",
              "      <td>Groping people in public wasn't already illega...</td>\n",
              "      <td>0</td>\n",
              "      <td>NaN</td>\n",
              "      <td>German lawmakers passed a bill Thursday that w...</td>\n",
              "      <td>californiamojo</td>\n",
              "      <td>NaN</td>\n",
              "      <td>NaN</td>\n",
              "    </tr>\n",
              "    <tr>\n",
              "      <th>3</th>\n",
              "      <td>3</td>\n",
              "      <td>German lawmakers approve 'no means no' rape la...</td>\n",
              "      <td>Merkel, possible the only person in charge who...</td>\n",
              "      <td>1</td>\n",
              "      <td>NaN</td>\n",
              "      <td>German lawmakers passed a bill Thursday that w...</td>\n",
              "      <td>MikeSte</td>\n",
              "      <td>NaN</td>\n",
              "      <td>NaN</td>\n",
              "    </tr>\n",
              "    <tr>\n",
              "      <th>4</th>\n",
              "      <td>4</td>\n",
              "      <td>German lawmakers approve 'no means no' rape la...</td>\n",
              "      <td>They know very well, no means NO! They need to...</td>\n",
              "      <td>1</td>\n",
              "      <td>NaN</td>\n",
              "      <td>German lawmakers passed a bill Thursday that w...</td>\n",
              "      <td>scientist</td>\n",
              "      <td>NaN</td>\n",
              "      <td>NaN</td>\n",
              "    </tr>\n",
              "  </tbody>\n",
              "</table>\n",
              "</div>"
            ],
            "text/plain": [
              "   Unnamed: 0                                              title  ... mentions  prev\n",
              "0           0  German lawmakers approve 'no means no' rape la...  ...      NaN   NaN\n",
              "1           1  German lawmakers approve 'no means no' rape la...  ...      NaN   NaN\n",
              "2           2  German lawmakers approve 'no means no' rape la...  ...      NaN   NaN\n",
              "3           3  German lawmakers approve 'no means no' rape la...  ...      NaN   NaN\n",
              "4           4  German lawmakers approve 'no means no' rape la...  ...      NaN   NaN\n",
              "\n",
              "[5 rows x 9 columns]"
            ]
          },
          "metadata": {
            "tags": []
          },
          "execution_count": 31
        }
      ]
    },
    {
      "cell_type": "code",
      "metadata": {
        "colab": {
          "base_uri": "https://localhost:8080/"
        },
        "id": "9jYK1AvpXCUD",
        "outputId": "46618420-6f7a-4970-b83d-f248da46fac1"
      },
      "source": [
        "test_ids = encode_fn(test_data['text'].tolist())\n",
        "test_labels = torch.tensor(test_data['label'].tolist())\n",
        "testdataset = TensorDataset(test_ids, test_labels)\n",
        "\n",
        "# train_dataset, val_dataset = random_split(dataset, [train_size, val_size])\n",
        "\n",
        "# Create train and validation dataloaders\n",
        "# train_dataloader = DataLoader(train_dataset, batch_size = batch_size, shuffle = True)\n",
        "test_dataloader = DataLoader(testdataset, batch_size = batch_size, shuffle = False)"
      ],
      "execution_count": null,
      "outputs": [
        {
          "output_type": "stream",
          "text": [
            "/usr/local/lib/python3.6/dist-packages/transformers/tokenization_utils_base.py:2142: FutureWarning: The `pad_to_max_length` argument is deprecated and will be removed in a future version, use `padding=True` or `padding='longest'` to pad to the longest sequence in the batch, or use `padding='max_length'` to pad to a max length. In this case, you can give a specific length with `max_length` (e.g. `max_length=45`) or leave max_length to None to pad to the maximal input size of the model (e.g. 512 for Bert).\n",
            "  FutureWarning,\n"
          ],
          "name": "stderr"
        }
      ]
    },
    {
      "cell_type": "code",
      "metadata": {
        "colab": {
          "base_uri": "https://localhost:8080/"
        },
        "id": "ik9Ml0wuXCUD",
        "outputId": "6b8114cb-ce9b-4812-e29e-92203e75a853"
      },
      "source": [
        "labels_all = []\n",
        "pred_flat_all = []\n",
        "for i, batch in enumerate(test_dataloader):\n",
        "    with torch.no_grad():\n",
        "        outputs = model(batch[0].to(device), token_type_ids=None, attention_mask=(batch[0]>0).to(device), labels=batch[1].to(device))\n",
        "        loss = outputs.loss\n",
        "        logits = outputs.logits\n",
        "            \n",
        "        total_val_loss += loss.item()\n",
        "        \n",
        "        logits = logits.detach().cpu().numpy()\n",
        "        label_ids = batch[1].to('cpu').numpy()\n",
        "        labels_flat, pred_flat = flat_accuracy(logits, label_ids)\n",
        "        labels_all.extend(labels_flat)\n",
        "        pred_flat_all.extend(pred_flat)\n",
        "print(len(labels_all))\n",
        "print(len(pred_flat_all))"
      ],
      "execution_count": null,
      "outputs": [
        {
          "output_type": "stream",
          "text": [
            "1526\n",
            "1526\n"
          ],
          "name": "stdout"
        }
      ]
    },
    {
      "cell_type": "code",
      "metadata": {
        "colab": {
          "base_uri": "https://localhost:8080/"
        },
        "id": "HVxPM1pRXCUD",
        "outputId": "88b4aea8-e741-4fc0-809a-cbc07ff443bc"
      },
      "source": [
        "avg_val_accuracy = accuracy_score(labels_all, pred_flat_all)\n",
        "avg_val_accuracy"
      ],
      "execution_count": null,
      "outputs": [
        {
          "output_type": "execute_result",
          "data": {
            "text/plain": [
              "0.7096985583224116"
            ]
          },
          "metadata": {
            "tags": []
          },
          "execution_count": 34
        }
      ]
    },
    {
      "cell_type": "code",
      "metadata": {
        "colab": {
          "base_uri": "https://localhost:8080/"
        },
        "id": "UmVQNDqsXCUD",
        "outputId": "a1a2cf24-5a44-494c-e97e-8f22194445ae"
      },
      "source": [
        "from sklearn.metrics import classification_report\n",
        "print(classification_report(y_true=labels_all,y_pred=pred_flat_all,digits=4))"
      ],
      "execution_count": null,
      "outputs": [
        {
          "output_type": "stream",
          "text": [
            "              precision    recall  f1-score   support\n",
            "\n",
            "           0     0.7613    0.8653    0.8100      1091\n",
            "           1     0.4860    0.3195    0.3856       435\n",
            "\n",
            "    accuracy                         0.7097      1526\n",
            "   macro avg     0.6237    0.5924    0.5978      1526\n",
            "weighted avg     0.6828    0.7097    0.6890      1526\n",
            "\n"
          ],
          "name": "stdout"
        }
      ]
    }
  ]
}