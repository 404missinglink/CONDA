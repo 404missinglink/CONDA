{
  "nbformat": 4,
  "nbformat_minor": 0,
  "metadata": {
    "colab": {
      "name": "xinghong graph.ipynb",
      "provenance": []
    },
    "kernelspec": {
      "name": "python3",
      "display_name": "Python 3"
    }
  },
  "cells": [
    {
      "cell_type": "code",
      "metadata": {
        "id": "kVieixS_hj6C"
      },
      "source": [
        "from pydrive.auth import GoogleAuth\n",
        "from pydrive.drive import GoogleDrive\n",
        "from google.colab import auth\n",
        "from oauth2client.client import GoogleCredentials\n",
        "\n",
        "# Authenticate and create the PyDrive client.\n",
        "auth.authenticate_user()\n",
        "gauth = GoogleAuth()\n",
        "gauth.credentials = GoogleCredentials.get_application_default()\n",
        "drive = GoogleDrive(gauth)\n",
        "\n",
        "file_id = '1LNjeEeHNpJwS4O9OK2gOSpwddwzHCaqW'\n",
        "downloaded = drive.CreateFile({'id':file_id})\n",
        "downloaded.FetchMetadata(fetch_all=True)\n",
        "downloaded.GetContentFile(downloaded.metadata['title'])\n",
        "\n",
        "file_id = '1fKnmVJYBVkLKSr6YDXwUz5tZAHDc7YvO'\n",
        "downloaded = drive.CreateFile({'id':file_id})\n",
        "downloaded.FetchMetadata(fetch_all=True)\n",
        "downloaded.GetContentFile(downloaded.metadata['title'])\n",
        "\n",
        "file_id = '1gNfBqguzBu8cHKMPc8C44GbvD443dNC5'\n",
        "downloaded = drive.CreateFile({'id':file_id})\n",
        "downloaded.FetchMetadata(fetch_all=True)\n",
        "downloaded.GetContentFile(downloaded.metadata['title'])"
      ],
      "execution_count": null,
      "outputs": []
    },
    {
      "cell_type": "code",
      "metadata": {
        "colab": {
          "base_uri": "https://localhost:8080/"
        },
        "id": "mlC-LuEmiCBN",
        "outputId": "0043b493-b889-46d1-db66-f9179d50cca6"
      },
      "source": [
        "import pandas as pd\n",
        "import numpy as np\n",
        "import matplotlib.pyplot as plt \n",
        "import nltk\n",
        "from nltk.corpus import stopwords\n",
        "nltk.download('punkt')\n",
        "nltk.download('stopwords')\n",
        "from nltk.tokenize import word_tokenize\n",
        "\n",
        "text = \"Nick likes to play football, [sepa] however he is not too fond of tennis.\"\n",
        "text_tokens = word_tokenize(text.replace('[sepa]', ''))\n",
        "\n",
        "import re\n",
        "\n",
        "from collections import defaultdict\n",
        "utterance_freq = defaultdict(list)\n",
        "utterance_freq_Hate_7 = defaultdict(list)\n",
        "utterance_freq_noHate = defaultdict(list)\n",
        "utterance_freq_idk = defaultdict(list)\n",
        "utterance_freq_relation = defaultdict(list)\n",
        "\n",
        "\n",
        "data = pd.read_csv(\"7. StormfrontWS.csv\")\n",
        "\n",
        "\n",
        "slot_only=[]\n",
        "for index, row in data.iterrows():\n",
        "    remove_punc = re.sub(r'[^\\w\\s]','',row[\"sentence\"])\n",
        "    tokenized_word = word_tokenize(remove_punc)\n",
        "\n",
        "    if len(tokenized_word) not in utterance_freq:\n",
        "      utterance_freq.setdefault(len(tokenized_word), 0)\n",
        "      utterance_freq[len(tokenized_word)] += 1\n",
        "    else:\n",
        "      utterance_freq[len(tokenized_word)] += 1\n",
        "\n",
        "    if row[\"label\"] == \"noHate\":\n",
        "      if len(tokenized_word) not in utterance_freq_noHate:\n",
        "        utterance_freq_noHate.setdefault(len(tokenized_word), 1)\n",
        "      else:\n",
        "        utterance_freq_noHate[len(tokenized_word)] += 1\n",
        "\n",
        "    if row[\"label\"] == \"hate\":\n",
        "      if len(tokenized_word) not in utterance_freq_Hate_7:\n",
        "        utterance_freq_Hate_7.setdefault(len(tokenized_word), 1)\n",
        "      else:\n",
        "        utterance_freq_Hate_7[len(tokenized_word)] += 1\n",
        "\n",
        "    if row[\"label\"] == \"idk/skip\":\n",
        "      if len(tokenized_word) not in utterance_freq_idk:\n",
        "        utterance_freq_idk.setdefault(len(tokenized_word), 1)\n",
        "      else:\n",
        "        utterance_freq_idk[len(tokenized_word)] += 1\n",
        "\n",
        "    if row[\"label\"] == \"relation\":\n",
        "      if len(tokenized_word) not in utterance_freq_relation:\n",
        "        utterance_freq_relation.setdefault(len(tokenized_word), 1)\n",
        "      else:\n",
        "        utterance_freq_relation[len(tokenized_word)] += 1"
      ],
      "execution_count": null,
      "outputs": [
        {
          "output_type": "stream",
          "text": [
            "[nltk_data] Downloading package punkt to /root/nltk_data...\n",
            "[nltk_data]   Unzipping tokenizers/punkt.zip.\n",
            "[nltk_data] Downloading package stopwords to /root/nltk_data...\n",
            "[nltk_data]   Unzipping corpora/stopwords.zip.\n"
          ],
          "name": "stdout"
        }
      ]
    },
    {
      "cell_type": "code",
      "metadata": {
        "id": "tDt29G7giPgt"
      },
      "source": [
        "from collections import defaultdict\n",
        "utterance_freq = defaultdict(list)\n",
        "utterance_freq_Hate_fox = defaultdict(list)\n",
        "utterance_freq_noHate = defaultdict(list)\n",
        "\n",
        "\n",
        "\n",
        "data = pd.read_csv(\"fox.csv\")\n",
        "\n",
        "\n",
        "for index, row in data.iterrows():\n",
        "    remove_punc = re.sub(r'[^\\w\\s]','',row[\"text\"])\n",
        "    tokenized_word = word_tokenize(remove_punc)\n",
        "\n",
        "    if len(tokenized_word) not in utterance_freq:\n",
        "      utterance_freq.setdefault(len(tokenized_word), 0)\n",
        "      utterance_freq[len(tokenized_word)] += 1\n",
        "    else:\n",
        "      utterance_freq[len(tokenized_word)] += 1\n",
        "\n",
        "    if row[\"label\"] == \"non-hateful\":\n",
        "      if len(tokenized_word) not in utterance_freq_noHate:\n",
        "        utterance_freq_noHate.setdefault(len(tokenized_word), 1)\n",
        "      else:\n",
        "        utterance_freq_noHate[len(tokenized_word)] += 1\n",
        "\n",
        "    if row[\"label\"] == \"hateful\":\n",
        "      if len(tokenized_word) not in utterance_freq_Hate_fox:\n",
        "        utterance_freq_Hate_fox.setdefault(len(tokenized_word), 1)\n",
        "      else:\n",
        "        utterance_freq_Hate_fox[len(tokenized_word)] += 1\n"
      ],
      "execution_count": null,
      "outputs": []
    },
    {
      "cell_type": "code",
      "metadata": {
        "id": "4PiHYRsgiS9n"
      },
      "source": [
        "from collections import defaultdict\n",
        "utterance_freq = defaultdict(list)\n",
        "utterance_freq_Hate_twitter = defaultdict(list)\n",
        "utterance_freq_noHate = defaultdict(list)\n",
        "utterance_freq_none = defaultdict(list)\n",
        "\n",
        "\n",
        "data = pd.read_csv(\"twitter.csv\")\n",
        "\n",
        "\n",
        "for index, row in data.iterrows():\n",
        "    remove_punc = re.sub(r'[^\\w\\s]','',row[\"Text\"])\n",
        "    tokenized_word = word_tokenize(remove_punc)\n",
        "\n",
        "    if len(tokenized_word) not in utterance_freq:\n",
        "      utterance_freq.setdefault(len(tokenized_word), 0)\n",
        "      utterance_freq[len(tokenized_word)] += 1\n",
        "    else:\n",
        "      utterance_freq[len(tokenized_word)] += 1\n",
        "\n",
        "    if row[\"Label\"] == \"racism\":\n",
        "      if len(tokenized_word) not in utterance_freq_noHate:\n",
        "        utterance_freq_noHate.setdefault(len(tokenized_word), 1)\n",
        "      else:\n",
        "        utterance_freq_noHate[len(tokenized_word)] += 1\n",
        "\n",
        "    if row[\"Label\"] == \"sexism\" or row[\"Label\"] == \"racism\" :\n",
        "      if len(tokenized_word) not in utterance_freq_Hate_twitter:\n",
        "        utterance_freq_Hate_twitter.setdefault(len(tokenized_word), 1)\n",
        "      else:\n",
        "        utterance_freq_Hate_twitter[len(tokenized_word)] += 1\n",
        "\n",
        "    if row[\"Label\"] == \"none\":\n",
        "      if len(tokenized_word) not in utterance_freq_none:\n",
        "        utterance_freq_none.setdefault(len(tokenized_word), 1)\n",
        "      else:\n",
        "        utterance_freq_none[len(tokenized_word)] += 1\n"
      ],
      "execution_count": null,
      "outputs": []
    },
    {
      "cell_type": "code",
      "metadata": {
        "colab": {
          "base_uri": "https://localhost:8080/",
          "height": 611
        },
        "id": "G9x2my4z-q6J",
        "outputId": "55ca7e05-79f2-4fcb-cc32-2b03d0e954b4"
      },
      "source": [
        "!pip install kora\r\n",
        "from kora import drive\r\n",
        "drive.download_folder('1Y6RdkY8Uac4_bXfR4MeXhPUHaztRiLdQ')"
      ],
      "execution_count": null,
      "outputs": [
        {
          "output_type": "stream",
          "text": [
            "Collecting kora\n",
            "\u001b[?25l  Downloading https://files.pythonhosted.org/packages/5b/0d/3d9ab9ee747f0925b038e8350ce137276a7a4730a96a3516485dc1b87ba3/kora-0.9.19-py3-none-any.whl (57kB)\n",
            "\u001b[K     |████████████████████████████████| 61kB 387kB/s \n",
            "\u001b[?25hCollecting fastcore\n",
            "\u001b[?25l  Downloading https://files.pythonhosted.org/packages/0c/98/60404e2817cff113a6ae4023bc1772e23179408fdf7857fa410551758dfe/fastcore-1.3.19-py3-none-any.whl (53kB)\n",
            "\u001b[K     |████████████████████████████████| 61kB 4.7MB/s \n",
            "\u001b[?25hRequirement already satisfied: ipython in /usr/local/lib/python3.6/dist-packages (from kora) (5.5.0)\n",
            "Requirement already satisfied: packaging in /usr/local/lib/python3.6/dist-packages (from fastcore->kora) (20.8)\n",
            "Requirement already satisfied: pip in /usr/local/lib/python3.6/dist-packages (from fastcore->kora) (19.3.1)\n",
            "Requirement already satisfied: traitlets>=4.2 in /usr/local/lib/python3.6/dist-packages (from ipython->kora) (4.3.3)\n",
            "Requirement already satisfied: decorator in /usr/local/lib/python3.6/dist-packages (from ipython->kora) (4.4.2)\n",
            "Requirement already satisfied: pexpect; sys_platform != \"win32\" in /usr/local/lib/python3.6/dist-packages (from ipython->kora) (4.8.0)\n",
            "Requirement already satisfied: prompt-toolkit<2.0.0,>=1.0.4 in /usr/local/lib/python3.6/dist-packages (from ipython->kora) (1.0.18)\n",
            "Requirement already satisfied: pygments in /usr/local/lib/python3.6/dist-packages (from ipython->kora) (2.6.1)\n",
            "Requirement already satisfied: setuptools>=18.5 in /usr/local/lib/python3.6/dist-packages (from ipython->kora) (51.3.3)\n",
            "Requirement already satisfied: pickleshare in /usr/local/lib/python3.6/dist-packages (from ipython->kora) (0.7.5)\n",
            "Requirement already satisfied: simplegeneric>0.8 in /usr/local/lib/python3.6/dist-packages (from ipython->kora) (0.8.1)\n",
            "Requirement already satisfied: pyparsing>=2.0.2 in /usr/local/lib/python3.6/dist-packages (from packaging->fastcore->kora) (2.4.7)\n",
            "Requirement already satisfied: six in /usr/local/lib/python3.6/dist-packages (from traitlets>=4.2->ipython->kora) (1.15.0)\n",
            "Requirement already satisfied: ipython-genutils in /usr/local/lib/python3.6/dist-packages (from traitlets>=4.2->ipython->kora) (0.2.0)\n",
            "Requirement already satisfied: ptyprocess>=0.5 in /usr/local/lib/python3.6/dist-packages (from pexpect; sys_platform != \"win32\"->ipython->kora) (0.7.0)\n",
            "Requirement already satisfied: wcwidth in /usr/local/lib/python3.6/dist-packages (from prompt-toolkit<2.0.0,>=1.0.4->ipython->kora) (0.2.5)\n",
            "Installing collected packages: fastcore, kora\n",
            "Successfully installed fastcore-1.3.19 kora-0.9.19\n",
            "1OZoNMcY5PJ5gbUp3stp-ibjl7BGh8PJm 45k_after_slot_annotation.csv text/csv (1/4)\n",
            "Download 100%.\n",
            "17_RsK0dBShqjGV-NAH4W3Nt7EbdFdep6 50K_Output.csv text/csv (2/4)\n",
            "Download 100%.\n",
            "1k5fFl_Ig00F9Adj7J2F9fyGqOhTKcAFF cleaned_45k.csv text/csv (3/4)\n",
            "Download 100%.\n",
            "10qgiWyaJHTnE_jUziapvSW4Wx3HRp4iF word_level_data_labelled0916_50k.csv text/csv (4/4)\n",
            "Download 100%.\n"
          ],
          "name": "stdout"
        },
        {
          "output_type": "execute_result",
          "data": {
            "application/vnd.google.colaboratory.intrinsic+json": {
              "type": "string"
            },
            "text/plain": [
              "'GAME'"
            ]
          },
          "metadata": {
            "tags": []
          },
          "execution_count": 5
        }
      ]
    },
    {
      "cell_type": "code",
      "metadata": {
        "id": "JQzcGEEUiVXS"
      },
      "source": [
        "import csv\n",
        "word_list_E = defaultdict(list)\n",
        "z = 0\n",
        "f = csv.reader(open(\"GAME/cleaned_45k.csv\",'r'))\n",
        "a = 0\n",
        "for i in f:\n",
        "    if f.line_num == 1:\n",
        "        continue\n",
        "#    text = re.sub(r'[^\\w\\s]','*',i[3])\n",
        "    process_text = i[4].lower().replace('[sepa]', '').split()\n",
        "\n",
        "    z += 1\n",
        "    if i[10] == \"E\" or i[10] == \"I\":\n",
        "      if len(process_text) == 0:\n",
        "        print(text)\n",
        "        print(i,text, process_text)\n",
        "      if len(process_text) not in word_list_E:\n",
        "        word_list_E.setdefault(len(process_text), 1)\n",
        "      else:\n",
        "        word_list_E[len(process_text)] += 1\n"
      ],
      "execution_count": null,
      "outputs": []
    },
    {
      "cell_type": "code",
      "metadata": {
        "id": "3IvX9sRwiZ6h"
      },
      "source": [
        "def splitdic(d):\n",
        "  x = []\n",
        "  y = []\n",
        "  factor=1.0/sum(d.values())\n",
        "  a = sorted(d.items(), key=lambda x: x[0])  \n",
        "  for i in a:\n",
        "    x.append(i[0])\n",
        "    y.append(i[1]*factor)\n",
        "    \n",
        "  return x, y"
      ],
      "execution_count": null,
      "outputs": []
    },
    {
      "cell_type": "code",
      "metadata": {
        "colab": {
          "base_uri": "https://localhost:8080/",
          "height": 350
        },
        "id": "A9i62TBaihUw",
        "outputId": "d5790604-add5-4901-f9bd-65c91b7fdfe8"
      },
      "source": [
        "import matplotlib.pyplot as plt\n",
        "plt.figure(figsize=(10,5))\n",
        "\n",
        "d ={'CONDA (ours)': word_list_E,\n",
        "'Waseem (Waseem and Hovy 2016)': utterance_freq_Hate_twitter,\n",
        "'FoxNews (Gao and Huang 2017)': utterance_freq_Hate_fox,\n",
        "'StormfrontWS (de Gibert et al, 2018)': utterance_freq_Hate_7}\n",
        "\n",
        "colors = list(\"rgbcmyk\")\n",
        "# plt.rcParams['figure.figsize'] = [11, 9]\n",
        "for data_dict in d.values():\n",
        "   x,y = splitdic(data_dict)\n",
        "   plt.plot(x,y,  color=colors.pop())\n",
        "\n",
        "fz = 16\n",
        "plt.xlabel(\"Length of the Utterance (# of Words)\", fontsize= fz)\n",
        "plt.ylabel(\"Relative Frequency\", fontsize= fz)\n",
        "# plt.rcParams['figure.figsize'] = [20, 20]\n",
        "plt.xticks(fontsize=fz)\n",
        "plt.yticks(fontsize=fz)\n",
        "plt.ylim(0,0.3)\n",
        "plt.xlim(0,80)\n",
        "plt.legend(d.keys(), fontsize= 16)\n",
        "plt.show()"
      ],
      "execution_count": null,
      "outputs": [
        {
          "output_type": "display_data",
          "data": {
            "image/png": "[encoded data removed]",
            "text/plain": [
              "<Figure size 720x360 with 1 Axes>"
            ]
          },
          "metadata": {
            "tags": [],
            "needs_background": "light"
          }
        }
      ]
    },
    {
      "cell_type": "code",
      "metadata": {
        "id": "iU2tZqLhilGK"
      },
      "source": [
        ""
      ],
      "execution_count": null,
      "outputs": []
    }
  ]
}