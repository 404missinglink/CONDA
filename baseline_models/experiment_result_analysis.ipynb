{
  "nbformat": 4,
  "nbformat_minor": 0,
  "metadata": {
    "colab": {
      "name": "experiment_result_analysis",
      "provenance": [],
      "collapsed_sections": [],
      "toc_visible": true
    },
    "kernelspec": {
      "name": "python3",
      "display_name": "Python 3"
    }
  },
  "cells": [
    {
      "cell_type": "code",
      "metadata": {
        "id": "qm2RDhRBJ7-9",
        "colab": {
          "base_uri": "https://localhost:8080/"
        },
        "outputId": "47428968-c010-4fa1-93ad-400ee044af93"
      },
      "source": [
        "def get_intent_true_label(pred, truth, index2label):\n",
        "  assert len(pred) == len(truth)\n",
        "  pred_new = []\n",
        "  ground_truth_new = []\n",
        "  for i in range(len(pred)):\n",
        "    ele = pred[i]\n",
        "    if ele in index2label and truth[i] in index2label:\n",
        "      pred_new.append(index2label[ele])\n",
        "      ground_truth_new.append(index2label[truth[i]])\n",
        "  assert len(pred_new) == len(ground_truth_new)\n",
        "  return pred_new, ground_truth_new\n",
        "\n",
        "def get_intent_true_label_for_slot(pred, truth, index2label):\n",
        "  assert len(pred) == len(truth)\n",
        "  pred_new = []\n",
        "  ground_truth_new = []\n",
        "  for i in range(len(pred)):\n",
        "    pred_array = pred[i]\n",
        "    truth_array = truth[i]\n",
        "    pred_array_new = []\n",
        "    truth_array_new = []\n",
        "    assert len(pred_array) == len(truth_array)\n",
        "    for j in range(len(pred_array)):\n",
        "      if pred_array[j] in index2label and truth_array[j] in index2label:\n",
        "        pred_array_new.append(index2label[pred_array[j]])\n",
        "        truth_array_new.append(index2label[truth_array[j]])\n",
        "    pred_new.append(pred_array_new)\n",
        "    ground_truth_new.append(truth_array_new)\n",
        "  assert len(pred_new) == len(ground_truth_new)\n",
        "  return pred_new, ground_truth_new\n",
        "\n",
        "def flatten_list(pred, truth):\n",
        "  pred_new = []\n",
        "  for l in pred:\n",
        "    pred_new.extend(l)\n",
        "  truth_new = []\n",
        "  for l in truth:\n",
        "    truth_new.extend(l)\n",
        "  assert len(pred_new) == len(truth_new)\n",
        "  return pred_new, truth_new\n",
        "\n",
        "def get_semantic_acc(intent_pred, intent_truth, slot_pred, slot_truth):\n",
        "  assert len(intent_pred) == len(intent_truth)\n",
        "  # assert len(intent_pred) == len(slot_pred)\n",
        "  assert len(slot_truth) == len(slot_pred)\n",
        "  correct_num = 0\n",
        "  for i in range(len(intent_pred)):\n",
        "    if intent_pred[i] !=  intent_truth[i]:\n",
        "      continue\n",
        "    else:\n",
        "      slot_true_num = 0\n",
        "      slot_pred_single = slot_pred[i]\n",
        "      slot_truth_single = slot_truth[i]\n",
        "      assert len(slot_pred_single) == len(slot_truth_single)\n",
        "      for j in range(len(slot_pred_single)):\n",
        "        if slot_pred_single[j] == slot_truth_single[j]:\n",
        "          slot_true_num+=1\n",
        "      if slot_true_num == len(slot_pred_single):\n",
        "        correct_num+=1\n",
        "  return correct_num/len(intent_pred)\n",
        "!pip install seqeval==0.0.12\n",
        "from scipy.stats import entropy\n",
        "intent_labels = ['A','E','I','O']\n",
        "slot_labels = ['D','T','S','O','SEPA','C','P']\n",
        "def get_kl_divergence_score(arr1, arr2, labels):\n",
        "  prob_1 = get_prob(arr1,labels)\n",
        "  prob_2 = get_prob(arr2,labels)\n",
        "  print(prob_1)\n",
        "  print(prob_2)\n",
        "  return entropy(prob_1, qk=prob_2)\n",
        "\n",
        "def get_prob(arr,labels):\n",
        "  length = len(arr)\n",
        "  result = []\n",
        "  map_dict = {}\n",
        "  for la in labels:\n",
        "    map_dict[la] = 0\n",
        "  for item in arr:\n",
        "    if item in map_dict:\n",
        "      map_dict[item]+=1\n",
        "  print(map_dict)\n",
        "  for k,v in map_dict.items():\n",
        "    result.append(v/length)\n",
        "  return result"
      ],
      "execution_count": null,
      "outputs": [
        {
          "output_type": "stream",
          "text": [
            "Requirement already satisfied: seqeval==0.0.12 in /usr/local/lib/python3.6/dist-packages (0.0.12)\n",
            "Requirement already satisfied: numpy>=1.14.0 in /usr/local/lib/python3.6/dist-packages (from seqeval==0.0.12) (1.19.5)\n",
            "Requirement already satisfied: Keras>=2.2.4 in /usr/local/lib/python3.6/dist-packages (from seqeval==0.0.12) (2.4.3)\n",
            "Requirement already satisfied: scipy>=0.14 in /usr/local/lib/python3.6/dist-packages (from Keras>=2.2.4->seqeval==0.0.12) (1.4.1)\n",
            "Requirement already satisfied: h5py in /usr/local/lib/python3.6/dist-packages (from Keras>=2.2.4->seqeval==0.0.12) (2.10.0)\n",
            "Requirement already satisfied: pyyaml in /usr/local/lib/python3.6/dist-packages (from Keras>=2.2.4->seqeval==0.0.12) (3.13)\n",
            "Requirement already satisfied: six in /usr/local/lib/python3.6/dist-packages (from h5py->Keras>=2.2.4->seqeval==0.0.12) (1.15.0)\n"
          ],
          "name": "stdout"
        }
      ]
    },
    {
      "cell_type": "code",
      "metadata": {
        "id": "3vA1kY5SBiO1"
      },
      "source": [
        "# def get_error_matrix(label_arr1, predicted_arr2, preserved_label):\n"
      ],
      "execution_count": null,
      "outputs": []
    },
    {
      "cell_type": "markdown",
      "metadata": {
        "id": "cmqnzZKBKQ7W"
      },
      "source": [
        "## joint bert"
      ]
    },
    {
      "cell_type": "code",
      "metadata": {
        "id": "ud9Q67WgKW91",
        "colab": {
          "base_uri": "https://localhost:8080/"
        },
        "outputId": "6a2054e4-cfd3-433f-b7e8-0e6595f0e223"
      },
      "source": [
        "from google.colab import drive\n",
        "drive.mount('/content/drive')\n",
        "\n",
        "import os\n",
        "os.chdir('drive/My Drive/research/githubs/original_joint_bert/JointBERT-master/albert_epoch2_only_intent_result')\n",
        "# os.chdir('drive/My Drive/JointBERT-master') #set your own path here"
      ],
      "execution_count": null,
      "outputs": [
        {
          "output_type": "stream",
          "text": [
            "Drive already mounted at /content/drive; to attempt to forcibly remount, call drive.mount(\"/content/drive\", force_remount=True).\n"
          ],
          "name": "stdout"
        }
      ]
    },
    {
      "cell_type": "code",
      "metadata": {
        "id": "71A0i20Gq6ME"
      },
      "source": [
        "import pickle\n",
        "from sklearn.metrics import classification_report\n",
        "intent_preds = pickle.load( open( \"intent_preds.pkl\", \"rb\" ) )\n",
        "out_intent_label_ids = pickle.load( open( \"out_intent_label_ids.pkl\", \"rb\" ) )\n",
        "vocab_dict = {0:'UNK',1:'I',2:'E',3:'A',4:'O'}\n",
        "intent_preds, out_intent_label_ids = get_intent_true_label(intent_preds,out_intent_label_ids,vocab_dict)"
      ],
      "execution_count": null,
      "outputs": []
    },
    {
      "cell_type": "code",
      "metadata": {
        "colab": {
          "base_uri": "https://localhost:8080/",
          "height": 35
        },
        "id": "EJd_K1gDq8YF",
        "outputId": "440d165e-43e9-44af-f7bb-96170215a7b5"
      },
      "source": [
        "intent_preds[3]"
      ],
      "execution_count": null,
      "outputs": [
        {
          "output_type": "execute_result",
          "data": {
            "application/vnd.google.colaboratory.intrinsic+json": {
              "type": "string"
            },
            "text/plain": [
              "'O'"
            ]
          },
          "metadata": {
            "tags": []
          },
          "execution_count": 11
        }
      ]
    },
    {
      "cell_type": "code",
      "metadata": {
        "id": "DqDd94ZOI6_J",
        "colab": {
          "base_uri": "https://localhost:8080/"
        },
        "outputId": "63730b55-794e-41cb-9099-66ecd9f80c64"
      },
      "source": [
        "import pickle\n",
        "from sklearn.metrics import classification_report\n",
        "intent_preds = pickle.load( open( \"intent_preds.pkl\", \"rb\" ) )\n",
        "out_intent_label_ids = pickle.load( open( \"out_intent_label_ids.pkl\", \"rb\" ) )\n",
        "vocab_dict = {0:'UNK',1:'I',2:'E',3:'A',4:'O'}\n",
        "intent_preds, out_intent_label_ids = get_intent_true_label(intent_preds,out_intent_label_ids,vocab_dict)\n",
        "print(classification_report(y_true=out_intent_label_ids,y_pred=intent_preds,digits=4))"
      ],
      "execution_count": null,
      "outputs": [
        {
          "output_type": "stream",
          "text": [
            "              precision    recall  f1-score   support\n",
            "\n",
            "           A     0.0000    0.0000    0.0000       572\n",
            "           E     0.9012    0.6543    0.7582      1241\n",
            "           I     0.9160    0.5970    0.7229       603\n",
            "           O     0.8434    0.9876    0.9098      6558\n",
            "\n",
            "    accuracy                         0.8524      8974\n",
            "   macro avg     0.6652    0.5597    0.5977      8974\n",
            "weighted avg     0.8025    0.8524    0.8183      8974\n",
            "\n"
          ],
          "name": "stdout"
        },
        {
          "output_type": "stream",
          "text": [
            "/usr/local/lib/python3.6/dist-packages/sklearn/metrics/_classification.py:1272: UndefinedMetricWarning: Precision and F-score are ill-defined and being set to 0.0 in labels with no predicted samples. Use `zero_division` parameter to control this behavior.\n",
            "  _warn_prf(average, modifier, msg_start, len(result))\n"
          ],
          "name": "stderr"
        }
      ]
    },
    {
      "cell_type": "code",
      "metadata": {
        "colab": {
          "base_uri": "https://localhost:8080/"
        },
        "id": "ArLFHubruv1Q",
        "outputId": "67f32f55-de02-4619-b95c-62b7092e4b90"
      },
      "source": [
        "import pickle\n",
        "from sklearn.metrics import classification_report\n",
        "intent_preds = pickle.load( open( \"intent_preds.pkl\", \"rb\" ) )\n",
        "out_intent_label_ids = pickle.load( open( \"out_intent_label_ids.pkl\", \"rb\" ) )\n",
        "vocab_dict = {0:'UNK',1:'I',2:'E',3:'A',4:'O'}\n",
        "intent_preds, out_intent_label_ids = get_intent_true_label(intent_preds,out_intent_label_ids,vocab_dict)\n",
        "get_kl_divergence_score(out_intent_label_ids, intent_preds, intent_labels)"
      ],
      "execution_count": null,
      "outputs": [
        {
          "output_type": "stream",
          "text": [
            "{'A': 604, 'E': 1210, 'I': 587, 'O': 6573}\n",
            "{'A': 618, 'E': 1197, 'I': 410, 'O': 6749}\n",
            "[0.06730554936483174, 0.13483396478716292, 0.06541118787608648, 0.7324492979719188]\n",
            "[0.06886561176732783, 0.13338533541341654, 0.04568754178738578, 0.7520615110318698]\n"
          ],
          "name": "stdout"
        },
        {
          "output_type": "execute_result",
          "data": {
            "text/plain": [
              "0.004033932900838248"
            ]
          },
          "metadata": {
            "tags": []
          },
          "execution_count": 4
        }
      ]
    },
    {
      "cell_type": "code",
      "metadata": {
        "id": "TtCuwVqNM6wx",
        "colab": {
          "base_uri": "https://localhost:8080/"
        },
        "outputId": "8b8d62c5-a0c3-456f-83ff-03e580db4061"
      },
      "source": [
        "slot_preds_list = pickle.load( open( \"slot_preds_list.pkl\", \"rb\" ) )\n",
        "out_slot_label_list = pickle.load( open( \"out_slot_label_list.pkl\", \"rb\" ) )\n",
        "slot_preds_list, out_slot_label_list = flatten_list(slot_preds_list,out_slot_label_list)\n",
        "# vocab_dict = {0:'PAD',1:'UNK',2:'O',3:'P',4:'C',5:'S',6:'D',7:'T',8:'SEPA'}\n",
        "# slot_preds_list, out_slot_label_list = get_intent_true_label_for_slot(slot_preds_list,out_slot_label_list,vocab_dict)\n",
        "print(classification_report(y_true=out_slot_label_list,y_pred=slot_preds_list,digits = 4))"
      ],
      "execution_count": null,
      "outputs": [
        {
          "output_type": "stream",
          "text": [
            "              precision    recall  f1-score   support\n",
            "\n",
            "           C     0.9572    0.9683    0.9627      1640\n",
            "           D     0.9472    0.8013    0.8682       448\n",
            "           O     0.9860    0.9918    0.9889     19368\n",
            "           P     0.9978    0.9970    0.9974      4052\n",
            "           S     0.9892    0.9786    0.9838      3361\n",
            "        SEPA     1.0000    1.0000    1.0000      3528\n",
            "           T     0.9614    0.9456    0.9534      1526\n",
            "\n",
            "    accuracy                         0.9863     33923\n",
            "   macro avg     0.9770    0.9547    0.9649     33923\n",
            "weighted avg     0.9862    0.9863    0.9861     33923\n",
            "\n"
          ],
          "name": "stdout"
        }
      ]
    },
    {
      "cell_type": "code",
      "metadata": {
        "colab": {
          "base_uri": "https://localhost:8080/"
        },
        "id": "jRhZDV7GA_Ir",
        "outputId": "c272fdbb-b3c0-47a1-8c49-27f5c91a8147"
      },
      "source": [
        "slot_preds_list = pickle.load( open( \"slot_preds_list.pkl\", \"rb\" ) )\n",
        "slot_preds_list[2]"
      ],
      "execution_count": null,
      "outputs": [
        {
          "output_type": "execute_result",
          "data": {
            "text/plain": [
              "['O']"
            ]
          },
          "metadata": {
            "tags": []
          },
          "execution_count": 15
        }
      ]
    },
    {
      "cell_type": "code",
      "metadata": {
        "colab": {
          "base_uri": "https://localhost:8080/"
        },
        "id": "BWl1vaaFvwLx",
        "outputId": "3e7c8fcd-b8c1-4cf7-ba97-626e4f24ae3e"
      },
      "source": [
        "import pickle\n",
        "slot_preds_list = pickle.load( open( \"slot_preds_list.pkl\", \"rb\" ) )\n",
        "out_slot_label_list = pickle.load( open( \"out_slot_label_list.pkl\", \"rb\" ) )\n",
        "slot_preds_list, out_slot_label_list = flatten_list(slot_preds_list,out_slot_label_list)\n",
        "# vocab_dict = {0:'UNK',1:'I',2:'E',3:'A',4:'O'}\n",
        "# intent_preds, out_intent_label_ids = get_intent_true_label(intent_preds,out_intent_label_ids,vocab_dict)\n",
        "get_kl_divergence_score(out_slot_label_list, slot_preds_list, slot_labels)"
      ],
      "execution_count": null,
      "outputs": [
        {
          "output_type": "stream",
          "text": [
            "{'D': 448, 'T': 1526, 'S': 3361, 'O': 19368, 'SEPA': 3528, 'C': 1640, 'P': 4052}\n",
            "{'D': 379, 'T': 1501, 'S': 3325, 'O': 19482, 'SEPA': 3528, 'C': 1659, 'P': 4049}\n",
            "[0.013206379152787195, 0.044984228989181384, 0.09907732217079858, 0.5709400701588893, 0.10400023582819916, 0.04834478082716741, 0.11944698287297703]\n",
            "[0.011172360935058809, 0.04424726586681602, 0.09801609527459246, 0.5743006219968753, 0.10400023582819916, 0.04890487280016508, 0.11935854729829319]\n"
          ],
          "name": "stdout"
        },
        {
          "output_type": "execute_result",
          "data": {
            "text/plain": [
              "0.0001997731501002225"
            ]
          },
          "metadata": {
            "tags": []
          },
          "execution_count": 6
        }
      ]
    },
    {
      "cell_type": "code",
      "metadata": {
        "id": "q6N1cyvF45es",
        "colab": {
          "base_uri": "https://localhost:8080/"
        },
        "outputId": "8085b605-7c51-4552-bb36-65a28f8d028e"
      },
      "source": [
        "slot_preds_list = pickle.load( open( \"slot_preds_list.pkl\", \"rb\" ) )\n",
        "out_slot_label_list = pickle.load( open( \"out_slot_label_list.pkl\", \"rb\" ) )\n",
        "get_semantic_acc(intent_preds, out_intent_label_ids, slot_preds_list, out_slot_label_list)"
      ],
      "execution_count": null,
      "outputs": [
        {
          "output_type": "execute_result",
          "data": {
            "text/plain": [
              "0.8777579674615557"
            ]
          },
          "metadata": {
            "tags": []
          },
          "execution_count": 7
        }
      ]
    },
    {
      "cell_type": "code",
      "metadata": {
        "id": "Q0RcL_S_-16L",
        "colab": {
          "base_uri": "https://localhost:8080/"
        },
        "outputId": "e4efcf72-fc31-4e10-947d-1521b0a564ab"
      },
      "source": [
        "from seqeval.metrics import precision_score, recall_score, f1_score, classification_report\n",
        "import pickle\n",
        "slot_preds_list = pickle.load( open( \"slot_preds_list.pkl\", \"rb\" ) )\n",
        "out_slot_label_list = pickle.load( open( \"out_slot_label_list.pkl\", \"rb\" ) )\n",
        "# slot_preds_list, out_slot_label_list = flatten_list(slot_preds_list,out_slot_label_list)\n",
        "print(f1_score(out_slot_label_list,slot_preds_list))\n",
        "print(classification_report(out_slot_label_list,slot_preds_list,digits=4))"
      ],
      "execution_count": null,
      "outputs": [
        {
          "output_type": "stream",
          "text": [
            "0.9814142126609064\n",
            "           precision    recall  f1-score   support\n",
            "\n",
            "        T     0.9557    0.9378    0.9467      1448\n",
            "        C     0.9553    0.9659    0.9606      1614\n",
            "     SEPA     1.0000    1.0000    1.0000      3528\n",
            "        P     0.9974    0.9958    0.9966      3848\n",
            "        D     0.9380    0.7963    0.8614       437\n",
            "        S     0.9892    0.9786    0.9838      3361\n",
            "\n",
            "micro avg     0.9855    0.9774    0.9814     14236\n",
            "macro avg     0.9853    0.9774    0.9811     14236\n",
            "\n"
          ],
          "name": "stdout"
        }
      ]
    },
    {
      "cell_type": "markdown",
      "metadata": {
        "id": "mSNUstrhk2QU"
      },
      "source": [
        "## new 45k dataset"
      ]
    },
    {
      "cell_type": "code",
      "metadata": {
        "colab": {
          "base_uri": "https://localhost:8080/"
        },
        "id": "275afP0xk3v5",
        "outputId": "fa284303-041b-464d-d6f3-d7c964d0037e"
      },
      "source": [
        "from google.colab import drive\r\n",
        "drive.mount('/content/drive')\r\n",
        "\r\n",
        "import os\r\n",
        "os.chdir('drive/My Drive/research/githubs/original_joint_bert/JointBERT-master')\r\n",
        "# os.chdir('drive/My Drive/JointBERT-master') #set your own path here"
      ],
      "execution_count": null,
      "outputs": [
        {
          "output_type": "stream",
          "text": [
            "Mounted at /content/drive\n"
          ],
          "name": "stdout"
        }
      ]
    },
    {
      "cell_type": "code",
      "metadata": {
        "colab": {
          "base_uri": "https://localhost:8080/"
        },
        "id": "gqemMWsok6jH",
        "outputId": "68e0c9f3-60f8-4699-d33f-dc36c9ce381e"
      },
      "source": [
        "import pickle\r\n",
        "from sklearn.metrics import classification_report\r\n",
        "intent_preds = pickle.load( open( \"intent_preds.pkl\", \"rb\" ) )\r\n",
        "out_intent_label_ids = pickle.load( open( \"out_intent_label_ids.pkl\", \"rb\" ) )\r\n",
        "vocab_dict = {0:'UNK',1:'I',2:'E',3:'A',4:'O'}\r\n",
        "intent_preds, out_intent_label_ids = get_intent_true_label(intent_preds,out_intent_label_ids,vocab_dict)\r\n",
        "print(classification_report(y_true=out_intent_label_ids,y_pred=intent_preds,digits=4))"
      ],
      "execution_count": null,
      "outputs": [
        {
          "output_type": "stream",
          "text": [
            "              precision    recall  f1-score   support\n",
            "\n",
            "           A     0.7741    0.8269    0.7997       572\n",
            "           E     0.8706    0.8727    0.8716      1241\n",
            "           I     0.8554    0.6965    0.7678       603\n",
            "           O     0.9487    0.9588    0.9537      6558\n",
            "\n",
            "    accuracy                         0.9209      8974\n",
            "   macro avg     0.8622    0.8387    0.8482      8974\n",
            "weighted avg     0.9205    0.9209    0.9201      8974\n",
            "\n"
          ],
          "name": "stdout"
        }
      ]
    },
    {
      "cell_type": "code",
      "metadata": {
        "colab": {
          "base_uri": "https://localhost:8080/"
        },
        "id": "EK8z02_hne7N",
        "outputId": "19055033-67e8-48b3-bde9-dc49561fd882"
      },
      "source": [
        "slot_preds_list = pickle.load( open( \"slot_preds_list.pkl\", \"rb\" ) )\r\n",
        "out_slot_label_list = pickle.load( open( \"out_slot_label_list.pkl\", \"rb\" ) )\r\n",
        "slot_preds_list, out_slot_label_list = flatten_list(slot_preds_list,out_slot_label_list)\r\n",
        "# vocab_dict = {0:'PAD',1:'UNK',2:'O',3:'P',4:'C',5:'S',6:'D',7:'T',8:'SEPA'}\r\n",
        "# slot_preds_list, out_slot_label_list = get_intent_true_label_for_slot(slot_preds_list,out_slot_label_list,vocab_dict)\r\n",
        "print(classification_report(y_true=out_slot_label_list,y_pred=slot_preds_list,digits = 4))"
      ],
      "execution_count": null,
      "outputs": [
        {
          "output_type": "stream",
          "text": [
            "              precision    recall  f1-score   support\n",
            "\n",
            "           C     0.9691    0.9883    0.9786      1621\n",
            "           D     0.9171    0.9104    0.9137       413\n",
            "           O     0.9937    0.9929    0.9933     19350\n",
            "           P     0.9983    0.9980    0.9982      4066\n",
            "           S     0.9931    0.9905    0.9918      3361\n",
            "        SEPA     1.0000    1.0000    1.0000      3571\n",
            "           T     0.9730    0.9717    0.9723      1518\n",
            "\n",
            "    accuracy                         0.9918     33900\n",
            "   macro avg     0.9778    0.9788    0.9783     33900\n",
            "weighted avg     0.9918    0.9918    0.9918     33900\n",
            "\n"
          ],
          "name": "stdout"
        }
      ]
    },
    {
      "cell_type": "code",
      "metadata": {
        "colab": {
          "base_uri": "https://localhost:8080/"
        },
        "id": "xeYSAvpvlFmV",
        "outputId": "1e936b1b-ce9c-41a8-edf3-9e832ff9359d"
      },
      "source": [
        "from seqeval.metrics import precision_score, recall_score, f1_score, classification_report\r\n",
        "import pickle\r\n",
        "slot_preds_list = pickle.load( open( \"slot_preds_list.pkl\", \"rb\" ) )\r\n",
        "out_slot_label_list = pickle.load( open( \"out_slot_label_list.pkl\", \"rb\" ) )\r\n",
        "# slot_preds_list, out_slot_label_list = flatten_list(slot_preds_list,out_slot_label_list)\r\n",
        "print(f1_score(out_slot_label_list,slot_preds_list))\r\n",
        "print(classification_report(out_slot_label_list,slot_preds_list,digits=4))"
      ],
      "execution_count": null,
      "outputs": [
        {
          "output_type": "stream",
          "text": [
            "0.9891128749034207\n",
            "           precision    recall  f1-score   support\n",
            "\n",
            "        P     0.9979    0.9974    0.9977      3853\n",
            "     SEPA     1.0000    1.0000    1.0000      3571\n",
            "        T     0.9703    0.9670    0.9687      1454\n",
            "        C     0.9685    0.9855    0.9769      1589\n",
            "        S     0.9931    0.9905    0.9918      3361\n",
            "        D     0.9129    0.9084    0.9107       404\n",
            "\n",
            "micro avg     0.9888    0.9895    0.9891     14232\n",
            "macro avg     0.9888    0.9895    0.9891     14232\n",
            "\n"
          ],
          "name": "stdout"
        }
      ]
    },
    {
      "cell_type": "code",
      "metadata": {
        "colab": {
          "base_uri": "https://localhost:8080/"
        },
        "id": "IBDkekHkmkQ3",
        "outputId": "d834e3a8-379c-4e78-c097-871f96dbfc64"
      },
      "source": [
        "import pickle\r\n",
        "from sklearn.metrics import classification_report\r\n",
        "intent_preds = pickle.load( open( \"intent_preds.pkl\", \"rb\" ) )\r\n",
        "out_intent_label_ids = pickle.load( open( \"out_intent_label_ids.pkl\", \"rb\" ) )\r\n",
        "vocab_dict = {0:'UNK',1:'I',2:'E',3:'A',4:'O'}\r\n",
        "intent_preds, out_intent_label_ids = get_intent_true_label(intent_preds,out_intent_label_ids,vocab_dict)\r\n",
        "get_kl_divergence_score(out_intent_label_ids, intent_preds, intent_labels)"
      ],
      "execution_count": null,
      "outputs": [
        {
          "output_type": "stream",
          "text": [
            "{'A': 572, 'E': 1241, 'I': 603, 'O': 6558}\n",
            "{'A': 611, 'E': 1244, 'I': 491, 'O': 6628}\n",
            "[0.06373969244484065, 0.1382883886784043, 0.06719411633608202, 0.730777802540673]\n",
            "[0.06808558056607979, 0.13862268776465345, 0.054713617116113215, 0.7385781145531536]\n"
          ],
          "name": "stdout"
        },
        {
          "output_type": "execute_result",
          "data": {
            "text/plain": [
              "0.0015095693576860662"
            ]
          },
          "metadata": {
            "tags": []
          },
          "execution_count": 5
        }
      ]
    },
    {
      "cell_type": "code",
      "metadata": {
        "colab": {
          "base_uri": "https://localhost:8080/"
        },
        "id": "SyVZasOUm3N_",
        "outputId": "1e1abc7b-dd5e-4870-deba-21df67c8fd62"
      },
      "source": [
        "import pickle\r\n",
        "slot_preds_list = pickle.load( open( \"slot_preds_list.pkl\", \"rb\" ) )\r\n",
        "out_slot_label_list = pickle.load( open( \"out_slot_label_list.pkl\", \"rb\" ) )\r\n",
        "slot_preds_list, out_slot_label_list = flatten_list(slot_preds_list,out_slot_label_list)\r\n",
        "# vocab_dict = {0:'UNK',1:'I',2:'E',3:'A',4:'O'}\r\n",
        "# intent_preds, out_intent_label_ids = get_intent_true_label(intent_preds,out_intent_label_ids,vocab_dict)\r\n",
        "get_kl_divergence_score(out_slot_label_list, slot_preds_list, slot_labels)"
      ],
      "execution_count": null,
      "outputs": [
        {
          "output_type": "stream",
          "text": [
            "{'D': 413, 'T': 1518, 'S': 3361, 'O': 19350, 'SEPA': 3571, 'C': 1621, 'P': 4066}\n",
            "{'D': 410, 'T': 1516, 'S': 3352, 'O': 19333, 'SEPA': 3571, 'C': 1653, 'P': 4065}\n",
            "[0.012182890855457228, 0.0447787610619469, 0.09914454277286136, 0.5707964601769911, 0.10533923303834808, 0.04781710914454277, 0.11994100294985251]\n",
            "[0.012094395280235988, 0.04471976401179941, 0.09887905604719764, 0.5702949852507375, 0.10533923303834808, 0.048761061946902655, 0.11991150442477876]\n"
          ],
          "name": "stdout"
        },
        {
          "output_type": "execute_result",
          "data": {
            "text/plain": [
              "1.0138418659673007e-05"
            ]
          },
          "metadata": {
            "tags": []
          },
          "execution_count": 6
        }
      ]
    },
    {
      "cell_type": "code",
      "metadata": {
        "colab": {
          "base_uri": "https://localhost:8080/"
        },
        "id": "oGRKSWVPm-SM",
        "outputId": "17e7343a-c1dc-4419-b78d-4086695c5090"
      },
      "source": [
        "slot_preds_list = pickle.load( open( \"slot_preds_list.pkl\", \"rb\" ) )\r\n",
        "out_slot_label_list = pickle.load( open( \"out_slot_label_list.pkl\", \"rb\" ) )\r\n",
        "get_semantic_acc(intent_preds, out_intent_label_ids, slot_preds_list, out_slot_label_list)"
      ],
      "execution_count": null,
      "outputs": [
        {
          "output_type": "execute_result",
          "data": {
            "text/plain": [
              "0.8951415199465121"
            ]
          },
          "metadata": {
            "tags": []
          },
          "execution_count": 7
        }
      ]
    },
    {
      "cell_type": "markdown",
      "metadata": {
        "id": "kyzCSSBpO7wD"
      },
      "source": [
        "# slot gated"
      ]
    },
    {
      "cell_type": "code",
      "metadata": {
        "id": "0AZv0-B9O87i",
        "colab": {
          "base_uri": "https://localhost:8080/"
        },
        "outputId": "d688f4f5-a8b5-45dd-c831-555530265d7e"
      },
      "source": [
        "from google.colab import drive\n",
        "drive.mount('/content/drive')\n",
        "\n",
        "import os\n",
        "os.chdir('drive/My Drive/research/githubs/slot_gated/SlotGated-SLU-master')\n",
        "# os.chdir('drive/My Drive/research/githubs/slot_gate_slot_only/SlotGated-SLU-master')"
      ],
      "execution_count": null,
      "outputs": [
        {
          "output_type": "stream",
          "text": [
            "Mounted at /content/drive\n"
          ],
          "name": "stdout"
        }
      ]
    },
    {
      "cell_type": "code",
      "metadata": {
        "id": "9w9SSARLPYm6",
        "colab": {
          "base_uri": "https://localhost:8080/"
        },
        "outputId": "4a646b91-7726-4186-ef78-db1ee1edbb50"
      },
      "source": [
        "import pickle\n",
        "from sklearn.metrics import classification_report\n",
        "intent_preds = pickle.load( open( \"test_pred_intent8.pkl\", \"rb\" ) )\n",
        "out_intent_label_ids = pickle.load( open( \"test_correct_intent8.pkl\", \"rb\" ) )\n",
        "vocab_dict = {0:'_PAD',1:'_UNK',2:'O',3:'E',4:'A',5:'I'}\n",
        "intent_preds, out_intent_label_ids = get_intent_true_label(intent_preds,out_intent_label_ids,vocab_dict)\n",
        "print(classification_report(y_true=out_intent_label_ids,y_pred=intent_preds,digits=4))"
      ],
      "execution_count": null,
      "outputs": [
        {
          "output_type": "stream",
          "text": [
            "              precision    recall  f1-score   support\n",
            "\n",
            "           A     0.7937    0.7535    0.7731       572\n",
            "           E     0.8074    0.8042    0.8058      1241\n",
            "           I     0.7294    0.6617    0.6939       603\n",
            "           O     0.9311    0.9439    0.9375      6558\n",
            "\n",
            "    accuracy                         0.8935      8974\n",
            "   macro avg     0.8154    0.7908    0.8026      8974\n",
            "weighted avg     0.8917    0.8935    0.8924      8974\n",
            "\n"
          ],
          "name": "stdout"
        }
      ]
    },
    {
      "cell_type": "code",
      "metadata": {
        "id": "QavLEcq1QAz2",
        "colab": {
          "base_uri": "https://localhost:8080/"
        },
        "outputId": "50ce72ca-29d3-4fd0-cd3c-fcd9ce6deb9e"
      },
      "source": [
        "slot_preds_list = pickle.load( open( \"test_pred_slot8.pkl\", \"rb\" ) )\n",
        "out_slot_label_list = pickle.load( open( \"test_correct_slot8.pkl\", \"rb\" ) )\n",
        "slot_preds_list, out_slot_label_list = flatten_list(slot_preds_list,out_slot_label_list)\n",
        "# vocab_dict = {0:'PAD',1:'UNK',2:'O',3:'P',4:'C',5:'S',6:'D',7:'T',8:'SEPA'}\n",
        "# slot_preds_list, out_slot_label_list = get_intent_true_label_for_slot(slot_preds_list,out_slot_label_list,vocab_dict)\n",
        "print(classification_report(y_true=out_slot_label_list,y_pred=slot_preds_list,digits = 4))"
      ],
      "execution_count": null,
      "outputs": [
        {
          "output_type": "stream",
          "text": [
            "              precision    recall  f1-score   support\n",
            "\n",
            "           C     0.9994    0.9661    0.9824      1621\n",
            "           D     1.0000    0.9080    0.9518       413\n",
            "           O     0.9880    0.9999    0.9939     19350\n",
            "           P     0.9998    0.9943    0.9970      4066\n",
            "           S     0.9997    0.9839    0.9918      3361\n",
            "        SEPA     1.0000    1.0000    1.0000      3571\n",
            "           T     1.0000    0.9565    0.9778      1518\n",
            "\n",
            "    accuracy                         0.9930     33900\n",
            "   macro avg     0.9981    0.9727    0.9850     33900\n",
            "weighted avg     0.9931    0.9930    0.9929     33900\n",
            "\n"
          ],
          "name": "stdout"
        }
      ]
    },
    {
      "cell_type": "code",
      "metadata": {
        "id": "kXeikTXc8_Ml",
        "colab": {
          "base_uri": "https://localhost:8080/"
        },
        "outputId": "ebc1aa74-f09a-48c0-d215-a26ce84abad1"
      },
      "source": [
        "slot_preds_list = pickle.load( open( \"test_pred_slot8.pkl\", \"rb\" ) )\n",
        "out_slot_label_list = pickle.load( open( \"test_correct_slot8.pkl\", \"rb\" ) )\n",
        "# print(len(slot_preds_list))\n",
        "get_semantic_acc(intent_preds, out_intent_label_ids, slot_preds_list, out_slot_label_list)"
      ],
      "execution_count": null,
      "outputs": [
        {
          "output_type": "execute_result",
          "data": {
            "text/plain": [
              "0.8750835747715623"
            ]
          },
          "metadata": {
            "tags": []
          },
          "execution_count": 5
        }
      ]
    },
    {
      "cell_type": "code",
      "metadata": {
        "id": "OlLQHp36EtvG",
        "colab": {
          "base_uri": "https://localhost:8080/"
        },
        "outputId": "4976f929-00de-4aa7-abd2-536389f9fc19"
      },
      "source": [
        "from seqeval.metrics import precision_score, recall_score, f1_score, classification_report\n",
        "import pickle\n",
        "slot_preds_list = pickle.load( open( \"test_pred_slot8.pkl\", \"rb\" ) )\n",
        "out_slot_label_list = pickle.load( open( \"test_correct_slot8.pkl\", \"rb\" ) )\n",
        "# slot_preds_list, out_slot_label_list = flatten_list(slot_preds_list,out_slot_label_list)\n",
        "print(f1_score(out_slot_label_list,slot_preds_list))\n",
        "print(classification_report(out_slot_label_list,slot_preds_list,digits=4))"
      ],
      "execution_count": null,
      "outputs": [
        {
          "output_type": "stream",
          "text": [
            "0.991253231346719\n",
            "           precision    recall  f1-score   support\n",
            "\n",
            "        T     0.9971    0.9546    0.9754      1454\n",
            "        D     0.9973    0.9059    0.9494       404\n",
            "     SEPA     1.0000    1.0000    1.0000      3571\n",
            "        C     0.9980    0.9654    0.9814      1589\n",
            "        P     0.9995    0.9940    0.9967      3853\n",
            "        S     0.9997    0.9839    0.9918      3361\n",
            "\n",
            "micro avg     0.9992    0.9834    0.9913     14232\n",
            "macro avg     0.9992    0.9834    0.9912     14232\n",
            "\n"
          ],
          "name": "stdout"
        }
      ]
    },
    {
      "cell_type": "code",
      "metadata": {
        "colab": {
          "base_uri": "https://localhost:8080/"
        },
        "id": "ZK42oaLX0NJd",
        "outputId": "3db19a00-d001-4962-9614-159b7ab6010c"
      },
      "source": [
        "import pickle\n",
        "from sklearn.metrics import classification_report\n",
        "intent_preds = pickle.load( open( \"test_pred_intent8.pkl\", \"rb\" ) )\n",
        "out_intent_label_ids = pickle.load( open( \"test_correct_intent8.pkl\", \"rb\" ) )\n",
        "vocab_dict = {0:'_PAD',1:'_UNK',2:'O',3:'E',4:'I',5:'A'}\n",
        "intent_preds, out_intent_label_ids = get_intent_true_label(intent_preds,out_intent_label_ids,vocab_dict)\n",
        "get_kl_divergence_score(out_intent_label_ids, intent_preds, intent_labels)"
      ],
      "execution_count": null,
      "outputs": [
        {
          "output_type": "stream",
          "text": [
            "{'A': 603, 'E': 1241, 'I': 572, 'O': 6558}\n",
            "{'A': 547, 'E': 1236, 'I': 543, 'O': 6648}\n",
            "[0.06719411633608202, 0.1382883886784043, 0.06373969244484065, 0.730777802540673]\n",
            "[0.060953866726097615, 0.13773122353465567, 0.06050813461109873, 0.740806775128148]\n"
          ],
          "name": "stdout"
        },
        {
          "output_type": "execute_result",
          "data": {
            "text/plain": [
              "0.00046316995242192197"
            ]
          },
          "metadata": {
            "tags": []
          },
          "execution_count": 4
        }
      ]
    },
    {
      "cell_type": "code",
      "metadata": {
        "colab": {
          "base_uri": "https://localhost:8080/"
        },
        "id": "YqKki9t20PgG",
        "outputId": "8d7b3389-0744-4338-be73-2fe998950a73"
      },
      "source": [
        "import pickle\n",
        "slot_preds_list = pickle.load( open( \"test_pred_slot8.pkl\", \"rb\" ) )\n",
        "out_slot_label_list = pickle.load( open( \"test_correct_slot8.pkl\", \"rb\" ) )\n",
        "slot_preds_list, out_slot_label_list = flatten_list(slot_preds_list,out_slot_label_list)\n",
        "# vocab_dict = {0:'UNK',1:'I',2:'E',3:'A',4:'O'}\n",
        "# intent_preds, out_intent_label_ids = get_intent_true_label(intent_preds,out_intent_label_ids,vocab_dict)\n",
        "get_kl_divergence_score(out_slot_label_list, slot_preds_list, slot_labels)"
      ],
      "execution_count": null,
      "outputs": [
        {
          "output_type": "stream",
          "text": [
            "{'D': 413, 'T': 1518, 'S': 3361, 'O': 19350, 'SEPA': 3571, 'C': 1621, 'P': 4066}\n",
            "{'D': 375, 'T': 1452, 'S': 3308, 'O': 19583, 'SEPA': 3571, 'C': 1567, 'P': 4044}\n",
            "[0.012182890855457228, 0.0447787610619469, 0.09914454277286136, 0.5707964601769911, 0.10533923303834808, 0.04781710914454277, 0.11994100294985251]\n",
            "[0.011061946902654867, 0.04283185840707965, 0.0975811209439528, 0.577669616519174, 0.10533923303834808, 0.04622418879056047, 0.11929203539823009]\n"
          ],
          "name": "stdout"
        },
        {
          "output_type": "execute_result",
          "data": {
            "text/plain": [
              "0.00018096851028252716"
            ]
          },
          "metadata": {
            "tags": []
          },
          "execution_count": 8
        }
      ]
    },
    {
      "cell_type": "markdown",
      "metadata": {
        "id": "UVfsuCERQVyo"
      },
      "source": [
        "# rnn"
      ]
    },
    {
      "cell_type": "code",
      "metadata": {
        "id": "xwvurqs1QXgc",
        "colab": {
          "base_uri": "https://localhost:8080/"
        },
        "outputId": "e4a18b99-76a3-468f-8489-ef74403548f6"
      },
      "source": [
        "from google.colab import drive\n",
        "drive.mount('/content/drive')\n",
        "\n",
        "import os\n",
        "os.chdir('drive/My Drive/research/githubs/rnn-nlu-master/output_results')"
      ],
      "execution_count": null,
      "outputs": [
        {
          "output_type": "stream",
          "text": [
            "Drive already mounted at /content/drive; to attempt to forcibly remount, call drive.mount(\"/content/drive\", force_remount=True).\n"
          ],
          "name": "stdout"
        }
      ]
    },
    {
      "cell_type": "code",
      "metadata": {
        "id": "wMbkKqoOQqQM",
        "colab": {
          "base_uri": "https://localhost:8080/"
        },
        "outputId": "7e21a9c9-72d4-4978-d7ab-3fcd10b847ad"
      },
      "source": [
        "import pickle\n",
        "from sklearn.metrics import classification_report\n",
        "from sklearn.metrics import f1_score\n",
        "intent_preds = pickle.load( open( \"hyp_label_list1200.pkl\", \"rb\" ) )\n",
        "out_intent_label_ids = pickle.load( open( \"ref_label_list1200.pkl\", \"rb\" ) )\n",
        "# vocab_dict = {0:'_PAD',1:'_UNK',2:'O',3:'E',4:'I',5:'A'}\n",
        "# intent_preds, out_intent_label_ids = get_intent_true_label(intent_preds,out_intent_label_ids,vocab_dict)\n",
        "print(classification_report(y_true=out_intent_label_ids,y_pred=intent_preds,digits=4))\n",
        "# print(f1_score(y_true=out_intent_label_ids,y_pred=intent_preds))"
      ],
      "execution_count": null,
      "outputs": [
        {
          "output_type": "stream",
          "text": [
            "              precision    recall  f1-score   support\n",
            "\n",
            "           A     0.8340    0.7378    0.7829       572\n",
            "           E     0.8741    0.7607    0.8134      1241\n",
            "           I     0.9435    0.5821    0.7200       603\n",
            "           O     0.9133    0.9771    0.9442      6558\n",
            "\n",
            "    accuracy                         0.9054      8974\n",
            "   macro avg     0.8912    0.7644    0.8151      8974\n",
            "weighted avg     0.9049    0.9054    0.9007      8974\n",
            "\n"
          ],
          "name": "stdout"
        }
      ]
    },
    {
      "cell_type": "code",
      "metadata": {
        "id": "JgrvSv7_RJaq",
        "colab": {
          "base_uri": "https://localhost:8080/"
        },
        "outputId": "d856e2d9-b7e0-4402-dc5a-5845873dffd2"
      },
      "source": [
        "slot_preds_list = pickle.load( open( \"hyp_tag_list1200.pkl\", \"rb\" ) )\n",
        "out_slot_label_list = pickle.load( open( \"ref_tag_list1200.pkl\", \"rb\" ) )\n",
        "slot_preds_list, out_slot_label_list = flatten_list(slot_preds_list,out_slot_label_list)\n",
        "# vocab_dict = {0:'PAD',1:'UNK',2:'O',3:'P',4:'C',5:'S',6:'D',7:'T',8:'SEPA'}\n",
        "# slot_preds_list, out_slot_label_list = get_intent_true_label_for_slot(slot_preds_list,out_slot_label_list,vocab_dict)\n",
        "print(classification_report(y_true=out_slot_label_list,y_pred=slot_preds_list,digits = 4))"
      ],
      "execution_count": null,
      "outputs": [
        {
          "output_type": "stream",
          "text": [
            "              precision    recall  f1-score   support\n",
            "\n",
            "           C     0.9335    0.9272    0.9304      1621\n",
            "           D     0.9873    0.5642    0.7180       413\n",
            "           O     0.9762    0.9981    0.9870     19350\n",
            "           P     0.9960    0.9860    0.9910      4066\n",
            "           S     0.9985    0.9637    0.9808      3361\n",
            "        SEPA     1.0000    1.0000    1.0000      3571\n",
            "           T     0.9595    0.9045    0.9312      1518\n",
            "\n",
            "    accuracy                         0.9806     33900\n",
            "   macro avg     0.9787    0.9062    0.9340     33900\n",
            "weighted avg     0.9807    0.9806    0.9798     33900\n",
            "\n"
          ],
          "name": "stdout"
        }
      ]
    },
    {
      "cell_type": "code",
      "metadata": {
        "id": "dvXTAgxY-k4K",
        "colab": {
          "base_uri": "https://localhost:8080/"
        },
        "outputId": "33512330-e4e6-4cdb-ae2e-61e8ecdeb90b"
      },
      "source": [
        "slot_preds_list = pickle.load( open( \"hyp_tag_list1200.pkl\", \"rb\" ) )\n",
        "out_slot_label_list = pickle.load( open( \"ref_tag_list1200.pkl\", \"rb\" ) )\n",
        "# print(len(slot_preds_list))\n",
        "get_semantic_acc(intent_preds, out_intent_label_ids, slot_preds_list, out_slot_label_list)"
      ],
      "execution_count": null,
      "outputs": [
        {
          "output_type": "execute_result",
          "data": {
            "text/plain": [
              "0.8537998662803655"
            ]
          },
          "metadata": {
            "tags": []
          },
          "execution_count": 5
        }
      ]
    },
    {
      "cell_type": "code",
      "metadata": {
        "id": "2VEco8i_FBWv",
        "colab": {
          "base_uri": "https://localhost:8080/"
        },
        "outputId": "a6675521-90e3-4f77-8d52-76fece37eb75"
      },
      "source": [
        "from seqeval.metrics import precision_score, recall_score, f1_score, classification_report\n",
        "import pickle\n",
        "slot_preds_list = pickle.load( open( \"hyp_tag_list1200.pkl\", \"rb\" ) )\n",
        "out_slot_label_list = pickle.load( open( \"ref_tag_list1200.pkl\", \"rb\" ) )\n",
        "# slot_preds_list, out_slot_label_list = flatten_list(slot_preds_list,out_slot_label_list)\n",
        "print(f1_score(out_slot_label_list,slot_preds_list))\n",
        "print(classification_report(out_slot_label_list,slot_preds_list,digits=4))"
      ],
      "execution_count": null,
      "outputs": [
        {
          "output_type": "stream",
          "text": [
            "0.9701811956056499\n",
            "           precision    recall  f1-score   support\n",
            "\n",
            "        P     0.9950    0.9842    0.9896      3853\n",
            "        C     0.9313    0.9213    0.9263      1589\n",
            "        T     0.9512    0.8982    0.9239      1454\n",
            "        S     0.9985    0.9637    0.9808      3361\n",
            "     SEPA     1.0000    1.0000    1.0000      3571\n",
            "        D     0.9785    0.5644    0.7159       404\n",
            "\n",
            "micro avg     0.9852    0.9556    0.9702     14232\n",
            "macro avg     0.9850    0.9556    0.9686     14232\n",
            "\n"
          ],
          "name": "stdout"
        }
      ]
    },
    {
      "cell_type": "code",
      "metadata": {
        "colab": {
          "base_uri": "https://localhost:8080/"
        },
        "id": "GRWfyuTV0jC4",
        "outputId": "118ddefc-c575-4686-c487-e7b623c4a91f"
      },
      "source": [
        "import pickle\n",
        "from sklearn.metrics import classification_report\n",
        "intent_preds = pickle.load( open( \"hyp_label_list1200.pkl\", \"rb\" ) )\n",
        "out_intent_label_ids = pickle.load( open( \"ref_label_list1200.pkl\", \"rb\" ) )\n",
        "get_kl_divergence_score(out_intent_label_ids, intent_preds, intent_labels)"
      ],
      "execution_count": null,
      "outputs": [
        {
          "output_type": "stream",
          "text": [
            "{'A': 572, 'E': 1241, 'I': 603, 'O': 6558}\n",
            "{'A': 506, 'E': 1080, 'I': 372, 'O': 7016}\n",
            "[0.06373969244484065, 0.1382883886784043, 0.06719411633608202, 0.730777802540673]\n",
            "[0.056385112547359034, 0.12034767104969914, 0.04145308669489637, 0.7818141297080454]\n"
          ],
          "name": "stdout"
        },
        {
          "output_type": "execute_result",
          "data": {
            "text/plain": [
              "0.010153988105074029"
            ]
          },
          "metadata": {
            "tags": []
          },
          "execution_count": 7
        }
      ]
    },
    {
      "cell_type": "code",
      "metadata": {
        "colab": {
          "base_uri": "https://localhost:8080/"
        },
        "id": "q148hKXr1psi",
        "outputId": "28209356-fa6b-4420-a6b0-22d87f0d7404"
      },
      "source": [
        "import pickle\n",
        "slot_preds_list = pickle.load( open( \"hyp_tag_list1200.pkl\", \"rb\" ) )\n",
        "out_slot_label_list = pickle.load( open( \"ref_tag_list1200.pkl\", \"rb\" ) )\n",
        "slot_preds_list, out_slot_label_list = flatten_list(slot_preds_list,out_slot_label_list)\n",
        "# vocab_dict = {0:'UNK',1:'I',2:'E',3:'A',4:'O'}\n",
        "# intent_preds, out_intent_label_ids = get_intent_true_label(intent_preds,out_intent_label_ids,vocab_dict)\n",
        "get_kl_divergence_score(out_slot_label_list, slot_preds_list, slot_labels)"
      ],
      "execution_count": null,
      "outputs": [
        {
          "output_type": "stream",
          "text": [
            "{'D': 413, 'T': 1518, 'S': 3361, 'O': 19350, 'SEPA': 3571, 'C': 1621, 'P': 4066}\n",
            "{'D': 236, 'T': 1431, 'S': 3244, 'O': 19783, 'SEPA': 3571, 'C': 1610, 'P': 4025}\n",
            "[0.012182890855457228, 0.0447787610619469, 0.09914454277286136, 0.5707964601769911, 0.10533923303834808, 0.04781710914454277, 0.11994100294985251]\n",
            "[0.00696165191740413, 0.04221238938053097, 0.09569321533923304, 0.5835693215339233, 0.10533923303834808, 0.04749262536873156, 0.1187315634218289]\n"
          ],
          "name": "stdout"
        },
        {
          "output_type": "execute_result",
          "data": {
            "text/plain": [
              "0.0018825407168668762"
            ]
          },
          "metadata": {
            "tags": []
          },
          "execution_count": 8
        }
      ]
    },
    {
      "cell_type": "markdown",
      "metadata": {
        "id": "cMOnNxoFR-PC"
      },
      "source": [
        "# capsule NN"
      ]
    },
    {
      "cell_type": "code",
      "metadata": {
        "id": "26ZDkePvR_f3",
        "colab": {
          "base_uri": "https://localhost:8080/"
        },
        "outputId": "fd95e982-d0d0-4b7b-9899-e71da8ae95eb"
      },
      "source": [
        "from google.colab import drive\n",
        "drive.mount('/content/drive')\n",
        "\n",
        "import os\n",
        "os.chdir('drive/My Drive/research/githubs/Capsule-NLU/Capsule-NLU-master/results')"
      ],
      "execution_count": null,
      "outputs": [
        {
          "output_type": "stream",
          "text": [
            "Drive already mounted at /content/drive; to attempt to forcibly remount, call drive.mount(\"/content/drive\", force_remount=True).\n"
          ],
          "name": "stdout"
        }
      ]
    },
    {
      "cell_type": "code",
      "metadata": {
        "id": "_E7FNifsSFHj",
        "colab": {
          "base_uri": "https://localhost:8080/"
        },
        "outputId": "c7427969-e25d-4d7b-e0c9-c35cccc9eb82"
      },
      "source": [
        "import pickle\n",
        "from sklearn.metrics import classification_report\n",
        "from sklearn.metrics import f1_score\n",
        "intent_preds = pickle.load( open( \"test_pred_intent80.pkl\", \"rb\" ) )\n",
        "out_intent_label_ids = pickle.load( open( \"test_correct_intent80.pkl\", \"rb\" ) )\n",
        "vocab_dict = {0:'O',1:'E',2:'A',3:'I'}\n",
        "intent_preds, out_intent_label_ids = get_intent_true_label(intent_preds,out_intent_label_ids,vocab_dict)\n",
        "print(classification_report(y_true=out_intent_label_ids,y_pred=intent_preds,digits=4))\n",
        "# print(f1_score(y_true=out_intent_label_ids,y_pred=intent_preds))"
      ],
      "execution_count": null,
      "outputs": [
        {
          "output_type": "stream",
          "text": [
            "              precision    recall  f1-score   support\n",
            "\n",
            "           A     0.8207    0.5280    0.6426       572\n",
            "           E     0.8596    0.6414    0.7347      1241\n",
            "           I     0.9041    0.5788    0.7058       603\n",
            "           O     0.8789    0.9776    0.9256      6558\n",
            "\n",
            "    accuracy                         0.8756      8974\n",
            "   macro avg     0.8658    0.6814    0.7522      8974\n",
            "weighted avg     0.8742    0.8756    0.8664      8974\n",
            "\n"
          ],
          "name": "stdout"
        }
      ]
    },
    {
      "cell_type": "code",
      "metadata": {
        "id": "yuA9CttOSt2S",
        "colab": {
          "base_uri": "https://localhost:8080/"
        },
        "outputId": "de73593e-5a30-4a70-9a88-bcc81db34b50"
      },
      "source": [
        "slot_preds_list = pickle.load( open( \"test_pred_slot80.pkl\", \"rb\" ) )\n",
        "out_slot_label_list = pickle.load( open( \"test_correct_slot80.pkl\", \"rb\" ) )\n",
        "slot_preds_list, out_slot_label_list = flatten_list(slot_preds_list,out_slot_label_list)\n",
        "# vocab_dict = {0:'PAD',1:'UNK',2:'O',3:'P',4:'C',5:'S',6:'D',7:'T',8:'SEPA'}\n",
        "# slot_preds_list, out_slot_label_list = get_intent_true_label_for_slot(slot_preds_list,out_slot_label_list,vocab_dict)\n",
        "print(classification_report(y_true=out_slot_label_list,y_pred=slot_preds_list,digits = 4))"
      ],
      "execution_count": null,
      "outputs": [
        {
          "output_type": "stream",
          "text": [
            "              precision    recall  f1-score   support\n",
            "\n",
            "           C     1.0000    0.9636    0.9815      1621\n",
            "           D     1.0000    0.9031    0.9491       413\n",
            "           O     0.9871    1.0000    0.9935     19350\n",
            "           P     1.0000    0.9943    0.9972      4066\n",
            "           S     1.0000    0.9830    0.9914      3361\n",
            "        SEPA     1.0000    1.0000    1.0000      3571\n",
            "           T     1.0000    0.9519    0.9754      1518\n",
            "\n",
            "    accuracy                         0.9926     33900\n",
            "   macro avg     0.9982    0.9709    0.9840     33900\n",
            "weighted avg     0.9927    0.9926    0.9925     33900\n",
            "\n"
          ],
          "name": "stdout"
        }
      ]
    },
    {
      "cell_type": "code",
      "metadata": {
        "id": "eztevcAb_Dkq",
        "colab": {
          "base_uri": "https://localhost:8080/"
        },
        "outputId": "09e71d5a-b5a3-4421-e686-672a81c24d3e"
      },
      "source": [
        "slot_preds_list = pickle.load( open( \"test_pred_slot80.pkl\", \"rb\" ) )\n",
        "out_slot_label_list = pickle.load( open( \"test_correct_slot80.pkl\", \"rb\" ) )\n",
        "# print(len(slot_preds_list))\n",
        "get_semantic_acc(intent_preds, out_intent_label_ids, slot_preds_list, out_slot_label_list)"
      ],
      "execution_count": null,
      "outputs": [
        {
          "output_type": "execute_result",
          "data": {
            "text/plain": [
              "0.8553599286828616"
            ]
          },
          "metadata": {
            "tags": []
          },
          "execution_count": 5
        }
      ]
    },
    {
      "cell_type": "code",
      "metadata": {
        "id": "RDD0qhtaF7su",
        "colab": {
          "base_uri": "https://localhost:8080/"
        },
        "outputId": "c6906943-3135-4f1e-8e3e-a3f180ed9f3d"
      },
      "source": [
        "from seqeval.metrics import precision_score, recall_score, f1_score, classification_report\n",
        "import pickle\n",
        "slot_preds_list = pickle.load( open( \"test_pred_slot80.pkl\", \"rb\" ) )\n",
        "out_slot_label_list = pickle.load( open( \"test_correct_slot80.pkl\", \"rb\" ) )\n",
        "# slot_preds_list, out_slot_label_list = flatten_list(slot_preds_list,out_slot_label_list)\n",
        "print(f1_score(out_slot_label_list,slot_preds_list))\n",
        "print(classification_report(out_slot_label_list,slot_preds_list,digits=4))"
      ],
      "execution_count": null,
      "outputs": [
        {
          "output_type": "stream",
          "text": [
            "0.9908933064030332\n",
            "           precision    recall  f1-score   support\n",
            "\n",
            "        T     0.9964    0.9498    0.9725      1454\n",
            "        P     0.9997    0.9940    0.9969      3853\n",
            "        S     1.0000    0.9830    0.9914      3361\n",
            "     SEPA     1.0000    1.0000    1.0000      3571\n",
            "        D     1.0000    0.9035    0.9493       404\n",
            "        C     0.9993    0.9635    0.9811      1589\n",
            "\n",
            "micro avg     0.9995    0.9824    0.9909     14232\n",
            "macro avg     0.9995    0.9824    0.9908     14232\n",
            "\n"
          ],
          "name": "stdout"
        }
      ]
    },
    {
      "cell_type": "code",
      "metadata": {
        "colab": {
          "base_uri": "https://localhost:8080/"
        },
        "id": "w4xeUDvX0ovz",
        "outputId": "1f2e227c-efe1-479e-dc6b-7eaccacac592"
      },
      "source": [
        "import pickle\n",
        "from sklearn.metrics import classification_report\n",
        "intent_preds = pickle.load( open( \"test_pred_intent80.pkl\", \"rb\" ) )\n",
        "out_intent_label_ids = pickle.load( open( \"test_correct_intent80.pkl\", \"rb\" ) )\n",
        "vocab_dict = {0:'O',1:'E',2:'I',3:'A'}\n",
        "intent_preds, out_intent_label_ids = get_intent_true_label(intent_preds,out_intent_label_ids,vocab_dict)\n",
        "get_kl_divergence_score(out_intent_label_ids, intent_preds, intent_labels)"
      ],
      "execution_count": null,
      "outputs": [
        {
          "output_type": "stream",
          "text": [
            "{'A': 603, 'E': 1241, 'I': 572, 'O': 6558}\n",
            "{'A': 386, 'E': 926, 'I': 368, 'O': 7294}\n",
            "[0.06719411633608202, 0.1382883886784043, 0.06373969244484065, 0.730777802540673]\n",
            "[0.04301314909739247, 0.10318698462224203, 0.04100735457989748, 0.8127925117004681]\n"
          ],
          "name": "stdout"
        },
        {
          "output_type": "execute_result",
          "data": {
            "text/plain": [
              "0.020847142494172355"
            ]
          },
          "metadata": {
            "tags": []
          },
          "execution_count": 7
        }
      ]
    },
    {
      "cell_type": "code",
      "metadata": {
        "colab": {
          "base_uri": "https://localhost:8080/"
        },
        "id": "iEKhSBP21tx5",
        "outputId": "bd771bd3-8d61-43bf-981a-597eaa21868a"
      },
      "source": [
        "import pickle\n",
        "slot_preds_list = pickle.load( open( \"test_pred_slot80.pkl\", \"rb\" ) )\n",
        "out_slot_label_list = pickle.load( open( \"test_correct_slot80.pkl\", \"rb\" ) )\n",
        "slot_preds_list, out_slot_label_list = flatten_list(slot_preds_list,out_slot_label_list)\n",
        "# vocab_dict = {0:'UNK',1:'I',2:'E',3:'A',4:'O'}\n",
        "# intent_preds, out_intent_label_ids = get_intent_true_label(intent_preds,out_intent_label_ids,vocab_dict)\n",
        "get_kl_divergence_score(out_slot_label_list, slot_preds_list, slot_labels)"
      ],
      "execution_count": null,
      "outputs": [
        {
          "output_type": "stream",
          "text": [
            "{'D': 413, 'T': 1518, 'S': 3361, 'O': 19350, 'SEPA': 3571, 'C': 1621, 'P': 4066}\n",
            "{'D': 373, 'T': 1445, 'S': 3304, 'O': 19602, 'SEPA': 3571, 'C': 1562, 'P': 4043}\n",
            "[0.012182890855457228, 0.0447787610619469, 0.09914454277286136, 0.5707964601769911, 0.10533923303834808, 0.04781710914454277, 0.11994100294985251]\n",
            "[0.011002949852507375, 0.042625368731563425, 0.09746312684365782, 0.5782300884955752, 0.10533923303834808, 0.04607669616519174, 0.11926253687315634]\n"
          ],
          "name": "stdout"
        },
        {
          "output_type": "execute_result",
          "data": {
            "text/plain": [
              "0.00021141952408100387"
            ]
          },
          "metadata": {
            "tags": []
          },
          "execution_count": 8
        }
      ]
    },
    {
      "cell_type": "markdown",
      "metadata": {
        "id": "bltuYoemVGWy"
      },
      "source": [
        "# Bi-Model-Intent-And-Slot"
      ]
    },
    {
      "cell_type": "code",
      "metadata": {
        "id": "uRTymTIEVgV-",
        "colab": {
          "base_uri": "https://localhost:8080/"
        },
        "outputId": "9fa49d06-dd7e-4561-fcc5-a6fe207642e6"
      },
      "source": [
        "from google.colab import drive\n",
        "drive.mount('/content/drive')\n",
        "\n",
        "import os\n",
        "os.chdir('drive/My Drive/research/githubs/Bi-Model-Intent-And-Slot-master/results')"
      ],
      "execution_count": null,
      "outputs": [
        {
          "output_type": "stream",
          "text": [
            "Drive already mounted at /content/drive; to attempt to forcibly remount, call drive.mount(\"/content/drive\", force_remount=True).\n"
          ],
          "name": "stdout"
        }
      ]
    },
    {
      "cell_type": "code",
      "metadata": {
        "id": "w_JqnU8ZVqmM",
        "colab": {
          "base_uri": "https://localhost:8080/"
        },
        "outputId": "b6b961c2-8531-4d4b-dedf-cbe5e3f0ec6d"
      },
      "source": [
        "import pickle\n",
        "from sklearn.metrics import classification_report\n",
        "from sklearn.metrics import f1_score\n",
        "intent_preds = pickle.load( open( \"test_pred_intent30.pkl\", \"rb\" ) )\n",
        "out_intent_label_ids = pickle.load( open( \"test_correct_intent30.pkl\", \"rb\" ) )\n",
        "vocab_dict = {0:'UNK',1:'I',2:'E',3:'A',4:'O'}\n",
        "intent_preds, out_intent_label_ids = get_intent_true_label(intent_preds,out_intent_label_ids,vocab_dict)\n",
        "print(classification_report(y_true=out_intent_label_ids,y_pred=intent_preds,digits=4))\n",
        "# print(f1_score(y_true=out_intent_label_ids,y_pred=intent_preds))"
      ],
      "execution_count": null,
      "outputs": [
        {
          "output_type": "stream",
          "text": [
            "              precision    recall  f1-score   support\n",
            "\n",
            "           A     0.8004    0.6333    0.7071       570\n",
            "           E     0.8033    0.5479    0.6514      1170\n",
            "           I     0.8864    0.4763    0.6196       590\n",
            "           O     0.8816    0.9766    0.9267      7310\n",
            "         UNK     0.0000    0.0000    0.0000        24\n",
            "\n",
            "    accuracy                         0.8715      9664\n",
            "   macro avg     0.6743    0.5268    0.5810      9664\n",
            "weighted avg     0.8654    0.8715    0.8593      9664\n",
            "\n"
          ],
          "name": "stdout"
        },
        {
          "output_type": "stream",
          "text": [
            "/usr/local/lib/python3.6/dist-packages/sklearn/metrics/_classification.py:1272: UndefinedMetricWarning: Precision and F-score are ill-defined and being set to 0.0 in labels with no predicted samples. Use `zero_division` parameter to control this behavior.\n",
            "  _warn_prf(average, modifier, msg_start, len(result))\n"
          ],
          "name": "stderr"
        }
      ]
    },
    {
      "cell_type": "code",
      "metadata": {
        "id": "zWM5vPXwWh5y",
        "colab": {
          "base_uri": "https://localhost:8080/"
        },
        "outputId": "d0693b9c-77ce-4109-dfdb-09f1a898a6b6"
      },
      "source": [
        "slot_preds_list = pickle.load( open( \"test_pred_slot30.pkl\", \"rb\" ) )\n",
        "out_slot_label_list = pickle.load( open( \"test_correct_slot30.pkl\", \"rb\" ) )\n",
        "slot_preds_list, out_slot_label_list = flatten_list(slot_preds_list,out_slot_label_list)\n",
        "# vocab_dict = {0:'PAD',1:'UNK',2:'O',3:'P',4:'C',5:'S',6:'D',7:'T',8:'SEPA'}\n",
        "# slot_preds_list, out_slot_label_list = get_intent_true_label_for_slot(slot_preds_list,out_slot_label_list,vocab_dict)\n",
        "print(classification_report(y_true=out_slot_label_list,y_pred=slot_preds_list,digits = 4))"
      ],
      "execution_count": null,
      "outputs": [
        {
          "output_type": "stream",
          "text": [
            "              precision    recall  f1-score   support\n",
            "\n",
            "           C     0.8751    0.7770    0.8231      1704\n",
            "           D     1.0000    0.0158    0.0312       316\n",
            "           O     0.8973    0.9555    0.9255     22284\n",
            "           P     0.9889    0.8940    0.9390      3791\n",
            "           S     0.9907    0.7940    0.8815      3364\n",
            "        SEPA     0.7437    0.8147    0.7776      3971\n",
            "           T     0.9091    0.7483    0.8209      1470\n",
            "         UNK     1.0000    0.2857    0.4444        42\n",
            "\n",
            "    accuracy                         0.8941     36942\n",
            "   macro avg     0.9256    0.6606    0.7054     36942\n",
            "weighted avg     0.8992    0.8941    0.8899     36942\n",
            "\n"
          ],
          "name": "stdout"
        }
      ]
    },
    {
      "cell_type": "code",
      "metadata": {
        "id": "fbIes7kWW0Aj",
        "colab": {
          "base_uri": "https://localhost:8080/"
        },
        "outputId": "582d224e-f0e8-4014-9274-79ca142735a9"
      },
      "source": [
        "slot_preds_list = pickle.load( open( \"test_pred_slot30.pkl\", \"rb\" ) )\n",
        "out_slot_label_list = pickle.load( open( \"test_correct_slot30.pkl\", \"rb\" ) )\n",
        "# print(len(slot_preds_list))\n",
        "get_semantic_acc(intent_preds, out_intent_label_ids, slot_preds_list, out_slot_label_list)"
      ],
      "execution_count": null,
      "outputs": [
        {
          "output_type": "execute_result",
          "data": {
            "text/plain": [
              "0.6774627483443708"
            ]
          },
          "metadata": {
            "tags": []
          },
          "execution_count": 5
        }
      ]
    },
    {
      "cell_type": "code",
      "metadata": {
        "id": "uavcLVqPGNjR",
        "colab": {
          "base_uri": "https://localhost:8080/"
        },
        "outputId": "2c506c99-0433-4d39-bfb6-3acf5027cfd8"
      },
      "source": [
        "from seqeval.metrics import precision_score, recall_score, f1_score, classification_report\n",
        "import pickle\n",
        "slot_preds_list = pickle.load( open( \"test_pred_slot30.pkl\", \"rb\" ) )\n",
        "out_slot_label_list = pickle.load( open( \"test_correct_slot30.pkl\", \"rb\" ) )\n",
        "# slot_preds_list, out_slot_label_list = flatten_list(slot_preds_list,out_slot_label_list)\n",
        "print(f1_score(out_slot_label_list,slot_preds_list))\n",
        "print(classification_report(out_slot_label_list,slot_preds_list,digits=4))"
      ],
      "execution_count": null,
      "outputs": [
        {
          "output_type": "stream",
          "text": [
            "0.8382036408741017\n",
            "           precision    recall  f1-score   support\n",
            "\n",
            "        P     0.9867    0.8918    0.9369      3670\n",
            "        C     0.8695    0.7636    0.8131      1675\n",
            "        T     0.8941    0.7262    0.8014      1395\n",
            "        S     0.9907    0.7940    0.8815      3364\n",
            "     SEPA     0.7437    0.8147    0.7776      3971\n",
            "        D     1.0000    0.0161    0.0317       310\n",
            "      UNK     1.0000    0.2857    0.4444        42\n",
            "\n",
            "micro avg     0.8848    0.7963    0.8382     14427\n",
            "macro avg     0.8985    0.7963    0.8318     14427\n",
            "\n"
          ],
          "name": "stdout"
        }
      ]
    },
    {
      "cell_type": "code",
      "metadata": {
        "colab": {
          "base_uri": "https://localhost:8080/"
        },
        "id": "8xrIFVCN01Yi",
        "outputId": "7376d6c1-c8dd-412c-bac2-d227da73d1fa"
      },
      "source": [
        "import pickle\n",
        "from sklearn.metrics import classification_report\n",
        "intent_preds = pickle.load( open( \"test_pred_intent30.pkl\", \"rb\" ) )\n",
        "out_intent_label_ids = pickle.load( open( \"test_correct_intent30.pkl\", \"rb\" ) )\n",
        "vocab_dict = {0:'UNK',1:'I',2:'E',3:'A',4:'O'}\n",
        "intent_preds, out_intent_label_ids = get_intent_true_label(intent_preds,out_intent_label_ids,vocab_dict)\n",
        "get_kl_divergence_score(out_intent_label_ids, intent_preds, intent_labels)"
      ],
      "execution_count": null,
      "outputs": [
        {
          "output_type": "execute_result",
          "data": {
            "text/plain": [
              "0.023165453452601056"
            ]
          },
          "metadata": {
            "tags": []
          },
          "execution_count": 3
        }
      ]
    },
    {
      "cell_type": "code",
      "metadata": {
        "colab": {
          "base_uri": "https://localhost:8080/"
        },
        "id": "dZXTYJ732p3Y",
        "outputId": "f22c4888-72a4-4643-d3c0-ab5828e069ff"
      },
      "source": [
        "import pickle\n",
        "slot_preds_list = pickle.load( open( \"test_pred_slot30.pkl\", \"rb\" ) )\n",
        "out_slot_label_list = pickle.load( open( \"test_correct_slot30.pkl\", \"rb\" ) )\n",
        "slot_preds_list, out_slot_label_list = flatten_list(slot_preds_list,out_slot_label_list)\n",
        "# vocab_dict = {0:'UNK',1:'I',2:'E',3:'A',4:'O'}\n",
        "# intent_preds, out_intent_label_ids = get_intent_true_label(intent_preds,out_intent_label_ids,vocab_dict)\n",
        "get_kl_divergence_score(out_slot_label_list, slot_preds_list, slot_labels)"
      ],
      "execution_count": null,
      "outputs": [
        {
          "output_type": "execute_result",
          "data": {
            "text/plain": [
              "0.03236297960799562"
            ]
          },
          "metadata": {
            "tags": []
          },
          "execution_count": 4
        }
      ]
    },
    {
      "cell_type": "markdown",
      "metadata": {
        "id": "1uFKMZdfGjQI"
      },
      "source": [
        "# Bi-Model-Intent-And-Slot second run"
      ]
    },
    {
      "cell_type": "code",
      "metadata": {
        "id": "ViXomkTgGjQJ",
        "colab": {
          "base_uri": "https://localhost:8080/"
        },
        "outputId": "91d3c2ee-b3ca-46f8-e471-e8533d0a2161"
      },
      "source": [
        "from google.colab import drive\n",
        "drive.mount('/content/drive')\n",
        "\n",
        "import os\n",
        "os.chdir('drive/My Drive/research/githubs/Bi-Model-Intent-And-Slot-master/results2')"
      ],
      "execution_count": null,
      "outputs": [
        {
          "output_type": "stream",
          "text": [
            "Mounted at /content/drive\n"
          ],
          "name": "stdout"
        }
      ]
    },
    {
      "cell_type": "code",
      "metadata": {
        "id": "z461Ddj9GjQN",
        "colab": {
          "base_uri": "https://localhost:8080/"
        },
        "outputId": "0e6bbe23-7599-4f70-e1fe-059140462c15"
      },
      "source": [
        "import pickle\n",
        "from sklearn.metrics import classification_report\n",
        "from sklearn.metrics import f1_score\n",
        "intent_preds = pickle.load( open( \"test_pred_intent99.pkl\", \"rb\" ) )\n",
        "out_intent_label_ids = pickle.load( open( \"test_correct_intent99.pkl\", \"rb\" ) )\n",
        "vocab_dict = {0:'I',1:'E',2:'A',3:'O'}\n",
        "intent_preds, out_intent_label_ids = get_intent_true_label(intent_preds,out_intent_label_ids,vocab_dict)\n",
        "print(classification_report(y_true=out_intent_label_ids,y_pred=intent_preds,digits=4))\n",
        "# print(f1_score(y_true=out_intent_label_ids,y_pred=intent_preds))"
      ],
      "execution_count": null,
      "outputs": [
        {
          "output_type": "stream",
          "text": [
            "              precision    recall  f1-score   support\n",
            "\n",
            "           A     0.7827    0.6801    0.7278       572\n",
            "           E     0.8340    0.6317    0.7189      1241\n",
            "           I     0.7989    0.4677    0.5900       603\n",
            "           O     0.8827    0.9669    0.9229      6558\n",
            "\n",
            "    accuracy                         0.8687      8974\n",
            "   macro avg     0.8246    0.6866    0.7399      8974\n",
            "weighted avg     0.8639    0.8687    0.8599      8974\n",
            "\n"
          ],
          "name": "stdout"
        }
      ]
    },
    {
      "cell_type": "code",
      "metadata": {
        "id": "Ux2EpuO_GjQQ",
        "colab": {
          "base_uri": "https://localhost:8080/"
        },
        "outputId": "bbcb46cc-d71d-4f9b-9a74-ae3bc6740c6d"
      },
      "source": [
        "slot_preds_list = pickle.load( open( \"test_pred_slot99.pkl\", \"rb\" ) )\n",
        "out_slot_label_list = pickle.load( open( \"test_correct_slot99.pkl\", \"rb\" ) )\n",
        "slot_preds_list, out_slot_label_list = flatten_list(slot_preds_list,out_slot_label_list)\n",
        "# vocab_dict = {0:'PAD',1:'UNK',2:'O',3:'P',4:'C',5:'S',6:'D',7:'T',8:'SEPA'}\n",
        "# slot_preds_list, out_slot_label_list = get_intent_true_label_for_slot(slot_preds_list,out_slot_label_list,vocab_dict)\n",
        "print(classification_report(y_true=out_slot_label_list,y_pred=slot_preds_list,digits = 4))"
      ],
      "execution_count": null,
      "outputs": [
        {
          "output_type": "stream",
          "text": [
            "              precision    recall  f1-score   support\n",
            "\n",
            "           C     0.9536    0.7989    0.8694      1621\n",
            "           D     0.9307    0.6828    0.7877       413\n",
            "           O     0.8930    0.9570    0.9239     19350\n",
            "           P     0.9723    0.9134    0.9419      4066\n",
            "           S     0.9841    0.8111    0.8893      3361\n",
            "        SEPA     0.7643    0.7919    0.7779      3571\n",
            "           T     0.9810    0.7826    0.8706      1518\n",
            "\n",
            "    accuracy                         0.9012     33900\n",
            "   macro avg     0.9256    0.8197    0.8658     33900\n",
            "weighted avg     0.9053    0.9012    0.9006     33900\n",
            "\n"
          ],
          "name": "stdout"
        }
      ]
    },
    {
      "cell_type": "code",
      "metadata": {
        "id": "nV42x-9nGjQS",
        "colab": {
          "base_uri": "https://localhost:8080/"
        },
        "outputId": "fa65b07f-76d9-4e8c-fedb-d7b45059e5b0"
      },
      "source": [
        "slot_preds_list = pickle.load( open( \"test_pred_slot99.pkl\", \"rb\" ) )\n",
        "out_slot_label_list = pickle.load( open( \"test_correct_slot99.pkl\", \"rb\" ) )\n",
        "# print(len(slot_preds_list))\n",
        "get_semantic_acc(intent_preds, out_intent_label_ids, slot_preds_list, out_slot_label_list)"
      ],
      "execution_count": null,
      "outputs": [
        {
          "output_type": "execute_result",
          "data": {
            "text/plain": [
              "0.7108312903944729"
            ]
          },
          "metadata": {
            "tags": []
          },
          "execution_count": 5
        }
      ]
    },
    {
      "cell_type": "code",
      "metadata": {
        "id": "t8KUB0K_GjQV",
        "colab": {
          "base_uri": "https://localhost:8080/"
        },
        "outputId": "15b8395d-d108-41a7-9d21-cd4d808e4b5d"
      },
      "source": [
        "from seqeval.metrics import precision_score, recall_score, f1_score, classification_report\n",
        "import pickle\n",
        "slot_preds_list = pickle.load( open( \"test_pred_slot99.pkl\", \"rb\" ) )\n",
        "out_slot_label_list = pickle.load( open( \"test_correct_slot99.pkl\", \"rb\" ) )\n",
        "# slot_preds_list, out_slot_label_list = flatten_list(slot_preds_list,out_slot_label_list)\n",
        "print(f1_score(out_slot_label_list,slot_preds_list))\n",
        "print(classification_report(out_slot_label_list,slot_preds_list,digits=4))"
      ],
      "execution_count": null,
      "outputs": [
        {
          "output_type": "stream",
          "text": [
            "0.8649127338474596\n",
            "           precision    recall  f1-score   support\n",
            "\n",
            "        D     0.9254    0.6757    0.7811       404\n",
            "        P     0.9685    0.9089    0.9377      3853\n",
            "        C     0.9496    0.7942    0.8650      1589\n",
            "     SEPA     0.7643    0.7919    0.7779      3571\n",
            "        T     0.9741    0.7765    0.8641      1454\n",
            "        S     0.9841    0.8111    0.8893      3361\n",
            "\n",
            "micro avg     0.9107    0.8235    0.8649     14232\n",
            "macro avg     0.9182    0.8235    0.8661     14232\n",
            "\n"
          ],
          "name": "stdout"
        }
      ]
    },
    {
      "cell_type": "code",
      "metadata": {
        "colab": {
          "base_uri": "https://localhost:8080/"
        },
        "id": "QuweN6aP1Vc6",
        "outputId": "eb2193ef-a61d-434d-cde3-e267ac03d47b"
      },
      "source": [
        "import pickle\n",
        "from sklearn.metrics import classification_report\n",
        "intent_preds = pickle.load( open( \"test_pred_intent99.pkl\", \"rb\" ) )\n",
        "out_intent_label_ids = pickle.load( open( \"test_correct_intent99.pkl\", \"rb\" ) )\n",
        "vocab_dict = {0:'UNK',1:'I',2:'E',3:'A',4:'O'}\n",
        "intent_preds, out_intent_label_ids = get_intent_true_label(intent_preds,out_intent_label_ids,vocab_dict)\n",
        "get_kl_divergence_score(out_intent_label_ids, intent_preds, intent_labels)"
      ],
      "execution_count": null,
      "outputs": [
        {
          "output_type": "stream",
          "text": [
            "{'A': 6558, 'E': 572, 'I': 1241, 'O': 0}\n",
            "{'A': 7184, 'E': 497, 'I': 940, 'O': 0}\n",
            "[0.730777802540673, 0.06373969244484065, 0.1382883886784043, 0.0]\n",
            "[0.8005348785379987, 0.05538221528861154, 0.10474704702473814, 0.0]\n"
          ],
          "name": "stdout"
        },
        {
          "output_type": "execute_result",
          "data": {
            "text/plain": [
              "0.008789564456252563"
            ]
          },
          "metadata": {
            "tags": []
          },
          "execution_count": 7
        }
      ]
    },
    {
      "cell_type": "code",
      "metadata": {
        "colab": {
          "base_uri": "https://localhost:8080/"
        },
        "id": "f6S0TrQv1xpT",
        "outputId": "de9f8c63-fe2c-49ba-a147-d223a8ef1edb"
      },
      "source": [
        "import pickle\n",
        "slot_preds_list = pickle.load( open( \"test_pred_slot99.pkl\", \"rb\" ) )\n",
        "out_slot_label_list = pickle.load( open( \"test_correct_slot99.pkl\", \"rb\" ) )\n",
        "slot_preds_list, out_slot_label_list = flatten_list(slot_preds_list,out_slot_label_list)\n",
        "# vocab_dict = {0:'UNK',1:'I',2:'E',3:'A',4:'O'}\n",
        "# intent_preds, out_intent_label_ids = get_intent_true_label(intent_preds,out_intent_label_ids,vocab_dict)\n",
        "get_kl_divergence_score(out_slot_label_list, slot_preds_list, slot_labels)"
      ],
      "execution_count": null,
      "outputs": [
        {
          "output_type": "stream",
          "text": [
            "{'D': 413, 'T': 1518, 'S': 3361, 'O': 19350, 'SEPA': 3571, 'C': 1621, 'P': 4066}\n",
            "{'D': 303, 'T': 1211, 'S': 2770, 'O': 20738, 'SEPA': 3700, 'C': 1358, 'P': 3820}\n",
            "[0.012182890855457228, 0.0447787610619469, 0.09914454277286136, 0.5707964601769911, 0.10533923303834808, 0.04781710914454277, 0.11994100294985251]\n",
            "[0.008938053097345133, 0.03572271386430678, 0.08171091445427729, 0.611740412979351, 0.10914454277286136, 0.04005899705014749, 0.11268436578171091]\n"
          ],
          "name": "stdout"
        },
        {
          "output_type": "execute_result",
          "data": {
            "text/plain": [
              "0.005734736976923127"
            ]
          },
          "metadata": {
            "tags": []
          },
          "execution_count": 8
        }
      ]
    }
  ]
}